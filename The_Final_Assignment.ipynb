{
 "cells": [
  {
   "attachments": {},
   "cell_type": "markdown",
   "metadata": {},
   "source": [
    "----\n",
    "**Research Question**\n",
    "\n",
    "## Investigation of changes in **Depressive-Symptoms** influenced by drinking frequency of **Sugar-Sweetened** soft drinks.\n",
    "----"
   ]
  },
  {
   "cell_type": "code",
   "execution_count": 1,
   "metadata": {},
   "outputs": [
    {
     "data": {
      "text/html": [
       "<div class=\"bk-root\">\n",
       "        <a href=\"https://bokeh.org\" target=\"_blank\" class=\"bk-logo bk-logo-small bk-logo-notebook\"></a>\n",
       "        <span id=\"1002\">Loading BokehJS ...</span>\n",
       "    </div>\n"
      ]
     },
     "metadata": {},
     "output_type": "display_data"
    },
    {
     "data": {
      "application/javascript": "(function(root) {\n  function now() {\n    return new Date();\n  }\n\n  const force = true;\n\n  if (typeof root._bokeh_onload_callbacks === \"undefined\" || force === true) {\n    root._bokeh_onload_callbacks = [];\n    root._bokeh_is_loading = undefined;\n  }\n\nconst JS_MIME_TYPE = 'application/javascript';\n  const HTML_MIME_TYPE = 'text/html';\n  const EXEC_MIME_TYPE = 'application/vnd.bokehjs_exec.v0+json';\n  const CLASS_NAME = 'output_bokeh rendered_html';\n\n  /**\n   * Render data to the DOM node\n   */\n  function render(props, node) {\n    const script = document.createElement(\"script\");\n    node.appendChild(script);\n  }\n\n  /**\n   * Handle when an output is cleared or removed\n   */\n  function handleClearOutput(event, handle) {\n    const cell = handle.cell;\n\n    const id = cell.output_area._bokeh_element_id;\n    const server_id = cell.output_area._bokeh_server_id;\n    // Clean up Bokeh references\n    if (id != null && id in Bokeh.index) {\n      Bokeh.index[id].model.document.clear();\n      delete Bokeh.index[id];\n    }\n\n    if (server_id !== undefined) {\n      // Clean up Bokeh references\n      const cmd_clean = \"from bokeh.io.state import curstate; print(curstate().uuid_to_server['\" + server_id + \"'].get_sessions()[0].document.roots[0]._id)\";\n      cell.notebook.kernel.execute(cmd_clean, {\n        iopub: {\n          output: function(msg) {\n            const id = msg.content.text.trim();\n            if (id in Bokeh.index) {\n              Bokeh.index[id].model.document.clear();\n              delete Bokeh.index[id];\n            }\n          }\n        }\n      });\n      // Destroy server and session\n      const cmd_destroy = \"import bokeh.io.notebook as ion; ion.destroy_server('\" + server_id + \"')\";\n      cell.notebook.kernel.execute(cmd_destroy);\n    }\n  }\n\n  /**\n   * Handle when a new output is added\n   */\n  function handleAddOutput(event, handle) {\n    const output_area = handle.output_area;\n    const output = handle.output;\n\n    // limit handleAddOutput to display_data with EXEC_MIME_TYPE content only\n    if ((output.output_type != \"display_data\") || (!Object.prototype.hasOwnProperty.call(output.data, EXEC_MIME_TYPE))) {\n      return\n    }\n\n    const toinsert = output_area.element.find(\".\" + CLASS_NAME.split(' ')[0]);\n\n    if (output.metadata[EXEC_MIME_TYPE][\"id\"] !== undefined) {\n      toinsert[toinsert.length - 1].firstChild.textContent = output.data[JS_MIME_TYPE];\n      // store reference to embed id on output_area\n      output_area._bokeh_element_id = output.metadata[EXEC_MIME_TYPE][\"id\"];\n    }\n    if (output.metadata[EXEC_MIME_TYPE][\"server_id\"] !== undefined) {\n      const bk_div = document.createElement(\"div\");\n      bk_div.innerHTML = output.data[HTML_MIME_TYPE];\n      const script_attrs = bk_div.children[0].attributes;\n      for (let i = 0; i < script_attrs.length; i++) {\n        toinsert[toinsert.length - 1].firstChild.setAttribute(script_attrs[i].name, script_attrs[i].value);\n        toinsert[toinsert.length - 1].firstChild.textContent = bk_div.children[0].textContent\n      }\n      // store reference to server id on output_area\n      output_area._bokeh_server_id = output.metadata[EXEC_MIME_TYPE][\"server_id\"];\n    }\n  }\n\n  function register_renderer(events, OutputArea) {\n\n    function append_mime(data, metadata, element) {\n      // create a DOM node to render to\n      const toinsert = this.create_output_subarea(\n        metadata,\n        CLASS_NAME,\n        EXEC_MIME_TYPE\n      );\n      this.keyboard_manager.register_events(toinsert);\n      // Render to node\n      const props = {data: data, metadata: metadata[EXEC_MIME_TYPE]};\n      render(props, toinsert[toinsert.length - 1]);\n      element.append(toinsert);\n      return toinsert\n    }\n\n    /* Handle when an output is cleared or removed */\n    events.on('clear_output.CodeCell', handleClearOutput);\n    events.on('delete.Cell', handleClearOutput);\n\n    /* Handle when a new output is added */\n    events.on('output_added.OutputArea', handleAddOutput);\n\n    /**\n     * Register the mime type and append_mime function with output_area\n     */\n    OutputArea.prototype.register_mime_type(EXEC_MIME_TYPE, append_mime, {\n      /* Is output safe? */\n      safe: true,\n      /* Index of renderer in `output_area.display_order` */\n      index: 0\n    });\n  }\n\n  // register the mime type if in Jupyter Notebook environment and previously unregistered\n  if (root.Jupyter !== undefined) {\n    const events = require('base/js/events');\n    const OutputArea = require('notebook/js/outputarea').OutputArea;\n\n    if (OutputArea.prototype.mime_types().indexOf(EXEC_MIME_TYPE) == -1) {\n      register_renderer(events, OutputArea);\n    }\n  }\n  if (typeof (root._bokeh_timeout) === \"undefined\" || force === true) {\n    root._bokeh_timeout = Date.now() + 5000;\n    root._bokeh_failed_load = false;\n  }\n\n  const NB_LOAD_WARNING = {'data': {'text/html':\n     \"<div style='background-color: #fdd'>\\n\"+\n     \"<p>\\n\"+\n     \"BokehJS does not appear to have successfully loaded. If loading BokehJS from CDN, this \\n\"+\n     \"may be due to a slow or bad network connection. Possible fixes:\\n\"+\n     \"</p>\\n\"+\n     \"<ul>\\n\"+\n     \"<li>re-rerun `output_notebook()` to attempt to load from CDN again, or</li>\\n\"+\n     \"<li>use INLINE resources instead, as so:</li>\\n\"+\n     \"</ul>\\n\"+\n     \"<code>\\n\"+\n     \"from bokeh.resources import INLINE\\n\"+\n     \"output_notebook(resources=INLINE)\\n\"+\n     \"</code>\\n\"+\n     \"</div>\"}};\n\n  function display_loaded() {\n    const el = document.getElementById(\"1002\");\n    if (el != null) {\n      el.textContent = \"BokehJS is loading...\";\n    }\n    if (root.Bokeh !== undefined) {\n      if (el != null) {\n        el.textContent = \"BokehJS \" + root.Bokeh.version + \" successfully loaded.\";\n      }\n    } else if (Date.now() < root._bokeh_timeout) {\n      setTimeout(display_loaded, 100)\n    }\n  }\n\n  function run_callbacks() {\n    try {\n      root._bokeh_onload_callbacks.forEach(function(callback) {\n        if (callback != null)\n          callback();\n      });\n    } finally {\n      delete root._bokeh_onload_callbacks\n    }\n    console.debug(\"Bokeh: all callbacks have finished\");\n  }\n\n  function load_libs(css_urls, js_urls, callback) {\n    if (css_urls == null) css_urls = [];\n    if (js_urls == null) js_urls = [];\n\n    root._bokeh_onload_callbacks.push(callback);\n    if (root._bokeh_is_loading > 0) {\n      console.debug(\"Bokeh: BokehJS is being loaded, scheduling callback at\", now());\n      return null;\n    }\n    if (js_urls == null || js_urls.length === 0) {\n      run_callbacks();\n      return null;\n    }\n    console.debug(\"Bokeh: BokehJS not loaded, scheduling load and callback at\", now());\n    root._bokeh_is_loading = css_urls.length + js_urls.length;\n\n    function on_load() {\n      root._bokeh_is_loading--;\n      if (root._bokeh_is_loading === 0) {\n        console.debug(\"Bokeh: all BokehJS libraries/stylesheets loaded\");\n        run_callbacks()\n      }\n    }\n\n    function on_error(url) {\n      console.error(\"failed to load \" + url);\n    }\n\n    for (let i = 0; i < css_urls.length; i++) {\n      const url = css_urls[i];\n      const element = document.createElement(\"link\");\n      element.onload = on_load;\n      element.onerror = on_error.bind(null, url);\n      element.rel = \"stylesheet\";\n      element.type = \"text/css\";\n      element.href = url;\n      console.debug(\"Bokeh: injecting link tag for BokehJS stylesheet: \", url);\n      document.body.appendChild(element);\n    }\n\n    for (let i = 0; i < js_urls.length; i++) {\n      const url = js_urls[i];\n      const element = document.createElement('script');\n      element.onload = on_load;\n      element.onerror = on_error.bind(null, url);\n      element.async = false;\n      element.src = url;\n      console.debug(\"Bokeh: injecting script tag for BokehJS library: \", url);\n      document.head.appendChild(element);\n    }\n  };\n\n  function inject_raw_css(css) {\n    const element = document.createElement(\"style\");\n    element.appendChild(document.createTextNode(css));\n    document.body.appendChild(element);\n  }\n\n  const js_urls = [\"https://cdn.bokeh.org/bokeh/release/bokeh-2.4.3.min.js\", \"https://cdn.bokeh.org/bokeh/release/bokeh-gl-2.4.3.min.js\", \"https://cdn.bokeh.org/bokeh/release/bokeh-widgets-2.4.3.min.js\", \"https://cdn.bokeh.org/bokeh/release/bokeh-tables-2.4.3.min.js\", \"https://cdn.bokeh.org/bokeh/release/bokeh-mathjax-2.4.3.min.js\", \"https://unpkg.com/@holoviz/panel@0.14.2/dist/panel.min.js\"];\n  const css_urls = [];\n\n  const inline_js = [    function(Bokeh) {\n      Bokeh.set_log_level(\"info\");\n    },\nfunction(Bokeh) {\n    }\n  ];\n\n  function run_inline_js() {\n    if (root.Bokeh !== undefined || force === true) {\n          for (let i = 0; i < inline_js.length; i++) {\n      inline_js[i].call(root, root.Bokeh);\n    }\nif (force === true) {\n        display_loaded();\n      }} else if (Date.now() < root._bokeh_timeout) {\n      setTimeout(run_inline_js, 100);\n    } else if (!root._bokeh_failed_load) {\n      console.log(\"Bokeh: BokehJS failed to load within specified timeout.\");\n      root._bokeh_failed_load = true;\n    } else if (force !== true) {\n      const cell = $(document.getElementById(\"1002\")).parents('.cell').data().cell;\n      cell.output_area.append_execute_result(NB_LOAD_WARNING)\n    }\n  }\n\n  if (root._bokeh_is_loading === 0) {\n    console.debug(\"Bokeh: BokehJS loaded, going straight to plotting\");\n    run_inline_js();\n  } else {\n    load_libs(css_urls, js_urls, function() {\n      console.debug(\"Bokeh: BokehJS plotting callback run at\", now());\n      run_inline_js();\n    });\n  }\n}(window));",
      "application/vnd.bokehjs_load.v0+json": ""
     },
     "metadata": {},
     "output_type": "display_data"
    }
   ],
   "source": [
    "# importting necessary libraries \n",
    "\n",
    "import pandas as pd\n",
    "import numpy as np\n",
    "import yaml as yam\n",
    "from bokeh.plotting import figure,show\n",
    "from bokeh.models import ColumnDataSource\n",
    "from bokeh.palettes import Category10\n",
    "import holoviews as hv\n",
    "from bokeh.io import output_notebook\n",
    "\n",
    "output_notebook()\n"
   ]
  },
  {
   "attachments": {},
   "cell_type": "markdown",
   "metadata": {},
   "source": [
    "----\n",
    "## Part 1 : Loading The Data\n",
    "----"
   ]
  },
  {
   "cell_type": "code",
   "execution_count": 2,
   "metadata": {},
   "outputs": [],
   "source": [
    "# creating a config file , to read data from\n",
    "\n",
    "def get_config():\n",
    "    with open('config.yaml','r') as datasource:\n",
    "        config = yam.safe_load(datasource)\n",
    "        return config\n",
    "\n",
    "config = get_config()\n",
    "\n",
    "depressive_symptoms = config['depressive_symptoms']\n",
    "frequency_of_drinking = config['frequency_of_drinking']\n",
    "\n",
    "# reading data by creating pandas dataframe\n",
    "depsymp = pd.read_csv(depressive_symptoms)\n",
    "drinkfreq = pd.read_csv(frequency_of_drinking)\n",
    "\n"
   ]
  },
  {
   "attachments": {},
   "cell_type": "markdown",
   "metadata": {},
   "source": [
    "----\n",
    "## Part 2 : **Data Preparation**\n",
    "---- "
   ]
  },
  {
   "attachments": {},
   "cell_type": "markdown",
   "metadata": {},
   "source": [
    "* Renaming columns"
   ]
  },
  {
   "cell_type": "code",
   "execution_count": 3,
   "metadata": {},
   "outputs": [],
   "source": [
    "# Renaming the desired columns in order to have a better understanding of the columns name.\n",
    "\n",
    "def rename(df,col_list) :\n",
    "    rename = df.rename(columns= col_list)\n",
    "    df = rename\n",
    "    return df\n",
    "\n",
    "depsymp_col_list = {'isced11':'Edu_Level','hlth_pb':'Health_Issue',\n",
    "            'sex':'Gender','age':'Age_Range','geo':'Country','TIME_PERIOD':'Time_Period',\n",
    "            'OBS_VALUE':'Obs_Value'}\n",
    "\n",
    "depsymp = rename(depsymp,depsymp_col_list)\n",
    "\n",
    "\n",
    "drinkfreq_col_list = {'frequenc':'Drink_Freq','sex':'Gender','isced11':'Edu_Level',\n",
    "            'age':'Age_Range','geo':'Country','TIME_PERIOD':'Time_Period','OBS_VALUE':'Obs_Value'}\n",
    "\n",
    "drinkfreq = rename(drinkfreq,drinkfreq_col_list)"
   ]
  },
  {
   "attachments": {},
   "cell_type": "markdown",
   "metadata": {},
   "source": [
    "* Identifying missing values"
   ]
  },
  {
   "cell_type": "code",
   "execution_count": 5,
   "metadata": {},
   "outputs": [],
   "source": [
    "# defining a function to return missing values in multiple dataframes,\n",
    "# output in the form of a dictionary will contain both dataframe and columns \n",
    "# with missing values \n",
    "\n",
    "# depsymp.isna().sum()\n",
    "# depsymp.isnull().sum()\n",
    "\n",
    "\n",
    "def find_missing_values(df_list):\n",
    "    missing_values = []\n",
    "    for i,df in enumerate(df_list):\n",
    "\n",
    "        df_missing = df.isna().sum().to_dict()\n",
    "        df_missing = {k: v for k,v in df_missing.items() if v > 0}\n",
    "        missing_values.append(f'dataframe {i+1} = {df_missing}')\n",
    "                \n",
    "    return missing_values\n",
    "\n",
    "\n",
    "missing_values = find_missing_values([depsymp,drinkfreq])\n",
    "\n",
    "# print(missing_values)"
   ]
  },
  {
   "attachments": {},
   "cell_type": "markdown",
   "metadata": {},
   "source": [
    "* Identifying unreliable observations"
   ]
  },
  {
   "cell_type": "code",
   "execution_count": 6,
   "metadata": {},
   "outputs": [
    {
     "name": "stdout",
     "output_type": "stream",
     "text": [
      "[nan 'u']\n",
      "[nan 'u']\n",
      "36\n",
      "27\n"
     ]
    }
   ],
   "source": [
    "# Flag columns indicate observations which are not reliable.\n",
    "# Below, identification of the specific value for unreliable abservations and the length of rows containing \n",
    "# them where inspected.\n",
    "\n",
    "print(depsymp['OBS_FLAG'].unique())\n",
    "print(drinkfreq['OBS_FLAG'].unique())\n",
    "print(len(depsymp[depsymp['OBS_FLAG'] == 'u']))\n",
    "print(len(drinkfreq[drinkfreq['OBS_FLAG'] == 'u']))"
   ]
  },
  {
   "attachments": {},
   "cell_type": "markdown",
   "metadata": {},
   "source": [
    "* Removing unreliable observations and columns with missing values"
   ]
  },
  {
   "cell_type": "code",
   "execution_count": 7,
   "metadata": {},
   "outputs": [],
   "source": [
    "# defining a function that takes in list of dataframes and returns \n",
    "# cleaned dataframes (without columns containing missing values, and rows with unreliable observations)\n",
    "\n",
    "def drop_missing_values(dataframes):\n",
    "    cleaned_dataframes = []\n",
    "    for df in dataframes:\n",
    "        if 'OBS_FLAG' in df.columns :\n",
    "            df = df[df['OBS_FLAG'] != 'u']\n",
    "        df_dropped = df.dropna(axis=1)\n",
    "        cleaned_dataframes.append(df_dropped)\n",
    "    return cleaned_dataframes\n",
    "\n",
    "list = [depsymp,drinkfreq]\n",
    "cleaned_dataframes = drop_missing_values(list)\n",
    "\n",
    "depsymp = cleaned_dataframes[0]\n",
    "drinkfreq = cleaned_dataframes[1]\n",
    "# drinkfreq\n",
    "\n"
   ]
  },
  {
   "attachments": {},
   "cell_type": "markdown",
   "metadata": {},
   "source": [
    "* Dropping irrelevant columns "
   ]
  },
  {
   "cell_type": "code",
   "execution_count": 8,
   "metadata": {},
   "outputs": [],
   "source": [
    "# dropping irrelevent columns using if statements to \n",
    "# avoid code execution more than once\n",
    "\n",
    "if 'DATAFLOW' in depsymp.columns :\n",
    "    depsymp = depsymp.drop(depsymp.columns[[0,1,2,3,4]],axis=1)\n",
    "\n",
    "if 'DATAFLOW' in drinkfreq.columns :\n",
    "    drinkfreq = drinkfreq.drop(drinkfreq.columns[[0,1,2,3,7]],axis=1)\n",
    "    \n",
    "# print(depsymp)\n",
    "# print(drinkfreq) \n"
   ]
  },
  {
   "cell_type": "code",
   "execution_count": 9,
   "metadata": {},
   "outputs": [],
   "source": [
    "# checking for duplicated values in both dataframes.\n",
    "\n",
    "# df.duplicated()\n",
    "# df.drop_duplicates()\n",
    "\n",
    "def check_for_duplicated(df_list) :\n",
    "    for df in df_list :\n",
    "        if df.duplicated().any() :\n",
    "            return True\n",
    "        else :\n",
    "            return False\n",
    "\n",
    "duplicated = check_for_duplicated([depsymp,drinkfreq])\n",
    "# print(duplicated)\n"
   ]
  },
  {
   "attachments": {},
   "cell_type": "markdown",
   "metadata": {},
   "source": [
    "----\n",
    "## Part 3 : Merging Dataframes \n",
    "----"
   ]
  },
  {
   "cell_type": "code",
   "execution_count": 10,
   "metadata": {},
   "outputs": [],
   "source": [
    "# depsymp = depsymp[depsymp['TIME_PERIOD']== 2019]\n",
    "# print(depsymp)"
   ]
  },
  {
   "cell_type": "code",
   "execution_count": 11,
   "metadata": {},
   "outputs": [
    {
     "data": {
      "text/html": [
       "<div>\n",
       "<style scoped>\n",
       "    .dataframe tbody tr th:only-of-type {\n",
       "        vertical-align: middle;\n",
       "    }\n",
       "\n",
       "    .dataframe tbody tr th {\n",
       "        vertical-align: top;\n",
       "    }\n",
       "\n",
       "    .dataframe thead th {\n",
       "        text-align: right;\n",
       "    }\n",
       "</style>\n",
       "<table border=\"1\" class=\"dataframe\">\n",
       "  <thead>\n",
       "    <tr style=\"text-align: right;\">\n",
       "      <th></th>\n",
       "      <th>Drink_Freq</th>\n",
       "      <th>Gender</th>\n",
       "      <th>Age_Range</th>\n",
       "      <th>Country</th>\n",
       "      <th>Time_Period</th>\n",
       "      <th>Obs_Value_x</th>\n",
       "      <th>Health_Issue</th>\n",
       "      <th>Obs_Value_y</th>\n",
       "    </tr>\n",
       "  </thead>\n",
       "  <tbody>\n",
       "    <tr>\n",
       "      <th>0</th>\n",
       "      <td>1-3W</td>\n",
       "      <td>F</td>\n",
       "      <td>Y15-24</td>\n",
       "      <td>AT</td>\n",
       "      <td>2019</td>\n",
       "      <td>26.6</td>\n",
       "      <td>DPR</td>\n",
       "      <td>5.4</td>\n",
       "    </tr>\n",
       "    <tr>\n",
       "      <th>1</th>\n",
       "      <td>1-3W</td>\n",
       "      <td>F</td>\n",
       "      <td>Y15-24</td>\n",
       "      <td>AT</td>\n",
       "      <td>2019</td>\n",
       "      <td>26.6</td>\n",
       "      <td>DPR_MJR</td>\n",
       "      <td>2.1</td>\n",
       "    </tr>\n",
       "    <tr>\n",
       "      <th>2</th>\n",
       "      <td>1-3W</td>\n",
       "      <td>F</td>\n",
       "      <td>Y15-24</td>\n",
       "      <td>AT</td>\n",
       "      <td>2019</td>\n",
       "      <td>26.6</td>\n",
       "      <td>DPR_OTH</td>\n",
       "      <td>3.3</td>\n",
       "    </tr>\n",
       "    <tr>\n",
       "      <th>3</th>\n",
       "      <td>4-6W</td>\n",
       "      <td>F</td>\n",
       "      <td>Y15-24</td>\n",
       "      <td>AT</td>\n",
       "      <td>2019</td>\n",
       "      <td>9.5</td>\n",
       "      <td>DPR</td>\n",
       "      <td>5.4</td>\n",
       "    </tr>\n",
       "    <tr>\n",
       "      <th>4</th>\n",
       "      <td>4-6W</td>\n",
       "      <td>F</td>\n",
       "      <td>Y15-24</td>\n",
       "      <td>AT</td>\n",
       "      <td>2019</td>\n",
       "      <td>9.5</td>\n",
       "      <td>DPR_MJR</td>\n",
       "      <td>2.1</td>\n",
       "    </tr>\n",
       "  </tbody>\n",
       "</table>\n",
       "</div>"
      ],
      "text/plain": [
       "  Drink_Freq Gender Age_Range Country  Time_Period  Obs_Value_x Health_Issue  \\\n",
       "0       1-3W      F    Y15-24      AT         2019         26.6          DPR   \n",
       "1       1-3W      F    Y15-24      AT         2019         26.6      DPR_MJR   \n",
       "2       1-3W      F    Y15-24      AT         2019         26.6      DPR_OTH   \n",
       "3       4-6W      F    Y15-24      AT         2019          9.5          DPR   \n",
       "4       4-6W      F    Y15-24      AT         2019          9.5      DPR_MJR   \n",
       "\n",
       "   Obs_Value_y  \n",
       "0          5.4  \n",
       "1          2.1  \n",
       "2          3.3  \n",
       "3          5.4  \n",
       "4          2.1  "
      ]
     },
     "execution_count": 11,
     "metadata": {},
     "output_type": "execute_result"
    }
   ],
   "source": [
    "# using pandas merge method we are going to combine two dataframes \n",
    "# into one with values of interest for further analysing.\n",
    "\n",
    "df = pd.merge(drinkfreq,depsymp,on=['Country','Time_Period','Age_Range','Gender'],how='inner')\n",
    "\n",
    "# Since we are going to compare frequency of drinking sweetened drinks\\\n",
    "# with depressive modes , we will define a function to enable us to call for specific \n",
    "# depressive mode(out of three) each time in one of the age ranges and see\\\n",
    "# how level of drinking(4 different types of drinking habits) would influences \n",
    "# the specific depressive mode.\n",
    "\n",
    "def get_data(Drink_Freq,Health_Isuue,Age_Range) :\n",
    "\n",
    "    data = df.loc[\n",
    "        (df['Drink_Freq'] == Drink_Freq)&(df['Health_Issue'] == Health_Isuue)&\n",
    "        (df['Age_Range'] == Age_Range)&(df['Gender'] == 'T')\n",
    "        ]\n",
    "    data = data.reset_index(drop=True)\n",
    "    return data\n",
    "\n",
    "df1 = get_data('1-3W','DPR','Y15-24')\n",
    "df2 = get_data('4-6W','DPR','Y15-24')\n",
    "df3 = get_data('GE1D','DPR','Y15-24')\n",
    "df4 = get_data('NVR_OCC','DPR','Y15-24')\n",
    "\n",
    "df.head()"
   ]
  },
  {
   "attachments": {},
   "cell_type": "markdown",
   "metadata": {},
   "source": [
    "----"
   ]
  },
  {
   "attachments": {},
   "cell_type": "markdown",
   "metadata": {},
   "source": [
    "## Part 4 : Smooth The Data"
   ]
  },
  {
   "cell_type": "code",
   "execution_count": 12,
   "metadata": {},
   "outputs": [],
   "source": [
    "# defining a function that takes in a list of dataframes and retunrs a list of \n",
    "# smoothed data frames. The built in method '.rolling().mean()' was used.\n",
    "\n",
    "def smooth_dataframes(dataframes,window_size) :\n",
    "    smoothed_dataframes = []\n",
    "    for df in dataframes :\n",
    "        df = df.copy()\n",
    "        df['Obs_Value_x'] = df['Obs_Value_x'].rolling(window=window_size).mean()\n",
    "        smoothed_dataframes.append(df)\n",
    "    return smoothed_dataframes\n",
    "\n",
    "dataframes = smooth_dataframes([df1,df2,df3,df4],10)\n",
    "# dataframes[1]"
   ]
  },
  {
   "attachments": {},
   "cell_type": "markdown",
   "metadata": {},
   "source": [
    "----"
   ]
  },
  {
   "attachments": {},
   "cell_type": "markdown",
   "metadata": {},
   "source": [
    "## Part 5 : Data Visualization "
   ]
  },
  {
   "cell_type": "code",
   "execution_count": 13,
   "metadata": {},
   "outputs": [
    {
     "data": {
      "text/html": [
       "\n",
       "  <div class=\"bk-root\" id=\"312ead5c-74e4-47d1-980b-932c3edbb3d0\" data-root-id=\"1003\"></div>\n"
      ]
     },
     "metadata": {},
     "output_type": "display_data"
    },
    {
     "data": {
      "application/javascript": "(function(root) {\n  function embed_document(root) {\n  const docs_json = {\"731b5888-47b8-491b-a516-492388a06175\":{\"defs\":[{\"extends\":null,\"module\":null,\"name\":\"ReactiveHTML1\",\"overrides\":[],\"properties\":[]},{\"extends\":null,\"module\":null,\"name\":\"FlexBox1\",\"overrides\":[],\"properties\":[{\"default\":\"flex-start\",\"kind\":null,\"name\":\"align_content\"},{\"default\":\"flex-start\",\"kind\":null,\"name\":\"align_items\"},{\"default\":\"row\",\"kind\":null,\"name\":\"flex_direction\"},{\"default\":\"wrap\",\"kind\":null,\"name\":\"flex_wrap\"},{\"default\":\"flex-start\",\"kind\":null,\"name\":\"justify_content\"}]},{\"extends\":null,\"module\":null,\"name\":\"GridStack1\",\"overrides\":[],\"properties\":[{\"default\":\"warn\",\"kind\":null,\"name\":\"mode\"},{\"default\":null,\"kind\":null,\"name\":\"ncols\"},{\"default\":null,\"kind\":null,\"name\":\"nrows\"},{\"default\":true,\"kind\":null,\"name\":\"allow_resize\"},{\"default\":true,\"kind\":null,\"name\":\"allow_drag\"},{\"default\":[],\"kind\":null,\"name\":\"state\"}]},{\"extends\":null,\"module\":null,\"name\":\"click1\",\"overrides\":[],\"properties\":[{\"default\":\"\",\"kind\":null,\"name\":\"terminal_output\"},{\"default\":\"\",\"kind\":null,\"name\":\"debug_name\"},{\"default\":0,\"kind\":null,\"name\":\"clears\"}]},{\"extends\":null,\"module\":null,\"name\":\"NotificationAreaBase1\",\"overrides\":[],\"properties\":[{\"default\":\"bottom-right\",\"kind\":null,\"name\":\"position\"},{\"default\":0,\"kind\":null,\"name\":\"_clear\"}]},{\"extends\":null,\"module\":null,\"name\":\"NotificationArea1\",\"overrides\":[],\"properties\":[{\"default\":[],\"kind\":null,\"name\":\"notifications\"},{\"default\":\"bottom-right\",\"kind\":null,\"name\":\"position\"},{\"default\":0,\"kind\":null,\"name\":\"_clear\"},{\"default\":[{\"background\":\"#ffc107\",\"icon\":{\"className\":\"fas fa-exclamation-triangle\",\"color\":\"white\",\"tagName\":\"i\"},\"type\":\"warning\"},{\"background\":\"#007bff\",\"icon\":{\"className\":\"fas fa-info-circle\",\"color\":\"white\",\"tagName\":\"i\"},\"type\":\"info\"}],\"kind\":null,\"name\":\"types\"}]},{\"extends\":null,\"module\":null,\"name\":\"Notification\",\"overrides\":[],\"properties\":[{\"default\":null,\"kind\":null,\"name\":\"background\"},{\"default\":3000,\"kind\":null,\"name\":\"duration\"},{\"default\":null,\"kind\":null,\"name\":\"icon\"},{\"default\":\"\",\"kind\":null,\"name\":\"message\"},{\"default\":null,\"kind\":null,\"name\":\"notification_type\"},{\"default\":false,\"kind\":null,\"name\":\"_destroyed\"}]},{\"extends\":null,\"module\":null,\"name\":\"TemplateActions1\",\"overrides\":[],\"properties\":[{\"default\":0,\"kind\":null,\"name\":\"open_modal\"},{\"default\":0,\"kind\":null,\"name\":\"close_modal\"}]},{\"extends\":null,\"module\":null,\"name\":\"MaterialTemplateActions1\",\"overrides\":[],\"properties\":[{\"default\":0,\"kind\":null,\"name\":\"open_modal\"},{\"default\":0,\"kind\":null,\"name\":\"close_modal\"}]}],\"roots\":{\"references\":[{\"attributes\":{\"below\":[{\"id\":\"1012\"}],\"center\":[{\"id\":\"1014\"},{\"id\":\"1018\"},{\"id\":\"1051\"}],\"height\":400,\"left\":[{\"id\":\"1015\"}],\"renderers\":[{\"id\":\"1038\"},{\"id\":\"1058\"},{\"id\":\"1079\"},{\"id\":\"1102\"},{\"id\":\"1127\"}],\"title\":{\"id\":\"1040\"},\"toolbar\":{\"id\":\"1026\"},\"x_range\":{\"id\":\"1004\"},\"x_scale\":{\"id\":\"1008\"},\"y_range\":{\"id\":\"1006\"},\"y_scale\":{\"id\":\"1010\"}},\"id\":\"1003\",\"subtype\":\"Figure\",\"type\":\"Plot\"},{\"attributes\":{\"coordinates\":null,\"data_source\":{\"id\":\"1053\"},\"glyph\":{\"id\":\"1055\"},\"group\":null,\"hover_glyph\":null,\"muted_glyph\":{\"id\":\"1057\"},\"nonselection_glyph\":{\"id\":\"1056\"},\"view\":{\"id\":\"1059\"}},\"id\":\"1058\",\"type\":\"GlyphRenderer\"},{\"attributes\":{\"line_alpha\":0.1,\"line_color\":\"#d62728\",\"x\":{\"field\":\"Country\"},\"y\":{\"field\":\"Obs_Value_x\"}},\"id\":\"1100\",\"type\":\"Line\"},{\"attributes\":{},\"id\":\"1022\",\"type\":\"SaveTool\"},{\"attributes\":{\"axis_label\":\"Country\",\"coordinates\":null,\"formatter\":{\"id\":\"1046\"},\"group\":null,\"major_label_policy\":{\"id\":\"1047\"},\"ticker\":{\"id\":\"1013\"}},\"id\":\"1012\",\"type\":\"CategoricalAxis\"},{\"attributes\":{\"source\":{\"id\":\"1033\"}},\"id\":\"1039\",\"type\":\"CDSView\"},{\"attributes\":{\"line_alpha\":0.2,\"line_color\":\"#d62728\",\"x\":{\"field\":\"Country\"},\"y\":{\"field\":\"Obs_Value_y\"}},\"id\":\"1126\",\"type\":\"Line\"},{\"attributes\":{},\"id\":\"1020\",\"type\":\"WheelZoomTool\"},{\"attributes\":{\"source\":{\"id\":\"1074\"}},\"id\":\"1080\",\"type\":\"CDSView\"},{\"attributes\":{},\"id\":\"1008\",\"type\":\"CategoricalScale\"},{\"attributes\":{},\"id\":\"1006\",\"type\":\"DataRange1d\"},{\"attributes\":{\"label\":{\"value\":\"df 3\"},\"renderers\":[{\"id\":\"1079\"}]},\"id\":\"1096\",\"type\":\"LegendItem\"},{\"attributes\":{\"label\":{\"value\":\"DPR\"},\"renderers\":[{\"id\":\"1127\"}]},\"id\":\"1148\",\"type\":\"LegendItem\"},{\"attributes\":{},\"id\":\"1119\",\"type\":\"Selection\"},{\"attributes\":{\"axis\":{\"id\":\"1015\"},\"coordinates\":null,\"dimension\":1,\"group\":null,\"ticker\":null},\"id\":\"1018\",\"type\":\"Grid\"},{\"attributes\":{},\"id\":\"1019\",\"type\":\"PanTool\"},{\"attributes\":{},\"id\":\"1023\",\"type\":\"ResetTool\"},{\"attributes\":{},\"id\":\"1046\",\"type\":\"CategoricalTickFormatter\"},{\"attributes\":{\"line_color\":\"#d62728\",\"x\":{\"field\":\"Country\"},\"y\":{\"field\":\"Obs_Value_y\"}},\"id\":\"1124\",\"type\":\"Line\"},{\"attributes\":{},\"id\":\"1048\",\"type\":\"UnionRenderers\"},{\"attributes\":{},\"id\":\"1070\",\"type\":\"UnionRenderers\"},{\"attributes\":{},\"id\":\"1093\",\"type\":\"UnionRenderers\"},{\"attributes\":{\"coordinates\":null,\"data_source\":{\"id\":\"1074\"},\"glyph\":{\"id\":\"1076\"},\"group\":null,\"hover_glyph\":null,\"muted_glyph\":{\"id\":\"1078\"},\"nonselection_glyph\":{\"id\":\"1077\"},\"view\":{\"id\":\"1080\"}},\"id\":\"1079\",\"type\":\"GlyphRenderer\"},{\"attributes\":{\"line_alpha\":0.1,\"line_color\":\"#1f77b4\",\"x\":{\"field\":\"Country\"},\"y\":{\"field\":\"Obs_Value_x\"}},\"id\":\"1036\",\"type\":\"Line\"},{\"attributes\":{},\"id\":\"1024\",\"type\":\"HelpTool\"},{\"attributes\":{\"factors\":[\"AT\",\"BE\",\"BG\",\"CY\",\"CZ\",\"DE\",\"DK\",\"EE\",\"EL\",\"ES\",\"FI\",\"FR\",\"HR\",\"HU\",\"IE\",\"IS\",\"IT\",\"LT\",\"LU\",\"LV\",\"MT\",\"NO\",\"PL\",\"PT\",\"RO\",\"RS\",\"SE\",\"SI\",\"SK\",\"TR\"]},\"id\":\"1004\",\"type\":\"FactorRange\"},{\"attributes\":{\"line_color\":\"#1f77b4\",\"x\":{\"field\":\"Country\"},\"y\":{\"field\":\"Obs_Value_x\"}},\"id\":\"1035\",\"type\":\"Line\"},{\"attributes\":{\"overlay\":{\"id\":\"1025\"}},\"id\":\"1021\",\"type\":\"BoxZoomTool\"},{\"attributes\":{\"line_alpha\":0.2,\"line_color\":\"#ff7f0e\",\"x\":{\"field\":\"Country\"},\"y\":{\"field\":\"Obs_Value_x\"}},\"id\":\"1057\",\"type\":\"Line\"},{\"attributes\":{\"source\":{\"id\":\"1097\"}},\"id\":\"1103\",\"type\":\"CDSView\"},{\"attributes\":{\"line_alpha\":0.1,\"line_color\":\"#d62728\",\"x\":{\"field\":\"Country\"},\"y\":{\"field\":\"Obs_Value_y\"}},\"id\":\"1125\",\"type\":\"Line\"},{\"attributes\":{},\"id\":\"1049\",\"type\":\"Selection\"},{\"attributes\":{\"coordinates\":null,\"group\":null,\"items\":[{\"id\":\"1052\"},{\"id\":\"1073\"},{\"id\":\"1096\"},{\"id\":\"1121\"},{\"id\":\"1148\"}],\"location\":\"top_left\"},\"id\":\"1051\",\"type\":\"Legend\"},{\"attributes\":{},\"id\":\"1047\",\"type\":\"AllLabels\"},{\"attributes\":{},\"id\":\"1071\",\"type\":\"Selection\"},{\"attributes\":{\"bottom_units\":\"screen\",\"coordinates\":null,\"fill_alpha\":0.5,\"fill_color\":\"lightgrey\",\"group\":null,\"left_units\":\"screen\",\"level\":\"overlay\",\"line_alpha\":1.0,\"line_color\":\"black\",\"line_dash\":[4,4],\"line_width\":2,\"right_units\":\"screen\",\"syncable\":false,\"top_units\":\"screen\"},\"id\":\"1025\",\"type\":\"BoxAnnotation\"},{\"attributes\":{\"line_alpha\":0.2,\"line_color\":\"#2ca02c\",\"x\":{\"field\":\"Country\"},\"y\":{\"field\":\"Obs_Value_x\"}},\"id\":\"1078\",\"type\":\"Line\"},{\"attributes\":{\"line_alpha\":0.2,\"line_color\":\"#1f77b4\",\"x\":{\"field\":\"Country\"},\"y\":{\"field\":\"Obs_Value_x\"}},\"id\":\"1037\",\"type\":\"Line\"},{\"attributes\":{},\"id\":\"1016\",\"type\":\"BasicTicker\"},{\"attributes\":{},\"id\":\"1118\",\"type\":\"UnionRenderers\"},{\"attributes\":{\"coordinates\":null,\"data_source\":{\"id\":\"1097\"},\"glyph\":{\"id\":\"1099\"},\"group\":null,\"hover_glyph\":null,\"muted_glyph\":{\"id\":\"1101\"},\"nonselection_glyph\":{\"id\":\"1100\"},\"view\":{\"id\":\"1103\"}},\"id\":\"1102\",\"type\":\"GlyphRenderer\"},{\"attributes\":{\"line_alpha\":0.1,\"line_color\":\"#2ca02c\",\"x\":{\"field\":\"Country\"},\"y\":{\"field\":\"Obs_Value_x\"}},\"id\":\"1077\",\"type\":\"Line\"},{\"attributes\":{\"data\":{\"Age_Range\":[\"Y15-24\",\"Y15-24\",\"Y15-24\",\"Y15-24\",\"Y15-24\",\"Y15-24\",\"Y15-24\",\"Y15-24\",\"Y15-24\",\"Y15-24\",\"Y15-24\",\"Y15-24\",\"Y15-24\",\"Y15-24\",\"Y15-24\",\"Y15-24\",\"Y15-24\",\"Y15-24\",\"Y15-24\",\"Y15-24\",\"Y15-24\",\"Y15-24\",\"Y15-24\",\"Y15-24\",\"Y15-24\",\"Y15-24\",\"Y15-24\",\"Y15-24\",\"Y15-24\",\"Y15-24\"],\"Country\":[\"AT\",\"BE\",\"BG\",\"CY\",\"CZ\",\"DE\",\"DK\",\"EE\",\"EL\",\"ES\",\"FI\",\"FR\",\"HR\",\"HU\",\"IE\",\"IS\",\"IT\",\"LT\",\"LU\",\"LV\",\"MT\",\"NO\",\"PL\",\"PT\",\"RO\",\"RS\",\"SE\",\"SI\",\"SK\",\"TR\"],\"Drink_Freq\":[\"1-3W\",\"1-3W\",\"1-3W\",\"1-3W\",\"1-3W\",\"1-3W\",\"1-3W\",\"1-3W\",\"1-3W\",\"1-3W\",\"1-3W\",\"1-3W\",\"1-3W\",\"1-3W\",\"1-3W\",\"1-3W\",\"1-3W\",\"1-3W\",\"1-3W\",\"1-3W\",\"1-3W\",\"1-3W\",\"1-3W\",\"1-3W\",\"1-3W\",\"1-3W\",\"1-3W\",\"1-3W\",\"1-3W\",\"1-3W\"],\"Gender\":[\"T\",\"T\",\"T\",\"T\",\"T\",\"T\",\"T\",\"T\",\"T\",\"T\",\"T\",\"T\",\"T\",\"T\",\"T\",\"T\",\"T\",\"T\",\"T\",\"T\",\"T\",\"T\",\"T\",\"T\",\"T\",\"T\",\"T\",\"T\",\"T\",\"T\"],\"Health_Issue\":[\"DPR\",\"DPR\",\"DPR\",\"DPR\",\"DPR\",\"DPR\",\"DPR\",\"DPR\",\"DPR\",\"DPR\",\"DPR\",\"DPR\",\"DPR\",\"DPR\",\"DPR\",\"DPR\",\"DPR\",\"DPR\",\"DPR\",\"DPR\",\"DPR\",\"DPR\",\"DPR\",\"DPR\",\"DPR\",\"DPR\",\"DPR\",\"DPR\",\"DPR\",\"DPR\"],\"Obs_Value_x\":{\"__ndarray__\":\"AAAAAAAA+H8AAAAAAAD4f5mZmZmZGTxA7+7u7u7uO0DNzMzMzMw8QO/u7u7u7jxAVVVVVVXVPkBoZmZmZuY+QFVVVVVVVT9AiIiIiIiIP0BERERERMRAQM3MzMzMDEBAvLu7u7s7PkAjIiIiIqI8QN3d3d3dXTxA8O7u7u7uO0AhIiIiIqI7QAAAAAAAAD9AiIiIiIgIP0C8u7u7u3tAQGdmZmZmZjpAvLu7u7s7O0AAAAAAAIA6QIiIiIiICD1A7+7u7u7uPkBnZmZmZmY9QIiIiIiISEFAAAAAAAAAP0AjIiIiIiI+QDMzMzMzMzpA\",\"dtype\":\"float64\",\"order\":\"little\",\"shape\":[30]},\"Obs_Value_y\":{\"__ndarray__\":\"zczMzMzMEEAzMzMzMzMbQAAAAAAAAPA/mpmZmZmZ6T/NzMzMzMz8PzMzMzMzMyJAMzMzMzMzMEBmZmZmZmYaQJqZmZmZmbk/ZmZmZmZmBkAAAAAAAAArQAAAAAAAACRAzczMzMzMBEDNzMzMzMwIQGZmZmZmZhRAZmZmZmZmIUAzMzMzMzMDQJqZmZmZmRFAZmZmZmZmLkAAAAAAAAAUQM3MzMzMzB5AAAAAAAAAI0AAAAAAAAAAQM3MzMzMzBBAmpmZmZmZyT8zMzMzMzPjP5qZmZmZmS1AAAAAAAAAJUDNzMzMzMzsP2ZmZmZmZhJA\",\"dtype\":\"float64\",\"order\":\"little\",\"shape\":[30]},\"Time_Period\":[2019,2019,2019,2019,2019,2019,2019,2019,2019,2019,2019,2019,2019,2019,2019,2019,2019,2019,2019,2019,2019,2019,2019,2019,2019,2019,2019,2019,2019,2019],\"index\":[0,1,2,3,4,5,6,7,8,9,10,11,12,13,14,15,16,17,18,19,20,21,22,23,24,25,26,27,28,29]},\"selected\":{\"id\":\"1049\"},\"selection_policy\":{\"id\":\"1048\"}},\"id\":\"1033\",\"type\":\"ColumnDataSource\"},{\"attributes\":{},\"id\":\"1010\",\"type\":\"LinearScale\"},{\"attributes\":{\"axis_label\":\"Obs_Value\",\"coordinates\":null,\"formatter\":{\"id\":\"1043\"},\"group\":null,\"major_label_policy\":{\"id\":\"1044\"},\"ticker\":{\"id\":\"1016\"}},\"id\":\"1015\",\"type\":\"LinearAxis\"},{\"attributes\":{\"line_color\":\"#ff7f0e\",\"x\":{\"field\":\"Country\"},\"y\":{\"field\":\"Obs_Value_x\"}},\"id\":\"1055\",\"type\":\"Line\"},{\"attributes\":{\"label\":{\"value\":\"df 4\"},\"renderers\":[{\"id\":\"1102\"}]},\"id\":\"1121\",\"type\":\"LegendItem\"},{\"attributes\":{\"line_color\":\"#2ca02c\",\"x\":{\"field\":\"Country\"},\"y\":{\"field\":\"Obs_Value_x\"}},\"id\":\"1076\",\"type\":\"Line\"},{\"attributes\":{\"line_alpha\":0.2,\"line_color\":\"#d62728\",\"x\":{\"field\":\"Country\"},\"y\":{\"field\":\"Obs_Value_x\"}},\"id\":\"1101\",\"type\":\"Line\"},{\"attributes\":{\"coordinates\":null,\"data_source\":{\"id\":\"1033\"},\"glyph\":{\"id\":\"1035\"},\"group\":null,\"hover_glyph\":null,\"muted_glyph\":{\"id\":\"1037\"},\"nonselection_glyph\":{\"id\":\"1036\"},\"view\":{\"id\":\"1039\"}},\"id\":\"1038\",\"type\":\"GlyphRenderer\"},{\"attributes\":{\"data\":{\"Age_Range\":[\"Y15-24\",\"Y15-24\",\"Y15-24\",\"Y15-24\",\"Y15-24\",\"Y15-24\",\"Y15-24\",\"Y15-24\",\"Y15-24\",\"Y15-24\",\"Y15-24\",\"Y15-24\",\"Y15-24\",\"Y15-24\",\"Y15-24\",\"Y15-24\",\"Y15-24\",\"Y15-24\",\"Y15-24\",\"Y15-24\",\"Y15-24\",\"Y15-24\",\"Y15-24\",\"Y15-24\",\"Y15-24\",\"Y15-24\",\"Y15-24\",\"Y15-24\",\"Y15-24\",\"Y15-24\"],\"Country\":[\"AT\",\"BE\",\"BG\",\"CY\",\"CZ\",\"DE\",\"DK\",\"EE\",\"EL\",\"ES\",\"FI\",\"FR\",\"HR\",\"HU\",\"IE\",\"IS\",\"IT\",\"LT\",\"LU\",\"LV\",\"MT\",\"NO\",\"PL\",\"PT\",\"RO\",\"RS\",\"SE\",\"SI\",\"SK\",\"TR\"],\"Drink_Freq\":[\"4-6W\",\"4-6W\",\"4-6W\",\"4-6W\",\"4-6W\",\"4-6W\",\"4-6W\",\"4-6W\",\"4-6W\",\"4-6W\",\"4-6W\",\"4-6W\",\"4-6W\",\"4-6W\",\"4-6W\",\"4-6W\",\"4-6W\",\"4-6W\",\"4-6W\",\"4-6W\",\"4-6W\",\"4-6W\",\"4-6W\",\"4-6W\",\"4-6W\",\"4-6W\",\"4-6W\",\"4-6W\",\"4-6W\",\"4-6W\"],\"Gender\":[\"T\",\"T\",\"T\",\"T\",\"T\",\"T\",\"T\",\"T\",\"T\",\"T\",\"T\",\"T\",\"T\",\"T\",\"T\",\"T\",\"T\",\"T\",\"T\",\"T\",\"T\",\"T\",\"T\",\"T\",\"T\",\"T\",\"T\",\"T\",\"T\",\"T\"],\"Health_Issue\":[\"DPR\",\"DPR\",\"DPR\",\"DPR\",\"DPR\",\"DPR\",\"DPR\",\"DPR\",\"DPR\",\"DPR\",\"DPR\",\"DPR\",\"DPR\",\"DPR\",\"DPR\",\"DPR\",\"DPR\",\"DPR\",\"DPR\",\"DPR\",\"DPR\",\"DPR\",\"DPR\",\"DPR\",\"DPR\",\"DPR\",\"DPR\",\"DPR\",\"DPR\",\"DPR\"],\"Obs_Value_x\":{\"__ndarray__\":\"AAAAAAAA+H8AAAAAAAD4f93d3d3d3SpAERERERERLUDv7u7u7m4wQAAAAAAAAC1AERERERERK0C8u7u7u7slQBERERERESdAERERERERI0A0MzMzMzMkQGdmZmZmZiJAq6qqqqqqK0C7u7u7u7suQHd3d3d3dy1AMzMzMzMzJkBnZmZmZmYlQHh3d3d3dyVAAAAAAAAAJ0BnZmZmZmYoQHd3d3d3dydAVVVVVVVVJkCZmZmZmZknQHh3d3d3dypAd3d3d3f3MEBEREREREQzQLu7u7u7uzNA3d3d3d3dMEBnZmZmZmYsQHd3d3d3dy1A\",\"dtype\":\"float64\",\"order\":\"little\",\"shape\":[30]},\"Obs_Value_y\":{\"__ndarray__\":\"zczMzMzMEEAzMzMzMzMbQAAAAAAAAPA/mpmZmZmZ6T/NzMzMzMz8PzMzMzMzMyJAMzMzMzMzMEBmZmZmZmYaQJqZmZmZmbk/ZmZmZmZmBkAAAAAAAAArQAAAAAAAACRAzczMzMzMBEDNzMzMzMwIQGZmZmZmZhRAZmZmZmZmIUAzMzMzMzMDQJqZmZmZmRFAZmZmZmZmLkAAAAAAAAAUQM3MzMzMzB5AAAAAAAAAI0AAAAAAAAAAQM3MzMzMzBBAmpmZmZmZyT8zMzMzMzPjP5qZmZmZmS1AAAAAAAAAJUDNzMzMzMzsP2ZmZmZmZhJA\",\"dtype\":\"float64\",\"order\":\"little\",\"shape\":[30]},\"Time_Period\":[2019,2019,2019,2019,2019,2019,2019,2019,2019,2019,2019,2019,2019,2019,2019,2019,2019,2019,2019,2019,2019,2019,2019,2019,2019,2019,2019,2019,2019,2019],\"index\":[0,1,2,3,4,5,6,7,8,9,10,11,12,13,14,15,16,17,18,19,20,21,22,23,24,25,26,27,28,29]},\"selected\":{\"id\":\"1071\"},\"selection_policy\":{\"id\":\"1070\"}},\"id\":\"1053\",\"type\":\"ColumnDataSource\"},{\"attributes\":{\"line_alpha\":0.1,\"line_color\":\"#ff7f0e\",\"x\":{\"field\":\"Country\"},\"y\":{\"field\":\"Obs_Value_x\"}},\"id\":\"1056\",\"type\":\"Line\"},{\"attributes\":{\"data\":{\"Age_Range\":[\"Y15-24\",\"Y15-24\",\"Y15-24\",\"Y15-24\",\"Y15-24\",\"Y15-24\",\"Y15-24\",\"Y15-24\",\"Y15-24\",\"Y15-24\",\"Y15-24\",\"Y15-24\",\"Y15-24\",\"Y15-24\",\"Y15-24\",\"Y15-24\",\"Y15-24\",\"Y15-24\",\"Y15-24\",\"Y15-24\",\"Y15-24\",\"Y15-24\",\"Y15-24\",\"Y15-24\",\"Y15-24\",\"Y15-24\",\"Y15-24\",\"Y15-24\",\"Y15-24\",\"Y15-24\"],\"Country\":[\"AT\",\"BE\",\"BG\",\"CY\",\"CZ\",\"DE\",\"DK\",\"EE\",\"EL\",\"ES\",\"FI\",\"FR\",\"HR\",\"HU\",\"IE\",\"IS\",\"IT\",\"LT\",\"LU\",\"LV\",\"MT\",\"NO\",\"PL\",\"PT\",\"RO\",\"RS\",\"SE\",\"SI\",\"SK\",\"TR\"],\"Drink_Freq\":[\"1-3W\",\"1-3W\",\"1-3W\",\"1-3W\",\"1-3W\",\"1-3W\",\"1-3W\",\"1-3W\",\"1-3W\",\"1-3W\",\"1-3W\",\"1-3W\",\"1-3W\",\"1-3W\",\"1-3W\",\"1-3W\",\"1-3W\",\"1-3W\",\"1-3W\",\"1-3W\",\"1-3W\",\"1-3W\",\"1-3W\",\"1-3W\",\"1-3W\",\"1-3W\",\"1-3W\",\"1-3W\",\"1-3W\",\"1-3W\"],\"Gender\":[\"T\",\"T\",\"T\",\"T\",\"T\",\"T\",\"T\",\"T\",\"T\",\"T\",\"T\",\"T\",\"T\",\"T\",\"T\",\"T\",\"T\",\"T\",\"T\",\"T\",\"T\",\"T\",\"T\",\"T\",\"T\",\"T\",\"T\",\"T\",\"T\",\"T\"],\"Health_Issue\":[\"DPR\",\"DPR\",\"DPR\",\"DPR\",\"DPR\",\"DPR\",\"DPR\",\"DPR\",\"DPR\",\"DPR\",\"DPR\",\"DPR\",\"DPR\",\"DPR\",\"DPR\",\"DPR\",\"DPR\",\"DPR\",\"DPR\",\"DPR\",\"DPR\",\"DPR\",\"DPR\",\"DPR\",\"DPR\",\"DPR\",\"DPR\",\"DPR\",\"DPR\",\"DPR\"],\"Obs_Value_x\":{\"__ndarray__\":\"ZmZmZmbmO0CamZmZmZk5QM3MzMzMzD5AZmZmZmZmO0AzMzMzMzM8QDMzMzMzMz9AzczMzMyMQEBmZmZmZmY8QAAAAAAAQEBAmpmZmZnZQEAzMzMzMzNBQDMzMzMzMzxAmpmZmZkZPECamZmZmZk9QGZmZmZmZjtAzczMzMzMOkAzMzMzM7M8QAAAAAAAwEJAZmZmZmbmOkAAAAAAAEBBQM3MzMzMzDFAZmZmZmZmPUBmZmZmZiZAQGZmZmZmZjlAzczMzMyMQUAzMzMzM7M7QDMzMzMzc0RAZmZmZmZmOECamZmZmRk5QJqZmZmZGT1A\",\"dtype\":\"float64\",\"order\":\"little\",\"shape\":[30]},\"Obs_Value_y\":{\"__ndarray__\":\"zczMzMzMEEAzMzMzMzMbQAAAAAAAAPA/mpmZmZmZ6T/NzMzMzMz8PzMzMzMzMyJAMzMzMzMzMEBmZmZmZmYaQJqZmZmZmbk/ZmZmZmZmBkAAAAAAAAArQAAAAAAAACRAzczMzMzMBEDNzMzMzMwIQGZmZmZmZhRAZmZmZmZmIUAzMzMzMzMDQJqZmZmZmRFAZmZmZmZmLkAAAAAAAAAUQM3MzMzMzB5AAAAAAAAAI0AAAAAAAAAAQM3MzMzMzBBAmpmZmZmZyT8zMzMzMzPjP5qZmZmZmS1AAAAAAAAAJUDNzMzMzMzsP2ZmZmZmZhJA\",\"dtype\":\"float64\",\"order\":\"little\",\"shape\":[30]},\"Time_Period\":[2019,2019,2019,2019,2019,2019,2019,2019,2019,2019,2019,2019,2019,2019,2019,2019,2019,2019,2019,2019,2019,2019,2019,2019,2019,2019,2019,2019,2019,2019],\"index\":[0,1,2,3,4,5,6,7,8,9,10,11,12,13,14,15,16,17,18,19,20,21,22,23,24,25,26,27,28,29]},\"selected\":{\"id\":\"1146\"},\"selection_policy\":{\"id\":\"1145\"}},\"id\":\"1122\",\"type\":\"ColumnDataSource\"},{\"attributes\":{\"source\":{\"id\":\"1122\"}},\"id\":\"1128\",\"type\":\"CDSView\"},{\"attributes\":{\"label\":{\"value\":\"df 2\"},\"renderers\":[{\"id\":\"1058\"}]},\"id\":\"1073\",\"type\":\"LegendItem\"},{\"attributes\":{},\"id\":\"1094\",\"type\":\"Selection\"},{\"attributes\":{},\"id\":\"1146\",\"type\":\"Selection\"},{\"attributes\":{\"axis\":{\"id\":\"1012\"},\"coordinates\":null,\"group\":null,\"ticker\":null},\"id\":\"1014\",\"type\":\"Grid\"},{\"attributes\":{\"line_color\":\"#d62728\",\"x\":{\"field\":\"Country\"},\"y\":{\"field\":\"Obs_Value_x\"}},\"id\":\"1099\",\"type\":\"Line\"},{\"attributes\":{\"source\":{\"id\":\"1053\"}},\"id\":\"1059\",\"type\":\"CDSView\"},{\"attributes\":{\"coordinates\":null,\"data_source\":{\"id\":\"1122\"},\"glyph\":{\"id\":\"1124\"},\"group\":null,\"hover_glyph\":null,\"muted_glyph\":{\"id\":\"1126\"},\"nonselection_glyph\":{\"id\":\"1125\"},\"view\":{\"id\":\"1128\"}},\"id\":\"1127\",\"type\":\"GlyphRenderer\"},{\"attributes\":{\"data\":{\"Age_Range\":[\"Y15-24\",\"Y15-24\",\"Y15-24\",\"Y15-24\",\"Y15-24\",\"Y15-24\",\"Y15-24\",\"Y15-24\",\"Y15-24\",\"Y15-24\",\"Y15-24\",\"Y15-24\",\"Y15-24\",\"Y15-24\",\"Y15-24\",\"Y15-24\",\"Y15-24\",\"Y15-24\",\"Y15-24\",\"Y15-24\",\"Y15-24\",\"Y15-24\",\"Y15-24\",\"Y15-24\",\"Y15-24\",\"Y15-24\",\"Y15-24\",\"Y15-24\",\"Y15-24\",\"Y15-24\"],\"Country\":[\"AT\",\"BE\",\"BG\",\"CY\",\"CZ\",\"DE\",\"DK\",\"EE\",\"EL\",\"ES\",\"FI\",\"FR\",\"HR\",\"HU\",\"IE\",\"IS\",\"IT\",\"LT\",\"LU\",\"LV\",\"MT\",\"NO\",\"PL\",\"PT\",\"RO\",\"RS\",\"SE\",\"SI\",\"SK\",\"TR\"],\"Drink_Freq\":[\"NVR_OCC\",\"NVR_OCC\",\"NVR_OCC\",\"NVR_OCC\",\"NVR_OCC\",\"NVR_OCC\",\"NVR_OCC\",\"NVR_OCC\",\"NVR_OCC\",\"NVR_OCC\",\"NVR_OCC\",\"NVR_OCC\",\"NVR_OCC\",\"NVR_OCC\",\"NVR_OCC\",\"NVR_OCC\",\"NVR_OCC\",\"NVR_OCC\",\"NVR_OCC\",\"NVR_OCC\",\"NVR_OCC\",\"NVR_OCC\",\"NVR_OCC\",\"NVR_OCC\",\"NVR_OCC\",\"NVR_OCC\",\"NVR_OCC\",\"NVR_OCC\",\"NVR_OCC\",\"NVR_OCC\"],\"Gender\":[\"T\",\"T\",\"T\",\"T\",\"T\",\"T\",\"T\",\"T\",\"T\",\"T\",\"T\",\"T\",\"T\",\"T\",\"T\",\"T\",\"T\",\"T\",\"T\",\"T\",\"T\",\"T\",\"T\",\"T\",\"T\",\"T\",\"T\",\"T\",\"T\",\"T\"],\"Health_Issue\":[\"DPR\",\"DPR\",\"DPR\",\"DPR\",\"DPR\",\"DPR\",\"DPR\",\"DPR\",\"DPR\",\"DPR\",\"DPR\",\"DPR\",\"DPR\",\"DPR\",\"DPR\",\"DPR\",\"DPR\",\"DPR\",\"DPR\",\"DPR\",\"DPR\",\"DPR\",\"DPR\",\"DPR\",\"DPR\",\"DPR\",\"DPR\",\"DPR\",\"DPR\",\"DPR\"],\"Obs_Value_x\":{\"__ndarray__\":\"AAAAAAAA+H8AAAAAAAD4f93d3d3dnUJAiIiIiIjIQkBVVVVVVZVDQDQzMzMz80RAVVVVVVXVREA0MzMzM3NIQKuqqqqqaklAMzMzMzMzSkC7u7u7uztIQFVVVVVVFUdAIiIiIiJiREAiIiIiIiJCQDMzMzMzc0NA3d3d3d1dRkCrqqqqqqpIQIiIiIiISEhARERERERESECZmZmZmZlHQGdmZmZmJklAMzMzMzMzSUDv7u7u7i5HQDMzMzMz80VAIyIiIiKiQ0AiIiIiIiJDQIiIiIiIyEBAREREREREQ0BERERERERGQN3d3d3dHUdA\",\"dtype\":\"float64\",\"order\":\"little\",\"shape\":[30]},\"Obs_Value_y\":{\"__ndarray__\":\"zczMzMzMEEAzMzMzMzMbQAAAAAAAAPA/mpmZmZmZ6T/NzMzMzMz8PzMzMzMzMyJAMzMzMzMzMEBmZmZmZmYaQJqZmZmZmbk/ZmZmZmZmBkAAAAAAAAArQAAAAAAAACRAzczMzMzMBEDNzMzMzMwIQGZmZmZmZhRAZmZmZmZmIUAzMzMzMzMDQJqZmZmZmRFAZmZmZmZmLkAAAAAAAAAUQM3MzMzMzB5AAAAAAAAAI0AAAAAAAAAAQM3MzMzMzBBAmpmZmZmZyT8zMzMzMzPjP5qZmZmZmS1AAAAAAAAAJUDNzMzMzMzsP2ZmZmZmZhJA\",\"dtype\":\"float64\",\"order\":\"little\",\"shape\":[30]},\"Time_Period\":[2019,2019,2019,2019,2019,2019,2019,2019,2019,2019,2019,2019,2019,2019,2019,2019,2019,2019,2019,2019,2019,2019,2019,2019,2019,2019,2019,2019,2019,2019],\"index\":[0,1,2,3,4,5,6,7,8,9,10,11,12,13,14,15,16,17,18,19,20,21,22,23,24,25,26,27,28,29]},\"selected\":{\"id\":\"1119\"},\"selection_policy\":{\"id\":\"1118\"}},\"id\":\"1097\",\"type\":\"ColumnDataSource\"},{\"attributes\":{},\"id\":\"1145\",\"type\":\"UnionRenderers\"},{\"attributes\":{\"data\":{\"Age_Range\":[\"Y15-24\",\"Y15-24\",\"Y15-24\",\"Y15-24\",\"Y15-24\",\"Y15-24\",\"Y15-24\",\"Y15-24\",\"Y15-24\",\"Y15-24\",\"Y15-24\",\"Y15-24\",\"Y15-24\",\"Y15-24\",\"Y15-24\",\"Y15-24\",\"Y15-24\",\"Y15-24\",\"Y15-24\",\"Y15-24\",\"Y15-24\",\"Y15-24\",\"Y15-24\",\"Y15-24\",\"Y15-24\",\"Y15-24\",\"Y15-24\",\"Y15-24\",\"Y15-24\",\"Y15-24\"],\"Country\":[\"AT\",\"BE\",\"BG\",\"CY\",\"CZ\",\"DE\",\"DK\",\"EE\",\"EL\",\"ES\",\"FI\",\"FR\",\"HR\",\"HU\",\"IE\",\"IS\",\"IT\",\"LT\",\"LU\",\"LV\",\"MT\",\"NO\",\"PL\",\"PT\",\"RO\",\"RS\",\"SE\",\"SI\",\"SK\",\"TR\"],\"Drink_Freq\":[\"GE1D\",\"GE1D\",\"GE1D\",\"GE1D\",\"GE1D\",\"GE1D\",\"GE1D\",\"GE1D\",\"GE1D\",\"GE1D\",\"GE1D\",\"GE1D\",\"GE1D\",\"GE1D\",\"GE1D\",\"GE1D\",\"GE1D\",\"GE1D\",\"GE1D\",\"GE1D\",\"GE1D\",\"GE1D\",\"GE1D\",\"GE1D\",\"GE1D\",\"GE1D\",\"GE1D\",\"GE1D\",\"GE1D\",\"GE1D\"],\"Gender\":[\"T\",\"T\",\"T\",\"T\",\"T\",\"T\",\"T\",\"T\",\"T\",\"T\",\"T\",\"T\",\"T\",\"T\",\"T\",\"T\",\"T\",\"T\",\"T\",\"T\",\"T\",\"T\",\"T\",\"T\",\"T\",\"T\",\"T\",\"T\",\"T\",\"T\"],\"Health_Issue\":[\"DPR\",\"DPR\",\"DPR\",\"DPR\",\"DPR\",\"DPR\",\"DPR\",\"DPR\",\"DPR\",\"DPR\",\"DPR\",\"DPR\",\"DPR\",\"DPR\",\"DPR\",\"DPR\",\"DPR\",\"DPR\",\"DPR\",\"DPR\",\"DPR\",\"DPR\",\"DPR\",\"DPR\",\"DPR\",\"DPR\",\"DPR\",\"DPR\",\"DPR\",\"DPR\"],\"Obs_Value_x\":{\"__ndarray__\":\"AAAAAAAA+H8AAAAAAAD4fzMzMzMzMzVA7+7u7u7uM0A0MzMzMzMvQFVVVVVVVS1A8O7u7u7uK0C8u7u7u7siQHh3d3d3dxlAZ2ZmZmZmGkC8u7u7u7sfQBERERERESlAZ2ZmZmZmLkBERERERMQzQAAAAAAAADJAvLu7u7s7MECrqqqqqqooQHd3d3d3dyNAzczMzMzMIUBlZmZmZmYeQBERERERESdAeHd3d3d3JkCrqqqqqqouQKuqqqqqqitAm5mZmZmZKUAjIiIiIiIqQEVERERERChANDMzMzMzK0BFREREREQmQKuqqqqqqilA\",\"dtype\":\"float64\",\"order\":\"little\",\"shape\":[30]},\"Obs_Value_y\":{\"__ndarray__\":\"zczMzMzMEEAzMzMzMzMbQAAAAAAAAPA/mpmZmZmZ6T/NzMzMzMz8PzMzMzMzMyJAMzMzMzMzMEBmZmZmZmYaQJqZmZmZmbk/ZmZmZmZmBkAAAAAAAAArQAAAAAAAACRAzczMzMzMBEDNzMzMzMwIQGZmZmZmZhRAZmZmZmZmIUAzMzMzMzMDQJqZmZmZmRFAZmZmZmZmLkAAAAAAAAAUQM3MzMzMzB5AAAAAAAAAI0AAAAAAAAAAQM3MzMzMzBBAmpmZmZmZyT8zMzMzMzPjP5qZmZmZmS1AAAAAAAAAJUDNzMzMzMzsP2ZmZmZmZhJA\",\"dtype\":\"float64\",\"order\":\"little\",\"shape\":[30]},\"Time_Period\":[2019,2019,2019,2019,2019,2019,2019,2019,2019,2019,2019,2019,2019,2019,2019,2019,2019,2019,2019,2019,2019,2019,2019,2019,2019,2019,2019,2019,2019,2019],\"index\":[0,1,2,3,4,5,6,7,8,9,10,11,12,13,14,15,16,17,18,19,20,21,22,23,24,25,26,27,28,29]},\"selected\":{\"id\":\"1094\"},\"selection_policy\":{\"id\":\"1093\"}},\"id\":\"1074\",\"type\":\"ColumnDataSource\"},{\"attributes\":{},\"id\":\"1044\",\"type\":\"AllLabels\"},{\"attributes\":{\"coordinates\":null,\"group\":null},\"id\":\"1040\",\"type\":\"Title\"},{\"attributes\":{},\"id\":\"1013\",\"type\":\"CategoricalTicker\"},{\"attributes\":{\"label\":{\"value\":\"df 1\"},\"renderers\":[{\"id\":\"1038\"}]},\"id\":\"1052\",\"type\":\"LegendItem\"},{\"attributes\":{\"tools\":[{\"id\":\"1019\"},{\"id\":\"1020\"},{\"id\":\"1021\"},{\"id\":\"1022\"},{\"id\":\"1023\"},{\"id\":\"1024\"}]},\"id\":\"1026\",\"type\":\"Toolbar\"},{\"attributes\":{},\"id\":\"1043\",\"type\":\"BasicTickFormatter\"}],\"root_ids\":[\"1003\"]},\"title\":\"Bokeh Application\",\"version\":\"2.4.3\"}};\n  const render_items = [{\"docid\":\"731b5888-47b8-491b-a516-492388a06175\",\"root_ids\":[\"1003\"],\"roots\":{\"1003\":\"312ead5c-74e4-47d1-980b-932c3edbb3d0\"}}];\n  root.Bokeh.embed.embed_items_notebook(docs_json, render_items);\n  }\n  if (root.Bokeh !== undefined) {\n    embed_document(root);\n  } else {\n    let attempts = 0;\n    const timer = setInterval(function(root) {\n      if (root.Bokeh !== undefined) {\n        clearInterval(timer);\n        embed_document(root);\n      } else {\n        attempts++;\n        if (attempts > 100) {\n          clearInterval(timer);\n          console.log(\"Bokeh: ERROR: Unable to run BokehJS code because BokehJS library is missing\");\n        }\n      }\n    }, 10, root)\n  }\n})(window);",
      "application/vnd.bokehjs_exec.v0+json": ""
     },
     "metadata": {
      "application/vnd.bokehjs_exec.v0+json": {
       "id": "1003"
      }
     },
     "output_type": "display_data"
    }
   ],
   "source": [
    "# plotting was done using bokeh library\n",
    "\n",
    "p = figure(x_range=df1['Country'].tolist(), plot_width=600, plot_height=400)\n",
    "\n",
    "palette = Category10[5]\n",
    "dataframes = smooth_dataframes([df1,df2,df3,df4],3)\n",
    "\n",
    "for i,df in enumerate(dataframes) :\n",
    "    source = ColumnDataSource(df)\n",
    "    p.line(x='Country',y='Obs_Value_x',source=source,color=palette[i],legend_label=f'df {i+1}')\n",
    "\n",
    "p.line(x='Country',y='Obs_Value_y',source=df1,color=palette[i],legend_label='DPR')\n",
    "\n",
    "# p.line(x='geo', y='OBS_VALUE_x', source=source, line_width=2, legend_label='OBS_VALUE_x')\n",
    "# p.line(x='geo', y='OBS_VALUE_y', source=source, line_width=2, legend_label='OBS_VALUE_y', line_color='red')\n",
    "\n",
    "p.xaxis.axis_label = 'Country'\n",
    "p.yaxis.axis_label = 'Obs_Value'\n",
    "\n",
    "p.legend.location = 'top_left'\n",
    "\n",
    "show(p)"
   ]
  }
 ],
 "metadata": {
  "kernelspec": {
   "display_name": "Python 3",
   "language": "python",
   "name": "python3"
  },
  "language_info": {
   "codemirror_mode": {
    "name": "ipython",
    "version": 3
   },
   "file_extension": ".py",
   "mimetype": "text/x-python",
   "name": "python",
   "nbconvert_exporter": "python",
   "pygments_lexer": "ipython3",
   "version": "3.11.1"
  },
  "orig_nbformat": 4,
  "vscode": {
   "interpreter": {
    "hash": "214a5cb7e6ac63d6ccd6043a9b500c325cfe675ad88c8f33c0682631c9e40f57"
   }
  }
 },
 "nbformat": 4,
 "nbformat_minor": 2
}
