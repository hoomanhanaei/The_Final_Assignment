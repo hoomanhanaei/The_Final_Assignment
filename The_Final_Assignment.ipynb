{
 "cells": [
  {
   "attachments": {},
   "cell_type": "markdown",
   "metadata": {},
   "source": [
    "----\n",
    "**Research Question**\n",
    "\n",
    "## Investigation of changes in **Depressive-Symptoms** influenced by drinking frequency of **Sugar-Sweetened** soft drinks.\n",
    "----"
   ]
  },
  {
   "cell_type": "code",
   "execution_count": 461,
   "metadata": {},
   "outputs": [
    {
     "data": {
      "text/html": [
       "<div class=\"bk-root\">\n",
       "        <a href=\"https://bokeh.org\" target=\"_blank\" class=\"bk-logo bk-logo-small bk-logo-notebook\"></a>\n",
       "        <span id=\"27030\">Loading BokehJS ...</span>\n",
       "    </div>\n"
      ]
     },
     "metadata": {},
     "output_type": "display_data"
    },
    {
     "data": {
      "application/javascript": "(function(root) {\n  function now() {\n    return new Date();\n  }\n\n  const force = true;\n\n  if (typeof root._bokeh_onload_callbacks === \"undefined\" || force === true) {\n    root._bokeh_onload_callbacks = [];\n    root._bokeh_is_loading = undefined;\n  }\n\nconst JS_MIME_TYPE = 'application/javascript';\n  const HTML_MIME_TYPE = 'text/html';\n  const EXEC_MIME_TYPE = 'application/vnd.bokehjs_exec.v0+json';\n  const CLASS_NAME = 'output_bokeh rendered_html';\n\n  /**\n   * Render data to the DOM node\n   */\n  function render(props, node) {\n    const script = document.createElement(\"script\");\n    node.appendChild(script);\n  }\n\n  /**\n   * Handle when an output is cleared or removed\n   */\n  function handleClearOutput(event, handle) {\n    const cell = handle.cell;\n\n    const id = cell.output_area._bokeh_element_id;\n    const server_id = cell.output_area._bokeh_server_id;\n    // Clean up Bokeh references\n    if (id != null && id in Bokeh.index) {\n      Bokeh.index[id].model.document.clear();\n      delete Bokeh.index[id];\n    }\n\n    if (server_id !== undefined) {\n      // Clean up Bokeh references\n      const cmd_clean = \"from bokeh.io.state import curstate; print(curstate().uuid_to_server['\" + server_id + \"'].get_sessions()[0].document.roots[0]._id)\";\n      cell.notebook.kernel.execute(cmd_clean, {\n        iopub: {\n          output: function(msg) {\n            const id = msg.content.text.trim();\n            if (id in Bokeh.index) {\n              Bokeh.index[id].model.document.clear();\n              delete Bokeh.index[id];\n            }\n          }\n        }\n      });\n      // Destroy server and session\n      const cmd_destroy = \"import bokeh.io.notebook as ion; ion.destroy_server('\" + server_id + \"')\";\n      cell.notebook.kernel.execute(cmd_destroy);\n    }\n  }\n\n  /**\n   * Handle when a new output is added\n   */\n  function handleAddOutput(event, handle) {\n    const output_area = handle.output_area;\n    const output = handle.output;\n\n    // limit handleAddOutput to display_data with EXEC_MIME_TYPE content only\n    if ((output.output_type != \"display_data\") || (!Object.prototype.hasOwnProperty.call(output.data, EXEC_MIME_TYPE))) {\n      return\n    }\n\n    const toinsert = output_area.element.find(\".\" + CLASS_NAME.split(' ')[0]);\n\n    if (output.metadata[EXEC_MIME_TYPE][\"id\"] !== undefined) {\n      toinsert[toinsert.length - 1].firstChild.textContent = output.data[JS_MIME_TYPE];\n      // store reference to embed id on output_area\n      output_area._bokeh_element_id = output.metadata[EXEC_MIME_TYPE][\"id\"];\n    }\n    if (output.metadata[EXEC_MIME_TYPE][\"server_id\"] !== undefined) {\n      const bk_div = document.createElement(\"div\");\n      bk_div.innerHTML = output.data[HTML_MIME_TYPE];\n      const script_attrs = bk_div.children[0].attributes;\n      for (let i = 0; i < script_attrs.length; i++) {\n        toinsert[toinsert.length - 1].firstChild.setAttribute(script_attrs[i].name, script_attrs[i].value);\n        toinsert[toinsert.length - 1].firstChild.textContent = bk_div.children[0].textContent\n      }\n      // store reference to server id on output_area\n      output_area._bokeh_server_id = output.metadata[EXEC_MIME_TYPE][\"server_id\"];\n    }\n  }\n\n  function register_renderer(events, OutputArea) {\n\n    function append_mime(data, metadata, element) {\n      // create a DOM node to render to\n      const toinsert = this.create_output_subarea(\n        metadata,\n        CLASS_NAME,\n        EXEC_MIME_TYPE\n      );\n      this.keyboard_manager.register_events(toinsert);\n      // Render to node\n      const props = {data: data, metadata: metadata[EXEC_MIME_TYPE]};\n      render(props, toinsert[toinsert.length - 1]);\n      element.append(toinsert);\n      return toinsert\n    }\n\n    /* Handle when an output is cleared or removed */\n    events.on('clear_output.CodeCell', handleClearOutput);\n    events.on('delete.Cell', handleClearOutput);\n\n    /* Handle when a new output is added */\n    events.on('output_added.OutputArea', handleAddOutput);\n\n    /**\n     * Register the mime type and append_mime function with output_area\n     */\n    OutputArea.prototype.register_mime_type(EXEC_MIME_TYPE, append_mime, {\n      /* Is output safe? */\n      safe: true,\n      /* Index of renderer in `output_area.display_order` */\n      index: 0\n    });\n  }\n\n  // register the mime type if in Jupyter Notebook environment and previously unregistered\n  if (root.Jupyter !== undefined) {\n    const events = require('base/js/events');\n    const OutputArea = require('notebook/js/outputarea').OutputArea;\n\n    if (OutputArea.prototype.mime_types().indexOf(EXEC_MIME_TYPE) == -1) {\n      register_renderer(events, OutputArea);\n    }\n  }\n  if (typeof (root._bokeh_timeout) === \"undefined\" || force === true) {\n    root._bokeh_timeout = Date.now() + 5000;\n    root._bokeh_failed_load = false;\n  }\n\n  const NB_LOAD_WARNING = {'data': {'text/html':\n     \"<div style='background-color: #fdd'>\\n\"+\n     \"<p>\\n\"+\n     \"BokehJS does not appear to have successfully loaded. If loading BokehJS from CDN, this \\n\"+\n     \"may be due to a slow or bad network connection. Possible fixes:\\n\"+\n     \"</p>\\n\"+\n     \"<ul>\\n\"+\n     \"<li>re-rerun `output_notebook()` to attempt to load from CDN again, or</li>\\n\"+\n     \"<li>use INLINE resources instead, as so:</li>\\n\"+\n     \"</ul>\\n\"+\n     \"<code>\\n\"+\n     \"from bokeh.resources import INLINE\\n\"+\n     \"output_notebook(resources=INLINE)\\n\"+\n     \"</code>\\n\"+\n     \"</div>\"}};\n\n  function display_loaded() {\n    const el = document.getElementById(\"27030\");\n    if (el != null) {\n      el.textContent = \"BokehJS is loading...\";\n    }\n    if (root.Bokeh !== undefined) {\n      if (el != null) {\n        el.textContent = \"BokehJS \" + root.Bokeh.version + \" successfully loaded.\";\n      }\n    } else if (Date.now() < root._bokeh_timeout) {\n      setTimeout(display_loaded, 100)\n    }\n  }\n\n  function run_callbacks() {\n    try {\n      root._bokeh_onload_callbacks.forEach(function(callback) {\n        if (callback != null)\n          callback();\n      });\n    } finally {\n      delete root._bokeh_onload_callbacks\n    }\n    console.debug(\"Bokeh: all callbacks have finished\");\n  }\n\n  function load_libs(css_urls, js_urls, callback) {\n    if (css_urls == null) css_urls = [];\n    if (js_urls == null) js_urls = [];\n\n    root._bokeh_onload_callbacks.push(callback);\n    if (root._bokeh_is_loading > 0) {\n      console.debug(\"Bokeh: BokehJS is being loaded, scheduling callback at\", now());\n      return null;\n    }\n    if (js_urls == null || js_urls.length === 0) {\n      run_callbacks();\n      return null;\n    }\n    console.debug(\"Bokeh: BokehJS not loaded, scheduling load and callback at\", now());\n    root._bokeh_is_loading = css_urls.length + js_urls.length;\n\n    function on_load() {\n      root._bokeh_is_loading--;\n      if (root._bokeh_is_loading === 0) {\n        console.debug(\"Bokeh: all BokehJS libraries/stylesheets loaded\");\n        run_callbacks()\n      }\n    }\n\n    function on_error(url) {\n      console.error(\"failed to load \" + url);\n    }\n\n    for (let i = 0; i < css_urls.length; i++) {\n      const url = css_urls[i];\n      const element = document.createElement(\"link\");\n      element.onload = on_load;\n      element.onerror = on_error.bind(null, url);\n      element.rel = \"stylesheet\";\n      element.type = \"text/css\";\n      element.href = url;\n      console.debug(\"Bokeh: injecting link tag for BokehJS stylesheet: \", url);\n      document.body.appendChild(element);\n    }\n\n    for (let i = 0; i < js_urls.length; i++) {\n      const url = js_urls[i];\n      const element = document.createElement('script');\n      element.onload = on_load;\n      element.onerror = on_error.bind(null, url);\n      element.async = false;\n      element.src = url;\n      console.debug(\"Bokeh: injecting script tag for BokehJS library: \", url);\n      document.head.appendChild(element);\n    }\n  };\n\n  function inject_raw_css(css) {\n    const element = document.createElement(\"style\");\n    element.appendChild(document.createTextNode(css));\n    document.body.appendChild(element);\n  }\n\n  const js_urls = [\"https://cdn.bokeh.org/bokeh/release/bokeh-2.4.3.min.js\", \"https://cdn.bokeh.org/bokeh/release/bokeh-gl-2.4.3.min.js\", \"https://cdn.bokeh.org/bokeh/release/bokeh-widgets-2.4.3.min.js\", \"https://cdn.bokeh.org/bokeh/release/bokeh-tables-2.4.3.min.js\", \"https://cdn.bokeh.org/bokeh/release/bokeh-mathjax-2.4.3.min.js\", \"https://unpkg.com/@holoviz/panel@0.14.2/dist/panel.min.js\"];\n  const css_urls = [];\n\n  const inline_js = [    function(Bokeh) {\n      Bokeh.set_log_level(\"info\");\n    },\nfunction(Bokeh) {\n    }\n  ];\n\n  function run_inline_js() {\n    if (root.Bokeh !== undefined || force === true) {\n          for (let i = 0; i < inline_js.length; i++) {\n      inline_js[i].call(root, root.Bokeh);\n    }\nif (force === true) {\n        display_loaded();\n      }} else if (Date.now() < root._bokeh_timeout) {\n      setTimeout(run_inline_js, 100);\n    } else if (!root._bokeh_failed_load) {\n      console.log(\"Bokeh: BokehJS failed to load within specified timeout.\");\n      root._bokeh_failed_load = true;\n    } else if (force !== true) {\n      const cell = $(document.getElementById(\"27030\")).parents('.cell').data().cell;\n      cell.output_area.append_execute_result(NB_LOAD_WARNING)\n    }\n  }\n\n  if (root._bokeh_is_loading === 0) {\n    console.debug(\"Bokeh: BokehJS loaded, going straight to plotting\");\n    run_inline_js();\n  } else {\n    load_libs(css_urls, js_urls, function() {\n      console.debug(\"Bokeh: BokehJS plotting callback run at\", now());\n      run_inline_js();\n    });\n  }\n}(window));",
      "application/vnd.bokehjs_load.v0+json": ""
     },
     "metadata": {},
     "output_type": "display_data"
    }
   ],
   "source": [
    "# importting necessary libraries \n",
    "\n",
    "import pandas as pd\n",
    "import numpy as np\n",
    "import yaml as yam\n",
    "from bokeh.plotting import figure,show,output_file\n",
    "from bokeh.models import ColumnDataSource\n",
    "from bokeh.layouts import gridplot\n",
    "from bokeh.palettes import Category10\n",
    "import holoviews as hv\n",
    "from bokeh.io import output_notebook\n",
    "\n",
    "output_notebook()\n"
   ]
  },
  {
   "attachments": {},
   "cell_type": "markdown",
   "metadata": {},
   "source": [
    "----\n",
    "## Part 1 : Loading The Data\n",
    "----"
   ]
  },
  {
   "cell_type": "code",
   "execution_count": 462,
   "metadata": {},
   "outputs": [],
   "source": [
    "# creating a config file , to read data from\n",
    "\n",
    "def get_config():\n",
    "    with open('config.yaml','r') as datasource:\n",
    "        config = yam.safe_load(datasource)\n",
    "        return config\n",
    "\n",
    "config = get_config()\n",
    "\n",
    "depressive_symptoms = config['depressive_symptoms']\n",
    "frequency_of_drinking = config['frequency_of_drinking']\n",
    "\n",
    "# reading data by creating pandas dataframe\n",
    "depsymp = pd.read_csv(depressive_symptoms)\n",
    "drinkfreq = pd.read_csv(frequency_of_drinking)\n",
    "\n"
   ]
  },
  {
   "attachments": {},
   "cell_type": "markdown",
   "metadata": {},
   "source": [
    "----\n",
    "## Part 2 : **Data Preparation**\n",
    "---- "
   ]
  },
  {
   "attachments": {},
   "cell_type": "markdown",
   "metadata": {},
   "source": [
    "* Renaming columns"
   ]
  },
  {
   "cell_type": "code",
   "execution_count": 463,
   "metadata": {},
   "outputs": [],
   "source": [
    "# Renaming the desired columns in order to have a better understanding of the columns name.\n",
    "\n",
    "def rename(df,col_list) :\n",
    "    rename = df.rename(columns= col_list)\n",
    "    df = rename\n",
    "    return df\n",
    "\n",
    "depsymp_col_list = {'isced11':'Edu_Level','hlth_pb':'Health_Issue',\n",
    "            'sex':'Gender','age':'Age_Range','geo':'Country','TIME_PERIOD':'Time_Period',\n",
    "            'OBS_VALUE':'Obs_Value'}\n",
    "\n",
    "depsymp = rename(depsymp,depsymp_col_list)\n",
    "\n",
    "\n",
    "drinkfreq_col_list = {'frequenc':'Drink_Freq','sex':'Gender','isced11':'Edu_Level',\n",
    "            'age':'Age_Range','geo':'Country','TIME_PERIOD':'Time_Period','OBS_VALUE':'Obs_Value'}\n",
    "\n",
    "drinkfreq = rename(drinkfreq,drinkfreq_col_list)"
   ]
  },
  {
   "attachments": {},
   "cell_type": "markdown",
   "metadata": {},
   "source": [
    "* Identifying missing values"
   ]
  },
  {
   "cell_type": "code",
   "execution_count": 464,
   "metadata": {},
   "outputs": [],
   "source": [
    "# defining a function to return missing values in multiple dataframes,\n",
    "# output in the form of a dictionary will contain both dataframe and columns \n",
    "# with missing values \n",
    "\n",
    "# depsymp.isna().sum()\n",
    "# depsymp.isnull().sum()\n",
    "\n",
    "\n",
    "def find_missing_values(df_list):\n",
    "    missing_values = []\n",
    "    for i,df in enumerate(df_list):\n",
    "\n",
    "        df_missing = df.isna().sum().to_dict()\n",
    "        df_missing = {k: v for k,v in df_missing.items() if v > 0}\n",
    "        missing_values.append(f'dataframe {i+1} = {df_missing}')\n",
    "                \n",
    "    return missing_values\n",
    "\n",
    "\n",
    "missing_values = find_missing_values([depsymp,drinkfreq])\n",
    "\n",
    "# print(missing_values)"
   ]
  },
  {
   "attachments": {},
   "cell_type": "markdown",
   "metadata": {},
   "source": [
    "* Identifying unreliable observations"
   ]
  },
  {
   "cell_type": "code",
   "execution_count": 465,
   "metadata": {},
   "outputs": [
    {
     "name": "stdout",
     "output_type": "stream",
     "text": [
      "[nan 'u']\n",
      "[nan 'u']\n",
      "36\n",
      "27\n"
     ]
    }
   ],
   "source": [
    "# Flag columns indicate observations which are not reliable.\n",
    "# Below, identification of the specific value for unreliable abservations and the length of rows containing \n",
    "# them where inspected.\n",
    "\n",
    "print(depsymp['OBS_FLAG'].unique())\n",
    "print(drinkfreq['OBS_FLAG'].unique())\n",
    "print(len(depsymp[depsymp['OBS_FLAG'] == 'u']))\n",
    "print(len(drinkfreq[drinkfreq['OBS_FLAG'] == 'u']))"
   ]
  },
  {
   "attachments": {},
   "cell_type": "markdown",
   "metadata": {},
   "source": [
    "* Removing unreliable observations and columns with missing values"
   ]
  },
  {
   "cell_type": "code",
   "execution_count": 466,
   "metadata": {},
   "outputs": [],
   "source": [
    "# defining a function that takes in list of dataframes and returns \n",
    "# cleaned dataframes (without columns containing missing values, and rows with unreliable observations)\n",
    "\n",
    "def drop_missing_values(dataframes):\n",
    "    cleaned_dataframes = []\n",
    "    for df in dataframes:\n",
    "        if 'OBS_FLAG' in df.columns :\n",
    "            df = df[df['OBS_FLAG'] != 'u']\n",
    "        df_dropped = df.dropna(axis=1)\n",
    "        cleaned_dataframes.append(df_dropped)\n",
    "    return cleaned_dataframes\n",
    "\n",
    "list = [depsymp,drinkfreq]\n",
    "cleaned_dataframes = drop_missing_values(list)\n",
    "\n",
    "depsymp = cleaned_dataframes[0]\n",
    "drinkfreq = cleaned_dataframes[1]\n",
    "# drinkfreq\n",
    "\n"
   ]
  },
  {
   "attachments": {},
   "cell_type": "markdown",
   "metadata": {},
   "source": [
    "* Dropping irrelevant columns "
   ]
  },
  {
   "cell_type": "code",
   "execution_count": 467,
   "metadata": {},
   "outputs": [],
   "source": [
    "# dropping irrelevent columns using if statements to \n",
    "# avoid code execution more than once\n",
    "\n",
    "if 'DATAFLOW' in depsymp.columns :\n",
    "    depsymp = depsymp.drop(depsymp.columns[[0,1,2,3,4]],axis=1)\n",
    "\n",
    "if 'DATAFLOW' in drinkfreq.columns :\n",
    "    drinkfreq = drinkfreq.drop(drinkfreq.columns[[0,1,2,3,7]],axis=1)\n",
    "    \n",
    "# print(depsymp)\n",
    "# print(drinkfreq) \n"
   ]
  },
  {
   "attachments": {},
   "cell_type": "markdown",
   "metadata": {},
   "source": [
    "* Inspect duplicated observations"
   ]
  },
  {
   "cell_type": "code",
   "execution_count": 468,
   "metadata": {},
   "outputs": [],
   "source": [
    "# checking for duplicated values in both dataframes.\n",
    "\n",
    "# df.duplicated()\n",
    "# df.drop_duplicates()\n",
    "\n",
    "def check_for_duplicated(df_list) :\n",
    "    for df in df_list :\n",
    "        if df.duplicated().any() :\n",
    "            return True\n",
    "        else :\n",
    "            return False\n",
    "\n",
    "duplicated = check_for_duplicated([depsymp,drinkfreq])\n",
    "# print(duplicated)\n"
   ]
  },
  {
   "attachments": {},
   "cell_type": "markdown",
   "metadata": {},
   "source": [
    "----\n",
    "## Part 3 : Reshaping the data\n",
    "----"
   ]
  },
  {
   "attachments": {},
   "cell_type": "markdown",
   "metadata": {},
   "source": [
    "* Merging data frames (Due to creation of redundancy \"in the form of duplication\"\n",
    "   which makes it impossible to further process the data this part was canceled.)"
   ]
  },
  {
   "cell_type": "code",
   "execution_count": 469,
   "metadata": {},
   "outputs": [],
   "source": [
    "## using pandas merge method we are going to combine two dataframes \n",
    "## into one with values of interest for further analysing.\n",
    "\n",
    "# df = pd.merge(drinkfreq,depsymp,\n",
    "#                 on=['Country','Time_Period','Age_Range','Gender'],\n",
    "#                 suffixes=['_Dri','_Dep'], #especific suffixes helps to identify the coulmn after being merged\n",
    "#                 how='inner')\n",
    "\n",
    "## df = df.sort_values(by=['Obs_Value_Dri','Obs_Value_Dep'], ascending= False).copy()"
   ]
  },
  {
   "attachments": {},
   "cell_type": "markdown",
   "metadata": {},
   "source": [
    "* Age_range column contains multiple ranges, in the following function \n",
    "   we try to keep those ranges which have more coverage."
   ]
  },
  {
   "cell_type": "code",
   "execution_count": 470,
   "metadata": {},
   "outputs": [],
   "source": [
    "# # inspection of unique values in order to keep the desired ones in next step\n",
    "# print(depsymp['Age_Range'].unique() )\n",
    "# print(drinkfreq['Age_Range'].unique())\n",
    "\n",
    "# Filtering the data frame for the desired values\n",
    "\n",
    "def filter_age_range(df_list) :\n",
    "    filtered_age_range = []\n",
    "\n",
    "    for df in df_list :\n",
    "        df = df[df['Age_Range'].isin(['Y15-24','Y25-34','Y35-44','Y45-54','Y55-64','Y65-74'])].copy()\n",
    "        filtered_age_range.append(df)\n",
    "    return filtered_age_range\n",
    "\n",
    "\n",
    "depsymp = filter_age_range([depsymp,drinkfreq])[0]\n",
    "drinkfreq = filter_age_range([depsymp,drinkfreq])[1]\n"
   ]
  },
  {
   "attachments": {},
   "cell_type": "markdown",
   "metadata": {},
   "source": [
    "* match_maker() is a function that creates a list of tuples containing paired unique values \n",
    "   of the two provided column from our desired data frame, makes it easier to groupby in the next step."
   ]
  },
  {
   "cell_type": "code",
   "execution_count": 471,
   "metadata": {},
   "outputs": [],
   "source": [
    "# we will define a function to make a list containing \n",
    "# tuples of paired values of any two given columns.\n",
    "\n",
    "def match_maker(df,col_1,col_2) :\n",
    "\n",
    "    result = []\n",
    "\n",
    "    gen_uni = df[col_1].unique()\n",
    "    drink_uni = df[col_2].unique()\n",
    "    for x in gen_uni :\n",
    "        for y in drink_uni :\n",
    "            if (x,y) not in result :\n",
    "                result.append((x,y))\n",
    "\n",
    "    return result\n",
    "    \n",
    "\n",
    "# match_maker(drinkfreq,'Gender','Drink_Freq')"
   ]
  },
  {
   "attachments": {},
   "cell_type": "markdown",
   "metadata": {},
   "source": [
    "* data_grouper(), this function is designed to access the specific values \n",
    "   inside a group and grouping them again in order to make plotting more focused. Actually our final dataframes \n",
    "   are going to be made here inside this function."
   ]
  },
  {
   "cell_type": "code",
   "execution_count": 472,
   "metadata": {},
   "outputs": [],
   "source": [
    "def data_grouper(df,col_1,col_2) :\n",
    "\n",
    "    grouped_data = []\n",
    "    for i in match_maker(df,col_1,col_2) :\n",
    "        grouping = df.groupby([col_1,col_2]).get_group(i)\n",
    "        grouped_data.append(grouping)\n",
    "    return grouped_data\n",
    "\n",
    "# In total we will have 21 data frames, which are distinguished from each other by their Gender\n",
    "# our 21 data frames are consisting female values, male values , and total values which include both Gender.\n",
    "# the following data frames are those which contain total values for both Gender.  \n",
    "\n",
    "\n",
    "upto3w_tot     = data_grouper(drinkfreq,'Gender','Drink_Freq')[8]\n",
    "fourto6w_tot   = data_grouper(drinkfreq,'Gender','Drink_Freq')[9]\n",
    "gen1perday_tot = data_grouper(drinkfreq,'Gender','Drink_Freq')[10]\n",
    "nevorocc_tot   = data_grouper(drinkfreq,'Gender','Drink_Freq')[11]\n",
    "dpr_tot        = data_grouper(drinkfreq,'Gender','Drink_Freq')[6]\n",
    "dpr_mjr_tot    = data_grouper(drinkfreq,'Gender','Drink_Freq')[7]\n",
    "dpr_oth_tot    = data_grouper(drinkfreq,'Gender','Drink_Freq')[8]\n",
    "\n",
    "# upto3w_tot\n",
    "\n",
    "# match_maker(depsymp,'Gender','Health_Issue')\n",
    "# match_maker(drinkfreq,'Gender','Drink_Freq')"
   ]
  },
  {
   "attachments": {},
   "cell_type": "markdown",
   "metadata": {},
   "source": [
    "----\n",
    "## Part 4 : Smooth The Data (on going)\n",
    "----"
   ]
  },
  {
   "cell_type": "code",
   "execution_count": 473,
   "metadata": {},
   "outputs": [],
   "source": [
    "# defining a function that takes in a list of dataframes and retunrs a list of \n",
    "# smoothed data frames. The built in method '.rolling().mean()' was used.\n",
    "\n",
    "# def smooth_dataframes(dataframes,window_size) :\n",
    "#     smoothed_dataframes = []\n",
    "#     for df in dataframes :\n",
    "#         df = df.copy()\n",
    "#         df['Obs_Value_Dri'] = df['Obs_Value_Dri'].rolling(window=window_size).mean()\n",
    "#         smoothed_dataframes.append(df)\n",
    "#     return smoothed_dataframes\n",
    "\n",
    "# dataframes = smooth_dataframes([df1,df2,df3,df4],3)\n",
    "# dataframes[1]"
   ]
  },
  {
   "attachments": {},
   "cell_type": "markdown",
   "metadata": {},
   "source": [
    "----\n",
    "## Part 5 : Data Visualization (on going)\n",
    "----"
   ]
  },
  {
   "attachments": {},
   "cell_type": "markdown",
   "metadata": {},
   "source": [
    "* Line plot"
   ]
  },
  {
   "cell_type": "code",
   "execution_count": 474,
   "metadata": {},
   "outputs": [
    {
     "data": {
      "text/html": [
       "\n",
       "  <div class=\"bk-root\" id=\"14863915-fcfd-49f6-be68-17d8f2e3e0e8\" data-root-id=\"27328\"></div>\n"
      ]
     },
     "metadata": {},
     "output_type": "display_data"
    },
    {
     "data": {
      "application/javascript": "(function(root) {\n  function embed_document(root) {\n  const docs_json = {\"df8929c1-3361-4396-8b13-c44bc2f07c44\":{\"defs\":[{\"extends\":null,\"module\":null,\"name\":\"ReactiveHTML1\",\"overrides\":[],\"properties\":[]},{\"extends\":null,\"module\":null,\"name\":\"FlexBox1\",\"overrides\":[],\"properties\":[{\"default\":\"flex-start\",\"kind\":null,\"name\":\"align_content\"},{\"default\":\"flex-start\",\"kind\":null,\"name\":\"align_items\"},{\"default\":\"row\",\"kind\":null,\"name\":\"flex_direction\"},{\"default\":\"wrap\",\"kind\":null,\"name\":\"flex_wrap\"},{\"default\":\"flex-start\",\"kind\":null,\"name\":\"justify_content\"}]},{\"extends\":null,\"module\":null,\"name\":\"GridStack1\",\"overrides\":[],\"properties\":[{\"default\":\"warn\",\"kind\":null,\"name\":\"mode\"},{\"default\":null,\"kind\":null,\"name\":\"ncols\"},{\"default\":null,\"kind\":null,\"name\":\"nrows\"},{\"default\":true,\"kind\":null,\"name\":\"allow_resize\"},{\"default\":true,\"kind\":null,\"name\":\"allow_drag\"},{\"default\":[],\"kind\":null,\"name\":\"state\"}]},{\"extends\":null,\"module\":null,\"name\":\"click1\",\"overrides\":[],\"properties\":[{\"default\":\"\",\"kind\":null,\"name\":\"terminal_output\"},{\"default\":\"\",\"kind\":null,\"name\":\"debug_name\"},{\"default\":0,\"kind\":null,\"name\":\"clears\"}]},{\"extends\":null,\"module\":null,\"name\":\"NotificationAreaBase1\",\"overrides\":[],\"properties\":[{\"default\":\"bottom-right\",\"kind\":null,\"name\":\"position\"},{\"default\":0,\"kind\":null,\"name\":\"_clear\"}]},{\"extends\":null,\"module\":null,\"name\":\"NotificationArea1\",\"overrides\":[],\"properties\":[{\"default\":[],\"kind\":null,\"name\":\"notifications\"},{\"default\":\"bottom-right\",\"kind\":null,\"name\":\"position\"},{\"default\":0,\"kind\":null,\"name\":\"_clear\"},{\"default\":[{\"background\":\"#ffc107\",\"icon\":{\"className\":\"fas fa-exclamation-triangle\",\"color\":\"white\",\"tagName\":\"i\"},\"type\":\"warning\"},{\"background\":\"#007bff\",\"icon\":{\"className\":\"fas fa-info-circle\",\"color\":\"white\",\"tagName\":\"i\"},\"type\":\"info\"}],\"kind\":null,\"name\":\"types\"}]},{\"extends\":null,\"module\":null,\"name\":\"Notification\",\"overrides\":[],\"properties\":[{\"default\":null,\"kind\":null,\"name\":\"background\"},{\"default\":3000,\"kind\":null,\"name\":\"duration\"},{\"default\":null,\"kind\":null,\"name\":\"icon\"},{\"default\":\"\",\"kind\":null,\"name\":\"message\"},{\"default\":null,\"kind\":null,\"name\":\"notification_type\"},{\"default\":false,\"kind\":null,\"name\":\"_destroyed\"}]},{\"extends\":null,\"module\":null,\"name\":\"TemplateActions1\",\"overrides\":[],\"properties\":[{\"default\":0,\"kind\":null,\"name\":\"open_modal\"},{\"default\":0,\"kind\":null,\"name\":\"close_modal\"}]},{\"extends\":null,\"module\":null,\"name\":\"MaterialTemplateActions1\",\"overrides\":[],\"properties\":[{\"default\":0,\"kind\":null,\"name\":\"open_modal\"},{\"default\":0,\"kind\":null,\"name\":\"close_modal\"}]}],\"roots\":{\"references\":[{\"attributes\":{\"children\":[{\"id\":\"27327\"},{\"id\":\"27325\"}]},\"id\":\"27328\",\"type\":\"Column\"},{\"attributes\":{\"tools\":[{\"id\":\"27163\"},{\"id\":\"27164\"},{\"id\":\"27165\"},{\"id\":\"27166\"},{\"id\":\"27167\"},{\"id\":\"27168\"}]},\"id\":\"27170\",\"type\":\"Toolbar\"},{\"attributes\":{},\"id\":\"27160\",\"type\":\"BasicTicker\"},{\"attributes\":{},\"id\":\"27088\",\"type\":\"WheelZoomTool\"},{\"attributes\":{},\"id\":\"27272\",\"type\":\"BasicTickFormatter\"},{\"attributes\":{},\"id\":\"27198\",\"type\":\"BasicTicker\"},{\"attributes\":{},\"id\":\"27046\",\"type\":\"BasicTicker\"},{\"attributes\":{},\"id\":\"27283\",\"type\":\"BasicTickFormatter\"},{\"attributes\":{\"line_color\":\"#1f77b4\",\"x\":{\"field\":\"x\"},\"y\":{\"field\":\"y\"}},\"id\":\"27254\",\"type\":\"Line\"},{\"attributes\":{\"coordinates\":null,\"data_source\":{\"id\":\"27101\"},\"glyph\":{\"id\":\"27102\"},\"group\":null,\"hover_glyph\":null,\"muted_glyph\":{\"id\":\"27104\"},\"nonselection_glyph\":{\"id\":\"27103\"},\"view\":{\"id\":\"27106\"}},\"id\":\"27105\",\"type\":\"GlyphRenderer\"},{\"attributes\":{},\"id\":\"27239\",\"type\":\"PanTool\"},{\"attributes\":{\"overlay\":{\"id\":\"27093\"}},\"id\":\"27089\",\"type\":\"BoxZoomTool\"},{\"attributes\":{\"line_color\":\"#1f77b4\",\"x\":{\"field\":\"x\"},\"y\":{\"field\":\"y\"}},\"id\":\"27216\",\"type\":\"Line\"},{\"attributes\":{\"line_alpha\":0.1,\"line_color\":\"#1f77b4\",\"x\":{\"field\":\"x\"},\"y\":{\"field\":\"y\"}},\"id\":\"27255\",\"type\":\"Line\"},{\"attributes\":{\"axis\":{\"id\":\"27159\"},\"coordinates\":null,\"dimension\":1,\"group\":null,\"ticker\":null},\"id\":\"27162\",\"type\":\"Grid\"},{\"attributes\":{\"axis\":{\"id\":\"27197\"},\"coordinates\":null,\"dimension\":1,\"group\":null,\"ticker\":null},\"id\":\"27200\",\"type\":\"Grid\"},{\"attributes\":{},\"id\":\"27294\",\"type\":\"BasicTickFormatter\"},{\"attributes\":{\"axis_label\":\"x\",\"coordinates\":null,\"formatter\":{\"id\":\"27264\"},\"group\":null,\"major_label_policy\":{\"id\":\"27265\"},\"ticker\":{\"id\":\"27043\"}},\"id\":\"27042\",\"type\":\"CategoricalAxis\"},{\"attributes\":{\"line_alpha\":0.1,\"line_color\":\"#1f77b4\",\"x\":{\"field\":\"x\"},\"y\":{\"field\":\"y\"}},\"id\":\"27217\",\"type\":\"Line\"},{\"attributes\":{\"children\":[[{\"id\":\"27031\"},0,0],[{\"id\":\"27069\"},0,1],[{\"id\":\"27107\"},1,0],[{\"id\":\"27145\"},1,1],[{\"id\":\"27183\"},2,0],[{\"id\":\"27221\"},2,1]]},\"id\":\"27325\",\"type\":\"GridBox\"},{\"attributes\":{\"coordinates\":null,\"data_source\":{\"id\":\"27139\"},\"glyph\":{\"id\":\"27140\"},\"group\":null,\"hover_glyph\":null,\"muted_glyph\":{\"id\":\"27142\"},\"nonselection_glyph\":{\"id\":\"27141\"},\"view\":{\"id\":\"27144\"}},\"id\":\"27143\",\"type\":\"GlyphRenderer\"},{\"attributes\":{\"below\":[{\"id\":\"27118\"}],\"center\":[{\"id\":\"27120\"},{\"id\":\"27124\"}],\"height\":250,\"left\":[{\"id\":\"27121\"}],\"renderers\":[{\"id\":\"27143\"}],\"title\":{\"id\":\"27108\"},\"toolbar\":{\"id\":\"27132\"},\"toolbar_location\":null,\"width\":500,\"x_range\":{\"id\":\"27110\"},\"x_scale\":{\"id\":\"27114\"},\"y_range\":{\"id\":\"27112\"},\"y_scale\":{\"id\":\"27116\"}},\"id\":\"27107\",\"subtype\":\"Figure\",\"type\":\"Plot\"},{\"attributes\":{\"line_color\":\"#1f77b4\",\"x\":{\"field\":\"x\"},\"y\":{\"field\":\"y\"}},\"id\":\"27140\",\"type\":\"Line\"},{\"attributes\":{},\"id\":\"27050\",\"type\":\"WheelZoomTool\"},{\"attributes\":{\"overlay\":{\"id\":\"27131\"}},\"id\":\"27127\",\"type\":\"BoxZoomTool\"},{\"attributes\":{},\"id\":\"27240\",\"type\":\"WheelZoomTool\"},{\"attributes\":{\"factors\":[\"AT\",\"BE\",\"BG\",\"CY\",\"CZ\",\"DE\",\"DK\",\"EE\",\"EL\",\"ES\",\"FI\",\"FR\",\"HR\",\"HU\",\"IE\",\"IS\",\"IT\",\"LT\",\"LU\",\"LV\",\"MT\",\"NO\",\"PL\",\"PT\",\"RO\",\"RS\",\"SE\",\"SI\",\"SK\",\"TR\"]},\"id\":\"27110\",\"type\":\"FactorRange\"},{\"attributes\":{\"coordinates\":null,\"group\":null,\"text\":\"line plot\"},\"id\":\"27108\",\"type\":\"Title\"},{\"attributes\":{},\"id\":\"27305\",\"type\":\"BasicTickFormatter\"},{\"attributes\":{\"line_alpha\":0.2,\"line_color\":\"#1f77b4\",\"x\":{\"field\":\"x\"},\"y\":{\"field\":\"y\"}},\"id\":\"27256\",\"type\":\"Line\"},{\"attributes\":{},\"id\":\"27090\",\"type\":\"SaveTool\"},{\"attributes\":{\"coordinates\":null,\"data_source\":{\"id\":\"27063\"},\"glyph\":{\"id\":\"27064\"},\"group\":null,\"hover_glyph\":null,\"muted_glyph\":{\"id\":\"27066\"},\"nonselection_glyph\":{\"id\":\"27065\"},\"view\":{\"id\":\"27068\"}},\"id\":\"27067\",\"type\":\"GlyphRenderer\"},{\"attributes\":{\"line_alpha\":0.2,\"line_color\":\"#1f77b4\",\"x\":{\"field\":\"x\"},\"y\":{\"field\":\"y\"}},\"id\":\"27142\",\"type\":\"Line\"},{\"attributes\":{},\"id\":\"27130\",\"type\":\"HelpTool\"},{\"attributes\":{},\"id\":\"27087\",\"type\":\"PanTool\"},{\"attributes\":{\"line_alpha\":0.2,\"line_color\":\"#1f77b4\",\"x\":{\"field\":\"x\"},\"y\":{\"field\":\"y\"}},\"id\":\"27218\",\"type\":\"Line\"},{\"attributes\":{},\"id\":\"27163\",\"type\":\"PanTool\"},{\"attributes\":{},\"id\":\"27201\",\"type\":\"PanTool\"},{\"attributes\":{\"overlay\":{\"id\":\"27245\"}},\"id\":\"27241\",\"type\":\"BoxZoomTool\"},{\"attributes\":{\"toolbar\":{\"id\":\"27326\"},\"toolbar_location\":\"above\"},\"id\":\"27327\",\"type\":\"ToolbarBox\"},{\"attributes\":{\"coordinates\":null,\"data_source\":{\"id\":\"27253\"},\"glyph\":{\"id\":\"27254\"},\"group\":null,\"hover_glyph\":null,\"muted_glyph\":{\"id\":\"27256\"},\"nonselection_glyph\":{\"id\":\"27255\"},\"view\":{\"id\":\"27258\"}},\"id\":\"27257\",\"type\":\"GlyphRenderer\"},{\"attributes\":{\"data\":{\"x\":[\"AT\",\"BE\",\"BG\",\"CY\",\"CZ\",\"DE\",\"DK\",\"EE\",\"EL\",\"ES\",\"FI\",\"FR\",\"HR\",\"HU\",\"IE\",\"IS\",\"IT\",\"LT\",\"LU\",\"LV\",\"MT\",\"NO\",\"PL\",\"PT\",\"RO\",\"RS\",\"SE\",\"SI\",\"SK\",\"TR\"],\"y\":{\"__ndarray__\":\"ZmZmZmbmO0CamZmZmZk5QM3MzMzMzD5AZmZmZmZmO0AzMzMzMzM8QDMzMzMzMz9AzczMzMyMQEBmZmZmZmY8QAAAAAAAQEBAmpmZmZnZQEAzMzMzMzNBQDMzMzMzMzxAmpmZmZkZPECamZmZmZk9QGZmZmZmZjtAzczMzMzMOkAzMzMzM7M8QAAAAAAAwEJAZmZmZmbmOkAAAAAAAEBBQM3MzMzMzDFAZmZmZmZmPUBmZmZmZiZAQGZmZmZmZjlAzczMzMyMQUAzMzMzM7M7QDMzMzMzc0RAZmZmZmZmOECamZmZmRk5QJqZmZmZGT1A\",\"dtype\":\"float64\",\"order\":\"little\",\"shape\":[30]}},\"selected\":{\"id\":\"27267\"},\"selection_policy\":{\"id\":\"27266\"}},\"id\":\"27063\",\"type\":\"ColumnDataSource\"},{\"attributes\":{},\"id\":\"27316\",\"type\":\"BasicTickFormatter\"},{\"attributes\":{},\"id\":\"27126\",\"type\":\"WheelZoomTool\"},{\"attributes\":{\"factors\":[\"AT\",\"BE\",\"BG\",\"CY\",\"CZ\",\"DE\",\"DK\",\"EE\",\"EL\",\"ES\",\"FI\",\"FR\",\"HR\",\"HU\",\"IE\",\"IS\",\"IT\",\"LT\",\"LU\",\"LV\",\"MT\",\"NO\",\"PL\",\"PT\",\"RO\",\"RS\",\"SE\",\"SI\",\"SK\",\"TR\"]},\"id\":\"27034\",\"type\":\"FactorRange\"},{\"attributes\":{\"data\":{\"x\":[\"AT\",\"BE\",\"BG\",\"CY\",\"CZ\",\"DE\",\"DK\",\"EE\",\"EL\",\"ES\",\"FI\",\"FR\",\"HR\",\"HU\",\"IE\",\"IS\",\"IT\",\"LT\",\"LU\",\"LV\",\"MT\",\"NO\",\"PL\",\"PT\",\"RO\",\"RS\",\"SE\",\"SI\",\"SK\",\"TR\"],\"y\":{\"__ndarray__\":\"zczMzMzMK0DNzMzMzMwsQAAAAAAAAD5AzczMzMzMOUCamZmZmRkwQM3MzMzMzDRAAAAAAACAOEAzMzMzMzMqQAAAAAAAgDhAZmZmZmbmM0CamZmZmZkoQAAAAAAAAC5AmpmZmZkZNEAAAAAAAAAzQGZmZmZmZiZAAAAAAACANEAzMzMzMzMvQM3MzMzMzCtAZmZmZmZmLkCamZmZmZkwQM3MzMzMzCJAZmZmZmZmKkAAAAAAAIA2QDMzMzMzMyhAMzMzMzMzO0AAAAAAAIA8QJqZmZmZGThAzczMzMzMKEAzMzMzMzMpQJqZmZmZmTNA\",\"dtype\":\"float64\",\"order\":\"little\",\"shape\":[30]}},\"selected\":{\"id\":\"27300\"},\"selection_policy\":{\"id\":\"27299\"}},\"id\":\"27177\",\"type\":\"ColumnDataSource\"},{\"attributes\":{\"below\":[{\"id\":\"27232\"}],\"center\":[{\"id\":\"27234\"},{\"id\":\"27238\"}],\"height\":250,\"left\":[{\"id\":\"27235\"}],\"renderers\":[{\"id\":\"27257\"}],\"title\":{\"id\":\"27222\"},\"toolbar\":{\"id\":\"27246\"},\"toolbar_location\":null,\"width\":500,\"x_range\":{\"id\":\"27224\"},\"x_scale\":{\"id\":\"27228\"},\"y_range\":{\"id\":\"27226\"},\"y_scale\":{\"id\":\"27230\"}},\"id\":\"27221\",\"subtype\":\"Figure\",\"type\":\"Plot\"},{\"attributes\":{},\"id\":\"27128\",\"type\":\"SaveTool\"},{\"attributes\":{\"below\":[{\"id\":\"27156\"}],\"center\":[{\"id\":\"27158\"},{\"id\":\"27162\"}],\"height\":250,\"left\":[{\"id\":\"27159\"}],\"renderers\":[{\"id\":\"27181\"}],\"title\":{\"id\":\"27146\"},\"toolbar\":{\"id\":\"27170\"},\"toolbar_location\":null,\"width\":500,\"x_range\":{\"id\":\"27148\"},\"x_scale\":{\"id\":\"27152\"},\"y_range\":{\"id\":\"27150\"},\"y_scale\":{\"id\":\"27154\"}},\"id\":\"27145\",\"subtype\":\"Figure\",\"type\":\"Plot\"},{\"attributes\":{\"coordinates\":null,\"data_source\":{\"id\":\"27215\"},\"glyph\":{\"id\":\"27216\"},\"group\":null,\"hover_glyph\":null,\"muted_glyph\":{\"id\":\"27218\"},\"nonselection_glyph\":{\"id\":\"27217\"},\"view\":{\"id\":\"27220\"}},\"id\":\"27219\",\"type\":\"GlyphRenderer\"},{\"attributes\":{},\"id\":\"27273\",\"type\":\"AllLabels\"},{\"attributes\":{},\"id\":\"27092\",\"type\":\"HelpTool\"},{\"attributes\":{},\"id\":\"27091\",\"type\":\"ResetTool\"},{\"attributes\":{\"source\":{\"id\":\"27253\"}},\"id\":\"27258\",\"type\":\"CDSView\"},{\"attributes\":{},\"id\":\"27242\",\"type\":\"SaveTool\"},{\"attributes\":{},\"id\":\"27202\",\"type\":\"WheelZoomTool\"},{\"attributes\":{},\"id\":\"27074\",\"type\":\"DataRange1d\"},{\"attributes\":{},\"id\":\"27284\",\"type\":\"AllLabels\"},{\"attributes\":{\"line_color\":\"#1f77b4\",\"x\":{\"field\":\"x\"},\"y\":{\"field\":\"y\"}},\"id\":\"27178\",\"type\":\"Line\"},{\"attributes\":{},\"id\":\"27164\",\"type\":\"WheelZoomTool\"},{\"attributes\":{\"source\":{\"id\":\"27215\"}},\"id\":\"27220\",\"type\":\"CDSView\"},{\"attributes\":{\"overlay\":{\"id\":\"27169\"}},\"id\":\"27165\",\"type\":\"BoxZoomTool\"},{\"attributes\":{\"bottom_units\":\"screen\",\"coordinates\":null,\"fill_alpha\":0.5,\"fill_color\":\"lightgrey\",\"group\":null,\"left_units\":\"screen\",\"level\":\"overlay\",\"line_alpha\":1.0,\"line_color\":\"black\",\"line_dash\":[4,4],\"line_width\":2,\"right_units\":\"screen\",\"syncable\":false,\"top_units\":\"screen\"},\"id\":\"27131\",\"type\":\"BoxAnnotation\"},{\"attributes\":{},\"id\":\"27275\",\"type\":\"CategoricalTickFormatter\"},{\"attributes\":{\"line_alpha\":0.1,\"line_color\":\"#1f77b4\",\"x\":{\"field\":\"x\"},\"y\":{\"field\":\"y\"}},\"id\":\"27141\",\"type\":\"Line\"},{\"attributes\":{\"overlay\":{\"id\":\"27207\"}},\"id\":\"27203\",\"type\":\"BoxZoomTool\"},{\"attributes\":{\"line_alpha\":0.1,\"line_color\":\"#1f77b4\",\"x\":{\"field\":\"x\"},\"y\":{\"field\":\"y\"}},\"id\":\"27065\",\"type\":\"Line\"},{\"attributes\":{},\"id\":\"27244\",\"type\":\"HelpTool\"},{\"attributes\":{},\"id\":\"27295\",\"type\":\"AllLabels\"},{\"attributes\":{},\"id\":\"27129\",\"type\":\"ResetTool\"},{\"attributes\":{},\"id\":\"27243\",\"type\":\"ResetTool\"},{\"attributes\":{\"data\":{\"x\":[\"AT\",\"BE\",\"BG\",\"CY\",\"CZ\",\"DE\",\"DK\",\"EE\",\"EL\",\"ES\",\"FI\",\"FR\",\"HR\",\"HU\",\"IE\",\"IS\",\"IT\",\"LT\",\"LU\",\"LV\",\"MT\",\"NO\",\"PL\",\"PT\",\"RO\",\"RS\",\"SE\",\"SI\",\"SK\",\"TR\"],\"y\":{\"__ndarray__\":\"MzMzMzMzM0DNzMzMzMw0QDMzMzMzMz5AMzMzMzOzO0BmZmZmZmYyQJqZmZmZGTpAMzMzMzOzNkDNzMzMzMwxQGZmZmZm5j1AzczMzMxMOUAzMzMzM7MwQAAAAAAAADNAAAAAAAAANUAAAAAAAIA0QM3MzMzMzDBAmpmZmZmZOUDNzMzMzEwzQJqZmZmZGTVAmpmZmZmZMEBmZmZmZuYzQDMzMzMzMy5AMzMzMzMzLECamZmZmRk2QJqZmZmZmTFAAAAAAAAAPkBmZmZmZmY8QGZmZmZm5jlAzczMzMxMMUAzMzMzMzMwQM3MzMzMzDVA\",\"dtype\":\"float64\",\"order\":\"little\",\"shape\":[30]}},\"selected\":{\"id\":\"27289\"},\"selection_policy\":{\"id\":\"27288\"}},\"id\":\"27139\",\"type\":\"ColumnDataSource\"},{\"attributes\":{},\"id\":\"27286\",\"type\":\"CategoricalTickFormatter\"},{\"attributes\":{\"below\":[{\"id\":\"27042\"}],\"center\":[{\"id\":\"27044\"},{\"id\":\"27048\"}],\"height\":250,\"left\":[{\"id\":\"27045\"}],\"renderers\":[{\"id\":\"27067\"}],\"title\":{\"id\":\"27032\"},\"toolbar\":{\"id\":\"27056\"},\"toolbar_location\":null,\"width\":500,\"x_range\":{\"id\":\"27034\"},\"x_scale\":{\"id\":\"27038\"},\"y_range\":{\"id\":\"27036\"},\"y_scale\":{\"id\":\"27040\"}},\"id\":\"27031\",\"subtype\":\"Figure\",\"type\":\"Plot\"},{\"attributes\":{},\"id\":\"27204\",\"type\":\"SaveTool\"},{\"attributes\":{},\"id\":\"27306\",\"type\":\"AllLabels\"},{\"attributes\":{\"data\":{\"x\":[\"AT\",\"BE\",\"BG\",\"CY\",\"CZ\",\"DE\",\"DK\",\"EE\",\"EL\",\"ES\",\"FI\",\"FR\",\"HR\",\"HU\",\"IE\",\"IS\",\"IT\",\"LT\",\"LU\",\"LV\",\"MT\",\"NO\",\"PL\",\"PT\",\"RO\",\"RS\",\"SE\",\"SI\",\"SK\",\"TR\"],\"y\":{\"__ndarray__\":\"mpmZmZmZG0BmZmZmZmYhQGZmZmZmZjdAzczMzMzMOEAAAAAAAAAnQGZmZmZmZihAZmZmZmZmJ0DNzMzMzMwWQGZmZmZmZi1AmpmZmZmZH0AAAAAAAAAaQDMzMzMzMxlAzczMzMzMIkAAAAAAAAAeQM3MzMzMzBhAMzMzMzMzLUAzMzMzMzMdQJqZmZmZmRNAMzMzMzMzI0BmZmZmZmYWQDMzMzMzMxdAAAAAAAAAIEBmZmZmZmYqQM3MzMzMzBhAMzMzMzMzLUCamZmZmZkzQAAAAAAAAC1AMzMzMzMzGUBmZmZmZmYkQJqZmZmZmSZA\",\"dtype\":\"float64\",\"order\":\"little\",\"shape\":[30]}},\"selected\":{\"id\":\"27322\"},\"selection_policy\":{\"id\":\"27321\"}},\"id\":\"27253\",\"type\":\"ColumnDataSource\"},{\"attributes\":{\"line_alpha\":0.2,\"line_color\":\"#1f77b4\",\"x\":{\"field\":\"x\"},\"y\":{\"field\":\"y\"}},\"id\":\"27180\",\"type\":\"Line\"},{\"attributes\":{},\"id\":\"27297\",\"type\":\"CategoricalTickFormatter\"},{\"attributes\":{},\"id\":\"27206\",\"type\":\"HelpTool\"},{\"attributes\":{},\"id\":\"27205\",\"type\":\"ResetTool\"},{\"attributes\":{},\"id\":\"27276\",\"type\":\"AllLabels\"},{\"attributes\":{\"source\":{\"id\":\"27139\"}},\"id\":\"27144\",\"type\":\"CDSView\"},{\"attributes\":{\"bottom_units\":\"screen\",\"coordinates\":null,\"fill_alpha\":0.5,\"fill_color\":\"lightgrey\",\"group\":null,\"left_units\":\"screen\",\"level\":\"overlay\",\"line_alpha\":1.0,\"line_color\":\"black\",\"line_dash\":[4,4],\"line_width\":2,\"right_units\":\"screen\",\"syncable\":false,\"top_units\":\"screen\"},\"id\":\"27245\",\"type\":\"BoxAnnotation\"},{\"attributes\":{\"overlay\":{\"id\":\"27055\"}},\"id\":\"27051\",\"type\":\"BoxZoomTool\"},{\"attributes\":{\"coordinates\":null,\"data_source\":{\"id\":\"27177\"},\"glyph\":{\"id\":\"27178\"},\"group\":null,\"hover_glyph\":null,\"muted_glyph\":{\"id\":\"27180\"},\"nonselection_glyph\":{\"id\":\"27179\"},\"view\":{\"id\":\"27182\"}},\"id\":\"27181\",\"type\":\"GlyphRenderer\"},{\"attributes\":{},\"id\":\"27308\",\"type\":\"CategoricalTickFormatter\"},{\"attributes\":{},\"id\":\"27317\",\"type\":\"AllLabels\"},{\"attributes\":{},\"id\":\"27054\",\"type\":\"HelpTool\"},{\"attributes\":{},\"id\":\"27287\",\"type\":\"AllLabels\"},{\"attributes\":{},\"id\":\"27125\",\"type\":\"PanTool\"},{\"attributes\":{},\"id\":\"27040\",\"type\":\"LinearScale\"},{\"attributes\":{\"axis_label\":\"y\",\"coordinates\":null,\"formatter\":{\"id\":\"27294\"},\"group\":null,\"major_label_policy\":{\"id\":\"27295\"},\"ticker\":{\"id\":\"27160\"}},\"id\":\"27159\",\"type\":\"LinearAxis\"},{\"attributes\":{\"factors\":[\"AT\",\"BE\",\"BG\",\"CY\",\"CZ\",\"DE\",\"DK\",\"EE\",\"EL\",\"ES\",\"FI\",\"FR\",\"HR\",\"HU\",\"IE\",\"IS\",\"IT\",\"LT\",\"LU\",\"LV\",\"MT\",\"NO\",\"PL\",\"PT\",\"RO\",\"RS\",\"SE\",\"SI\",\"SK\",\"TR\"]},\"id\":\"27224\",\"type\":\"FactorRange\"},{\"attributes\":{\"below\":[{\"id\":\"27080\"}],\"center\":[{\"id\":\"27082\"},{\"id\":\"27086\"}],\"height\":250,\"left\":[{\"id\":\"27083\"}],\"renderers\":[{\"id\":\"27105\"}],\"title\":{\"id\":\"27070\"},\"toolbar\":{\"id\":\"27094\"},\"toolbar_location\":null,\"width\":500,\"x_range\":{\"id\":\"27072\"},\"x_scale\":{\"id\":\"27076\"},\"y_range\":{\"id\":\"27074\"},\"y_scale\":{\"id\":\"27078\"}},\"id\":\"27069\",\"subtype\":\"Figure\",\"type\":\"Plot\"},{\"attributes\":{\"coordinates\":null,\"group\":null,\"text\":\"line plot\"},\"id\":\"27146\",\"type\":\"Title\"},{\"attributes\":{\"coordinates\":null,\"group\":null,\"text\":\"line plot\"},\"id\":\"27222\",\"type\":\"Title\"},{\"attributes\":{\"source\":{\"id\":\"27177\"}},\"id\":\"27182\",\"type\":\"CDSView\"},{\"attributes\":{},\"id\":\"27298\",\"type\":\"AllLabels\"},{\"attributes\":{},\"id\":\"27319\",\"type\":\"CategoricalTickFormatter\"},{\"attributes\":{\"below\":[{\"id\":\"27194\"}],\"center\":[{\"id\":\"27196\"},{\"id\":\"27200\"}],\"height\":250,\"left\":[{\"id\":\"27197\"}],\"renderers\":[{\"id\":\"27219\"}],\"title\":{\"id\":\"27184\"},\"toolbar\":{\"id\":\"27208\"},\"toolbar_location\":null,\"width\":500,\"x_range\":{\"id\":\"27186\"},\"x_scale\":{\"id\":\"27190\"},\"y_range\":{\"id\":\"27188\"},\"y_scale\":{\"id\":\"27192\"}},\"id\":\"27183\",\"subtype\":\"Figure\",\"type\":\"Plot\"},{\"attributes\":{},\"id\":\"27049\",\"type\":\"PanTool\"},{\"attributes\":{\"axis_label\":\"x\",\"coordinates\":null,\"formatter\":{\"id\":\"27275\"},\"group\":null,\"major_label_policy\":{\"id\":\"27276\"},\"ticker\":{\"id\":\"27081\"}},\"id\":\"27080\",\"type\":\"CategoricalAxis\"},{\"attributes\":{},\"id\":\"27166\",\"type\":\"SaveTool\"},{\"attributes\":{},\"id\":\"27114\",\"type\":\"CategoricalScale\"},{\"attributes\":{\"data\":{\"x\":[\"AT\",\"BE\",\"BG\",\"CY\",\"CZ\",\"DE\",\"DK\",\"EE\",\"EL\",\"ES\",\"FI\",\"FR\",\"HR\",\"HU\",\"IE\",\"IS\",\"IT\",\"LT\",\"LU\",\"LV\",\"MT\",\"NO\",\"PL\",\"PT\",\"RO\",\"RS\",\"SE\",\"SI\",\"SK\",\"TR\"],\"y\":{\"__ndarray__\":\"ZmZmZmZmJEAAAAAAAAAtQGZmZmZmZjpAzczMzMzMOkAAAAAAAAAtQGZmZmZmZixAzczMzMzMMEBmZmZmZmYeQAAAAAAAADRAmpmZmZmZKkAzMzMzMzMjQM3MzMzMzCFAZmZmZmZmLkAAAAAAAAAnQJqZmZmZmSNAzczMzMzMNUCamZmZmZkkQJqZmZmZmSNAzczMzMzMJECamZmZmZknQJqZmZmZmSBAzczMzMzMIkAzMzMzMzMwQJqZmZmZmSNAZmZmZmZmNEAzMzMzM7M4QAAAAAAAgDBAZmZmZmZmI0CamZmZmZkpQAAAAAAAAC1A\",\"dtype\":\"float64\",\"order\":\"little\",\"shape\":[30]}},\"selected\":{\"id\":\"27311\"},\"selection_policy\":{\"id\":\"27310\"}},\"id\":\"27215\",\"type\":\"ColumnDataSource\"},{\"attributes\":{},\"id\":\"27168\",\"type\":\"HelpTool\"},{\"attributes\":{},\"id\":\"27112\",\"type\":\"DataRange1d\"},{\"attributes\":{},\"id\":\"27309\",\"type\":\"AllLabels\"},{\"attributes\":{},\"id\":\"27081\",\"type\":\"CategoricalTicker\"},{\"attributes\":{\"axis\":{\"id\":\"27235\"},\"coordinates\":null,\"dimension\":1,\"group\":null,\"ticker\":null},\"id\":\"27238\",\"type\":\"Grid\"},{\"attributes\":{},\"id\":\"27266\",\"type\":\"UnionRenderers\"},{\"attributes\":{},\"id\":\"27277\",\"type\":\"UnionRenderers\"},{\"attributes\":{},\"id\":\"27052\",\"type\":\"SaveTool\"},{\"attributes\":{},\"id\":\"27261\",\"type\":\"BasicTickFormatter\"},{\"attributes\":{\"source\":{\"id\":\"27063\"}},\"id\":\"27068\",\"type\":\"CDSView\"},{\"attributes\":{\"bottom_units\":\"screen\",\"coordinates\":null,\"fill_alpha\":0.5,\"fill_color\":\"lightgrey\",\"group\":null,\"left_units\":\"screen\",\"level\":\"overlay\",\"line_alpha\":1.0,\"line_color\":\"black\",\"line_dash\":[4,4],\"line_width\":2,\"right_units\":\"screen\",\"syncable\":false,\"top_units\":\"screen\"},\"id\":\"27207\",\"type\":\"BoxAnnotation\"},{\"attributes\":{},\"id\":\"27278\",\"type\":\"Selection\"},{\"attributes\":{\"axis_label\":\"y\",\"coordinates\":null,\"formatter\":{\"id\":\"27272\"},\"group\":null,\"major_label_policy\":{\"id\":\"27273\"},\"ticker\":{\"id\":\"27084\"}},\"id\":\"27083\",\"type\":\"LinearAxis\"},{\"attributes\":{},\"id\":\"27288\",\"type\":\"UnionRenderers\"},{\"attributes\":{\"tools\":[{\"id\":\"27087\"},{\"id\":\"27088\"},{\"id\":\"27089\"},{\"id\":\"27090\"},{\"id\":\"27091\"},{\"id\":\"27092\"}]},\"id\":\"27094\",\"type\":\"Toolbar\"},{\"attributes\":{},\"id\":\"27320\",\"type\":\"AllLabels\"},{\"attributes\":{},\"id\":\"27053\",\"type\":\"ResetTool\"},{\"attributes\":{},\"id\":\"27167\",\"type\":\"ResetTool\"},{\"attributes\":{},\"id\":\"27289\",\"type\":\"Selection\"},{\"attributes\":{\"bottom_units\":\"screen\",\"coordinates\":null,\"fill_alpha\":0.5,\"fill_color\":\"lightgrey\",\"group\":null,\"left_units\":\"screen\",\"level\":\"overlay\",\"line_alpha\":1.0,\"line_color\":\"black\",\"line_dash\":[4,4],\"line_width\":2,\"right_units\":\"screen\",\"syncable\":false,\"top_units\":\"screen\"},\"id\":\"27169\",\"type\":\"BoxAnnotation\"},{\"attributes\":{\"factors\":[\"AT\",\"BE\",\"BG\",\"CY\",\"CZ\",\"DE\",\"DK\",\"EE\",\"EL\",\"ES\",\"FI\",\"FR\",\"HR\",\"HU\",\"IE\",\"IS\",\"IT\",\"LT\",\"LU\",\"LV\",\"MT\",\"NO\",\"PL\",\"PT\",\"RO\",\"RS\",\"SE\",\"SI\",\"SK\",\"TR\"]},\"id\":\"27186\",\"type\":\"FactorRange\"},{\"attributes\":{},\"id\":\"27299\",\"type\":\"UnionRenderers\"},{\"attributes\":{\"coordinates\":null,\"group\":null,\"text\":\"line plot\"},\"id\":\"27184\",\"type\":\"Title\"},{\"attributes\":{},\"id\":\"27226\",\"type\":\"DataRange1d\"},{\"attributes\":{\"factors\":[\"AT\",\"BE\",\"BG\",\"CY\",\"CZ\",\"DE\",\"DK\",\"EE\",\"EL\",\"ES\",\"FI\",\"FR\",\"HR\",\"HU\",\"IE\",\"IS\",\"IT\",\"LT\",\"LU\",\"LV\",\"MT\",\"NO\",\"PL\",\"PT\",\"RO\",\"RS\",\"SE\",\"SI\",\"SK\",\"TR\"]},\"id\":\"27148\",\"type\":\"FactorRange\"},{\"attributes\":{},\"id\":\"27300\",\"type\":\"Selection\"},{\"attributes\":{},\"id\":\"27310\",\"type\":\"UnionRenderers\"},{\"attributes\":{},\"id\":\"27078\",\"type\":\"LinearScale\"},{\"attributes\":{\"coordinates\":null,\"group\":null,\"text\":\"line plot\"},\"id\":\"27032\",\"type\":\"Title\"},{\"attributes\":{},\"id\":\"27311\",\"type\":\"Selection\"},{\"attributes\":{\"axis_label\":\"x\",\"coordinates\":null,\"formatter\":{\"id\":\"27286\"},\"group\":null,\"major_label_policy\":{\"id\":\"27287\"},\"ticker\":{\"id\":\"27119\"}},\"id\":\"27118\",\"type\":\"CategoricalAxis\"},{\"attributes\":{\"source\":{\"id\":\"27101\"}},\"id\":\"27106\",\"type\":\"CDSView\"},{\"attributes\":{},\"id\":\"27188\",\"type\":\"DataRange1d\"},{\"attributes\":{},\"id\":\"27321\",\"type\":\"UnionRenderers\"},{\"attributes\":{},\"id\":\"27228\",\"type\":\"CategoricalScale\"},{\"attributes\":{\"toolbars\":[{\"id\":\"27056\"},{\"id\":\"27094\"},{\"id\":\"27132\"},{\"id\":\"27170\"},{\"id\":\"27208\"},{\"id\":\"27246\"}],\"tools\":[{\"id\":\"27049\"},{\"id\":\"27050\"},{\"id\":\"27051\"},{\"id\":\"27052\"},{\"id\":\"27053\"},{\"id\":\"27054\"},{\"id\":\"27087\"},{\"id\":\"27088\"},{\"id\":\"27089\"},{\"id\":\"27090\"},{\"id\":\"27091\"},{\"id\":\"27092\"},{\"id\":\"27125\"},{\"id\":\"27126\"},{\"id\":\"27127\"},{\"id\":\"27128\"},{\"id\":\"27129\"},{\"id\":\"27130\"},{\"id\":\"27163\"},{\"id\":\"27164\"},{\"id\":\"27165\"},{\"id\":\"27166\"},{\"id\":\"27167\"},{\"id\":\"27168\"},{\"id\":\"27201\"},{\"id\":\"27202\"},{\"id\":\"27203\"},{\"id\":\"27204\"},{\"id\":\"27205\"},{\"id\":\"27206\"},{\"id\":\"27239\"},{\"id\":\"27240\"},{\"id\":\"27241\"},{\"id\":\"27242\"},{\"id\":\"27243\"},{\"id\":\"27244\"}]},\"id\":\"27326\",\"type\":\"ProxyToolbar\"},{\"attributes\":{},\"id\":\"27322\",\"type\":\"Selection\"},{\"attributes\":{},\"id\":\"27116\",\"type\":\"LinearScale\"},{\"attributes\":{\"axis_label\":\"x\",\"coordinates\":null,\"formatter\":{\"id\":\"27319\"},\"group\":null,\"major_label_policy\":{\"id\":\"27320\"},\"ticker\":{\"id\":\"27233\"}},\"id\":\"27232\",\"type\":\"CategoricalAxis\"},{\"attributes\":{},\"id\":\"27157\",\"type\":\"CategoricalTicker\"},{\"attributes\":{},\"id\":\"27267\",\"type\":\"Selection\"},{\"attributes\":{\"axis\":{\"id\":\"27080\"},\"coordinates\":null,\"group\":null,\"ticker\":null},\"id\":\"27082\",\"type\":\"Grid\"},{\"attributes\":{\"line_alpha\":0.2,\"line_color\":\"#1f77b4\",\"x\":{\"field\":\"x\"},\"y\":{\"field\":\"y\"}},\"id\":\"27066\",\"type\":\"Line\"},{\"attributes\":{},\"id\":\"27265\",\"type\":\"AllLabels\"},{\"attributes\":{\"tools\":[{\"id\":\"27049\"},{\"id\":\"27050\"},{\"id\":\"27051\"},{\"id\":\"27052\"},{\"id\":\"27053\"},{\"id\":\"27054\"}]},\"id\":\"27056\",\"type\":\"Toolbar\"},{\"attributes\":{},\"id\":\"27230\",\"type\":\"LinearScale\"},{\"attributes\":{},\"id\":\"27150\",\"type\":\"DataRange1d\"},{\"attributes\":{\"line_color\":\"#1f77b4\",\"x\":{\"field\":\"x\"},\"y\":{\"field\":\"y\"}},\"id\":\"27064\",\"type\":\"Line\"},{\"attributes\":{\"bottom_units\":\"screen\",\"coordinates\":null,\"fill_alpha\":0.5,\"fill_color\":\"lightgrey\",\"group\":null,\"left_units\":\"screen\",\"level\":\"overlay\",\"line_alpha\":1.0,\"line_color\":\"black\",\"line_dash\":[4,4],\"line_width\":2,\"right_units\":\"screen\",\"syncable\":false,\"top_units\":\"screen\"},\"id\":\"27055\",\"type\":\"BoxAnnotation\"},{\"attributes\":{},\"id\":\"27154\",\"type\":\"LinearScale\"},{\"attributes\":{},\"id\":\"27084\",\"type\":\"BasicTicker\"},{\"attributes\":{\"tools\":[{\"id\":\"27125\"},{\"id\":\"27126\"},{\"id\":\"27127\"},{\"id\":\"27128\"},{\"id\":\"27129\"},{\"id\":\"27130\"}]},\"id\":\"27132\",\"type\":\"Toolbar\"},{\"attributes\":{},\"id\":\"27190\",\"type\":\"CategoricalScale\"},{\"attributes\":{\"tools\":[{\"id\":\"27239\"},{\"id\":\"27240\"},{\"id\":\"27241\"},{\"id\":\"27242\"},{\"id\":\"27243\"},{\"id\":\"27244\"}]},\"id\":\"27246\",\"type\":\"Toolbar\"},{\"attributes\":{},\"id\":\"27038\",\"type\":\"CategoricalScale\"},{\"attributes\":{},\"id\":\"27119\",\"type\":\"CategoricalTicker\"},{\"attributes\":{\"axis\":{\"id\":\"27045\"},\"coordinates\":null,\"dimension\":1,\"group\":null,\"ticker\":null},\"id\":\"27048\",\"type\":\"Grid\"},{\"attributes\":{\"axis_label\":\"x\",\"coordinates\":null,\"formatter\":{\"id\":\"27308\"},\"group\":null,\"major_label_policy\":{\"id\":\"27309\"},\"ticker\":{\"id\":\"27195\"}},\"id\":\"27194\",\"type\":\"CategoricalAxis\"},{\"attributes\":{\"tools\":[{\"id\":\"27201\"},{\"id\":\"27202\"},{\"id\":\"27203\"},{\"id\":\"27204\"},{\"id\":\"27205\"},{\"id\":\"27206\"}]},\"id\":\"27208\",\"type\":\"Toolbar\"},{\"attributes\":{\"axis\":{\"id\":\"27118\"},\"coordinates\":null,\"group\":null,\"ticker\":null},\"id\":\"27120\",\"type\":\"Grid\"},{\"attributes\":{},\"id\":\"27192\",\"type\":\"LinearScale\"},{\"attributes\":{},\"id\":\"27233\",\"type\":\"CategoricalTicker\"},{\"attributes\":{\"axis\":{\"id\":\"27156\"},\"coordinates\":null,\"group\":null,\"ticker\":null},\"id\":\"27158\",\"type\":\"Grid\"},{\"attributes\":{\"axis_label\":\"y\",\"coordinates\":null,\"formatter\":{\"id\":\"27283\"},\"group\":null,\"major_label_policy\":{\"id\":\"27284\"},\"ticker\":{\"id\":\"27122\"}},\"id\":\"27121\",\"type\":\"LinearAxis\"},{\"attributes\":{\"data\":{\"x\":[\"AT\",\"BE\",\"BG\",\"CY\",\"CZ\",\"DE\",\"DK\",\"EE\",\"EL\",\"ES\",\"FI\",\"FR\",\"HR\",\"HU\",\"IE\",\"IS\",\"IT\",\"LT\",\"LU\",\"LV\",\"MT\",\"NO\",\"PL\",\"PT\",\"RO\",\"RS\",\"SE\",\"SI\",\"SK\",\"TR\"],\"y\":{\"__ndarray__\":\"zczMzMxMOEAzMzMzMzM2QAAAAAAAAEBAAAAAAAAAPUCamZmZmZk3QAAAAAAAADtAZmZmZmbmO0CamZmZmZk6QJqZmZmZmUBAMzMzMzOzPkCamZmZmRkzQDMzMzMzMzlAMzMzMzOzO0AzMzMzMzM5QGZmZmZm5jNAmpmZmZmZNEBmZmZmZuY2QDMzMzMzszlAZmZmZmbmMkBmZmZmZmY6QDMzMzMzszBAmpmZmZkZMUBmZmZmZuY4QGZmZmZmZjlAMzMzMzMzP0DNzMzMzMw6QAAAAAAAADxAAAAAAACAM0AAAAAAAAA3QGZmZmZm5jpA\",\"dtype\":\"float64\",\"order\":\"little\",\"shape\":[30]}},\"selected\":{\"id\":\"27278\"},\"selection_policy\":{\"id\":\"27277\"}},\"id\":\"27101\",\"type\":\"ColumnDataSource\"},{\"attributes\":{\"coordinates\":null,\"group\":null,\"text\":\"line plot\"},\"id\":\"27070\",\"type\":\"Title\"},{\"attributes\":{},\"id\":\"27152\",\"type\":\"CategoricalScale\"},{\"attributes\":{\"axis\":{\"id\":\"27232\"},\"coordinates\":null,\"group\":null,\"ticker\":null},\"id\":\"27234\",\"type\":\"Grid\"},{\"attributes\":{\"line_alpha\":0.2,\"line_color\":\"#1f77b4\",\"x\":{\"field\":\"x\"},\"y\":{\"field\":\"y\"}},\"id\":\"27104\",\"type\":\"Line\"},{\"attributes\":{\"axis_label\":\"x\",\"coordinates\":null,\"formatter\":{\"id\":\"27297\"},\"group\":null,\"major_label_policy\":{\"id\":\"27298\"},\"ticker\":{\"id\":\"27157\"}},\"id\":\"27156\",\"type\":\"CategoricalAxis\"},{\"attributes\":{},\"id\":\"27122\",\"type\":\"BasicTicker\"},{\"attributes\":{\"axis_label\":\"y\",\"coordinates\":null,\"formatter\":{\"id\":\"27316\"},\"group\":null,\"major_label_policy\":{\"id\":\"27317\"},\"ticker\":{\"id\":\"27236\"}},\"id\":\"27235\",\"type\":\"LinearAxis\"},{\"attributes\":{\"bottom_units\":\"screen\",\"coordinates\":null,\"fill_alpha\":0.5,\"fill_color\":\"lightgrey\",\"group\":null,\"left_units\":\"screen\",\"level\":\"overlay\",\"line_alpha\":1.0,\"line_color\":\"black\",\"line_dash\":[4,4],\"line_width\":2,\"right_units\":\"screen\",\"syncable\":false,\"top_units\":\"screen\"},\"id\":\"27093\",\"type\":\"BoxAnnotation\"},{\"attributes\":{},\"id\":\"27262\",\"type\":\"AllLabels\"},{\"attributes\":{},\"id\":\"27036\",\"type\":\"DataRange1d\"},{\"attributes\":{\"factors\":[\"AT\",\"BE\",\"BG\",\"CY\",\"CZ\",\"DE\",\"DK\",\"EE\",\"EL\",\"ES\",\"FI\",\"FR\",\"HR\",\"HU\",\"IE\",\"IS\",\"IT\",\"LT\",\"LU\",\"LV\",\"MT\",\"NO\",\"PL\",\"PT\",\"RO\",\"RS\",\"SE\",\"SI\",\"SK\",\"TR\"]},\"id\":\"27072\",\"type\":\"FactorRange\"},{\"attributes\":{},\"id\":\"27264\",\"type\":\"CategoricalTickFormatter\"},{\"attributes\":{},\"id\":\"27195\",\"type\":\"CategoricalTicker\"},{\"attributes\":{\"axis\":{\"id\":\"27121\"},\"coordinates\":null,\"dimension\":1,\"group\":null,\"ticker\":null},\"id\":\"27124\",\"type\":\"Grid\"},{\"attributes\":{\"line_alpha\":0.1,\"line_color\":\"#1f77b4\",\"x\":{\"field\":\"x\"},\"y\":{\"field\":\"y\"}},\"id\":\"27179\",\"type\":\"Line\"},{\"attributes\":{},\"id\":\"27236\",\"type\":\"BasicTicker\"},{\"attributes\":{\"axis\":{\"id\":\"27194\"},\"coordinates\":null,\"group\":null,\"ticker\":null},\"id\":\"27196\",\"type\":\"Grid\"},{\"attributes\":{\"line_color\":\"#1f77b4\",\"x\":{\"field\":\"x\"},\"y\":{\"field\":\"y\"}},\"id\":\"27102\",\"type\":\"Line\"},{\"attributes\":{\"axis_label\":\"y\",\"coordinates\":null,\"formatter\":{\"id\":\"27261\"},\"group\":null,\"major_label_policy\":{\"id\":\"27262\"},\"ticker\":{\"id\":\"27046\"}},\"id\":\"27045\",\"type\":\"LinearAxis\"},{\"attributes\":{},\"id\":\"27076\",\"type\":\"CategoricalScale\"},{\"attributes\":{\"axis\":{\"id\":\"27083\"},\"coordinates\":null,\"dimension\":1,\"group\":null,\"ticker\":null},\"id\":\"27086\",\"type\":\"Grid\"},{\"attributes\":{\"axis_label\":\"y\",\"coordinates\":null,\"formatter\":{\"id\":\"27305\"},\"group\":null,\"major_label_policy\":{\"id\":\"27306\"},\"ticker\":{\"id\":\"27198\"}},\"id\":\"27197\",\"type\":\"LinearAxis\"},{\"attributes\":{},\"id\":\"27043\",\"type\":\"CategoricalTicker\"},{\"attributes\":{\"line_alpha\":0.1,\"line_color\":\"#1f77b4\",\"x\":{\"field\":\"x\"},\"y\":{\"field\":\"y\"}},\"id\":\"27103\",\"type\":\"Line\"},{\"attributes\":{\"axis\":{\"id\":\"27042\"},\"coordinates\":null,\"group\":null,\"ticker\":null},\"id\":\"27044\",\"type\":\"Grid\"}],\"root_ids\":[\"27328\"]},\"title\":\"Bokeh Application\",\"version\":\"2.4.3\"}};\n  const render_items = [{\"docid\":\"df8929c1-3361-4396-8b13-c44bc2f07c44\",\"root_ids\":[\"27328\"],\"roots\":{\"27328\":\"14863915-fcfd-49f6-be68-17d8f2e3e0e8\"}}];\n  root.Bokeh.embed.embed_items_notebook(docs_json, render_items);\n  }\n  if (root.Bokeh !== undefined) {\n    embed_document(root);\n  } else {\n    let attempts = 0;\n    const timer = setInterval(function(root) {\n      if (root.Bokeh !== undefined) {\n        clearInterval(timer);\n        embed_document(root);\n      } else {\n        attempts++;\n        if (attempts > 100) {\n          clearInterval(timer);\n          console.log(\"Bokeh: ERROR: Unable to run BokehJS code because BokehJS library is missing\");\n        }\n      }\n    }, 10, root)\n  }\n})(window);",
      "application/vnd.bokehjs_exec.v0+json": ""
     },
     "metadata": {
      "application/vnd.bokehjs_exec.v0+json": {
       "id": "27328"
      }
     },
     "output_type": "display_data"
    }
   ],
   "source": [
    "def make_line_plot(df) :\n",
    "    grid_plot_list = []\n",
    "    # n = A.sort_values(by=['Obs_Value'], ascending= False)\n",
    "    unique_age = df['Age_Range'].unique()\n",
    "    for age in unique_age :\n",
    "        filtered = df.loc[df['Age_Range'] == age]\n",
    "        l_fig = figure(x_range= filtered['Country'],title='line plot',\n",
    "                   plot_height=250,plot_width=500,x_axis_label='x',y_axis_label='y',)\n",
    "        l_fig.line(filtered['Country'],filtered['Obs_Value'])\n",
    "\n",
    "        grid_plot_list.append(l_fig) \n",
    "    \n",
    "    grid = gridplot(grid_plot_list,ncols= 2)\n",
    "\n",
    "    show(grid)\n",
    "\n",
    "make_line_plot(upto3w_tot)"
   ]
  },
  {
   "cell_type": "code",
   "execution_count": 475,
   "metadata": {},
   "outputs": [],
   "source": [
    "\n",
    "def make_plot(df_list,title,y,y_label) :\n",
    "\n",
    "    plot_list = []\n",
    "    \n",
    "    for i,df in enumerate(df_list) :\n",
    "\n",
    "        fig = figure(x_range= df.Country.unique(), title=title[i],\n",
    "                    plot_height = 300, plot_width = 600,\n",
    "                    x_axis_label='EU Countries', y_axis_label= y_label)\n",
    "        fig.y_range.start = 0\n",
    "        fig.xgrid.grid_line_color = None\n",
    "        fig.ygrid.grid_line_alpha = 1\n",
    "\n",
    "        fig.vbar(x=df['Country'], top=df[y] , width= 0.8)\n",
    "\n",
    "        plot_list.append(fig)\n",
    "                     \n",
    "    grid = gridplot(plot_list, ncols= 2)\n",
    "\n",
    "    output_file('myplot.html')\n",
    "\n",
    "    show(grid)\n",
    "\n"
   ]
  },
  {
   "cell_type": "code",
   "execution_count": 476,
   "metadata": {},
   "outputs": [],
   "source": [
    "# df_list = [A,B,C,D]\n",
    "\n",
    "title_list = ['1-3W  Drinking / Country Percentage',\n",
    "              '4-6W  Drinking / Country Percentage',\n",
    "              'GE1D  Drinking / Country Percentage',\n",
    "              'NVR_OCC  Drinking / Country Percentage']\n",
    "\n",
    "# make_plot(df_list,title_list,'Obs_Value_Dri','DRI Percentage')"
   ]
  },
  {
   "cell_type": "code",
   "execution_count": 477,
   "metadata": {},
   "outputs": [],
   "source": [
    "\n",
    "# df_list = [df1,df2,df3,df4]\n",
    "title_list1 = ['(DPR) Depressive symptoms / Country ratio in Percentage',\n",
    "               '(DPR_MJR) Major Depressive symptoms / Country ratio in Percentage',\n",
    "               '(DPR_OTH) Other Depressive symptoms / Country ratio in Percentage',\n",
    "               '1']\n",
    "\n",
    "# make_plot(df_list,title_list1,'Obs_Value_Dep','DEP percentage')\n"
   ]
  }
 ],
 "metadata": {
  "kernelspec": {
   "display_name": "Python 3",
   "language": "python",
   "name": "python3"
  },
  "language_info": {
   "codemirror_mode": {
    "name": "ipython",
    "version": 3
   },
   "file_extension": ".py",
   "mimetype": "text/x-python",
   "name": "python",
   "nbconvert_exporter": "python",
   "pygments_lexer": "ipython3",
   "version": "3.11.1 (tags/v3.11.1:a7a450f, Dec  6 2022, 19:58:39) [MSC v.1934 64 bit (AMD64)]"
  },
  "orig_nbformat": 4,
  "vscode": {
   "interpreter": {
    "hash": "214a5cb7e6ac63d6ccd6043a9b500c325cfe675ad88c8f33c0682631c9e40f57"
   }
  }
 },
 "nbformat": 4,
 "nbformat_minor": 2
}
