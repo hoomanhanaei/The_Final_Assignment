{
 "cells": [
  {
   "attachments": {},
   "cell_type": "markdown",
   "metadata": {},
   "source": [
    "----\n",
    "**Research Question**\n",
    "\n",
    "## Investigation of changes in **Depressive-Symptoms** influenced by drinking frequency of **Sugar-Sweetened** soft drinks.\n",
    "----"
   ]
  },
  {
   "cell_type": "code",
   "execution_count": 33,
   "metadata": {},
   "outputs": [
    {
     "data": {
      "text/html": [
       "<style>\n",
       "        .bk-notebook-logo {\n",
       "            display: block;\n",
       "            width: 20px;\n",
       "            height: 20px;\n",
       "            background-image: url(data:image/png;base64,iVBORw0KGgoAAAANSUhEUgAAABQAAAAUCAYAAACNiR0NAAAABHNCSVQICAgIfAhkiAAAAAlwSFlzAAALEgAACxIB0t1+/AAAABx0RVh0U29mdHdhcmUAQWRvYmUgRmlyZXdvcmtzIENTNui8sowAAAOkSURBVDiNjZRtaJVlGMd/1/08zzln5zjP1LWcU9N0NkN8m2CYjpgQYQXqSs0I84OLIC0hkEKoPtiH3gmKoiJDU7QpLgoLjLIQCpEsNJ1vqUOdO7ppbuec5+V+rj4ctwzd8IIbbi6u+8f1539dt3A78eXC7QizUF7gyV1fD1Yqg4JWz84yffhm0qkFqBogB9rM8tZdtwVsPUhWhGcFJngGeWrPzHm5oaMmkfEg1usvLFyc8jLRqDOMru7AyC8saQr7GG7f5fvDeH7Ej8CM66nIF+8yngt6HWaKh7k49Soy9nXurCi1o3qUbS3zWfrYeQDTB/Qj6kX6Ybhw4B+bOYoLKCC9H3Nu/leUTZ1JdRWkkn2ldcCamzrcf47KKXdAJllSlxAOkRgyHsGC/zRday5Qld9DyoM4/q/rUoy/CXh3jzOu3bHUVZeU+DEn8FInkPBFlu3+nW3Nw0mk6vCDiWg8CeJaxEwuHS3+z5RgY+YBR6V1Z1nxSOfoaPa4LASWxxdNp+VWTk7+4vzaou8v8PN+xo+KY2xsw6une2frhw05CTYOmQvsEhjhWjn0bmXPjpE1+kplmmkP3suftwTubK9Vq22qKmrBhpY4jvd5afdRA3wGjFAgcnTK2s4hY0/GPNIb0nErGMCRxWOOX64Z8RAC4oCXdklmEvcL8o0BfkNK4lUg9HTl+oPlQxdNo3Mg4Nv175e/1LDGzZen30MEjRUtmXSfiTVu1kK8W4txyV6BMKlbgk3lMwYCiusNy9fVfvvwMxv8Ynl6vxoByANLTWplvuj/nF9m2+PDtt1eiHPBr1oIfhCChQMBw6Aw0UulqTKZdfVvfG7VcfIqLG9bcldL/+pdWTLxLUy8Qq38heUIjh4XlzZxzQm19lLFlr8vdQ97rjZVOLf8nclzckbcD4wxXMidpX30sFd37Fv/GtwwhzhxGVAprjbg0gCAEeIgwCZyTV2Z1REEW8O4py0wsjeloKoMr6iCY6dP92H6Vw/oTyICIthibxjm/DfN9lVz8IqtqKYLUXfoKVMVQVVJOElGjrnnUt9T9wbgp8AyYKaGlqingHZU/uG2NTZSVqwHQTWkx9hxjkpWDaCg6Ckj5qebgBVbT3V3NNXMSiWSDdGV3hrtzla7J+duwPOToIg42ChPQOQjspnSlp1V+Gjdged7+8UN5CRAV7a5EdFNwCjEaBR27b3W890TE7g24NAP/mMDXRWrGoFPQI9ls/MWO2dWFAar/xcOIImbbpA3zgAAAABJRU5ErkJggg==);\n",
       "        }\n",
       "    </style>\n",
       "    <div>\n",
       "        <a href=\"https://bokeh.org\" target=\"_blank\" class=\"bk-notebook-logo\"></a>\n",
       "        <span id=\"p28658\">Loading BokehJS ...</span>\n",
       "    </div>\n"
      ]
     },
     "metadata": {},
     "output_type": "display_data"
    },
    {
     "data": {
      "application/javascript": "(function(root) {\n  function now() {\n    return new Date();\n  }\n\n  const force = true;\n\n  if (typeof root._bokeh_onload_callbacks === \"undefined\" || force === true) {\n    root._bokeh_onload_callbacks = [];\n    root._bokeh_is_loading = undefined;\n  }\n\nconst JS_MIME_TYPE = 'application/javascript';\n  const HTML_MIME_TYPE = 'text/html';\n  const EXEC_MIME_TYPE = 'application/vnd.bokehjs_exec.v0+json';\n  const CLASS_NAME = 'output_bokeh rendered_html';\n\n  /**\n   * Render data to the DOM node\n   */\n  function render(props, node) {\n    const script = document.createElement(\"script\");\n    node.appendChild(script);\n  }\n\n  /**\n   * Handle when an output is cleared or removed\n   */\n  function handleClearOutput(event, handle) {\n    const cell = handle.cell;\n\n    const id = cell.output_area._bokeh_element_id;\n    const server_id = cell.output_area._bokeh_server_id;\n    // Clean up Bokeh references\n    if (id != null && id in Bokeh.index) {\n      Bokeh.index[id].model.document.clear();\n      delete Bokeh.index[id];\n    }\n\n    if (server_id !== undefined) {\n      // Clean up Bokeh references\n      const cmd_clean = \"from bokeh.io.state import curstate; print(curstate().uuid_to_server['\" + server_id + \"'].get_sessions()[0].document.roots[0]._id)\";\n      cell.notebook.kernel.execute(cmd_clean, {\n        iopub: {\n          output: function(msg) {\n            const id = msg.content.text.trim();\n            if (id in Bokeh.index) {\n              Bokeh.index[id].model.document.clear();\n              delete Bokeh.index[id];\n            }\n          }\n        }\n      });\n      // Destroy server and session\n      const cmd_destroy = \"import bokeh.io.notebook as ion; ion.destroy_server('\" + server_id + \"')\";\n      cell.notebook.kernel.execute(cmd_destroy);\n    }\n  }\n\n  /**\n   * Handle when a new output is added\n   */\n  function handleAddOutput(event, handle) {\n    const output_area = handle.output_area;\n    const output = handle.output;\n\n    // limit handleAddOutput to display_data with EXEC_MIME_TYPE content only\n    if ((output.output_type != \"display_data\") || (!Object.prototype.hasOwnProperty.call(output.data, EXEC_MIME_TYPE))) {\n      return\n    }\n\n    const toinsert = output_area.element.find(\".\" + CLASS_NAME.split(' ')[0]);\n\n    if (output.metadata[EXEC_MIME_TYPE][\"id\"] !== undefined) {\n      toinsert[toinsert.length - 1].firstChild.textContent = output.data[JS_MIME_TYPE];\n      // store reference to embed id on output_area\n      output_area._bokeh_element_id = output.metadata[EXEC_MIME_TYPE][\"id\"];\n    }\n    if (output.metadata[EXEC_MIME_TYPE][\"server_id\"] !== undefined) {\n      const bk_div = document.createElement(\"div\");\n      bk_div.innerHTML = output.data[HTML_MIME_TYPE];\n      const script_attrs = bk_div.children[0].attributes;\n      for (let i = 0; i < script_attrs.length; i++) {\n        toinsert[toinsert.length - 1].firstChild.setAttribute(script_attrs[i].name, script_attrs[i].value);\n        toinsert[toinsert.length - 1].firstChild.textContent = bk_div.children[0].textContent\n      }\n      // store reference to server id on output_area\n      output_area._bokeh_server_id = output.metadata[EXEC_MIME_TYPE][\"server_id\"];\n    }\n  }\n\n  function register_renderer(events, OutputArea) {\n\n    function append_mime(data, metadata, element) {\n      // create a DOM node to render to\n      const toinsert = this.create_output_subarea(\n        metadata,\n        CLASS_NAME,\n        EXEC_MIME_TYPE\n      );\n      this.keyboard_manager.register_events(toinsert);\n      // Render to node\n      const props = {data: data, metadata: metadata[EXEC_MIME_TYPE]};\n      render(props, toinsert[toinsert.length - 1]);\n      element.append(toinsert);\n      return toinsert\n    }\n\n    /* Handle when an output is cleared or removed */\n    events.on('clear_output.CodeCell', handleClearOutput);\n    events.on('delete.Cell', handleClearOutput);\n\n    /* Handle when a new output is added */\n    events.on('output_added.OutputArea', handleAddOutput);\n\n    /**\n     * Register the mime type and append_mime function with output_area\n     */\n    OutputArea.prototype.register_mime_type(EXEC_MIME_TYPE, append_mime, {\n      /* Is output safe? */\n      safe: true,\n      /* Index of renderer in `output_area.display_order` */\n      index: 0\n    });\n  }\n\n  // register the mime type if in Jupyter Notebook environment and previously unregistered\n  if (root.Jupyter !== undefined) {\n    const events = require('base/js/events');\n    const OutputArea = require('notebook/js/outputarea').OutputArea;\n\n    if (OutputArea.prototype.mime_types().indexOf(EXEC_MIME_TYPE) == -1) {\n      register_renderer(events, OutputArea);\n    }\n  }\n  if (typeof (root._bokeh_timeout) === \"undefined\" || force === true) {\n    root._bokeh_timeout = Date.now() + 5000;\n    root._bokeh_failed_load = false;\n  }\n\n  const NB_LOAD_WARNING = {'data': {'text/html':\n     \"<div style='background-color: #fdd'>\\n\"+\n     \"<p>\\n\"+\n     \"BokehJS does not appear to have successfully loaded. If loading BokehJS from CDN, this \\n\"+\n     \"may be due to a slow or bad network connection. Possible fixes:\\n\"+\n     \"</p>\\n\"+\n     \"<ul>\\n\"+\n     \"<li>re-rerun `output_notebook()` to attempt to load from CDN again, or</li>\\n\"+\n     \"<li>use INLINE resources instead, as so:</li>\\n\"+\n     \"</ul>\\n\"+\n     \"<code>\\n\"+\n     \"from bokeh.resources import INLINE\\n\"+\n     \"output_notebook(resources=INLINE)\\n\"+\n     \"</code>\\n\"+\n     \"</div>\"}};\n\n  function display_loaded() {\n    const el = document.getElementById(\"p28658\");\n    if (el != null) {\n      el.textContent = \"BokehJS is loading...\";\n    }\n    if (root.Bokeh !== undefined) {\n      if (el != null) {\n        el.textContent = \"BokehJS \" + root.Bokeh.version + \" successfully loaded.\";\n      }\n    } else if (Date.now() < root._bokeh_timeout) {\n      setTimeout(display_loaded, 100)\n    }\n  }\n\n  function run_callbacks() {\n    try {\n      root._bokeh_onload_callbacks.forEach(function(callback) {\n        if (callback != null)\n          callback();\n      });\n    } finally {\n      delete root._bokeh_onload_callbacks\n    }\n    console.debug(\"Bokeh: all callbacks have finished\");\n  }\n\n  function load_libs(css_urls, js_urls, callback) {\n    if (css_urls == null) css_urls = [];\n    if (js_urls == null) js_urls = [];\n\n    root._bokeh_onload_callbacks.push(callback);\n    if (root._bokeh_is_loading > 0) {\n      console.debug(\"Bokeh: BokehJS is being loaded, scheduling callback at\", now());\n      return null;\n    }\n    if (js_urls == null || js_urls.length === 0) {\n      run_callbacks();\n      return null;\n    }\n    console.debug(\"Bokeh: BokehJS not loaded, scheduling load and callback at\", now());\n    root._bokeh_is_loading = css_urls.length + js_urls.length;\n\n    function on_load() {\n      root._bokeh_is_loading--;\n      if (root._bokeh_is_loading === 0) {\n        console.debug(\"Bokeh: all BokehJS libraries/stylesheets loaded\");\n        run_callbacks()\n      }\n    }\n\n    function on_error(url) {\n      console.error(\"failed to load \" + url);\n    }\n\n    for (let i = 0; i < css_urls.length; i++) {\n      const url = css_urls[i];\n      const element = document.createElement(\"link\");\n      element.onload = on_load;\n      element.onerror = on_error.bind(null, url);\n      element.rel = \"stylesheet\";\n      element.type = \"text/css\";\n      element.href = url;\n      console.debug(\"Bokeh: injecting link tag for BokehJS stylesheet: \", url);\n      document.body.appendChild(element);\n    }\n\n    for (let i = 0; i < js_urls.length; i++) {\n      const url = js_urls[i];\n      const element = document.createElement('script');\n      element.onload = on_load;\n      element.onerror = on_error.bind(null, url);\n      element.async = false;\n      element.src = url;\n      console.debug(\"Bokeh: injecting script tag for BokehJS library: \", url);\n      document.head.appendChild(element);\n    }\n  };\n\n  function inject_raw_css(css) {\n    const element = document.createElement(\"style\");\n    element.appendChild(document.createTextNode(css));\n    document.body.appendChild(element);\n  }\n\n  const js_urls = [\"https://cdn.bokeh.org/bokeh/release/bokeh-3.0.3.min.js\", \"https://cdn.bokeh.org/bokeh/release/bokeh-gl-3.0.3.min.js\", \"https://cdn.bokeh.org/bokeh/release/bokeh-widgets-3.0.3.min.js\", \"https://cdn.bokeh.org/bokeh/release/bokeh-tables-3.0.3.min.js\", \"https://cdn.bokeh.org/bokeh/release/bokeh-mathjax-3.0.3.min.js\"];\n  const css_urls = [];\n\n  const inline_js = [    function(Bokeh) {\n      Bokeh.set_log_level(\"info\");\n    },\nfunction(Bokeh) {\n    }\n  ];\n\n  function run_inline_js() {\n    if (root.Bokeh !== undefined || force === true) {\n          for (let i = 0; i < inline_js.length; i++) {\n      inline_js[i].call(root, root.Bokeh);\n    }\nif (force === true) {\n        display_loaded();\n      }} else if (Date.now() < root._bokeh_timeout) {\n      setTimeout(run_inline_js, 100);\n    } else if (!root._bokeh_failed_load) {\n      console.log(\"Bokeh: BokehJS failed to load within specified timeout.\");\n      root._bokeh_failed_load = true;\n    } else if (force !== true) {\n      const cell = $(document.getElementById(\"p28658\")).parents('.cell').data().cell;\n      cell.output_area.append_execute_result(NB_LOAD_WARNING)\n    }\n  }\n\n  if (root._bokeh_is_loading === 0) {\n    console.debug(\"Bokeh: BokehJS loaded, going straight to plotting\");\n    run_inline_js();\n  } else {\n    load_libs(css_urls, js_urls, function() {\n      console.debug(\"Bokeh: BokehJS plotting callback run at\", now());\n      run_inline_js();\n    });\n  }\n}(window));",
      "application/vnd.bokehjs_load.v0+json": ""
     },
     "metadata": {},
     "output_type": "display_data"
    }
   ],
   "source": [
    "# importting necessary libraries \n",
    "\n",
    "import pandas as pd\n",
    "import numpy as np\n",
    "import yaml as yam\n",
    "\n",
    "from bokeh.plotting import figure,show,output_file\n",
    "from bokeh.models import HoverTool\n",
    "from bokeh.layouts import gridplot\n",
    "from bokeh.palettes import Category10\n",
    "# import holoviews as hv\n",
    "from bokeh.io import output_notebook\n",
    "\n",
    "output_notebook()\n"
   ]
  },
  {
   "attachments": {},
   "cell_type": "markdown",
   "metadata": {},
   "source": [
    "----\n",
    "## Part 1 : Loading The Data\n",
    "----"
   ]
  },
  {
   "cell_type": "code",
   "execution_count": 34,
   "metadata": {},
   "outputs": [],
   "source": [
    "# Defining a config parser, to prase the yaml file in order to \n",
    "# make further manipulation facilated.\n",
    "\n",
    "def get_config():\n",
    "    with open('config.yaml','r') as datasource:\n",
    "        config = yam.safe_load(datasource)\n",
    "        return config\n",
    "\n",
    "config = get_config()\n",
    "\n",
    "depressive_symptoms = config['depressive_symptoms']\n",
    "frequency_of_drinking = config['frequency_of_drinking']\n",
    "\n",
    "# reading data by creating pandas dataframe\n",
    "depsymp = pd.read_csv(depressive_symptoms)\n",
    "drinkfreq = pd.read_csv(frequency_of_drinking)\n"
   ]
  },
  {
   "cell_type": "code",
   "execution_count": 35,
   "metadata": {},
   "outputs": [],
   "source": [
    "# In order to access our Data frames info and to check\\\n",
    "# if data was loaded and read smoothly.\n",
    "\n",
    "def df_info(df_list) :\n",
    "    df_info_list = []\n",
    "    for df in df_list:\n",
    "        try:\n",
    "            info = df.info()\n",
    "            df_info_list.append(info)\n",
    "        except:\n",
    "            print('Data not properly loaded')\n",
    "    return df_info_list\n",
    "\n",
    "# df_info([depsymp,drinkfreq])\n"
   ]
  },
  {
   "attachments": {},
   "cell_type": "markdown",
   "metadata": {},
   "source": [
    "----\n",
    "## Part 2 : **Data Preparation**\n",
    "---- "
   ]
  },
  {
   "attachments": {},
   "cell_type": "markdown",
   "metadata": {},
   "source": [
    "* Renaming columns"
   ]
  },
  {
   "cell_type": "code",
   "execution_count": 36,
   "metadata": {},
   "outputs": [],
   "source": [
    "# Renaming the desired columns in order to have a better understanding of the columns name.\n",
    "\n",
    "def rename(df,col_list) :\n",
    "    rename = df.rename(columns= col_list)\n",
    "    df = rename\n",
    "    return df\n",
    "\n",
    "depsymp_col_list = {'isced11':'Edu_Level','hlth_pb':'Health_Issue',\n",
    "            'sex':'Gender','age':'Age_Range','geo':'Country','TIME_PERIOD':'Time_Period',\n",
    "            'OBS_VALUE':'Obs_Value'}\n",
    "\n",
    "depsymp = rename(depsymp,depsymp_col_list)\n",
    "\n",
    "\n",
    "drinkfreq_col_list = {'frequenc':'Drink_Freq','sex':'Gender','isced11':'Edu_Level',\n",
    "            'age':'Age_Range','geo':'Country','TIME_PERIOD':'Time_Period','OBS_VALUE':'Obs_Value'}\n",
    "\n",
    "drinkfreq = rename(drinkfreq,drinkfreq_col_list)"
   ]
  },
  {
   "attachments": {},
   "cell_type": "markdown",
   "metadata": {},
   "source": [
    "* Identifying missing values"
   ]
  },
  {
   "cell_type": "code",
   "execution_count": 37,
   "metadata": {},
   "outputs": [],
   "source": [
    "# defining a function to return missing values in multiple dataframes,\n",
    "# output in the form of a dictionary will contain both dataframe and columns \n",
    "# with missing values \n",
    "\n",
    "# depsymp.isna().sum()\n",
    "# depsymp.isnull().sum()\n",
    "\n",
    "\n",
    "def find_missing_values(df_list):\n",
    "    missing_values = []\n",
    "    for i,df in enumerate(df_list):\n",
    "\n",
    "        df_missing = df.isna().sum().to_dict()\n",
    "        df_missing = {k: v for k,v in df_missing.items() if v > 0}\n",
    "        missing_values.append(f'dataframe {i+1} = {df_missing}')\n",
    "                \n",
    "    return missing_values\n",
    "\n",
    "\n",
    "missing_values = find_missing_values([depsymp,drinkfreq])\n",
    "\n",
    "# print(missing_values)"
   ]
  },
  {
   "attachments": {},
   "cell_type": "markdown",
   "metadata": {},
   "source": [
    "* Identifying unreliable observations"
   ]
  },
  {
   "cell_type": "code",
   "execution_count": 38,
   "metadata": {},
   "outputs": [
    {
     "name": "stdout",
     "output_type": "stream",
     "text": [
      "[nan 'u']\n",
      "[nan 'u']\n",
      "36\n",
      "27\n"
     ]
    }
   ],
   "source": [
    "# Flag columns indicate observations which are not reliable.\n",
    "# Below, identification of the specific value for unreliable abservations and the length of rows containing \n",
    "# them where inspected.\n",
    "\n",
    "print(depsymp['OBS_FLAG'].unique())\n",
    "print(drinkfreq['OBS_FLAG'].unique())\n",
    "print(len(depsymp[depsymp['OBS_FLAG'] == 'u']))\n",
    "print(len(drinkfreq[drinkfreq['OBS_FLAG'] == 'u']))"
   ]
  },
  {
   "attachments": {},
   "cell_type": "markdown",
   "metadata": {},
   "source": [
    "* Removing unreliable observations and columns with missing values"
   ]
  },
  {
   "cell_type": "code",
   "execution_count": 39,
   "metadata": {},
   "outputs": [],
   "source": [
    "# defining a function that takes in list of dataframes and returns \n",
    "# cleaned dataframes (without columns containing missing values, and rows with unreliable observations)\n",
    "\n",
    "def drop_missing_values(dataframes):\n",
    "    cleaned_dataframes = []\n",
    "    for df in dataframes:\n",
    "        if 'OBS_FLAG' in df.columns :\n",
    "            df = df[df['OBS_FLAG'] != 'u']\n",
    "        df_dropped = df.dropna(axis=1)\n",
    "        cleaned_dataframes.append(df_dropped)\n",
    "    return cleaned_dataframes\n",
    "\n",
    "\n",
    "cleaned_dataframes = drop_missing_values([depsymp,drinkfreq])\n",
    "\n",
    "depsymp = cleaned_dataframes[0]\n",
    "drinkfreq = cleaned_dataframes[1]\n"
   ]
  },
  {
   "attachments": {},
   "cell_type": "markdown",
   "metadata": {},
   "source": [
    "* Dropping irrelevant columns "
   ]
  },
  {
   "cell_type": "code",
   "execution_count": 40,
   "metadata": {},
   "outputs": [],
   "source": [
    "# dropping irrelevent columns using if statements to \n",
    "# avoid code execution more than once\n",
    "\n",
    "if 'DATAFLOW' in depsymp.columns :\n",
    "    depsymp = depsymp.drop(depsymp.columns[[0,1,2,3,4]],axis=1)\n",
    "\n",
    "if 'DATAFLOW' in drinkfreq.columns :\n",
    "    drinkfreq = drinkfreq.drop(drinkfreq.columns[[0,1,2,3,7]],axis=1)\n",
    "    \n",
    "# print(depsymp)\n",
    "# print(drinkfreq) \n"
   ]
  },
  {
   "attachments": {},
   "cell_type": "markdown",
   "metadata": {},
   "source": [
    "* Inspect duplicated observations"
   ]
  },
  {
   "cell_type": "code",
   "execution_count": 41,
   "metadata": {},
   "outputs": [],
   "source": [
    "# checking for duplicated values in both dataframes.\n",
    "\n",
    "# df.duplicated()\n",
    "# df.drop_duplicates()\n",
    "\n",
    "def check_for_duplicated(df_list) :\n",
    "    for df in df_list :\n",
    "        if df.duplicated().any() :\n",
    "            return True\n",
    "        else :\n",
    "            return False\n",
    "\n",
    "duplicated = check_for_duplicated([depsymp,drinkfreq])\n",
    "# print(duplicated)\n"
   ]
  },
  {
   "attachments": {},
   "cell_type": "markdown",
   "metadata": {},
   "source": [
    "----\n",
    "## Part 3 : Reshaping the data\n",
    "----"
   ]
  },
  {
   "attachments": {},
   "cell_type": "markdown",
   "metadata": {},
   "source": [
    "* Merging data frames "
   ]
  },
  {
   "cell_type": "code",
   "execution_count": 42,
   "metadata": {},
   "outputs": [],
   "source": [
    "\n",
    "\"\"\"\n",
    "using pandas merge method we are going to combine two dataframes\\\n",
    "into one with values of interest for further analysing.\n",
    "especific suffixes helps to identify the coulmn after being merged\n",
    "\n",
    "\"\"\"\n",
    "\n",
    "df = pd.merge(drinkfreq,depsymp,\n",
    "                on=['Country','Time_Period','Age_Range','Gender'],\n",
    "                suffixes=['_Dri','_Dep'], \n",
    "                how='inner')\n",
    "\n",
    "# We filter our data frame for more focused age ranges\n",
    "\n",
    "df = df[df['Age_Range'].isin(['Y15-24','Y25-34','Y35-44','Y45-54',\n",
    "                              'Y55-64','Y65-74'])]\n",
    "\n",
    "\"\"\"\n",
    "Our data frames contains observation values for \n",
    "both male and female and an extra value as total.\n",
    "We keep the total value.\n",
    "\"\"\"\n",
    " \n",
    "df = df[df['Gender'] == 'T']\n",
    "\n",
    "# df = df.sort_values(by=['Obs_Value_Dri','Obs_Value_Dep'], ascending= False).copy()"
   ]
  },
  {
   "cell_type": "code",
   "execution_count": 43,
   "metadata": {},
   "outputs": [],
   "source": [
    "def match_maker(df,col_1,col_2,col_3) :\n",
    "\n",
    "    '''\n",
    "    This function is designed to return a list of tuples containing\n",
    "    two specific columns' unique values paired with each other. In order\n",
    "    to use this particular tupels(which each contains one unique value from \n",
    "    each column) to group the whole data frame with.\n",
    "\n",
    "    parameters : datarame, two specific columns from the dataframe\n",
    "\n",
    "    '''\n",
    "\n",
    "    result = []\n",
    "    col_1 = df[col_1].unique()\n",
    "    col_2 = df[col_2].unique()\n",
    "    col_3 = df[col_3].unique()\n",
    "\n",
    "    for x in col_1 :\n",
    "        for y in col_2 :\n",
    "            for z in col_3 :\n",
    "                if (x,y,z) not in result :\n",
    "                    \n",
    "                    result.append((x,y,z))\n",
    "\n",
    "    return result\n",
    "\n",
    "# x = match_maker(df,'Health_Issue','Drink_Freq','Age_Range')\n",
    "\n"
   ]
  },
  {
   "cell_type": "code",
   "execution_count": 44,
   "metadata": {},
   "outputs": [],
   "source": [
    "def get_grouped(df) :\n",
    "\n",
    "    '''\n",
    "    this function takes in a list of tuples\\\n",
    "    created in \"matche_maker()\" function,\n",
    "    with using \".groupby().get_grouped()\" method, \n",
    "    it returns data frames which only have the \n",
    "    desired values inside their specific columns.\n",
    "\n",
    "    parameters : it takes one parameter,\n",
    "    which is the dataframe\n",
    "    '''\n",
    "    grouped_dfs = []\n",
    "    for i in match_maker(df,'Health_Issue','Drink_Freq','Age_Range') :\n",
    "        \n",
    "        grouped_df = df.groupby(['Health_Issue','Drink_Freq','Age_Range']).get_group(i)\n",
    "        grouped_dfs.append(grouped_df)\n",
    "        \n",
    "    return grouped_dfs\n",
    "\n",
    "grouped_dfs = get_grouped(df)"
   ]
  },
  {
   "attachments": {},
   "cell_type": "markdown",
   "metadata": {},
   "source": [
    "----\n",
    "## Part 5 : Data Visualization (on going)\n",
    "----"
   ]
  },
  {
   "cell_type": "code",
   "execution_count": 45,
   "metadata": {},
   "outputs": [
    {
     "data": {
      "text/html": [
       "\n",
       "  <div id=\"0c83e8d1-60ee-4dd3-bccf-d8ff8635a042\" data-root-id=\"p29170\" style=\"display: contents;\"></div>\n"
      ]
     },
     "metadata": {},
     "output_type": "display_data"
    },
    {
     "data": {
      "application/javascript": "(function(root) {\n  function embed_document(root) {\n  const docs_json = {\"9b34a45c-18be-454b-b981-bf376aa77912\":{\"version\":\"3.0.3\",\"title\":\"Bokeh Application\",\"defs\":[],\"roots\":[{\"type\":\"object\",\"name\":\"GridPlot\",\"id\":\"p29170\",\"attributes\":{\"toolbar\":{\"type\":\"object\",\"name\":\"Toolbar\",\"id\":\"p29169\",\"attributes\":{\"tools\":[{\"type\":\"object\",\"name\":\"ToolProxy\",\"id\":\"p29163\",\"attributes\":{\"tools\":[{\"type\":\"object\",\"name\":\"PanTool\",\"id\":\"p28690\"},{\"type\":\"object\",\"name\":\"PanTool\",\"id\":\"p28754\"},{\"type\":\"object\",\"name\":\"PanTool\",\"id\":\"p28818\"},{\"type\":\"object\",\"name\":\"PanTool\",\"id\":\"p28882\"},{\"type\":\"object\",\"name\":\"PanTool\",\"id\":\"p28946\"},{\"type\":\"object\",\"name\":\"PanTool\",\"id\":\"p29010\"}]}},{\"type\":\"object\",\"name\":\"ToolProxy\",\"id\":\"p29164\",\"attributes\":{\"tools\":[{\"type\":\"object\",\"name\":\"WheelZoomTool\",\"id\":\"p28691\"},{\"type\":\"object\",\"name\":\"WheelZoomTool\",\"id\":\"p28755\"},{\"type\":\"object\",\"name\":\"WheelZoomTool\",\"id\":\"p28819\"},{\"type\":\"object\",\"name\":\"WheelZoomTool\",\"id\":\"p28883\"},{\"type\":\"object\",\"name\":\"WheelZoomTool\",\"id\":\"p28947\"},{\"type\":\"object\",\"name\":\"WheelZoomTool\",\"id\":\"p29011\"}]}},{\"type\":\"object\",\"name\":\"ToolProxy\",\"id\":\"p29165\",\"attributes\":{\"tools\":[{\"type\":\"object\",\"name\":\"BoxZoomTool\",\"id\":\"p28692\",\"attributes\":{\"overlay\":{\"type\":\"object\",\"name\":\"BoxAnnotation\",\"id\":\"p28693\",\"attributes\":{\"syncable\":false,\"level\":\"overlay\",\"visible\":false,\"left_units\":\"canvas\",\"right_units\":\"canvas\",\"bottom_units\":\"canvas\",\"top_units\":\"canvas\",\"line_color\":\"black\",\"line_alpha\":1.0,\"line_width\":2,\"line_dash\":[4,4],\"fill_color\":\"lightgrey\",\"fill_alpha\":0.5}}}},{\"type\":\"object\",\"name\":\"BoxZoomTool\",\"id\":\"p28756\",\"attributes\":{\"overlay\":{\"type\":\"object\",\"name\":\"BoxAnnotation\",\"id\":\"p28757\",\"attributes\":{\"syncable\":false,\"level\":\"overlay\",\"visible\":false,\"left_units\":\"canvas\",\"right_units\":\"canvas\",\"bottom_units\":\"canvas\",\"top_units\":\"canvas\",\"line_color\":\"black\",\"line_alpha\":1.0,\"line_width\":2,\"line_dash\":[4,4],\"fill_color\":\"lightgrey\",\"fill_alpha\":0.5}}}},{\"type\":\"object\",\"name\":\"BoxZoomTool\",\"id\":\"p28820\",\"attributes\":{\"overlay\":{\"type\":\"object\",\"name\":\"BoxAnnotation\",\"id\":\"p28821\",\"attributes\":{\"syncable\":false,\"level\":\"overlay\",\"visible\":false,\"left_units\":\"canvas\",\"right_units\":\"canvas\",\"bottom_units\":\"canvas\",\"top_units\":\"canvas\",\"line_color\":\"black\",\"line_alpha\":1.0,\"line_width\":2,\"line_dash\":[4,4],\"fill_color\":\"lightgrey\",\"fill_alpha\":0.5}}}},{\"type\":\"object\",\"name\":\"BoxZoomTool\",\"id\":\"p28884\",\"attributes\":{\"overlay\":{\"type\":\"object\",\"name\":\"BoxAnnotation\",\"id\":\"p28885\",\"attributes\":{\"syncable\":false,\"level\":\"overlay\",\"visible\":false,\"left_units\":\"canvas\",\"right_units\":\"canvas\",\"bottom_units\":\"canvas\",\"top_units\":\"canvas\",\"line_color\":\"black\",\"line_alpha\":1.0,\"line_width\":2,\"line_dash\":[4,4],\"fill_color\":\"lightgrey\",\"fill_alpha\":0.5}}}},{\"type\":\"object\",\"name\":\"BoxZoomTool\",\"id\":\"p28948\",\"attributes\":{\"overlay\":{\"type\":\"object\",\"name\":\"BoxAnnotation\",\"id\":\"p28949\",\"attributes\":{\"syncable\":false,\"level\":\"overlay\",\"visible\":false,\"left_units\":\"canvas\",\"right_units\":\"canvas\",\"bottom_units\":\"canvas\",\"top_units\":\"canvas\",\"line_color\":\"black\",\"line_alpha\":1.0,\"line_width\":2,\"line_dash\":[4,4],\"fill_color\":\"lightgrey\",\"fill_alpha\":0.5}}}},{\"type\":\"object\",\"name\":\"BoxZoomTool\",\"id\":\"p29012\",\"attributes\":{\"overlay\":{\"type\":\"object\",\"name\":\"BoxAnnotation\",\"id\":\"p29013\",\"attributes\":{\"syncable\":false,\"level\":\"overlay\",\"visible\":false,\"left_units\":\"canvas\",\"right_units\":\"canvas\",\"bottom_units\":\"canvas\",\"top_units\":\"canvas\",\"line_color\":\"black\",\"line_alpha\":1.0,\"line_width\":2,\"line_dash\":[4,4],\"fill_color\":\"lightgrey\",\"fill_alpha\":0.5}}}}]}},{\"type\":\"object\",\"name\":\"SaveTool\",\"id\":\"p29166\"},{\"type\":\"object\",\"name\":\"ToolProxy\",\"id\":\"p29167\",\"attributes\":{\"tools\":[{\"type\":\"object\",\"name\":\"ResetTool\",\"id\":\"p28695\"},{\"type\":\"object\",\"name\":\"ResetTool\",\"id\":\"p28759\"},{\"type\":\"object\",\"name\":\"ResetTool\",\"id\":\"p28823\"},{\"type\":\"object\",\"name\":\"ResetTool\",\"id\":\"p28887\"},{\"type\":\"object\",\"name\":\"ResetTool\",\"id\":\"p28951\"},{\"type\":\"object\",\"name\":\"ResetTool\",\"id\":\"p29015\"}]}},{\"type\":\"object\",\"name\":\"ToolProxy\",\"id\":\"p29168\",\"attributes\":{\"tools\":[{\"type\":\"object\",\"name\":\"HelpTool\",\"id\":\"p28696\"},{\"type\":\"object\",\"name\":\"HelpTool\",\"id\":\"p28760\"},{\"type\":\"object\",\"name\":\"HelpTool\",\"id\":\"p28824\"},{\"type\":\"object\",\"name\":\"HelpTool\",\"id\":\"p28888\"},{\"type\":\"object\",\"name\":\"HelpTool\",\"id\":\"p28952\"},{\"type\":\"object\",\"name\":\"HelpTool\",\"id\":\"p29016\"}]}}]}},\"children\":[[{\"type\":\"object\",\"name\":\"Figure\",\"id\":\"p28659\",\"attributes\":{\"width\":500,\"height\":250,\"x_range\":{\"type\":\"object\",\"name\":\"FactorRange\",\"id\":\"p28669\",\"attributes\":{\"factors\":[\"AT\",\"BE\",\"BG\",\"CY\",\"CZ\",\"DE\",\"DK\",\"EE\",\"EL\",\"ES\",\"FI\",\"FR\",\"HR\",\"HU\",\"IE\",\"IS\",\"IT\",\"LT\",\"LU\",\"LV\",\"MT\",\"NO\",\"PL\",\"PT\",\"RO\",\"RS\",\"SE\",\"SI\",\"SK\",\"TR\"]}},\"y_range\":{\"type\":\"object\",\"name\":\"DataRange1d\",\"id\":\"p28661\"},\"x_scale\":{\"type\":\"object\",\"name\":\"CategoricalScale\",\"id\":\"p28673\"},\"y_scale\":{\"type\":\"object\",\"name\":\"LinearScale\",\"id\":\"p28675\"},\"title\":{\"type\":\"object\",\"name\":\"Title\",\"id\":\"p28662\",\"attributes\":{\"text\":\"Consuming Sweetened Drinks/ Depressive Symptoms Between ages Y15-24\"}},\"renderers\":[{\"type\":\"object\",\"name\":\"GlyphRenderer\",\"id\":\"p28711\",\"attributes\":{\"data_source\":{\"type\":\"object\",\"name\":\"ColumnDataSource\",\"id\":\"p28705\",\"attributes\":{\"selected\":{\"type\":\"object\",\"name\":\"Selection\",\"id\":\"p28706\",\"attributes\":{\"indices\":[],\"line_indices\":[]}},\"selection_policy\":{\"type\":\"object\",\"name\":\"UnionRenderers\",\"id\":\"p28707\"},\"data\":{\"type\":\"map\",\"entries\":[[\"x\",{\"type\":\"ndarray\",\"array\":[\"AT\",\"BE\",\"BG\",\"CY\",\"CZ\",\"DE\",\"DK\",\"EE\",\"EL\",\"ES\",\"FI\",\"FR\",\"HR\",\"HU\",\"IE\",\"IS\",\"IT\",\"LT\",\"LU\",\"LV\",\"MT\",\"NO\",\"PL\",\"PT\",\"RO\",\"RS\",\"SE\",\"SI\",\"SK\",\"TR\"],\"shape\":[30],\"dtype\":\"object\",\"order\":\"little\"}],[\"y\",{\"type\":\"ndarray\",\"array\":{\"type\":\"bytes\",\"data\":\"ZmZmZmbmO0CamZmZmZk5QM3MzMzMzD5AZmZmZmZmO0AzMzMzMzM8QDMzMzMzMz9AzczMzMyMQEBmZmZmZmY8QAAAAAAAQEBAmpmZmZnZQEAzMzMzMzNBQDMzMzMzMzxAmpmZmZkZPECamZmZmZk9QGZmZmZmZjtAzczMzMzMOkAzMzMzM7M8QAAAAAAAwEJAZmZmZmbmOkAAAAAAAEBBQM3MzMzMzDFAZmZmZmZmPUBmZmZmZiZAQGZmZmZmZjlAzczMzMyMQUAzMzMzM7M7QDMzMzMzc0RAZmZmZmZmOECamZmZmRk5QJqZmZmZGT1A\"},\"shape\":[30],\"dtype\":\"float64\",\"order\":\"little\"}]]}}},\"view\":{\"type\":\"object\",\"name\":\"CDSView\",\"id\":\"p28712\",\"attributes\":{\"filter\":{\"type\":\"object\",\"name\":\"AllIndices\",\"id\":\"p28713\"}}},\"glyph\":{\"type\":\"object\",\"name\":\"Line\",\"id\":\"p28708\",\"attributes\":{\"x\":{\"type\":\"field\",\"field\":\"x\"},\"y\":{\"type\":\"field\",\"field\":\"y\"},\"line_color\":\"#CC79A7\",\"line_width\":1.2}},\"nonselection_glyph\":{\"type\":\"object\",\"name\":\"Line\",\"id\":\"p28709\",\"attributes\":{\"x\":{\"type\":\"field\",\"field\":\"x\"},\"y\":{\"type\":\"field\",\"field\":\"y\"},\"line_color\":\"#CC79A7\",\"line_alpha\":0.1,\"line_width\":1.2}},\"muted_glyph\":{\"type\":\"object\",\"name\":\"Line\",\"id\":\"p28710\",\"attributes\":{\"x\":{\"type\":\"field\",\"field\":\"x\"},\"y\":{\"type\":\"field\",\"field\":\"y\"},\"line_color\":\"#CC79A7\",\"line_alpha\":0.2,\"line_width\":1.2}}}},{\"type\":\"object\",\"name\":\"GlyphRenderer\",\"id\":\"p28720\",\"attributes\":{\"data_source\":{\"type\":\"object\",\"name\":\"ColumnDataSource\",\"id\":\"p28714\",\"attributes\":{\"selected\":{\"type\":\"object\",\"name\":\"Selection\",\"id\":\"p28715\",\"attributes\":{\"indices\":[],\"line_indices\":[]}},\"selection_policy\":{\"type\":\"object\",\"name\":\"UnionRenderers\",\"id\":\"p28716\"},\"data\":{\"type\":\"map\",\"entries\":[[\"x\",{\"type\":\"ndarray\",\"array\":[\"AT\",\"BE\",\"BG\",\"CY\",\"CZ\",\"DE\",\"DK\",\"EE\",\"EL\",\"ES\",\"FI\",\"FR\",\"HR\",\"HU\",\"IE\",\"IS\",\"IT\",\"LT\",\"LU\",\"LV\",\"MT\",\"NO\",\"PL\",\"PT\",\"RO\",\"RS\",\"SE\",\"SI\",\"SK\",\"TR\"],\"shape\":[30],\"dtype\":\"object\",\"order\":\"little\"}],[\"y\",{\"type\":\"ndarray\",\"array\":{\"type\":\"bytes\",\"data\":\"zczMzMzMEEAzMzMzMzMbQAAAAAAAAPA/mpmZmZmZ6T/NzMzMzMz8PzMzMzMzMyJAMzMzMzMzMEBmZmZmZmYaQJqZmZmZmbk/ZmZmZmZmBkAAAAAAAAArQAAAAAAAACRAzczMzMzMBEDNzMzMzMwIQGZmZmZmZhRAZmZmZmZmIUAzMzMzMzMDQJqZmZmZmRFAZmZmZmZmLkAAAAAAAAAUQM3MzMzMzB5AAAAAAAAAI0AAAAAAAAAAQM3MzMzMzBBAmpmZmZmZyT8zMzMzMzPjP5qZmZmZmS1AAAAAAAAAJUDNzMzMzMzsP2ZmZmZmZhJA\"},\"shape\":[30],\"dtype\":\"float64\",\"order\":\"little\"}]]}}},\"view\":{\"type\":\"object\",\"name\":\"CDSView\",\"id\":\"p28721\",\"attributes\":{\"filter\":{\"type\":\"object\",\"name\":\"AllIndices\",\"id\":\"p28722\"}}},\"glyph\":{\"type\":\"object\",\"name\":\"Line\",\"id\":\"p28717\",\"attributes\":{\"x\":{\"type\":\"field\",\"field\":\"x\"},\"y\":{\"type\":\"field\",\"field\":\"y\"},\"line_color\":\"#0072B2\",\"line_width\":1.2}},\"nonselection_glyph\":{\"type\":\"object\",\"name\":\"Line\",\"id\":\"p28718\",\"attributes\":{\"x\":{\"type\":\"field\",\"field\":\"x\"},\"y\":{\"type\":\"field\",\"field\":\"y\"},\"line_color\":\"#0072B2\",\"line_alpha\":0.1,\"line_width\":1.2}},\"muted_glyph\":{\"type\":\"object\",\"name\":\"Line\",\"id\":\"p28719\",\"attributes\":{\"x\":{\"type\":\"field\",\"field\":\"x\"},\"y\":{\"type\":\"field\",\"field\":\"y\"},\"line_color\":\"#0072B2\",\"line_alpha\":0.2,\"line_width\":1.2}}}}],\"toolbar\":{\"type\":\"object\",\"name\":\"Toolbar\",\"id\":\"p28668\",\"attributes\":{\"tools\":[{\"id\":\"p28690\"},{\"id\":\"p28691\"},{\"id\":\"p28692\"},{\"type\":\"object\",\"name\":\"SaveTool\",\"id\":\"p28694\"},{\"id\":\"p28695\"},{\"id\":\"p28696\"}]}},\"toolbar_location\":null,\"left\":[{\"type\":\"object\",\"name\":\"LinearAxis\",\"id\":\"p28683\",\"attributes\":{\"ticker\":{\"type\":\"object\",\"name\":\"BasicTicker\",\"id\":\"p28684\",\"attributes\":{\"mantissas\":[1,2,5]}},\"formatter\":{\"type\":\"object\",\"name\":\"BasicTickFormatter\",\"id\":\"p28685\"},\"axis_label\":\"Frequency in Percentage\",\"major_label_policy\":{\"type\":\"object\",\"name\":\"AllLabels\",\"id\":\"p28686\"}}}],\"below\":[{\"type\":\"object\",\"name\":\"CategoricalAxis\",\"id\":\"p28677\",\"attributes\":{\"ticker\":{\"type\":\"object\",\"name\":\"CategoricalTicker\",\"id\":\"p28678\"},\"formatter\":{\"type\":\"object\",\"name\":\"CategoricalTickFormatter\",\"id\":\"p28679\"},\"axis_label\":\"EU Countries\",\"major_label_policy\":{\"type\":\"object\",\"name\":\"AllLabels\",\"id\":\"p28680\"},\"axis_line_alpha\":0}}],\"center\":[{\"type\":\"object\",\"name\":\"Grid\",\"id\":\"p28682\",\"attributes\":{\"axis\":{\"id\":\"p28677\"},\"grid_line_alpha\":0.5}},{\"type\":\"object\",\"name\":\"Grid\",\"id\":\"p28689\",\"attributes\":{\"dimension\":1,\"axis\":{\"id\":\"p28683\"}}}]}},0,0],[{\"type\":\"object\",\"name\":\"Figure\",\"id\":\"p28723\",\"attributes\":{\"width\":500,\"height\":250,\"x_range\":{\"type\":\"object\",\"name\":\"FactorRange\",\"id\":\"p28733\",\"attributes\":{\"factors\":[\"AT\",\"BE\",\"BG\",\"CY\",\"CZ\",\"DE\",\"DK\",\"EE\",\"EL\",\"ES\",\"FI\",\"FR\",\"HR\",\"HU\",\"IE\",\"IS\",\"IT\",\"LT\",\"LU\",\"LV\",\"MT\",\"NO\",\"PL\",\"PT\",\"RO\",\"RS\",\"SE\",\"SI\",\"SK\",\"TR\"]}},\"y_range\":{\"type\":\"object\",\"name\":\"DataRange1d\",\"id\":\"p28725\"},\"x_scale\":{\"type\":\"object\",\"name\":\"CategoricalScale\",\"id\":\"p28737\"},\"y_scale\":{\"type\":\"object\",\"name\":\"LinearScale\",\"id\":\"p28739\"},\"title\":{\"type\":\"object\",\"name\":\"Title\",\"id\":\"p28726\",\"attributes\":{\"text\":\"Consuming Sweetened Drinks/ Depressive Symptoms Between ages Y25-34\"}},\"renderers\":[{\"type\":\"object\",\"name\":\"GlyphRenderer\",\"id\":\"p28775\",\"attributes\":{\"data_source\":{\"type\":\"object\",\"name\":\"ColumnDataSource\",\"id\":\"p28769\",\"attributes\":{\"selected\":{\"type\":\"object\",\"name\":\"Selection\",\"id\":\"p28770\",\"attributes\":{\"indices\":[],\"line_indices\":[]}},\"selection_policy\":{\"type\":\"object\",\"name\":\"UnionRenderers\",\"id\":\"p28771\"},\"data\":{\"type\":\"map\",\"entries\":[[\"x\",{\"type\":\"ndarray\",\"array\":[\"AT\",\"BE\",\"BG\",\"CY\",\"CZ\",\"DE\",\"DK\",\"EE\",\"EL\",\"ES\",\"FI\",\"FR\",\"HR\",\"HU\",\"IE\",\"IS\",\"IT\",\"LT\",\"LU\",\"LV\",\"MT\",\"NO\",\"PL\",\"PT\",\"RO\",\"RS\",\"SE\",\"SI\",\"SK\",\"TR\"],\"shape\":[30],\"dtype\":\"object\",\"order\":\"little\"}],[\"y\",{\"type\":\"ndarray\",\"array\":{\"type\":\"bytes\",\"data\":\"zczMzMxMOEAzMzMzMzM2QAAAAAAAAEBAAAAAAAAAPUCamZmZmZk3QAAAAAAAADtAZmZmZmbmO0CamZmZmZk6QJqZmZmZmUBAMzMzMzOzPkCamZmZmRkzQDMzMzMzMzlAMzMzMzOzO0AzMzMzMzM5QGZmZmZm5jNAmpmZmZmZNEBmZmZmZuY2QDMzMzMzszlAZmZmZmbmMkBmZmZmZmY6QDMzMzMzszBAmpmZmZkZMUBmZmZmZuY4QGZmZmZmZjlAMzMzMzMzP0DNzMzMzMw6QAAAAAAAADxAAAAAAACAM0AAAAAAAAA3QGZmZmZm5jpA\"},\"shape\":[30],\"dtype\":\"float64\",\"order\":\"little\"}]]}}},\"view\":{\"type\":\"object\",\"name\":\"CDSView\",\"id\":\"p28776\",\"attributes\":{\"filter\":{\"type\":\"object\",\"name\":\"AllIndices\",\"id\":\"p28777\"}}},\"glyph\":{\"type\":\"object\",\"name\":\"Line\",\"id\":\"p28772\",\"attributes\":{\"x\":{\"type\":\"field\",\"field\":\"x\"},\"y\":{\"type\":\"field\",\"field\":\"y\"},\"line_color\":\"#CC79A7\",\"line_width\":1.2}},\"nonselection_glyph\":{\"type\":\"object\",\"name\":\"Line\",\"id\":\"p28773\",\"attributes\":{\"x\":{\"type\":\"field\",\"field\":\"x\"},\"y\":{\"type\":\"field\",\"field\":\"y\"},\"line_color\":\"#CC79A7\",\"line_alpha\":0.1,\"line_width\":1.2}},\"muted_glyph\":{\"type\":\"object\",\"name\":\"Line\",\"id\":\"p28774\",\"attributes\":{\"x\":{\"type\":\"field\",\"field\":\"x\"},\"y\":{\"type\":\"field\",\"field\":\"y\"},\"line_color\":\"#CC79A7\",\"line_alpha\":0.2,\"line_width\":1.2}}}},{\"type\":\"object\",\"name\":\"GlyphRenderer\",\"id\":\"p28784\",\"attributes\":{\"data_source\":{\"type\":\"object\",\"name\":\"ColumnDataSource\",\"id\":\"p28778\",\"attributes\":{\"selected\":{\"type\":\"object\",\"name\":\"Selection\",\"id\":\"p28779\",\"attributes\":{\"indices\":[],\"line_indices\":[]}},\"selection_policy\":{\"type\":\"object\",\"name\":\"UnionRenderers\",\"id\":\"p28780\"},\"data\":{\"type\":\"map\",\"entries\":[[\"x\",{\"type\":\"ndarray\",\"array\":[\"AT\",\"BE\",\"BG\",\"CY\",\"CZ\",\"DE\",\"DK\",\"EE\",\"EL\",\"ES\",\"FI\",\"FR\",\"HR\",\"HU\",\"IE\",\"IS\",\"IT\",\"LT\",\"LU\",\"LV\",\"MT\",\"NO\",\"PL\",\"PT\",\"RO\",\"RS\",\"SE\",\"SI\",\"SK\",\"TR\"],\"shape\":[30],\"dtype\":\"object\",\"order\":\"little\"}],[\"y\",{\"type\":\"ndarray\",\"array\":{\"type\":\"bytes\",\"data\":\"MzMzMzMzD0DNzMzMzMweQGZmZmZmZvY/zczMzMzM7D9mZmZmZmYCQM3MzMzMzCRAAAAAAAAAJEDNzMzMzMwYQJqZmZmZmfk/mpmZmZmZBUBmZmZmZmYkQDMzMzMzMyNAAAAAAAAA+D/NzMzMzMwQQJqZmZmZmRdAmpmZmZmZI0AzMzMzMzMDQM3MzMzMzBRAmpmZmZmZJUAzMzMzMzMHQM3MzMzMzB5AMzMzMzMzG0CamZmZmZkBQDMzMzMzMxFAAAAAAAAA8D9mZmZmZmbmP2ZmZmZmZixAZmZmZmZmFkAAAAAAAAD4P5qZmZmZmRNA\"},\"shape\":[30],\"dtype\":\"float64\",\"order\":\"little\"}]]}}},\"view\":{\"type\":\"object\",\"name\":\"CDSView\",\"id\":\"p28785\",\"attributes\":{\"filter\":{\"type\":\"object\",\"name\":\"AllIndices\",\"id\":\"p28786\"}}},\"glyph\":{\"type\":\"object\",\"name\":\"Line\",\"id\":\"p28781\",\"attributes\":{\"x\":{\"type\":\"field\",\"field\":\"x\"},\"y\":{\"type\":\"field\",\"field\":\"y\"},\"line_color\":\"#0072B2\",\"line_width\":1.2}},\"nonselection_glyph\":{\"type\":\"object\",\"name\":\"Line\",\"id\":\"p28782\",\"attributes\":{\"x\":{\"type\":\"field\",\"field\":\"x\"},\"y\":{\"type\":\"field\",\"field\":\"y\"},\"line_color\":\"#0072B2\",\"line_alpha\":0.1,\"line_width\":1.2}},\"muted_glyph\":{\"type\":\"object\",\"name\":\"Line\",\"id\":\"p28783\",\"attributes\":{\"x\":{\"type\":\"field\",\"field\":\"x\"},\"y\":{\"type\":\"field\",\"field\":\"y\"},\"line_color\":\"#0072B2\",\"line_alpha\":0.2,\"line_width\":1.2}}}}],\"toolbar\":{\"type\":\"object\",\"name\":\"Toolbar\",\"id\":\"p28732\",\"attributes\":{\"tools\":[{\"id\":\"p28754\"},{\"id\":\"p28755\"},{\"id\":\"p28756\"},{\"type\":\"object\",\"name\":\"SaveTool\",\"id\":\"p28758\"},{\"id\":\"p28759\"},{\"id\":\"p28760\"}]}},\"toolbar_location\":null,\"left\":[{\"type\":\"object\",\"name\":\"LinearAxis\",\"id\":\"p28747\",\"attributes\":{\"ticker\":{\"type\":\"object\",\"name\":\"BasicTicker\",\"id\":\"p28748\",\"attributes\":{\"mantissas\":[1,2,5]}},\"formatter\":{\"type\":\"object\",\"name\":\"BasicTickFormatter\",\"id\":\"p28749\"},\"axis_label\":\"Frequency in Percentage\",\"major_label_policy\":{\"type\":\"object\",\"name\":\"AllLabels\",\"id\":\"p28750\"}}}],\"below\":[{\"type\":\"object\",\"name\":\"CategoricalAxis\",\"id\":\"p28741\",\"attributes\":{\"ticker\":{\"type\":\"object\",\"name\":\"CategoricalTicker\",\"id\":\"p28742\"},\"formatter\":{\"type\":\"object\",\"name\":\"CategoricalTickFormatter\",\"id\":\"p28743\"},\"axis_label\":\"EU Countries\",\"major_label_policy\":{\"type\":\"object\",\"name\":\"AllLabels\",\"id\":\"p28744\"},\"axis_line_alpha\":0}}],\"center\":[{\"type\":\"object\",\"name\":\"Grid\",\"id\":\"p28746\",\"attributes\":{\"axis\":{\"id\":\"p28741\"},\"grid_line_alpha\":0.5}},{\"type\":\"object\",\"name\":\"Grid\",\"id\":\"p28753\",\"attributes\":{\"dimension\":1,\"axis\":{\"id\":\"p28747\"}}}]}},0,1],[{\"type\":\"object\",\"name\":\"Figure\",\"id\":\"p28787\",\"attributes\":{\"width\":500,\"height\":250,\"x_range\":{\"type\":\"object\",\"name\":\"FactorRange\",\"id\":\"p28797\",\"attributes\":{\"factors\":[\"AT\",\"BE\",\"BG\",\"CY\",\"CZ\",\"DE\",\"DK\",\"EE\",\"EL\",\"ES\",\"FI\",\"FR\",\"HR\",\"HU\",\"IE\",\"IS\",\"IT\",\"LT\",\"LU\",\"LV\",\"MT\",\"NO\",\"PL\",\"PT\",\"RO\",\"RS\",\"SE\",\"SI\",\"SK\",\"TR\"]}},\"y_range\":{\"type\":\"object\",\"name\":\"DataRange1d\",\"id\":\"p28789\"},\"x_scale\":{\"type\":\"object\",\"name\":\"CategoricalScale\",\"id\":\"p28801\"},\"y_scale\":{\"type\":\"object\",\"name\":\"LinearScale\",\"id\":\"p28803\"},\"title\":{\"type\":\"object\",\"name\":\"Title\",\"id\":\"p28790\",\"attributes\":{\"text\":\"Consuming Sweetened Drinks/ Depressive Symptoms Between ages Y35-44\"}},\"renderers\":[{\"type\":\"object\",\"name\":\"GlyphRenderer\",\"id\":\"p28839\",\"attributes\":{\"data_source\":{\"type\":\"object\",\"name\":\"ColumnDataSource\",\"id\":\"p28833\",\"attributes\":{\"selected\":{\"type\":\"object\",\"name\":\"Selection\",\"id\":\"p28834\",\"attributes\":{\"indices\":[],\"line_indices\":[]}},\"selection_policy\":{\"type\":\"object\",\"name\":\"UnionRenderers\",\"id\":\"p28835\"},\"data\":{\"type\":\"map\",\"entries\":[[\"x\",{\"type\":\"ndarray\",\"array\":[\"AT\",\"BE\",\"BG\",\"CY\",\"CZ\",\"DE\",\"DK\",\"EE\",\"EL\",\"ES\",\"FI\",\"FR\",\"HR\",\"HU\",\"IE\",\"IS\",\"IT\",\"LT\",\"LU\",\"LV\",\"MT\",\"NO\",\"PL\",\"PT\",\"RO\",\"RS\",\"SE\",\"SI\",\"SK\",\"TR\"],\"shape\":[30],\"dtype\":\"object\",\"order\":\"little\"}],[\"y\",{\"type\":\"ndarray\",\"array\":{\"type\":\"bytes\",\"data\":\"MzMzMzMzM0DNzMzMzMw0QDMzMzMzMz5AMzMzMzOzO0BmZmZmZmYyQJqZmZmZGTpAMzMzMzOzNkDNzMzMzMwxQGZmZmZm5j1AzczMzMxMOUAzMzMzM7MwQAAAAAAAADNAAAAAAAAANUAAAAAAAIA0QM3MzMzMzDBAmpmZmZmZOUDNzMzMzEwzQJqZmZmZGTVAmpmZmZmZMEBmZmZmZuYzQDMzMzMzMy5AMzMzMzMzLECamZmZmRk2QJqZmZmZmTFAAAAAAAAAPkBmZmZmZmY8QGZmZmZm5jlAzczMzMxMMUAzMzMzMzMwQM3MzMzMzDVA\"},\"shape\":[30],\"dtype\":\"float64\",\"order\":\"little\"}]]}}},\"view\":{\"type\":\"object\",\"name\":\"CDSView\",\"id\":\"p28840\",\"attributes\":{\"filter\":{\"type\":\"object\",\"name\":\"AllIndices\",\"id\":\"p28841\"}}},\"glyph\":{\"type\":\"object\",\"name\":\"Line\",\"id\":\"p28836\",\"attributes\":{\"x\":{\"type\":\"field\",\"field\":\"x\"},\"y\":{\"type\":\"field\",\"field\":\"y\"},\"line_color\":\"#CC79A7\",\"line_width\":1.2}},\"nonselection_glyph\":{\"type\":\"object\",\"name\":\"Line\",\"id\":\"p28837\",\"attributes\":{\"x\":{\"type\":\"field\",\"field\":\"x\"},\"y\":{\"type\":\"field\",\"field\":\"y\"},\"line_color\":\"#CC79A7\",\"line_alpha\":0.1,\"line_width\":1.2}},\"muted_glyph\":{\"type\":\"object\",\"name\":\"Line\",\"id\":\"p28838\",\"attributes\":{\"x\":{\"type\":\"field\",\"field\":\"x\"},\"y\":{\"type\":\"field\",\"field\":\"y\"},\"line_color\":\"#CC79A7\",\"line_alpha\":0.2,\"line_width\":1.2}}}},{\"type\":\"object\",\"name\":\"GlyphRenderer\",\"id\":\"p28848\",\"attributes\":{\"data_source\":{\"type\":\"object\",\"name\":\"ColumnDataSource\",\"id\":\"p28842\",\"attributes\":{\"selected\":{\"type\":\"object\",\"name\":\"Selection\",\"id\":\"p28843\",\"attributes\":{\"indices\":[],\"line_indices\":[]}},\"selection_policy\":{\"type\":\"object\",\"name\":\"UnionRenderers\",\"id\":\"p28844\"},\"data\":{\"type\":\"map\",\"entries\":[[\"x\",{\"type\":\"ndarray\",\"array\":[\"AT\",\"BE\",\"BG\",\"CY\",\"CZ\",\"DE\",\"DK\",\"EE\",\"EL\",\"ES\",\"FI\",\"FR\",\"HR\",\"HU\",\"IE\",\"IS\",\"IT\",\"LT\",\"LU\",\"LV\",\"MT\",\"NO\",\"PL\",\"PT\",\"RO\",\"RS\",\"SE\",\"SI\",\"SK\",\"TR\"],\"shape\":[30],\"dtype\":\"object\",\"order\":\"little\"}],[\"y\",{\"type\":\"ndarray\",\"array\":{\"type\":\"bytes\",\"data\":\"ZmZmZmZmEkBmZmZmZmYkQJqZmZmZmfk/AAAAAAAA+D8zMzMzMzMHQAAAAAAAACJAmpmZmZmZI0BmZmZmZmYYQM3MzMzMzPQ/zczMzMzMCEAAAAAAAAAYQM3MzMzMzCFAzczMzMzMDECamZmZmZkJQJqZmZmZmQ1AAAAAAAAAHkAAAAAAAAAAQGZmZmZmZg5AMzMzMzMzH0CamZmZmZkTQAAAAAAAABhAZmZmZmZmGECamZmZmZkBQDMzMzMzMxVAZmZmZmZm/j+amZmZmZnxPzMzMzMzMyhAzczMzMzMFECamZmZmZkBQGZmZmZmZhhA\"},\"shape\":[30],\"dtype\":\"float64\",\"order\":\"little\"}]]}}},\"view\":{\"type\":\"object\",\"name\":\"CDSView\",\"id\":\"p28849\",\"attributes\":{\"filter\":{\"type\":\"object\",\"name\":\"AllIndices\",\"id\":\"p28850\"}}},\"glyph\":{\"type\":\"object\",\"name\":\"Line\",\"id\":\"p28845\",\"attributes\":{\"x\":{\"type\":\"field\",\"field\":\"x\"},\"y\":{\"type\":\"field\",\"field\":\"y\"},\"line_color\":\"#0072B2\",\"line_width\":1.2}},\"nonselection_glyph\":{\"type\":\"object\",\"name\":\"Line\",\"id\":\"p28846\",\"attributes\":{\"x\":{\"type\":\"field\",\"field\":\"x\"},\"y\":{\"type\":\"field\",\"field\":\"y\"},\"line_color\":\"#0072B2\",\"line_alpha\":0.1,\"line_width\":1.2}},\"muted_glyph\":{\"type\":\"object\",\"name\":\"Line\",\"id\":\"p28847\",\"attributes\":{\"x\":{\"type\":\"field\",\"field\":\"x\"},\"y\":{\"type\":\"field\",\"field\":\"y\"},\"line_color\":\"#0072B2\",\"line_alpha\":0.2,\"line_width\":1.2}}}}],\"toolbar\":{\"type\":\"object\",\"name\":\"Toolbar\",\"id\":\"p28796\",\"attributes\":{\"tools\":[{\"id\":\"p28818\"},{\"id\":\"p28819\"},{\"id\":\"p28820\"},{\"type\":\"object\",\"name\":\"SaveTool\",\"id\":\"p28822\"},{\"id\":\"p28823\"},{\"id\":\"p28824\"}]}},\"toolbar_location\":null,\"left\":[{\"type\":\"object\",\"name\":\"LinearAxis\",\"id\":\"p28811\",\"attributes\":{\"ticker\":{\"type\":\"object\",\"name\":\"BasicTicker\",\"id\":\"p28812\",\"attributes\":{\"mantissas\":[1,2,5]}},\"formatter\":{\"type\":\"object\",\"name\":\"BasicTickFormatter\",\"id\":\"p28813\"},\"axis_label\":\"Frequency in Percentage\",\"major_label_policy\":{\"type\":\"object\",\"name\":\"AllLabels\",\"id\":\"p28814\"}}}],\"below\":[{\"type\":\"object\",\"name\":\"CategoricalAxis\",\"id\":\"p28805\",\"attributes\":{\"ticker\":{\"type\":\"object\",\"name\":\"CategoricalTicker\",\"id\":\"p28806\"},\"formatter\":{\"type\":\"object\",\"name\":\"CategoricalTickFormatter\",\"id\":\"p28807\"},\"axis_label\":\"EU Countries\",\"major_label_policy\":{\"type\":\"object\",\"name\":\"AllLabels\",\"id\":\"p28808\"},\"axis_line_alpha\":0}}],\"center\":[{\"type\":\"object\",\"name\":\"Grid\",\"id\":\"p28810\",\"attributes\":{\"axis\":{\"id\":\"p28805\"},\"grid_line_alpha\":0.5}},{\"type\":\"object\",\"name\":\"Grid\",\"id\":\"p28817\",\"attributes\":{\"dimension\":1,\"axis\":{\"id\":\"p28811\"}}}]}},1,0],[{\"type\":\"object\",\"name\":\"Figure\",\"id\":\"p28851\",\"attributes\":{\"width\":500,\"height\":250,\"x_range\":{\"type\":\"object\",\"name\":\"FactorRange\",\"id\":\"p28861\",\"attributes\":{\"factors\":[\"AT\",\"BE\",\"BG\",\"CY\",\"CZ\",\"DE\",\"DK\",\"EE\",\"EL\",\"ES\",\"FI\",\"FR\",\"HR\",\"HU\",\"IE\",\"IS\",\"IT\",\"LT\",\"LU\",\"LV\",\"MT\",\"NO\",\"PL\",\"PT\",\"RO\",\"RS\",\"SE\",\"SI\",\"SK\",\"TR\"]}},\"y_range\":{\"type\":\"object\",\"name\":\"DataRange1d\",\"id\":\"p28853\"},\"x_scale\":{\"type\":\"object\",\"name\":\"CategoricalScale\",\"id\":\"p28865\"},\"y_scale\":{\"type\":\"object\",\"name\":\"LinearScale\",\"id\":\"p28867\"},\"title\":{\"type\":\"object\",\"name\":\"Title\",\"id\":\"p28854\",\"attributes\":{\"text\":\"Consuming Sweetened Drinks/ Depressive Symptoms Between ages Y45-54\"}},\"renderers\":[{\"type\":\"object\",\"name\":\"GlyphRenderer\",\"id\":\"p28903\",\"attributes\":{\"data_source\":{\"type\":\"object\",\"name\":\"ColumnDataSource\",\"id\":\"p28897\",\"attributes\":{\"selected\":{\"type\":\"object\",\"name\":\"Selection\",\"id\":\"p28898\",\"attributes\":{\"indices\":[],\"line_indices\":[]}},\"selection_policy\":{\"type\":\"object\",\"name\":\"UnionRenderers\",\"id\":\"p28899\"},\"data\":{\"type\":\"map\",\"entries\":[[\"x\",{\"type\":\"ndarray\",\"array\":[\"AT\",\"BE\",\"BG\",\"CY\",\"CZ\",\"DE\",\"DK\",\"EE\",\"EL\",\"ES\",\"FI\",\"FR\",\"HR\",\"HU\",\"IE\",\"IS\",\"IT\",\"LT\",\"LU\",\"LV\",\"MT\",\"NO\",\"PL\",\"PT\",\"RO\",\"RS\",\"SE\",\"SI\",\"SK\",\"TR\"],\"shape\":[30],\"dtype\":\"object\",\"order\":\"little\"}],[\"y\",{\"type\":\"ndarray\",\"array\":{\"type\":\"bytes\",\"data\":\"zczMzMzMK0DNzMzMzMwsQAAAAAAAAD5AzczMzMzMOUCamZmZmRkwQM3MzMzMzDRAAAAAAACAOEAzMzMzMzMqQAAAAAAAgDhAZmZmZmbmM0CamZmZmZkoQAAAAAAAAC5AmpmZmZkZNEAAAAAAAAAzQGZmZmZmZiZAAAAAAACANEAzMzMzMzMvQM3MzMzMzCtAZmZmZmZmLkCamZmZmZkwQM3MzMzMzCJAZmZmZmZmKkAAAAAAAIA2QDMzMzMzMyhAMzMzMzMzO0AAAAAAAIA8QJqZmZmZGThAzczMzMzMKEAzMzMzMzMpQJqZmZmZmTNA\"},\"shape\":[30],\"dtype\":\"float64\",\"order\":\"little\"}]]}}},\"view\":{\"type\":\"object\",\"name\":\"CDSView\",\"id\":\"p28904\",\"attributes\":{\"filter\":{\"type\":\"object\",\"name\":\"AllIndices\",\"id\":\"p28905\"}}},\"glyph\":{\"type\":\"object\",\"name\":\"Line\",\"id\":\"p28900\",\"attributes\":{\"x\":{\"type\":\"field\",\"field\":\"x\"},\"y\":{\"type\":\"field\",\"field\":\"y\"},\"line_color\":\"#CC79A7\",\"line_width\":1.2}},\"nonselection_glyph\":{\"type\":\"object\",\"name\":\"Line\",\"id\":\"p28901\",\"attributes\":{\"x\":{\"type\":\"field\",\"field\":\"x\"},\"y\":{\"type\":\"field\",\"field\":\"y\"},\"line_color\":\"#CC79A7\",\"line_alpha\":0.1,\"line_width\":1.2}},\"muted_glyph\":{\"type\":\"object\",\"name\":\"Line\",\"id\":\"p28902\",\"attributes\":{\"x\":{\"type\":\"field\",\"field\":\"x\"},\"y\":{\"type\":\"field\",\"field\":\"y\"},\"line_color\":\"#CC79A7\",\"line_alpha\":0.2,\"line_width\":1.2}}}},{\"type\":\"object\",\"name\":\"GlyphRenderer\",\"id\":\"p28912\",\"attributes\":{\"data_source\":{\"type\":\"object\",\"name\":\"ColumnDataSource\",\"id\":\"p28906\",\"attributes\":{\"selected\":{\"type\":\"object\",\"name\":\"Selection\",\"id\":\"p28907\",\"attributes\":{\"indices\":[],\"line_indices\":[]}},\"selection_policy\":{\"type\":\"object\",\"name\":\"UnionRenderers\",\"id\":\"p28908\"},\"data\":{\"type\":\"map\",\"entries\":[[\"x\",{\"type\":\"ndarray\",\"array\":[\"AT\",\"BE\",\"BG\",\"CY\",\"CZ\",\"DE\",\"DK\",\"EE\",\"EL\",\"ES\",\"FI\",\"FR\",\"HR\",\"HU\",\"IE\",\"IS\",\"IT\",\"LT\",\"LU\",\"LV\",\"MT\",\"NO\",\"PL\",\"PT\",\"RO\",\"RS\",\"SE\",\"SI\",\"SK\",\"TR\"],\"shape\":[30],\"dtype\":\"object\",\"order\":\"little\"}],[\"y\",{\"type\":\"ndarray\",\"array\":{\"type\":\"bytes\",\"data\":\"mpmZmZmZGUDNzMzMzMwjQAAAAAAAAAxAAAAAAAAABEDNzMzMzMwMQAAAAAAAACZAzczMzMzMGEDNzMzMzMwcQDMzMzMzMwNAmpmZmZmZE0DNzMzMzMweQM3MzMzMzCZAmpmZmZmZIEDNzMzMzMwQQM3MzMzMzBRAzczMzMzMGEBmZmZmZmYOQJqZmZmZmRNAZmZmZmZmIEAzMzMzMzMVQGZmZmZmZiVAMzMzMzMzGUDNzMzMzMwSQGZmZmZmZh5AmpmZmZmZAUDNzMzMzMz0PwAAAAAAACNAMzMzMzMzF0DNzMzMzMwIQDMzMzMzMx9A\"},\"shape\":[30],\"dtype\":\"float64\",\"order\":\"little\"}]]}}},\"view\":{\"type\":\"object\",\"name\":\"CDSView\",\"id\":\"p28913\",\"attributes\":{\"filter\":{\"type\":\"object\",\"name\":\"AllIndices\",\"id\":\"p28914\"}}},\"glyph\":{\"type\":\"object\",\"name\":\"Line\",\"id\":\"p28909\",\"attributes\":{\"x\":{\"type\":\"field\",\"field\":\"x\"},\"y\":{\"type\":\"field\",\"field\":\"y\"},\"line_color\":\"#0072B2\",\"line_width\":1.2}},\"nonselection_glyph\":{\"type\":\"object\",\"name\":\"Line\",\"id\":\"p28910\",\"attributes\":{\"x\":{\"type\":\"field\",\"field\":\"x\"},\"y\":{\"type\":\"field\",\"field\":\"y\"},\"line_color\":\"#0072B2\",\"line_alpha\":0.1,\"line_width\":1.2}},\"muted_glyph\":{\"type\":\"object\",\"name\":\"Line\",\"id\":\"p28911\",\"attributes\":{\"x\":{\"type\":\"field\",\"field\":\"x\"},\"y\":{\"type\":\"field\",\"field\":\"y\"},\"line_color\":\"#0072B2\",\"line_alpha\":0.2,\"line_width\":1.2}}}}],\"toolbar\":{\"type\":\"object\",\"name\":\"Toolbar\",\"id\":\"p28860\",\"attributes\":{\"tools\":[{\"id\":\"p28882\"},{\"id\":\"p28883\"},{\"id\":\"p28884\"},{\"type\":\"object\",\"name\":\"SaveTool\",\"id\":\"p28886\"},{\"id\":\"p28887\"},{\"id\":\"p28888\"}]}},\"toolbar_location\":null,\"left\":[{\"type\":\"object\",\"name\":\"LinearAxis\",\"id\":\"p28875\",\"attributes\":{\"ticker\":{\"type\":\"object\",\"name\":\"BasicTicker\",\"id\":\"p28876\",\"attributes\":{\"mantissas\":[1,2,5]}},\"formatter\":{\"type\":\"object\",\"name\":\"BasicTickFormatter\",\"id\":\"p28877\"},\"axis_label\":\"Frequency in Percentage\",\"major_label_policy\":{\"type\":\"object\",\"name\":\"AllLabels\",\"id\":\"p28878\"}}}],\"below\":[{\"type\":\"object\",\"name\":\"CategoricalAxis\",\"id\":\"p28869\",\"attributes\":{\"ticker\":{\"type\":\"object\",\"name\":\"CategoricalTicker\",\"id\":\"p28870\"},\"formatter\":{\"type\":\"object\",\"name\":\"CategoricalTickFormatter\",\"id\":\"p28871\"},\"axis_label\":\"EU Countries\",\"major_label_policy\":{\"type\":\"object\",\"name\":\"AllLabels\",\"id\":\"p28872\"},\"axis_line_alpha\":0}}],\"center\":[{\"type\":\"object\",\"name\":\"Grid\",\"id\":\"p28874\",\"attributes\":{\"axis\":{\"id\":\"p28869\"},\"grid_line_alpha\":0.5}},{\"type\":\"object\",\"name\":\"Grid\",\"id\":\"p28881\",\"attributes\":{\"dimension\":1,\"axis\":{\"id\":\"p28875\"}}}]}},1,1],[{\"type\":\"object\",\"name\":\"Figure\",\"id\":\"p28915\",\"attributes\":{\"width\":500,\"height\":250,\"x_range\":{\"type\":\"object\",\"name\":\"FactorRange\",\"id\":\"p28925\",\"attributes\":{\"factors\":[\"AT\",\"BE\",\"BG\",\"CY\",\"CZ\",\"DE\",\"DK\",\"EE\",\"EL\",\"ES\",\"FI\",\"FR\",\"HR\",\"HU\",\"IE\",\"IS\",\"IT\",\"LT\",\"LU\",\"LV\",\"MT\",\"NO\",\"PL\",\"PT\",\"RO\",\"RS\",\"SE\",\"SI\",\"SK\",\"TR\"]}},\"y_range\":{\"type\":\"object\",\"name\":\"DataRange1d\",\"id\":\"p28917\"},\"x_scale\":{\"type\":\"object\",\"name\":\"CategoricalScale\",\"id\":\"p28929\"},\"y_scale\":{\"type\":\"object\",\"name\":\"LinearScale\",\"id\":\"p28931\"},\"title\":{\"type\":\"object\",\"name\":\"Title\",\"id\":\"p28918\",\"attributes\":{\"text\":\"Consuming Sweetened Drinks/ Depressive Symptoms Between ages Y55-64\"}},\"renderers\":[{\"type\":\"object\",\"name\":\"GlyphRenderer\",\"id\":\"p28967\",\"attributes\":{\"data_source\":{\"type\":\"object\",\"name\":\"ColumnDataSource\",\"id\":\"p28961\",\"attributes\":{\"selected\":{\"type\":\"object\",\"name\":\"Selection\",\"id\":\"p28962\",\"attributes\":{\"indices\":[],\"line_indices\":[]}},\"selection_policy\":{\"type\":\"object\",\"name\":\"UnionRenderers\",\"id\":\"p28963\"},\"data\":{\"type\":\"map\",\"entries\":[[\"x\",{\"type\":\"ndarray\",\"array\":[\"AT\",\"BE\",\"BG\",\"CY\",\"CZ\",\"DE\",\"DK\",\"EE\",\"EL\",\"ES\",\"FI\",\"FR\",\"HR\",\"HU\",\"IE\",\"IS\",\"IT\",\"LT\",\"LU\",\"LV\",\"MT\",\"NO\",\"PL\",\"PT\",\"RO\",\"RS\",\"SE\",\"SI\",\"SK\",\"TR\"],\"shape\":[30],\"dtype\":\"object\",\"order\":\"little\"}],[\"y\",{\"type\":\"ndarray\",\"array\":{\"type\":\"bytes\",\"data\":\"ZmZmZmZmJEAAAAAAAAAtQGZmZmZmZjpAzczMzMzMOkAAAAAAAAAtQGZmZmZmZixAzczMzMzMMEBmZmZmZmYeQAAAAAAAADRAmpmZmZmZKkAzMzMzMzMjQM3MzMzMzCFAZmZmZmZmLkAAAAAAAAAnQJqZmZmZmSNAzczMzMzMNUCamZmZmZkkQJqZmZmZmSNAzczMzMzMJECamZmZmZknQJqZmZmZmSBAzczMzMzMIkAzMzMzMzMwQJqZmZmZmSNAZmZmZmZmNEAzMzMzM7M4QAAAAAAAgDBAZmZmZmZmI0CamZmZmZkpQAAAAAAAAC1A\"},\"shape\":[30],\"dtype\":\"float64\",\"order\":\"little\"}]]}}},\"view\":{\"type\":\"object\",\"name\":\"CDSView\",\"id\":\"p28968\",\"attributes\":{\"filter\":{\"type\":\"object\",\"name\":\"AllIndices\",\"id\":\"p28969\"}}},\"glyph\":{\"type\":\"object\",\"name\":\"Line\",\"id\":\"p28964\",\"attributes\":{\"x\":{\"type\":\"field\",\"field\":\"x\"},\"y\":{\"type\":\"field\",\"field\":\"y\"},\"line_color\":\"#CC79A7\",\"line_width\":1.2}},\"nonselection_glyph\":{\"type\":\"object\",\"name\":\"Line\",\"id\":\"p28965\",\"attributes\":{\"x\":{\"type\":\"field\",\"field\":\"x\"},\"y\":{\"type\":\"field\",\"field\":\"y\"},\"line_color\":\"#CC79A7\",\"line_alpha\":0.1,\"line_width\":1.2}},\"muted_glyph\":{\"type\":\"object\",\"name\":\"Line\",\"id\":\"p28966\",\"attributes\":{\"x\":{\"type\":\"field\",\"field\":\"x\"},\"y\":{\"type\":\"field\",\"field\":\"y\"},\"line_color\":\"#CC79A7\",\"line_alpha\":0.2,\"line_width\":1.2}}}},{\"type\":\"object\",\"name\":\"GlyphRenderer\",\"id\":\"p28976\",\"attributes\":{\"data_source\":{\"type\":\"object\",\"name\":\"ColumnDataSource\",\"id\":\"p28970\",\"attributes\":{\"selected\":{\"type\":\"object\",\"name\":\"Selection\",\"id\":\"p28971\",\"attributes\":{\"indices\":[],\"line_indices\":[]}},\"selection_policy\":{\"type\":\"object\",\"name\":\"UnionRenderers\",\"id\":\"p28972\"},\"data\":{\"type\":\"map\",\"entries\":[[\"x\",{\"type\":\"ndarray\",\"array\":[\"AT\",\"BE\",\"BG\",\"CY\",\"CZ\",\"DE\",\"DK\",\"EE\",\"EL\",\"ES\",\"FI\",\"FR\",\"HR\",\"HU\",\"IE\",\"IS\",\"IT\",\"LT\",\"LU\",\"LV\",\"MT\",\"NO\",\"PL\",\"PT\",\"RO\",\"RS\",\"SE\",\"SI\",\"SK\",\"TR\"],\"shape\":[30],\"dtype\":\"object\",\"order\":\"little\"}],[\"y\",{\"type\":\"ndarray\",\"array\":{\"type\":\"bytes\",\"data\":\"mpmZmZmZF0BmZmZmZmYjQJqZmZmZmRdAmpmZmZmZCUAAAAAAAAAWQDMzMzMzMyRAZmZmZmZmFEAAAAAAAAAhQDMzMzMzMwtAzczMzMzMGEDNzMzMzMwIQAAAAAAAACVAAAAAAAAAHkCamZmZmZkdQJqZmZmZmRNAMzMzMzMzIUBmZmZmZmYOQAAAAAAAABpAmpmZmZmZGUCamZmZmZkXQAAAAAAAACZAmpmZmZmZFUDNzMzMzMwYQGZmZmZmZiRAAAAAAAAAEEAzMzMzMzMHQJqZmZmZmR9AMzMzMzMzGUDNzMzMzMwQQGZmZmZmZhpA\"},\"shape\":[30],\"dtype\":\"float64\",\"order\":\"little\"}]]}}},\"view\":{\"type\":\"object\",\"name\":\"CDSView\",\"id\":\"p28977\",\"attributes\":{\"filter\":{\"type\":\"object\",\"name\":\"AllIndices\",\"id\":\"p28978\"}}},\"glyph\":{\"type\":\"object\",\"name\":\"Line\",\"id\":\"p28973\",\"attributes\":{\"x\":{\"type\":\"field\",\"field\":\"x\"},\"y\":{\"type\":\"field\",\"field\":\"y\"},\"line_color\":\"#0072B2\",\"line_width\":1.2}},\"nonselection_glyph\":{\"type\":\"object\",\"name\":\"Line\",\"id\":\"p28974\",\"attributes\":{\"x\":{\"type\":\"field\",\"field\":\"x\"},\"y\":{\"type\":\"field\",\"field\":\"y\"},\"line_color\":\"#0072B2\",\"line_alpha\":0.1,\"line_width\":1.2}},\"muted_glyph\":{\"type\":\"object\",\"name\":\"Line\",\"id\":\"p28975\",\"attributes\":{\"x\":{\"type\":\"field\",\"field\":\"x\"},\"y\":{\"type\":\"field\",\"field\":\"y\"},\"line_color\":\"#0072B2\",\"line_alpha\":0.2,\"line_width\":1.2}}}}],\"toolbar\":{\"type\":\"object\",\"name\":\"Toolbar\",\"id\":\"p28924\",\"attributes\":{\"tools\":[{\"id\":\"p28946\"},{\"id\":\"p28947\"},{\"id\":\"p28948\"},{\"type\":\"object\",\"name\":\"SaveTool\",\"id\":\"p28950\"},{\"id\":\"p28951\"},{\"id\":\"p28952\"}]}},\"toolbar_location\":null,\"left\":[{\"type\":\"object\",\"name\":\"LinearAxis\",\"id\":\"p28939\",\"attributes\":{\"ticker\":{\"type\":\"object\",\"name\":\"BasicTicker\",\"id\":\"p28940\",\"attributes\":{\"mantissas\":[1,2,5]}},\"formatter\":{\"type\":\"object\",\"name\":\"BasicTickFormatter\",\"id\":\"p28941\"},\"axis_label\":\"Frequency in Percentage\",\"major_label_policy\":{\"type\":\"object\",\"name\":\"AllLabels\",\"id\":\"p28942\"}}}],\"below\":[{\"type\":\"object\",\"name\":\"CategoricalAxis\",\"id\":\"p28933\",\"attributes\":{\"ticker\":{\"type\":\"object\",\"name\":\"CategoricalTicker\",\"id\":\"p28934\"},\"formatter\":{\"type\":\"object\",\"name\":\"CategoricalTickFormatter\",\"id\":\"p28935\"},\"axis_label\":\"EU Countries\",\"major_label_policy\":{\"type\":\"object\",\"name\":\"AllLabels\",\"id\":\"p28936\"},\"axis_line_alpha\":0}}],\"center\":[{\"type\":\"object\",\"name\":\"Grid\",\"id\":\"p28938\",\"attributes\":{\"axis\":{\"id\":\"p28933\"},\"grid_line_alpha\":0.5}},{\"type\":\"object\",\"name\":\"Grid\",\"id\":\"p28945\",\"attributes\":{\"dimension\":1,\"axis\":{\"id\":\"p28939\"}}}]}},2,0],[{\"type\":\"object\",\"name\":\"Figure\",\"id\":\"p28979\",\"attributes\":{\"width\":500,\"height\":250,\"x_range\":{\"type\":\"object\",\"name\":\"FactorRange\",\"id\":\"p28989\",\"attributes\":{\"factors\":[\"AT\",\"BE\",\"BG\",\"CY\",\"CZ\",\"DE\",\"DK\",\"EE\",\"EL\",\"ES\",\"FI\",\"FR\",\"HR\",\"HU\",\"IE\",\"IS\",\"IT\",\"LT\",\"LU\",\"LV\",\"MT\",\"NO\",\"PL\",\"PT\",\"RO\",\"RS\",\"SE\",\"SI\",\"SK\",\"TR\"]}},\"y_range\":{\"type\":\"object\",\"name\":\"DataRange1d\",\"id\":\"p28981\"},\"x_scale\":{\"type\":\"object\",\"name\":\"CategoricalScale\",\"id\":\"p28993\"},\"y_scale\":{\"type\":\"object\",\"name\":\"LinearScale\",\"id\":\"p28995\"},\"title\":{\"type\":\"object\",\"name\":\"Title\",\"id\":\"p28982\",\"attributes\":{\"text\":\"Consuming Sweetened Drinks/ Depressive Symptoms Between ages Y65-74\"}},\"renderers\":[{\"type\":\"object\",\"name\":\"GlyphRenderer\",\"id\":\"p29031\",\"attributes\":{\"data_source\":{\"type\":\"object\",\"name\":\"ColumnDataSource\",\"id\":\"p29025\",\"attributes\":{\"selected\":{\"type\":\"object\",\"name\":\"Selection\",\"id\":\"p29026\",\"attributes\":{\"indices\":[],\"line_indices\":[]}},\"selection_policy\":{\"type\":\"object\",\"name\":\"UnionRenderers\",\"id\":\"p29027\"},\"data\":{\"type\":\"map\",\"entries\":[[\"x\",{\"type\":\"ndarray\",\"array\":[\"AT\",\"BE\",\"BG\",\"CY\",\"CZ\",\"DE\",\"DK\",\"EE\",\"EL\",\"ES\",\"FI\",\"FR\",\"HR\",\"HU\",\"IE\",\"IS\",\"IT\",\"LT\",\"LU\",\"LV\",\"MT\",\"NO\",\"PL\",\"PT\",\"RO\",\"RS\",\"SE\",\"SI\",\"SK\",\"TR\"],\"shape\":[30],\"dtype\":\"object\",\"order\":\"little\"}],[\"y\",{\"type\":\"ndarray\",\"array\":{\"type\":\"bytes\",\"data\":\"mpmZmZmZG0BmZmZmZmYhQGZmZmZmZjdAzczMzMzMOEAAAAAAAAAnQGZmZmZmZihAZmZmZmZmJ0DNzMzMzMwWQGZmZmZmZi1AmpmZmZmZH0AAAAAAAAAaQDMzMzMzMxlAzczMzMzMIkAAAAAAAAAeQM3MzMzMzBhAMzMzMzMzLUAzMzMzMzMdQJqZmZmZmRNAMzMzMzMzI0BmZmZmZmYWQDMzMzMzMxdAAAAAAAAAIEBmZmZmZmYqQM3MzMzMzBhAMzMzMzMzLUCamZmZmZkzQAAAAAAAAC1AMzMzMzMzGUBmZmZmZmYkQJqZmZmZmSZA\"},\"shape\":[30],\"dtype\":\"float64\",\"order\":\"little\"}]]}}},\"view\":{\"type\":\"object\",\"name\":\"CDSView\",\"id\":\"p29032\",\"attributes\":{\"filter\":{\"type\":\"object\",\"name\":\"AllIndices\",\"id\":\"p29033\"}}},\"glyph\":{\"type\":\"object\",\"name\":\"Line\",\"id\":\"p29028\",\"attributes\":{\"x\":{\"type\":\"field\",\"field\":\"x\"},\"y\":{\"type\":\"field\",\"field\":\"y\"},\"line_color\":\"#CC79A7\",\"line_width\":1.2}},\"nonselection_glyph\":{\"type\":\"object\",\"name\":\"Line\",\"id\":\"p29029\",\"attributes\":{\"x\":{\"type\":\"field\",\"field\":\"x\"},\"y\":{\"type\":\"field\",\"field\":\"y\"},\"line_color\":\"#CC79A7\",\"line_alpha\":0.1,\"line_width\":1.2}},\"muted_glyph\":{\"type\":\"object\",\"name\":\"Line\",\"id\":\"p29030\",\"attributes\":{\"x\":{\"type\":\"field\",\"field\":\"x\"},\"y\":{\"type\":\"field\",\"field\":\"y\"},\"line_color\":\"#CC79A7\",\"line_alpha\":0.2,\"line_width\":1.2}}}},{\"type\":\"object\",\"name\":\"GlyphRenderer\",\"id\":\"p29040\",\"attributes\":{\"data_source\":{\"type\":\"object\",\"name\":\"ColumnDataSource\",\"id\":\"p29034\",\"attributes\":{\"selected\":{\"type\":\"object\",\"name\":\"Selection\",\"id\":\"p29035\",\"attributes\":{\"indices\":[],\"line_indices\":[]}},\"selection_policy\":{\"type\":\"object\",\"name\":\"UnionRenderers\",\"id\":\"p29036\"},\"data\":{\"type\":\"map\",\"entries\":[[\"x\",{\"type\":\"ndarray\",\"array\":[\"AT\",\"BE\",\"BG\",\"CY\",\"CZ\",\"DE\",\"DK\",\"EE\",\"EL\",\"ES\",\"FI\",\"FR\",\"HR\",\"HU\",\"IE\",\"IS\",\"IT\",\"LT\",\"LU\",\"LV\",\"MT\",\"NO\",\"PL\",\"PT\",\"RO\",\"RS\",\"SE\",\"SI\",\"SK\",\"TR\"],\"shape\":[30],\"dtype\":\"object\",\"order\":\"little\"}],[\"y\",{\"type\":\"ndarray\",\"array\":{\"type\":\"bytes\",\"data\":\"zczMzMzMEkCamZmZmZkZQJqZmZmZmR1AMzMzMzMzD0CamZmZmZkTQJqZmZmZmRdAmpmZmZmZCUCamZmZmZkhQJqZmZmZmRNAzczMzMzMFkAAAAAAAAAAQGZmZmZmZiZAmpmZmZmZK0AAAAAAAAAaQJqZmZmZmRFAMzMzMzMzIUBmZmZmZmYQQDMzMzMzMx9AZmZmZmZmDkDNzMzMzMwaQM3MzMzMzCJAZmZmZmZmCkAAAAAAAAAcQM3MzMzMzCJAZmZmZmZmGkDNzMzMzMwQQDMzMzMzMxNAMzMzMzMzHUBmZmZmZmYQQAAAAAAAACNA\"},\"shape\":[30],\"dtype\":\"float64\",\"order\":\"little\"}]]}}},\"view\":{\"type\":\"object\",\"name\":\"CDSView\",\"id\":\"p29041\",\"attributes\":{\"filter\":{\"type\":\"object\",\"name\":\"AllIndices\",\"id\":\"p29042\"}}},\"glyph\":{\"type\":\"object\",\"name\":\"Line\",\"id\":\"p29037\",\"attributes\":{\"x\":{\"type\":\"field\",\"field\":\"x\"},\"y\":{\"type\":\"field\",\"field\":\"y\"},\"line_color\":\"#0072B2\",\"line_width\":1.2}},\"nonselection_glyph\":{\"type\":\"object\",\"name\":\"Line\",\"id\":\"p29038\",\"attributes\":{\"x\":{\"type\":\"field\",\"field\":\"x\"},\"y\":{\"type\":\"field\",\"field\":\"y\"},\"line_color\":\"#0072B2\",\"line_alpha\":0.1,\"line_width\":1.2}},\"muted_glyph\":{\"type\":\"object\",\"name\":\"Line\",\"id\":\"p29039\",\"attributes\":{\"x\":{\"type\":\"field\",\"field\":\"x\"},\"y\":{\"type\":\"field\",\"field\":\"y\"},\"line_color\":\"#0072B2\",\"line_alpha\":0.2,\"line_width\":1.2}}}}],\"toolbar\":{\"type\":\"object\",\"name\":\"Toolbar\",\"id\":\"p28988\",\"attributes\":{\"tools\":[{\"id\":\"p29010\"},{\"id\":\"p29011\"},{\"id\":\"p29012\"},{\"type\":\"object\",\"name\":\"SaveTool\",\"id\":\"p29014\"},{\"id\":\"p29015\"},{\"id\":\"p29016\"}]}},\"toolbar_location\":null,\"left\":[{\"type\":\"object\",\"name\":\"LinearAxis\",\"id\":\"p29003\",\"attributes\":{\"ticker\":{\"type\":\"object\",\"name\":\"BasicTicker\",\"id\":\"p29004\",\"attributes\":{\"mantissas\":[1,2,5]}},\"formatter\":{\"type\":\"object\",\"name\":\"BasicTickFormatter\",\"id\":\"p29005\"},\"axis_label\":\"Frequency in Percentage\",\"major_label_policy\":{\"type\":\"object\",\"name\":\"AllLabels\",\"id\":\"p29006\"}}}],\"below\":[{\"type\":\"object\",\"name\":\"CategoricalAxis\",\"id\":\"p28997\",\"attributes\":{\"ticker\":{\"type\":\"object\",\"name\":\"CategoricalTicker\",\"id\":\"p28998\"},\"formatter\":{\"type\":\"object\",\"name\":\"CategoricalTickFormatter\",\"id\":\"p28999\"},\"axis_label\":\"EU Countries\",\"major_label_policy\":{\"type\":\"object\",\"name\":\"AllLabels\",\"id\":\"p29000\"},\"axis_line_alpha\":0}}],\"center\":[{\"type\":\"object\",\"name\":\"Grid\",\"id\":\"p29002\",\"attributes\":{\"axis\":{\"id\":\"p28997\"},\"grid_line_alpha\":0.5}},{\"type\":\"object\",\"name\":\"Grid\",\"id\":\"p29009\",\"attributes\":{\"dimension\":1,\"axis\":{\"id\":\"p29003\"}}}]}},2,1]]}}]}};\n  const render_items = [{\"docid\":\"9b34a45c-18be-454b-b981-bf376aa77912\",\"roots\":{\"p29170\":\"0c83e8d1-60ee-4dd3-bccf-d8ff8635a042\"},\"root_ids\":[\"p29170\"]}];\n  root.Bokeh.embed.embed_items_notebook(docs_json, render_items);\n  }\n  if (root.Bokeh !== undefined) {\n    embed_document(root);\n  } else {\n    let attempts = 0;\n    const timer = setInterval(function(root) {\n      if (root.Bokeh !== undefined) {\n        clearInterval(timer);\n        embed_document(root);\n      } else {\n        attempts++;\n        if (attempts > 100) {\n          clearInterval(timer);\n          console.log(\"Bokeh: ERROR: Unable to run BokehJS code because BokehJS library is missing\");\n        }\n      }\n    }, 10, root)\n  }\n})(window);",
      "application/vnd.bokehjs_exec.v0+json": ""
     },
     "metadata": {
      "application/vnd.bokehjs_exec.v0+json": {
       "id": "p29170"
      }
     },
     "output_type": "display_data"
    }
   ],
   "source": [
    "def make_line_plot():\n",
    "    plot_list=[]\n",
    "    for df in grouped_dfs[:6]:\n",
    "    \n",
    "        fig = figure(x_range=df['Country'],height=250,width=500,\n",
    "                     title=f\"Consuming Sweetened Drinks/ Depressive Symptoms Between ages {df['Age_Range'].iloc[1]}\",\n",
    "                     x_axis_label='EU Countries',y_axis_label='Frequency in Percentage')\n",
    "        \n",
    "        fig.line(x=df['Country'],y=df['Obs_Value_Dri'],color='#CC79A7',line_width=1.2)\n",
    "        fig.line(x=df['Country'],y=df['Obs_Value_Dep'],color='#0072B2',line_width=1.2)\n",
    "\n",
    "        # fig.xgrid.grid_line_color = 'red'\n",
    "        fig.xgrid.grid_line_alpha = 0.5\n",
    "        fig.xaxis.axis_line_alpha = 0\n",
    "        fig.ygrid.grid_line_alpha = 1\n",
    "\n",
    "        \n",
    "        plot_list.append(fig)\n",
    "        \n",
    "    grid = gridplot(plot_list,ncols=2)\n",
    "    show(grid)\n",
    "\n",
    "make_line_plot()\n"
   ]
  },
  {
   "cell_type": "code",
   "execution_count": 46,
   "metadata": {},
   "outputs": [
    {
     "data": {
      "text/html": [
       "\n",
       "  <div id=\"31c9bcb6-58ac-4e62-8e25-a6510b96116f\" data-root-id=\"p31761\" style=\"display: contents;\"></div>\n"
      ]
     },
     "metadata": {},
     "output_type": "display_data"
    },
    {
     "data": {
      "application/javascript": "(function(root) {\n  function embed_document(root) {\n  const docs_json = {\"e4bd0cee-a8b3-4635-ba06-0aac7e980257\":{\"version\":\"3.0.3\",\"title\":\"Bokeh Application\",\"defs\":[],\"roots\":[{\"type\":\"object\",\"name\":\"GridPlot\",\"id\":\"p31761\",\"attributes\":{\"toolbar\":{\"type\":\"object\",\"name\":\"Toolbar\",\"id\":\"p31760\",\"attributes\":{\"tools\":[{\"type\":\"object\",\"name\":\"ToolProxy\",\"id\":\"p31753\",\"attributes\":{\"tools\":[{\"type\":\"object\",\"name\":\"PanTool\",\"id\":\"p31347\"},{\"type\":\"object\",\"name\":\"PanTool\",\"id\":\"p31405\"},{\"type\":\"object\",\"name\":\"PanTool\",\"id\":\"p31463\"},{\"type\":\"object\",\"name\":\"PanTool\",\"id\":\"p31521\"},{\"type\":\"object\",\"name\":\"PanTool\",\"id\":\"p31579\"},{\"type\":\"object\",\"name\":\"PanTool\",\"id\":\"p31637\"}]}},{\"type\":\"object\",\"name\":\"ToolProxy\",\"id\":\"p31754\",\"attributes\":{\"tools\":[{\"type\":\"object\",\"name\":\"WheelZoomTool\",\"id\":\"p31348\"},{\"type\":\"object\",\"name\":\"WheelZoomTool\",\"id\":\"p31406\"},{\"type\":\"object\",\"name\":\"WheelZoomTool\",\"id\":\"p31464\"},{\"type\":\"object\",\"name\":\"WheelZoomTool\",\"id\":\"p31522\"},{\"type\":\"object\",\"name\":\"WheelZoomTool\",\"id\":\"p31580\"},{\"type\":\"object\",\"name\":\"WheelZoomTool\",\"id\":\"p31638\"}]}},{\"type\":\"object\",\"name\":\"ToolProxy\",\"id\":\"p31755\",\"attributes\":{\"tools\":[{\"type\":\"object\",\"name\":\"BoxZoomTool\",\"id\":\"p31349\",\"attributes\":{\"overlay\":{\"type\":\"object\",\"name\":\"BoxAnnotation\",\"id\":\"p31350\",\"attributes\":{\"syncable\":false,\"level\":\"overlay\",\"visible\":false,\"left_units\":\"canvas\",\"right_units\":\"canvas\",\"bottom_units\":\"canvas\",\"top_units\":\"canvas\",\"line_color\":\"black\",\"line_alpha\":1.0,\"line_width\":2,\"line_dash\":[4,4],\"fill_color\":\"lightgrey\",\"fill_alpha\":0.5}}}},{\"type\":\"object\",\"name\":\"BoxZoomTool\",\"id\":\"p31407\",\"attributes\":{\"overlay\":{\"type\":\"object\",\"name\":\"BoxAnnotation\",\"id\":\"p31408\",\"attributes\":{\"syncable\":false,\"level\":\"overlay\",\"visible\":false,\"left_units\":\"canvas\",\"right_units\":\"canvas\",\"bottom_units\":\"canvas\",\"top_units\":\"canvas\",\"line_color\":\"black\",\"line_alpha\":1.0,\"line_width\":2,\"line_dash\":[4,4],\"fill_color\":\"lightgrey\",\"fill_alpha\":0.5}}}},{\"type\":\"object\",\"name\":\"BoxZoomTool\",\"id\":\"p31465\",\"attributes\":{\"overlay\":{\"type\":\"object\",\"name\":\"BoxAnnotation\",\"id\":\"p31466\",\"attributes\":{\"syncable\":false,\"level\":\"overlay\",\"visible\":false,\"left_units\":\"canvas\",\"right_units\":\"canvas\",\"bottom_units\":\"canvas\",\"top_units\":\"canvas\",\"line_color\":\"black\",\"line_alpha\":1.0,\"line_width\":2,\"line_dash\":[4,4],\"fill_color\":\"lightgrey\",\"fill_alpha\":0.5}}}},{\"type\":\"object\",\"name\":\"BoxZoomTool\",\"id\":\"p31523\",\"attributes\":{\"overlay\":{\"type\":\"object\",\"name\":\"BoxAnnotation\",\"id\":\"p31524\",\"attributes\":{\"syncable\":false,\"level\":\"overlay\",\"visible\":false,\"left_units\":\"canvas\",\"right_units\":\"canvas\",\"bottom_units\":\"canvas\",\"top_units\":\"canvas\",\"line_color\":\"black\",\"line_alpha\":1.0,\"line_width\":2,\"line_dash\":[4,4],\"fill_color\":\"lightgrey\",\"fill_alpha\":0.5}}}},{\"type\":\"object\",\"name\":\"BoxZoomTool\",\"id\":\"p31581\",\"attributes\":{\"overlay\":{\"type\":\"object\",\"name\":\"BoxAnnotation\",\"id\":\"p31582\",\"attributes\":{\"syncable\":false,\"level\":\"overlay\",\"visible\":false,\"left_units\":\"canvas\",\"right_units\":\"canvas\",\"bottom_units\":\"canvas\",\"top_units\":\"canvas\",\"line_color\":\"black\",\"line_alpha\":1.0,\"line_width\":2,\"line_dash\":[4,4],\"fill_color\":\"lightgrey\",\"fill_alpha\":0.5}}}},{\"type\":\"object\",\"name\":\"BoxZoomTool\",\"id\":\"p31639\",\"attributes\":{\"overlay\":{\"type\":\"object\",\"name\":\"BoxAnnotation\",\"id\":\"p31640\",\"attributes\":{\"syncable\":false,\"level\":\"overlay\",\"visible\":false,\"left_units\":\"canvas\",\"right_units\":\"canvas\",\"bottom_units\":\"canvas\",\"top_units\":\"canvas\",\"line_color\":\"black\",\"line_alpha\":1.0,\"line_width\":2,\"line_dash\":[4,4],\"fill_color\":\"lightgrey\",\"fill_alpha\":0.5}}}}]}},{\"type\":\"object\",\"name\":\"SaveTool\",\"id\":\"p31756\"},{\"type\":\"object\",\"name\":\"ToolProxy\",\"id\":\"p31757\",\"attributes\":{\"tools\":[{\"type\":\"object\",\"name\":\"ResetTool\",\"id\":\"p31352\"},{\"type\":\"object\",\"name\":\"ResetTool\",\"id\":\"p31410\"},{\"type\":\"object\",\"name\":\"ResetTool\",\"id\":\"p31468\"},{\"type\":\"object\",\"name\":\"ResetTool\",\"id\":\"p31526\"},{\"type\":\"object\",\"name\":\"ResetTool\",\"id\":\"p31584\"},{\"type\":\"object\",\"name\":\"ResetTool\",\"id\":\"p31642\"}]}},{\"type\":\"object\",\"name\":\"ToolProxy\",\"id\":\"p31758\",\"attributes\":{\"tools\":[{\"type\":\"object\",\"name\":\"HelpTool\",\"id\":\"p31353\"},{\"type\":\"object\",\"name\":\"HelpTool\",\"id\":\"p31411\"},{\"type\":\"object\",\"name\":\"HelpTool\",\"id\":\"p31469\"},{\"type\":\"object\",\"name\":\"HelpTool\",\"id\":\"p31527\"},{\"type\":\"object\",\"name\":\"HelpTool\",\"id\":\"p31585\"},{\"type\":\"object\",\"name\":\"HelpTool\",\"id\":\"p31643\"}]}},{\"type\":\"object\",\"name\":\"ToolProxy\",\"id\":\"p31759\",\"attributes\":{\"tools\":[{\"type\":\"object\",\"name\":\"HoverTool\",\"id\":\"p31355\",\"attributes\":{\"renderers\":\"auto\",\"tooltips\":[[\"Country\",\"@Country\"]]}},{\"type\":\"object\",\"name\":\"HoverTool\",\"id\":\"p31413\",\"attributes\":{\"renderers\":\"auto\",\"tooltips\":[[\"Country\",\"@Country\"]]}},{\"type\":\"object\",\"name\":\"HoverTool\",\"id\":\"p31471\",\"attributes\":{\"renderers\":\"auto\",\"tooltips\":[[\"Country\",\"@Country\"]]}},{\"type\":\"object\",\"name\":\"HoverTool\",\"id\":\"p31529\",\"attributes\":{\"renderers\":\"auto\",\"tooltips\":[[\"Country\",\"@Country\"]]}},{\"type\":\"object\",\"name\":\"HoverTool\",\"id\":\"p31587\",\"attributes\":{\"renderers\":\"auto\",\"tooltips\":[[\"Country\",\"@Country\"]]}},{\"type\":\"object\",\"name\":\"HoverTool\",\"id\":\"p31645\",\"attributes\":{\"renderers\":\"auto\",\"tooltips\":[[\"Country\",\"@Country\"]]}}]}}]}},\"children\":[[{\"type\":\"object\",\"name\":\"Figure\",\"id\":\"p31315\",\"attributes\":{\"width\":500,\"height\":300,\"x_range\":{\"type\":\"object\",\"name\":\"DataRange1d\",\"id\":\"p31316\"},\"y_range\":{\"type\":\"object\",\"name\":\"DataRange1d\",\"id\":\"p31317\"},\"x_scale\":{\"type\":\"object\",\"name\":\"LinearScale\",\"id\":\"p31329\"},\"y_scale\":{\"type\":\"object\",\"name\":\"LinearScale\",\"id\":\"p31331\"},\"title\":{\"type\":\"object\",\"name\":\"Title\",\"id\":\"p31318\",\"attributes\":{\"text\":\"Consuming Sweetened Drinks/ Depressive Symptoms Between ages Y15-24\"}},\"renderers\":[{\"type\":\"object\",\"name\":\"GlyphRenderer\",\"id\":\"p31370\",\"attributes\":{\"data_source\":{\"type\":\"object\",\"name\":\"ColumnDataSource\",\"id\":\"p31364\",\"attributes\":{\"selected\":{\"type\":\"object\",\"name\":\"Selection\",\"id\":\"p31365\",\"attributes\":{\"indices\":[],\"line_indices\":[]}},\"selection_policy\":{\"type\":\"object\",\"name\":\"UnionRenderers\",\"id\":\"p31366\"},\"data\":{\"type\":\"map\",\"entries\":[[\"x\",{\"type\":\"ndarray\",\"array\":{\"type\":\"bytes\",\"data\":\"ZmZmZmbmO0CamZmZmZk5QM3MzMzMzD5AZmZmZmZmO0AzMzMzMzM8QDMzMzMzMz9AzczMzMyMQEBmZmZmZmY8QAAAAAAAQEBAmpmZmZnZQEAzMzMzMzNBQDMzMzMzMzxAmpmZmZkZPECamZmZmZk9QGZmZmZmZjtAzczMzMzMOkAzMzMzM7M8QAAAAAAAwEJAZmZmZmbmOkAAAAAAAEBBQM3MzMzMzDFAZmZmZmZmPUBmZmZmZiZAQGZmZmZmZjlAzczMzMyMQUAzMzMzM7M7QDMzMzMzc0RAZmZmZmZmOECamZmZmRk5QJqZmZmZGT1A\"},\"shape\":[30],\"dtype\":\"float64\",\"order\":\"little\"}],[\"y\",{\"type\":\"ndarray\",\"array\":{\"type\":\"bytes\",\"data\":\"zczMzMzMEEAzMzMzMzMbQAAAAAAAAPA/mpmZmZmZ6T/NzMzMzMz8PzMzMzMzMyJAMzMzMzMzMEBmZmZmZmYaQJqZmZmZmbk/ZmZmZmZmBkAAAAAAAAArQAAAAAAAACRAzczMzMzMBEDNzMzMzMwIQGZmZmZmZhRAZmZmZmZmIUAzMzMzMzMDQJqZmZmZmRFAZmZmZmZmLkAAAAAAAAAUQM3MzMzMzB5AAAAAAAAAI0AAAAAAAAAAQM3MzMzMzBBAmpmZmZmZyT8zMzMzMzPjP5qZmZmZmS1AAAAAAAAAJUDNzMzMzMzsP2ZmZmZmZhJA\"},\"shape\":[30],\"dtype\":\"float64\",\"order\":\"little\"}]]}}},\"view\":{\"type\":\"object\",\"name\":\"CDSView\",\"id\":\"p31371\",\"attributes\":{\"filter\":{\"type\":\"object\",\"name\":\"AllIndices\",\"id\":\"p31372\"}}},\"glyph\":{\"type\":\"object\",\"name\":\"Scatter\",\"id\":\"p31367\",\"attributes\":{\"x\":{\"type\":\"field\",\"field\":\"x\"},\"y\":{\"type\":\"field\",\"field\":\"y\"},\"size\":{\"type\":\"value\",\"value\":5},\"line_color\":{\"type\":\"value\",\"value\":\"red\"},\"fill_color\":{\"type\":\"value\",\"value\":\"red\"},\"hatch_color\":{\"type\":\"value\",\"value\":\"red\"}}},\"nonselection_glyph\":{\"type\":\"object\",\"name\":\"Scatter\",\"id\":\"p31368\",\"attributes\":{\"x\":{\"type\":\"field\",\"field\":\"x\"},\"y\":{\"type\":\"field\",\"field\":\"y\"},\"size\":{\"type\":\"value\",\"value\":5},\"line_color\":{\"type\":\"value\",\"value\":\"red\"},\"line_alpha\":{\"type\":\"value\",\"value\":0.1},\"fill_color\":{\"type\":\"value\",\"value\":\"red\"},\"fill_alpha\":{\"type\":\"value\",\"value\":0.1},\"hatch_color\":{\"type\":\"value\",\"value\":\"red\"},\"hatch_alpha\":{\"type\":\"value\",\"value\":0.1}}},\"muted_glyph\":{\"type\":\"object\",\"name\":\"Scatter\",\"id\":\"p31369\",\"attributes\":{\"x\":{\"type\":\"field\",\"field\":\"x\"},\"y\":{\"type\":\"field\",\"field\":\"y\"},\"size\":{\"type\":\"value\",\"value\":5},\"line_color\":{\"type\":\"value\",\"value\":\"red\"},\"line_alpha\":{\"type\":\"value\",\"value\":0.2},\"fill_color\":{\"type\":\"value\",\"value\":\"red\"},\"fill_alpha\":{\"type\":\"value\",\"value\":0.2},\"hatch_color\":{\"type\":\"value\",\"value\":\"red\"},\"hatch_alpha\":{\"type\":\"value\",\"value\":0.2}}}}}],\"toolbar\":{\"type\":\"object\",\"name\":\"Toolbar\",\"id\":\"p31324\",\"attributes\":{\"tools\":[{\"id\":\"p31347\"},{\"id\":\"p31348\"},{\"id\":\"p31349\"},{\"type\":\"object\",\"name\":\"SaveTool\",\"id\":\"p31351\"},{\"id\":\"p31352\"},{\"id\":\"p31353\"},{\"id\":\"p31355\"}]}},\"toolbar_location\":null,\"left\":[{\"type\":\"object\",\"name\":\"LinearAxis\",\"id\":\"p31340\",\"attributes\":{\"ticker\":{\"type\":\"object\",\"name\":\"BasicTicker\",\"id\":\"p31341\",\"attributes\":{\"mantissas\":[1,2,5]}},\"formatter\":{\"type\":\"object\",\"name\":\"BasicTickFormatter\",\"id\":\"p31342\"},\"axis_label\":\"DEP/symp.OBS.VAL\",\"major_label_policy\":{\"type\":\"object\",\"name\":\"AllLabels\",\"id\":\"p31343\"},\"axis_line_alpha\":0}}],\"below\":[{\"type\":\"object\",\"name\":\"LinearAxis\",\"id\":\"p31333\",\"attributes\":{\"ticker\":{\"type\":\"object\",\"name\":\"BasicTicker\",\"id\":\"p31334\",\"attributes\":{\"mantissas\":[1,2,5]}},\"formatter\":{\"type\":\"object\",\"name\":\"BasicTickFormatter\",\"id\":\"p31335\"},\"axis_label\":\"DRI/freq.OBS.VAL\",\"major_label_policy\":{\"type\":\"object\",\"name\":\"AllLabels\",\"id\":\"p31336\"},\"axis_line_alpha\":0}}],\"center\":[{\"type\":\"object\",\"name\":\"Grid\",\"id\":\"p31339\",\"attributes\":{\"axis\":{\"id\":\"p31333\"}}},{\"type\":\"object\",\"name\":\"Grid\",\"id\":\"p31346\",\"attributes\":{\"dimension\":1,\"axis\":{\"id\":\"p31340\"}}}]}},0,0],[{\"type\":\"object\",\"name\":\"Figure\",\"id\":\"p31373\",\"attributes\":{\"width\":500,\"height\":300,\"x_range\":{\"type\":\"object\",\"name\":\"DataRange1d\",\"id\":\"p31374\"},\"y_range\":{\"type\":\"object\",\"name\":\"DataRange1d\",\"id\":\"p31375\"},\"x_scale\":{\"type\":\"object\",\"name\":\"LinearScale\",\"id\":\"p31387\"},\"y_scale\":{\"type\":\"object\",\"name\":\"LinearScale\",\"id\":\"p31389\"},\"title\":{\"type\":\"object\",\"name\":\"Title\",\"id\":\"p31376\",\"attributes\":{\"text\":\"Consuming Sweetened Drinks/ Depressive Symptoms Between ages Y25-34\"}},\"renderers\":[{\"type\":\"object\",\"name\":\"GlyphRenderer\",\"id\":\"p31428\",\"attributes\":{\"data_source\":{\"type\":\"object\",\"name\":\"ColumnDataSource\",\"id\":\"p31422\",\"attributes\":{\"selected\":{\"type\":\"object\",\"name\":\"Selection\",\"id\":\"p31423\",\"attributes\":{\"indices\":[],\"line_indices\":[]}},\"selection_policy\":{\"type\":\"object\",\"name\":\"UnionRenderers\",\"id\":\"p31424\"},\"data\":{\"type\":\"map\",\"entries\":[[\"x\",{\"type\":\"ndarray\",\"array\":{\"type\":\"bytes\",\"data\":\"zczMzMxMOEAzMzMzMzM2QAAAAAAAAEBAAAAAAAAAPUCamZmZmZk3QAAAAAAAADtAZmZmZmbmO0CamZmZmZk6QJqZmZmZmUBAMzMzMzOzPkCamZmZmRkzQDMzMzMzMzlAMzMzMzOzO0AzMzMzMzM5QGZmZmZm5jNAmpmZmZmZNEBmZmZmZuY2QDMzMzMzszlAZmZmZmbmMkBmZmZmZmY6QDMzMzMzszBAmpmZmZkZMUBmZmZmZuY4QGZmZmZmZjlAMzMzMzMzP0DNzMzMzMw6QAAAAAAAADxAAAAAAACAM0AAAAAAAAA3QGZmZmZm5jpA\"},\"shape\":[30],\"dtype\":\"float64\",\"order\":\"little\"}],[\"y\",{\"type\":\"ndarray\",\"array\":{\"type\":\"bytes\",\"data\":\"MzMzMzMzD0DNzMzMzMweQGZmZmZmZvY/zczMzMzM7D9mZmZmZmYCQM3MzMzMzCRAAAAAAAAAJEDNzMzMzMwYQJqZmZmZmfk/mpmZmZmZBUBmZmZmZmYkQDMzMzMzMyNAAAAAAAAA+D/NzMzMzMwQQJqZmZmZmRdAmpmZmZmZI0AzMzMzMzMDQM3MzMzMzBRAmpmZmZmZJUAzMzMzMzMHQM3MzMzMzB5AMzMzMzMzG0CamZmZmZkBQDMzMzMzMxFAAAAAAAAA8D9mZmZmZmbmP2ZmZmZmZixAZmZmZmZmFkAAAAAAAAD4P5qZmZmZmRNA\"},\"shape\":[30],\"dtype\":\"float64\",\"order\":\"little\"}]]}}},\"view\":{\"type\":\"object\",\"name\":\"CDSView\",\"id\":\"p31429\",\"attributes\":{\"filter\":{\"type\":\"object\",\"name\":\"AllIndices\",\"id\":\"p31430\"}}},\"glyph\":{\"type\":\"object\",\"name\":\"Scatter\",\"id\":\"p31425\",\"attributes\":{\"x\":{\"type\":\"field\",\"field\":\"x\"},\"y\":{\"type\":\"field\",\"field\":\"y\"},\"size\":{\"type\":\"value\",\"value\":5},\"line_color\":{\"type\":\"value\",\"value\":\"red\"},\"fill_color\":{\"type\":\"value\",\"value\":\"red\"},\"hatch_color\":{\"type\":\"value\",\"value\":\"red\"}}},\"nonselection_glyph\":{\"type\":\"object\",\"name\":\"Scatter\",\"id\":\"p31426\",\"attributes\":{\"x\":{\"type\":\"field\",\"field\":\"x\"},\"y\":{\"type\":\"field\",\"field\":\"y\"},\"size\":{\"type\":\"value\",\"value\":5},\"line_color\":{\"type\":\"value\",\"value\":\"red\"},\"line_alpha\":{\"type\":\"value\",\"value\":0.1},\"fill_color\":{\"type\":\"value\",\"value\":\"red\"},\"fill_alpha\":{\"type\":\"value\",\"value\":0.1},\"hatch_color\":{\"type\":\"value\",\"value\":\"red\"},\"hatch_alpha\":{\"type\":\"value\",\"value\":0.1}}},\"muted_glyph\":{\"type\":\"object\",\"name\":\"Scatter\",\"id\":\"p31427\",\"attributes\":{\"x\":{\"type\":\"field\",\"field\":\"x\"},\"y\":{\"type\":\"field\",\"field\":\"y\"},\"size\":{\"type\":\"value\",\"value\":5},\"line_color\":{\"type\":\"value\",\"value\":\"red\"},\"line_alpha\":{\"type\":\"value\",\"value\":0.2},\"fill_color\":{\"type\":\"value\",\"value\":\"red\"},\"fill_alpha\":{\"type\":\"value\",\"value\":0.2},\"hatch_color\":{\"type\":\"value\",\"value\":\"red\"},\"hatch_alpha\":{\"type\":\"value\",\"value\":0.2}}}}}],\"toolbar\":{\"type\":\"object\",\"name\":\"Toolbar\",\"id\":\"p31382\",\"attributes\":{\"tools\":[{\"id\":\"p31405\"},{\"id\":\"p31406\"},{\"id\":\"p31407\"},{\"type\":\"object\",\"name\":\"SaveTool\",\"id\":\"p31409\"},{\"id\":\"p31410\"},{\"id\":\"p31411\"},{\"id\":\"p31413\"}]}},\"toolbar_location\":null,\"left\":[{\"type\":\"object\",\"name\":\"LinearAxis\",\"id\":\"p31398\",\"attributes\":{\"ticker\":{\"type\":\"object\",\"name\":\"BasicTicker\",\"id\":\"p31399\",\"attributes\":{\"mantissas\":[1,2,5]}},\"formatter\":{\"type\":\"object\",\"name\":\"BasicTickFormatter\",\"id\":\"p31400\"},\"axis_label\":\"DEP/symp.OBS.VAL\",\"major_label_policy\":{\"type\":\"object\",\"name\":\"AllLabels\",\"id\":\"p31401\"},\"axis_line_alpha\":0}}],\"below\":[{\"type\":\"object\",\"name\":\"LinearAxis\",\"id\":\"p31391\",\"attributes\":{\"ticker\":{\"type\":\"object\",\"name\":\"BasicTicker\",\"id\":\"p31392\",\"attributes\":{\"mantissas\":[1,2,5]}},\"formatter\":{\"type\":\"object\",\"name\":\"BasicTickFormatter\",\"id\":\"p31393\"},\"axis_label\":\"DRI/freq.OBS.VAL\",\"major_label_policy\":{\"type\":\"object\",\"name\":\"AllLabels\",\"id\":\"p31394\"},\"axis_line_alpha\":0}}],\"center\":[{\"type\":\"object\",\"name\":\"Grid\",\"id\":\"p31397\",\"attributes\":{\"axis\":{\"id\":\"p31391\"}}},{\"type\":\"object\",\"name\":\"Grid\",\"id\":\"p31404\",\"attributes\":{\"dimension\":1,\"axis\":{\"id\":\"p31398\"}}}]}},0,1],[{\"type\":\"object\",\"name\":\"Figure\",\"id\":\"p31431\",\"attributes\":{\"width\":500,\"height\":300,\"x_range\":{\"type\":\"object\",\"name\":\"DataRange1d\",\"id\":\"p31432\"},\"y_range\":{\"type\":\"object\",\"name\":\"DataRange1d\",\"id\":\"p31433\"},\"x_scale\":{\"type\":\"object\",\"name\":\"LinearScale\",\"id\":\"p31445\"},\"y_scale\":{\"type\":\"object\",\"name\":\"LinearScale\",\"id\":\"p31447\"},\"title\":{\"type\":\"object\",\"name\":\"Title\",\"id\":\"p31434\",\"attributes\":{\"text\":\"Consuming Sweetened Drinks/ Depressive Symptoms Between ages Y35-44\"}},\"renderers\":[{\"type\":\"object\",\"name\":\"GlyphRenderer\",\"id\":\"p31486\",\"attributes\":{\"data_source\":{\"type\":\"object\",\"name\":\"ColumnDataSource\",\"id\":\"p31480\",\"attributes\":{\"selected\":{\"type\":\"object\",\"name\":\"Selection\",\"id\":\"p31481\",\"attributes\":{\"indices\":[],\"line_indices\":[]}},\"selection_policy\":{\"type\":\"object\",\"name\":\"UnionRenderers\",\"id\":\"p31482\"},\"data\":{\"type\":\"map\",\"entries\":[[\"x\",{\"type\":\"ndarray\",\"array\":{\"type\":\"bytes\",\"data\":\"MzMzMzMzM0DNzMzMzMw0QDMzMzMzMz5AMzMzMzOzO0BmZmZmZmYyQJqZmZmZGTpAMzMzMzOzNkDNzMzMzMwxQGZmZmZm5j1AzczMzMxMOUAzMzMzM7MwQAAAAAAAADNAAAAAAAAANUAAAAAAAIA0QM3MzMzMzDBAmpmZmZmZOUDNzMzMzEwzQJqZmZmZGTVAmpmZmZmZMEBmZmZmZuYzQDMzMzMzMy5AMzMzMzMzLECamZmZmRk2QJqZmZmZmTFAAAAAAAAAPkBmZmZmZmY8QGZmZmZm5jlAzczMzMxMMUAzMzMzMzMwQM3MzMzMzDVA\"},\"shape\":[30],\"dtype\":\"float64\",\"order\":\"little\"}],[\"y\",{\"type\":\"ndarray\",\"array\":{\"type\":\"bytes\",\"data\":\"ZmZmZmZmEkBmZmZmZmYkQJqZmZmZmfk/AAAAAAAA+D8zMzMzMzMHQAAAAAAAACJAmpmZmZmZI0BmZmZmZmYYQM3MzMzMzPQ/zczMzMzMCEAAAAAAAAAYQM3MzMzMzCFAzczMzMzMDECamZmZmZkJQJqZmZmZmQ1AAAAAAAAAHkAAAAAAAAAAQGZmZmZmZg5AMzMzMzMzH0CamZmZmZkTQAAAAAAAABhAZmZmZmZmGECamZmZmZkBQDMzMzMzMxVAZmZmZmZm/j+amZmZmZnxPzMzMzMzMyhAzczMzMzMFECamZmZmZkBQGZmZmZmZhhA\"},\"shape\":[30],\"dtype\":\"float64\",\"order\":\"little\"}]]}}},\"view\":{\"type\":\"object\",\"name\":\"CDSView\",\"id\":\"p31487\",\"attributes\":{\"filter\":{\"type\":\"object\",\"name\":\"AllIndices\",\"id\":\"p31488\"}}},\"glyph\":{\"type\":\"object\",\"name\":\"Scatter\",\"id\":\"p31483\",\"attributes\":{\"x\":{\"type\":\"field\",\"field\":\"x\"},\"y\":{\"type\":\"field\",\"field\":\"y\"},\"size\":{\"type\":\"value\",\"value\":5},\"line_color\":{\"type\":\"value\",\"value\":\"red\"},\"fill_color\":{\"type\":\"value\",\"value\":\"red\"},\"hatch_color\":{\"type\":\"value\",\"value\":\"red\"}}},\"nonselection_glyph\":{\"type\":\"object\",\"name\":\"Scatter\",\"id\":\"p31484\",\"attributes\":{\"x\":{\"type\":\"field\",\"field\":\"x\"},\"y\":{\"type\":\"field\",\"field\":\"y\"},\"size\":{\"type\":\"value\",\"value\":5},\"line_color\":{\"type\":\"value\",\"value\":\"red\"},\"line_alpha\":{\"type\":\"value\",\"value\":0.1},\"fill_color\":{\"type\":\"value\",\"value\":\"red\"},\"fill_alpha\":{\"type\":\"value\",\"value\":0.1},\"hatch_color\":{\"type\":\"value\",\"value\":\"red\"},\"hatch_alpha\":{\"type\":\"value\",\"value\":0.1}}},\"muted_glyph\":{\"type\":\"object\",\"name\":\"Scatter\",\"id\":\"p31485\",\"attributes\":{\"x\":{\"type\":\"field\",\"field\":\"x\"},\"y\":{\"type\":\"field\",\"field\":\"y\"},\"size\":{\"type\":\"value\",\"value\":5},\"line_color\":{\"type\":\"value\",\"value\":\"red\"},\"line_alpha\":{\"type\":\"value\",\"value\":0.2},\"fill_color\":{\"type\":\"value\",\"value\":\"red\"},\"fill_alpha\":{\"type\":\"value\",\"value\":0.2},\"hatch_color\":{\"type\":\"value\",\"value\":\"red\"},\"hatch_alpha\":{\"type\":\"value\",\"value\":0.2}}}}}],\"toolbar\":{\"type\":\"object\",\"name\":\"Toolbar\",\"id\":\"p31440\",\"attributes\":{\"tools\":[{\"id\":\"p31463\"},{\"id\":\"p31464\"},{\"id\":\"p31465\"},{\"type\":\"object\",\"name\":\"SaveTool\",\"id\":\"p31467\"},{\"id\":\"p31468\"},{\"id\":\"p31469\"},{\"id\":\"p31471\"}]}},\"toolbar_location\":null,\"left\":[{\"type\":\"object\",\"name\":\"LinearAxis\",\"id\":\"p31456\",\"attributes\":{\"ticker\":{\"type\":\"object\",\"name\":\"BasicTicker\",\"id\":\"p31457\",\"attributes\":{\"mantissas\":[1,2,5]}},\"formatter\":{\"type\":\"object\",\"name\":\"BasicTickFormatter\",\"id\":\"p31458\"},\"axis_label\":\"DEP/symp.OBS.VAL\",\"major_label_policy\":{\"type\":\"object\",\"name\":\"AllLabels\",\"id\":\"p31459\"},\"axis_line_alpha\":0}}],\"below\":[{\"type\":\"object\",\"name\":\"LinearAxis\",\"id\":\"p31449\",\"attributes\":{\"ticker\":{\"type\":\"object\",\"name\":\"BasicTicker\",\"id\":\"p31450\",\"attributes\":{\"mantissas\":[1,2,5]}},\"formatter\":{\"type\":\"object\",\"name\":\"BasicTickFormatter\",\"id\":\"p31451\"},\"axis_label\":\"DRI/freq.OBS.VAL\",\"major_label_policy\":{\"type\":\"object\",\"name\":\"AllLabels\",\"id\":\"p31452\"},\"axis_line_alpha\":0}}],\"center\":[{\"type\":\"object\",\"name\":\"Grid\",\"id\":\"p31455\",\"attributes\":{\"axis\":{\"id\":\"p31449\"}}},{\"type\":\"object\",\"name\":\"Grid\",\"id\":\"p31462\",\"attributes\":{\"dimension\":1,\"axis\":{\"id\":\"p31456\"}}}]}},1,0],[{\"type\":\"object\",\"name\":\"Figure\",\"id\":\"p31489\",\"attributes\":{\"width\":500,\"height\":300,\"x_range\":{\"type\":\"object\",\"name\":\"DataRange1d\",\"id\":\"p31490\"},\"y_range\":{\"type\":\"object\",\"name\":\"DataRange1d\",\"id\":\"p31491\"},\"x_scale\":{\"type\":\"object\",\"name\":\"LinearScale\",\"id\":\"p31503\"},\"y_scale\":{\"type\":\"object\",\"name\":\"LinearScale\",\"id\":\"p31505\"},\"title\":{\"type\":\"object\",\"name\":\"Title\",\"id\":\"p31492\",\"attributes\":{\"text\":\"Consuming Sweetened Drinks/ Depressive Symptoms Between ages Y45-54\"}},\"renderers\":[{\"type\":\"object\",\"name\":\"GlyphRenderer\",\"id\":\"p31544\",\"attributes\":{\"data_source\":{\"type\":\"object\",\"name\":\"ColumnDataSource\",\"id\":\"p31538\",\"attributes\":{\"selected\":{\"type\":\"object\",\"name\":\"Selection\",\"id\":\"p31539\",\"attributes\":{\"indices\":[],\"line_indices\":[]}},\"selection_policy\":{\"type\":\"object\",\"name\":\"UnionRenderers\",\"id\":\"p31540\"},\"data\":{\"type\":\"map\",\"entries\":[[\"x\",{\"type\":\"ndarray\",\"array\":{\"type\":\"bytes\",\"data\":\"zczMzMzMK0DNzMzMzMwsQAAAAAAAAD5AzczMzMzMOUCamZmZmRkwQM3MzMzMzDRAAAAAAACAOEAzMzMzMzMqQAAAAAAAgDhAZmZmZmbmM0CamZmZmZkoQAAAAAAAAC5AmpmZmZkZNEAAAAAAAAAzQGZmZmZmZiZAAAAAAACANEAzMzMzMzMvQM3MzMzMzCtAZmZmZmZmLkCamZmZmZkwQM3MzMzMzCJAZmZmZmZmKkAAAAAAAIA2QDMzMzMzMyhAMzMzMzMzO0AAAAAAAIA8QJqZmZmZGThAzczMzMzMKEAzMzMzMzMpQJqZmZmZmTNA\"},\"shape\":[30],\"dtype\":\"float64\",\"order\":\"little\"}],[\"y\",{\"type\":\"ndarray\",\"array\":{\"type\":\"bytes\",\"data\":\"mpmZmZmZGUDNzMzMzMwjQAAAAAAAAAxAAAAAAAAABEDNzMzMzMwMQAAAAAAAACZAzczMzMzMGEDNzMzMzMwcQDMzMzMzMwNAmpmZmZmZE0DNzMzMzMweQM3MzMzMzCZAmpmZmZmZIEDNzMzMzMwQQM3MzMzMzBRAzczMzMzMGEBmZmZmZmYOQJqZmZmZmRNAZmZmZmZmIEAzMzMzMzMVQGZmZmZmZiVAMzMzMzMzGUDNzMzMzMwSQGZmZmZmZh5AmpmZmZmZAUDNzMzMzMz0PwAAAAAAACNAMzMzMzMzF0DNzMzMzMwIQDMzMzMzMx9A\"},\"shape\":[30],\"dtype\":\"float64\",\"order\":\"little\"}]]}}},\"view\":{\"type\":\"object\",\"name\":\"CDSView\",\"id\":\"p31545\",\"attributes\":{\"filter\":{\"type\":\"object\",\"name\":\"AllIndices\",\"id\":\"p31546\"}}},\"glyph\":{\"type\":\"object\",\"name\":\"Scatter\",\"id\":\"p31541\",\"attributes\":{\"x\":{\"type\":\"field\",\"field\":\"x\"},\"y\":{\"type\":\"field\",\"field\":\"y\"},\"size\":{\"type\":\"value\",\"value\":5},\"line_color\":{\"type\":\"value\",\"value\":\"red\"},\"fill_color\":{\"type\":\"value\",\"value\":\"red\"},\"hatch_color\":{\"type\":\"value\",\"value\":\"red\"}}},\"nonselection_glyph\":{\"type\":\"object\",\"name\":\"Scatter\",\"id\":\"p31542\",\"attributes\":{\"x\":{\"type\":\"field\",\"field\":\"x\"},\"y\":{\"type\":\"field\",\"field\":\"y\"},\"size\":{\"type\":\"value\",\"value\":5},\"line_color\":{\"type\":\"value\",\"value\":\"red\"},\"line_alpha\":{\"type\":\"value\",\"value\":0.1},\"fill_color\":{\"type\":\"value\",\"value\":\"red\"},\"fill_alpha\":{\"type\":\"value\",\"value\":0.1},\"hatch_color\":{\"type\":\"value\",\"value\":\"red\"},\"hatch_alpha\":{\"type\":\"value\",\"value\":0.1}}},\"muted_glyph\":{\"type\":\"object\",\"name\":\"Scatter\",\"id\":\"p31543\",\"attributes\":{\"x\":{\"type\":\"field\",\"field\":\"x\"},\"y\":{\"type\":\"field\",\"field\":\"y\"},\"size\":{\"type\":\"value\",\"value\":5},\"line_color\":{\"type\":\"value\",\"value\":\"red\"},\"line_alpha\":{\"type\":\"value\",\"value\":0.2},\"fill_color\":{\"type\":\"value\",\"value\":\"red\"},\"fill_alpha\":{\"type\":\"value\",\"value\":0.2},\"hatch_color\":{\"type\":\"value\",\"value\":\"red\"},\"hatch_alpha\":{\"type\":\"value\",\"value\":0.2}}}}}],\"toolbar\":{\"type\":\"object\",\"name\":\"Toolbar\",\"id\":\"p31498\",\"attributes\":{\"tools\":[{\"id\":\"p31521\"},{\"id\":\"p31522\"},{\"id\":\"p31523\"},{\"type\":\"object\",\"name\":\"SaveTool\",\"id\":\"p31525\"},{\"id\":\"p31526\"},{\"id\":\"p31527\"},{\"id\":\"p31529\"}]}},\"toolbar_location\":null,\"left\":[{\"type\":\"object\",\"name\":\"LinearAxis\",\"id\":\"p31514\",\"attributes\":{\"ticker\":{\"type\":\"object\",\"name\":\"BasicTicker\",\"id\":\"p31515\",\"attributes\":{\"mantissas\":[1,2,5]}},\"formatter\":{\"type\":\"object\",\"name\":\"BasicTickFormatter\",\"id\":\"p31516\"},\"axis_label\":\"DEP/symp.OBS.VAL\",\"major_label_policy\":{\"type\":\"object\",\"name\":\"AllLabels\",\"id\":\"p31517\"},\"axis_line_alpha\":0}}],\"below\":[{\"type\":\"object\",\"name\":\"LinearAxis\",\"id\":\"p31507\",\"attributes\":{\"ticker\":{\"type\":\"object\",\"name\":\"BasicTicker\",\"id\":\"p31508\",\"attributes\":{\"mantissas\":[1,2,5]}},\"formatter\":{\"type\":\"object\",\"name\":\"BasicTickFormatter\",\"id\":\"p31509\"},\"axis_label\":\"DRI/freq.OBS.VAL\",\"major_label_policy\":{\"type\":\"object\",\"name\":\"AllLabels\",\"id\":\"p31510\"},\"axis_line_alpha\":0}}],\"center\":[{\"type\":\"object\",\"name\":\"Grid\",\"id\":\"p31513\",\"attributes\":{\"axis\":{\"id\":\"p31507\"}}},{\"type\":\"object\",\"name\":\"Grid\",\"id\":\"p31520\",\"attributes\":{\"dimension\":1,\"axis\":{\"id\":\"p31514\"}}}]}},1,1],[{\"type\":\"object\",\"name\":\"Figure\",\"id\":\"p31547\",\"attributes\":{\"width\":500,\"height\":300,\"x_range\":{\"type\":\"object\",\"name\":\"DataRange1d\",\"id\":\"p31548\"},\"y_range\":{\"type\":\"object\",\"name\":\"DataRange1d\",\"id\":\"p31549\"},\"x_scale\":{\"type\":\"object\",\"name\":\"LinearScale\",\"id\":\"p31561\"},\"y_scale\":{\"type\":\"object\",\"name\":\"LinearScale\",\"id\":\"p31563\"},\"title\":{\"type\":\"object\",\"name\":\"Title\",\"id\":\"p31550\",\"attributes\":{\"text\":\"Consuming Sweetened Drinks/ Depressive Symptoms Between ages Y55-64\"}},\"renderers\":[{\"type\":\"object\",\"name\":\"GlyphRenderer\",\"id\":\"p31602\",\"attributes\":{\"data_source\":{\"type\":\"object\",\"name\":\"ColumnDataSource\",\"id\":\"p31596\",\"attributes\":{\"selected\":{\"type\":\"object\",\"name\":\"Selection\",\"id\":\"p31597\",\"attributes\":{\"indices\":[],\"line_indices\":[]}},\"selection_policy\":{\"type\":\"object\",\"name\":\"UnionRenderers\",\"id\":\"p31598\"},\"data\":{\"type\":\"map\",\"entries\":[[\"x\",{\"type\":\"ndarray\",\"array\":{\"type\":\"bytes\",\"data\":\"ZmZmZmZmJEAAAAAAAAAtQGZmZmZmZjpAzczMzMzMOkAAAAAAAAAtQGZmZmZmZixAzczMzMzMMEBmZmZmZmYeQAAAAAAAADRAmpmZmZmZKkAzMzMzMzMjQM3MzMzMzCFAZmZmZmZmLkAAAAAAAAAnQJqZmZmZmSNAzczMzMzMNUCamZmZmZkkQJqZmZmZmSNAzczMzMzMJECamZmZmZknQJqZmZmZmSBAzczMzMzMIkAzMzMzMzMwQJqZmZmZmSNAZmZmZmZmNEAzMzMzM7M4QAAAAAAAgDBAZmZmZmZmI0CamZmZmZkpQAAAAAAAAC1A\"},\"shape\":[30],\"dtype\":\"float64\",\"order\":\"little\"}],[\"y\",{\"type\":\"ndarray\",\"array\":{\"type\":\"bytes\",\"data\":\"mpmZmZmZF0BmZmZmZmYjQJqZmZmZmRdAmpmZmZmZCUAAAAAAAAAWQDMzMzMzMyRAZmZmZmZmFEAAAAAAAAAhQDMzMzMzMwtAzczMzMzMGEDNzMzMzMwIQAAAAAAAACVAAAAAAAAAHkCamZmZmZkdQJqZmZmZmRNAMzMzMzMzIUBmZmZmZmYOQAAAAAAAABpAmpmZmZmZGUCamZmZmZkXQAAAAAAAACZAmpmZmZmZFUDNzMzMzMwYQGZmZmZmZiRAAAAAAAAAEEAzMzMzMzMHQJqZmZmZmR9AMzMzMzMzGUDNzMzMzMwQQGZmZmZmZhpA\"},\"shape\":[30],\"dtype\":\"float64\",\"order\":\"little\"}]]}}},\"view\":{\"type\":\"object\",\"name\":\"CDSView\",\"id\":\"p31603\",\"attributes\":{\"filter\":{\"type\":\"object\",\"name\":\"AllIndices\",\"id\":\"p31604\"}}},\"glyph\":{\"type\":\"object\",\"name\":\"Scatter\",\"id\":\"p31599\",\"attributes\":{\"x\":{\"type\":\"field\",\"field\":\"x\"},\"y\":{\"type\":\"field\",\"field\":\"y\"},\"size\":{\"type\":\"value\",\"value\":5},\"line_color\":{\"type\":\"value\",\"value\":\"red\"},\"fill_color\":{\"type\":\"value\",\"value\":\"red\"},\"hatch_color\":{\"type\":\"value\",\"value\":\"red\"}}},\"nonselection_glyph\":{\"type\":\"object\",\"name\":\"Scatter\",\"id\":\"p31600\",\"attributes\":{\"x\":{\"type\":\"field\",\"field\":\"x\"},\"y\":{\"type\":\"field\",\"field\":\"y\"},\"size\":{\"type\":\"value\",\"value\":5},\"line_color\":{\"type\":\"value\",\"value\":\"red\"},\"line_alpha\":{\"type\":\"value\",\"value\":0.1},\"fill_color\":{\"type\":\"value\",\"value\":\"red\"},\"fill_alpha\":{\"type\":\"value\",\"value\":0.1},\"hatch_color\":{\"type\":\"value\",\"value\":\"red\"},\"hatch_alpha\":{\"type\":\"value\",\"value\":0.1}}},\"muted_glyph\":{\"type\":\"object\",\"name\":\"Scatter\",\"id\":\"p31601\",\"attributes\":{\"x\":{\"type\":\"field\",\"field\":\"x\"},\"y\":{\"type\":\"field\",\"field\":\"y\"},\"size\":{\"type\":\"value\",\"value\":5},\"line_color\":{\"type\":\"value\",\"value\":\"red\"},\"line_alpha\":{\"type\":\"value\",\"value\":0.2},\"fill_color\":{\"type\":\"value\",\"value\":\"red\"},\"fill_alpha\":{\"type\":\"value\",\"value\":0.2},\"hatch_color\":{\"type\":\"value\",\"value\":\"red\"},\"hatch_alpha\":{\"type\":\"value\",\"value\":0.2}}}}}],\"toolbar\":{\"type\":\"object\",\"name\":\"Toolbar\",\"id\":\"p31556\",\"attributes\":{\"tools\":[{\"id\":\"p31579\"},{\"id\":\"p31580\"},{\"id\":\"p31581\"},{\"type\":\"object\",\"name\":\"SaveTool\",\"id\":\"p31583\"},{\"id\":\"p31584\"},{\"id\":\"p31585\"},{\"id\":\"p31587\"}]}},\"toolbar_location\":null,\"left\":[{\"type\":\"object\",\"name\":\"LinearAxis\",\"id\":\"p31572\",\"attributes\":{\"ticker\":{\"type\":\"object\",\"name\":\"BasicTicker\",\"id\":\"p31573\",\"attributes\":{\"mantissas\":[1,2,5]}},\"formatter\":{\"type\":\"object\",\"name\":\"BasicTickFormatter\",\"id\":\"p31574\"},\"axis_label\":\"DEP/symp.OBS.VAL\",\"major_label_policy\":{\"type\":\"object\",\"name\":\"AllLabels\",\"id\":\"p31575\"},\"axis_line_alpha\":0}}],\"below\":[{\"type\":\"object\",\"name\":\"LinearAxis\",\"id\":\"p31565\",\"attributes\":{\"ticker\":{\"type\":\"object\",\"name\":\"BasicTicker\",\"id\":\"p31566\",\"attributes\":{\"mantissas\":[1,2,5]}},\"formatter\":{\"type\":\"object\",\"name\":\"BasicTickFormatter\",\"id\":\"p31567\"},\"axis_label\":\"DRI/freq.OBS.VAL\",\"major_label_policy\":{\"type\":\"object\",\"name\":\"AllLabels\",\"id\":\"p31568\"},\"axis_line_alpha\":0}}],\"center\":[{\"type\":\"object\",\"name\":\"Grid\",\"id\":\"p31571\",\"attributes\":{\"axis\":{\"id\":\"p31565\"}}},{\"type\":\"object\",\"name\":\"Grid\",\"id\":\"p31578\",\"attributes\":{\"dimension\":1,\"axis\":{\"id\":\"p31572\"}}}]}},2,0],[{\"type\":\"object\",\"name\":\"Figure\",\"id\":\"p31605\",\"attributes\":{\"width\":500,\"height\":300,\"x_range\":{\"type\":\"object\",\"name\":\"DataRange1d\",\"id\":\"p31606\"},\"y_range\":{\"type\":\"object\",\"name\":\"DataRange1d\",\"id\":\"p31607\"},\"x_scale\":{\"type\":\"object\",\"name\":\"LinearScale\",\"id\":\"p31619\"},\"y_scale\":{\"type\":\"object\",\"name\":\"LinearScale\",\"id\":\"p31621\"},\"title\":{\"type\":\"object\",\"name\":\"Title\",\"id\":\"p31608\",\"attributes\":{\"text\":\"Consuming Sweetened Drinks/ Depressive Symptoms Between ages Y65-74\"}},\"renderers\":[{\"type\":\"object\",\"name\":\"GlyphRenderer\",\"id\":\"p31660\",\"attributes\":{\"data_source\":{\"type\":\"object\",\"name\":\"ColumnDataSource\",\"id\":\"p31654\",\"attributes\":{\"selected\":{\"type\":\"object\",\"name\":\"Selection\",\"id\":\"p31655\",\"attributes\":{\"indices\":[],\"line_indices\":[]}},\"selection_policy\":{\"type\":\"object\",\"name\":\"UnionRenderers\",\"id\":\"p31656\"},\"data\":{\"type\":\"map\",\"entries\":[[\"x\",{\"type\":\"ndarray\",\"array\":{\"type\":\"bytes\",\"data\":\"mpmZmZmZG0BmZmZmZmYhQGZmZmZmZjdAzczMzMzMOEAAAAAAAAAnQGZmZmZmZihAZmZmZmZmJ0DNzMzMzMwWQGZmZmZmZi1AmpmZmZmZH0AAAAAAAAAaQDMzMzMzMxlAzczMzMzMIkAAAAAAAAAeQM3MzMzMzBhAMzMzMzMzLUAzMzMzMzMdQJqZmZmZmRNAMzMzMzMzI0BmZmZmZmYWQDMzMzMzMxdAAAAAAAAAIEBmZmZmZmYqQM3MzMzMzBhAMzMzMzMzLUCamZmZmZkzQAAAAAAAAC1AMzMzMzMzGUBmZmZmZmYkQJqZmZmZmSZA\"},\"shape\":[30],\"dtype\":\"float64\",\"order\":\"little\"}],[\"y\",{\"type\":\"ndarray\",\"array\":{\"type\":\"bytes\",\"data\":\"zczMzMzMEkCamZmZmZkZQJqZmZmZmR1AMzMzMzMzD0CamZmZmZkTQJqZmZmZmRdAmpmZmZmZCUCamZmZmZkhQJqZmZmZmRNAzczMzMzMFkAAAAAAAAAAQGZmZmZmZiZAmpmZmZmZK0AAAAAAAAAaQJqZmZmZmRFAMzMzMzMzIUBmZmZmZmYQQDMzMzMzMx9AZmZmZmZmDkDNzMzMzMwaQM3MzMzMzCJAZmZmZmZmCkAAAAAAAAAcQM3MzMzMzCJAZmZmZmZmGkDNzMzMzMwQQDMzMzMzMxNAMzMzMzMzHUBmZmZmZmYQQAAAAAAAACNA\"},\"shape\":[30],\"dtype\":\"float64\",\"order\":\"little\"}]]}}},\"view\":{\"type\":\"object\",\"name\":\"CDSView\",\"id\":\"p31661\",\"attributes\":{\"filter\":{\"type\":\"object\",\"name\":\"AllIndices\",\"id\":\"p31662\"}}},\"glyph\":{\"type\":\"object\",\"name\":\"Scatter\",\"id\":\"p31657\",\"attributes\":{\"x\":{\"type\":\"field\",\"field\":\"x\"},\"y\":{\"type\":\"field\",\"field\":\"y\"},\"size\":{\"type\":\"value\",\"value\":5},\"line_color\":{\"type\":\"value\",\"value\":\"red\"},\"fill_color\":{\"type\":\"value\",\"value\":\"red\"},\"hatch_color\":{\"type\":\"value\",\"value\":\"red\"}}},\"nonselection_glyph\":{\"type\":\"object\",\"name\":\"Scatter\",\"id\":\"p31658\",\"attributes\":{\"x\":{\"type\":\"field\",\"field\":\"x\"},\"y\":{\"type\":\"field\",\"field\":\"y\"},\"size\":{\"type\":\"value\",\"value\":5},\"line_color\":{\"type\":\"value\",\"value\":\"red\"},\"line_alpha\":{\"type\":\"value\",\"value\":0.1},\"fill_color\":{\"type\":\"value\",\"value\":\"red\"},\"fill_alpha\":{\"type\":\"value\",\"value\":0.1},\"hatch_color\":{\"type\":\"value\",\"value\":\"red\"},\"hatch_alpha\":{\"type\":\"value\",\"value\":0.1}}},\"muted_glyph\":{\"type\":\"object\",\"name\":\"Scatter\",\"id\":\"p31659\",\"attributes\":{\"x\":{\"type\":\"field\",\"field\":\"x\"},\"y\":{\"type\":\"field\",\"field\":\"y\"},\"size\":{\"type\":\"value\",\"value\":5},\"line_color\":{\"type\":\"value\",\"value\":\"red\"},\"line_alpha\":{\"type\":\"value\",\"value\":0.2},\"fill_color\":{\"type\":\"value\",\"value\":\"red\"},\"fill_alpha\":{\"type\":\"value\",\"value\":0.2},\"hatch_color\":{\"type\":\"value\",\"value\":\"red\"},\"hatch_alpha\":{\"type\":\"value\",\"value\":0.2}}}}}],\"toolbar\":{\"type\":\"object\",\"name\":\"Toolbar\",\"id\":\"p31614\",\"attributes\":{\"tools\":[{\"id\":\"p31637\"},{\"id\":\"p31638\"},{\"id\":\"p31639\"},{\"type\":\"object\",\"name\":\"SaveTool\",\"id\":\"p31641\"},{\"id\":\"p31642\"},{\"id\":\"p31643\"},{\"id\":\"p31645\"}]}},\"toolbar_location\":null,\"left\":[{\"type\":\"object\",\"name\":\"LinearAxis\",\"id\":\"p31630\",\"attributes\":{\"ticker\":{\"type\":\"object\",\"name\":\"BasicTicker\",\"id\":\"p31631\",\"attributes\":{\"mantissas\":[1,2,5]}},\"formatter\":{\"type\":\"object\",\"name\":\"BasicTickFormatter\",\"id\":\"p31632\"},\"axis_label\":\"DEP/symp.OBS.VAL\",\"major_label_policy\":{\"type\":\"object\",\"name\":\"AllLabels\",\"id\":\"p31633\"},\"axis_line_alpha\":0}}],\"below\":[{\"type\":\"object\",\"name\":\"LinearAxis\",\"id\":\"p31623\",\"attributes\":{\"ticker\":{\"type\":\"object\",\"name\":\"BasicTicker\",\"id\":\"p31624\",\"attributes\":{\"mantissas\":[1,2,5]}},\"formatter\":{\"type\":\"object\",\"name\":\"BasicTickFormatter\",\"id\":\"p31625\"},\"axis_label\":\"DRI/freq.OBS.VAL\",\"major_label_policy\":{\"type\":\"object\",\"name\":\"AllLabels\",\"id\":\"p31626\"},\"axis_line_alpha\":0}}],\"center\":[{\"type\":\"object\",\"name\":\"Grid\",\"id\":\"p31629\",\"attributes\":{\"axis\":{\"id\":\"p31623\"}}},{\"type\":\"object\",\"name\":\"Grid\",\"id\":\"p31636\",\"attributes\":{\"dimension\":1,\"axis\":{\"id\":\"p31630\"}}}]}},2,1]]}}]}};\n  const render_items = [{\"docid\":\"e4bd0cee-a8b3-4635-ba06-0aac7e980257\",\"roots\":{\"p31761\":\"31c9bcb6-58ac-4e62-8e25-a6510b96116f\"},\"root_ids\":[\"p31761\"]}];\n  root.Bokeh.embed.embed_items_notebook(docs_json, render_items);\n  }\n  if (root.Bokeh !== undefined) {\n    embed_document(root);\n  } else {\n    let attempts = 0;\n    const timer = setInterval(function(root) {\n      if (root.Bokeh !== undefined) {\n        clearInterval(timer);\n        embed_document(root);\n      } else {\n        attempts++;\n        if (attempts > 100) {\n          clearInterval(timer);\n          console.log(\"Bokeh: ERROR: Unable to run BokehJS code because BokehJS library is missing\");\n        }\n      }\n    }, 10, root)\n  }\n})(window);",
      "application/vnd.bokehjs_exec.v0+json": ""
     },
     "metadata": {
      "application/vnd.bokehjs_exec.v0+json": {
       "id": "p31761"
      }
     },
     "output_type": "display_data"
    }
   ],
   "source": [
    "def create_scatter_plot():\n",
    "\n",
    "    scatter_plots=[]\n",
    "\n",
    "    for df in grouped_dfs[:6]:\n",
    "\n",
    "        scatter = figure(height=300,width=500,\n",
    "                         tooltips=[('Country','@Country')],\n",
    "                         title=f\"Consuming Sweetened Drinks/ Depressive Symptoms Between ages {df['Age_Range'].iloc[1]}\",\n",
    "                         x_axis_label='DRI/freq.OBS.VAL',y_axis_label='DEP/symp.OBS.VAL')\n",
    "        \n",
    "        scatter.scatter(x=df['Obs_Value_Dri'],y=df['Obs_Value_Dep'],size=5,color='red')\n",
    "\n",
    "        scatter.xaxis.axis_line_alpha = 0\n",
    "        scatter.yaxis.axis_line_alpha = 0\n",
    "        # hover = HoverTool(tooltips=a[('Country','@Country')],renderers=[scatter])\n",
    "        # fig1.add_tools(hover)\n",
    "        scatter_plots.append(scatter)\n",
    "\n",
    "    grid = gridplot(scatter_plots,ncols=2)\n",
    "    show(grid)\n",
    "# output_file('myplot.html')\n",
    "# show(fig1)\n",
    "\n",
    "create_scatter_plot()"
   ]
  }
 ],
 "metadata": {
  "kernelspec": {
   "display_name": "Python 3",
   "language": "python",
   "name": "python3"
  },
  "language_info": {
   "codemirror_mode": {
    "name": "ipython",
    "version": 3
   },
   "file_extension": ".py",
   "mimetype": "text/x-python",
   "name": "python",
   "nbconvert_exporter": "python",
   "pygments_lexer": "ipython3",
   "version": "3.11.1"
  },
  "orig_nbformat": 4,
  "vscode": {
   "interpreter": {
    "hash": "214a5cb7e6ac63d6ccd6043a9b500c325cfe675ad88c8f33c0682631c9e40f57"
   }
  }
 },
 "nbformat": 4,
 "nbformat_minor": 2
}
