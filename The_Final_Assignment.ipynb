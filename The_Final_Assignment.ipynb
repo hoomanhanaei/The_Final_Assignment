{
 "cells": [
  {
   "attachments": {},
   "cell_type": "markdown",
   "metadata": {},
   "source": [
    "----\n",
    "**Research Question**\n",
    "\n",
    "## Investigation of changes in **Depressive-Symptoms** influenced by drinking frequency of **Sugar-Sweetened** soft drinks.\n",
    "----"
   ]
  },
  {
   "cell_type": "code",
   "execution_count": 108,
   "metadata": {},
   "outputs": [
    {
     "data": {
      "text/html": [
       "<div class=\"bk-root\">\n",
       "        <a href=\"https://bokeh.org\" target=\"_blank\" class=\"bk-logo bk-logo-small bk-logo-notebook\"></a>\n",
       "        <span id=\"78090\">Loading BokehJS ...</span>\n",
       "    </div>\n"
      ]
     },
     "metadata": {},
     "output_type": "display_data"
    },
    {
     "data": {
      "application/javascript": "(function(root) {\n  function now() {\n    return new Date();\n  }\n\n  const force = true;\n\n  if (typeof root._bokeh_onload_callbacks === \"undefined\" || force === true) {\n    root._bokeh_onload_callbacks = [];\n    root._bokeh_is_loading = undefined;\n  }\n\nconst JS_MIME_TYPE = 'application/javascript';\n  const HTML_MIME_TYPE = 'text/html';\n  const EXEC_MIME_TYPE = 'application/vnd.bokehjs_exec.v0+json';\n  const CLASS_NAME = 'output_bokeh rendered_html';\n\n  /**\n   * Render data to the DOM node\n   */\n  function render(props, node) {\n    const script = document.createElement(\"script\");\n    node.appendChild(script);\n  }\n\n  /**\n   * Handle when an output is cleared or removed\n   */\n  function handleClearOutput(event, handle) {\n    const cell = handle.cell;\n\n    const id = cell.output_area._bokeh_element_id;\n    const server_id = cell.output_area._bokeh_server_id;\n    // Clean up Bokeh references\n    if (id != null && id in Bokeh.index) {\n      Bokeh.index[id].model.document.clear();\n      delete Bokeh.index[id];\n    }\n\n    if (server_id !== undefined) {\n      // Clean up Bokeh references\n      const cmd_clean = \"from bokeh.io.state import curstate; print(curstate().uuid_to_server['\" + server_id + \"'].get_sessions()[0].document.roots[0]._id)\";\n      cell.notebook.kernel.execute(cmd_clean, {\n        iopub: {\n          output: function(msg) {\n            const id = msg.content.text.trim();\n            if (id in Bokeh.index) {\n              Bokeh.index[id].model.document.clear();\n              delete Bokeh.index[id];\n            }\n          }\n        }\n      });\n      // Destroy server and session\n      const cmd_destroy = \"import bokeh.io.notebook as ion; ion.destroy_server('\" + server_id + \"')\";\n      cell.notebook.kernel.execute(cmd_destroy);\n    }\n  }\n\n  /**\n   * Handle when a new output is added\n   */\n  function handleAddOutput(event, handle) {\n    const output_area = handle.output_area;\n    const output = handle.output;\n\n    // limit handleAddOutput to display_data with EXEC_MIME_TYPE content only\n    if ((output.output_type != \"display_data\") || (!Object.prototype.hasOwnProperty.call(output.data, EXEC_MIME_TYPE))) {\n      return\n    }\n\n    const toinsert = output_area.element.find(\".\" + CLASS_NAME.split(' ')[0]);\n\n    if (output.metadata[EXEC_MIME_TYPE][\"id\"] !== undefined) {\n      toinsert[toinsert.length - 1].firstChild.textContent = output.data[JS_MIME_TYPE];\n      // store reference to embed id on output_area\n      output_area._bokeh_element_id = output.metadata[EXEC_MIME_TYPE][\"id\"];\n    }\n    if (output.metadata[EXEC_MIME_TYPE][\"server_id\"] !== undefined) {\n      const bk_div = document.createElement(\"div\");\n      bk_div.innerHTML = output.data[HTML_MIME_TYPE];\n      const script_attrs = bk_div.children[0].attributes;\n      for (let i = 0; i < script_attrs.length; i++) {\n        toinsert[toinsert.length - 1].firstChild.setAttribute(script_attrs[i].name, script_attrs[i].value);\n        toinsert[toinsert.length - 1].firstChild.textContent = bk_div.children[0].textContent\n      }\n      // store reference to server id on output_area\n      output_area._bokeh_server_id = output.metadata[EXEC_MIME_TYPE][\"server_id\"];\n    }\n  }\n\n  function register_renderer(events, OutputArea) {\n\n    function append_mime(data, metadata, element) {\n      // create a DOM node to render to\n      const toinsert = this.create_output_subarea(\n        metadata,\n        CLASS_NAME,\n        EXEC_MIME_TYPE\n      );\n      this.keyboard_manager.register_events(toinsert);\n      // Render to node\n      const props = {data: data, metadata: metadata[EXEC_MIME_TYPE]};\n      render(props, toinsert[toinsert.length - 1]);\n      element.append(toinsert);\n      return toinsert\n    }\n\n    /* Handle when an output is cleared or removed */\n    events.on('clear_output.CodeCell', handleClearOutput);\n    events.on('delete.Cell', handleClearOutput);\n\n    /* Handle when a new output is added */\n    events.on('output_added.OutputArea', handleAddOutput);\n\n    /**\n     * Register the mime type and append_mime function with output_area\n     */\n    OutputArea.prototype.register_mime_type(EXEC_MIME_TYPE, append_mime, {\n      /* Is output safe? */\n      safe: true,\n      /* Index of renderer in `output_area.display_order` */\n      index: 0\n    });\n  }\n\n  // register the mime type if in Jupyter Notebook environment and previously unregistered\n  if (root.Jupyter !== undefined) {\n    const events = require('base/js/events');\n    const OutputArea = require('notebook/js/outputarea').OutputArea;\n\n    if (OutputArea.prototype.mime_types().indexOf(EXEC_MIME_TYPE) == -1) {\n      register_renderer(events, OutputArea);\n    }\n  }\n  if (typeof (root._bokeh_timeout) === \"undefined\" || force === true) {\n    root._bokeh_timeout = Date.now() + 5000;\n    root._bokeh_failed_load = false;\n  }\n\n  const NB_LOAD_WARNING = {'data': {'text/html':\n     \"<div style='background-color: #fdd'>\\n\"+\n     \"<p>\\n\"+\n     \"BokehJS does not appear to have successfully loaded. If loading BokehJS from CDN, this \\n\"+\n     \"may be due to a slow or bad network connection. Possible fixes:\\n\"+\n     \"</p>\\n\"+\n     \"<ul>\\n\"+\n     \"<li>re-rerun `output_notebook()` to attempt to load from CDN again, or</li>\\n\"+\n     \"<li>use INLINE resources instead, as so:</li>\\n\"+\n     \"</ul>\\n\"+\n     \"<code>\\n\"+\n     \"from bokeh.resources import INLINE\\n\"+\n     \"output_notebook(resources=INLINE)\\n\"+\n     \"</code>\\n\"+\n     \"</div>\"}};\n\n  function display_loaded() {\n    const el = document.getElementById(\"78090\");\n    if (el != null) {\n      el.textContent = \"BokehJS is loading...\";\n    }\n    if (root.Bokeh !== undefined) {\n      if (el != null) {\n        el.textContent = \"BokehJS \" + root.Bokeh.version + \" successfully loaded.\";\n      }\n    } else if (Date.now() < root._bokeh_timeout) {\n      setTimeout(display_loaded, 100)\n    }\n  }\n\n  function run_callbacks() {\n    try {\n      root._bokeh_onload_callbacks.forEach(function(callback) {\n        if (callback != null)\n          callback();\n      });\n    } finally {\n      delete root._bokeh_onload_callbacks\n    }\n    console.debug(\"Bokeh: all callbacks have finished\");\n  }\n\n  function load_libs(css_urls, js_urls, callback) {\n    if (css_urls == null) css_urls = [];\n    if (js_urls == null) js_urls = [];\n\n    root._bokeh_onload_callbacks.push(callback);\n    if (root._bokeh_is_loading > 0) {\n      console.debug(\"Bokeh: BokehJS is being loaded, scheduling callback at\", now());\n      return null;\n    }\n    if (js_urls == null || js_urls.length === 0) {\n      run_callbacks();\n      return null;\n    }\n    console.debug(\"Bokeh: BokehJS not loaded, scheduling load and callback at\", now());\n    root._bokeh_is_loading = css_urls.length + js_urls.length;\n\n    function on_load() {\n      root._bokeh_is_loading--;\n      if (root._bokeh_is_loading === 0) {\n        console.debug(\"Bokeh: all BokehJS libraries/stylesheets loaded\");\n        run_callbacks()\n      }\n    }\n\n    function on_error(url) {\n      console.error(\"failed to load \" + url);\n    }\n\n    for (let i = 0; i < css_urls.length; i++) {\n      const url = css_urls[i];\n      const element = document.createElement(\"link\");\n      element.onload = on_load;\n      element.onerror = on_error.bind(null, url);\n      element.rel = \"stylesheet\";\n      element.type = \"text/css\";\n      element.href = url;\n      console.debug(\"Bokeh: injecting link tag for BokehJS stylesheet: \", url);\n      document.body.appendChild(element);\n    }\n\n    for (let i = 0; i < js_urls.length; i++) {\n      const url = js_urls[i];\n      const element = document.createElement('script');\n      element.onload = on_load;\n      element.onerror = on_error.bind(null, url);\n      element.async = false;\n      element.src = url;\n      console.debug(\"Bokeh: injecting script tag for BokehJS library: \", url);\n      document.head.appendChild(element);\n    }\n  };\n\n  function inject_raw_css(css) {\n    const element = document.createElement(\"style\");\n    element.appendChild(document.createTextNode(css));\n    document.body.appendChild(element);\n  }\n\n  const js_urls = [\"https://cdn.bokeh.org/bokeh/release/bokeh-2.4.3.min.js\", \"https://cdn.bokeh.org/bokeh/release/bokeh-gl-2.4.3.min.js\", \"https://cdn.bokeh.org/bokeh/release/bokeh-widgets-2.4.3.min.js\", \"https://cdn.bokeh.org/bokeh/release/bokeh-tables-2.4.3.min.js\", \"https://cdn.bokeh.org/bokeh/release/bokeh-mathjax-2.4.3.min.js\", \"https://unpkg.com/@holoviz/panel@0.14.2/dist/panel.min.js\"];\n  const css_urls = [];\n\n  const inline_js = [    function(Bokeh) {\n      Bokeh.set_log_level(\"info\");\n    },\nfunction(Bokeh) {\n    }\n  ];\n\n  function run_inline_js() {\n    if (root.Bokeh !== undefined || force === true) {\n          for (let i = 0; i < inline_js.length; i++) {\n      inline_js[i].call(root, root.Bokeh);\n    }\nif (force === true) {\n        display_loaded();\n      }} else if (Date.now() < root._bokeh_timeout) {\n      setTimeout(run_inline_js, 100);\n    } else if (!root._bokeh_failed_load) {\n      console.log(\"Bokeh: BokehJS failed to load within specified timeout.\");\n      root._bokeh_failed_load = true;\n    } else if (force !== true) {\n      const cell = $(document.getElementById(\"78090\")).parents('.cell').data().cell;\n      cell.output_area.append_execute_result(NB_LOAD_WARNING)\n    }\n  }\n\n  if (root._bokeh_is_loading === 0) {\n    console.debug(\"Bokeh: BokehJS loaded, going straight to plotting\");\n    run_inline_js();\n  } else {\n    load_libs(css_urls, js_urls, function() {\n      console.debug(\"Bokeh: BokehJS plotting callback run at\", now());\n      run_inline_js();\n    });\n  }\n}(window));",
      "application/vnd.bokehjs_load.v0+json": ""
     },
     "metadata": {},
     "output_type": "display_data"
    }
   ],
   "source": [
    "# importting necessary libraries \n",
    "\n",
    "import pandas as pd\n",
    "import numpy as np\n",
    "import yaml as yam\n",
    "from bokeh.plotting import figure,show,output_file\n",
    "from bokeh.models import ColumnDataSource\n",
    "from bokeh.layouts import gridplot\n",
    "from bokeh.palettes import Category10\n",
    "import holoviews as hv\n",
    "from bokeh.io import output_notebook\n",
    "\n",
    "output_notebook()\n"
   ]
  },
  {
   "attachments": {},
   "cell_type": "markdown",
   "metadata": {},
   "source": [
    "----\n",
    "## Part 1 : Loading The Data\n",
    "----"
   ]
  },
  {
   "cell_type": "code",
   "execution_count": 109,
   "metadata": {},
   "outputs": [],
   "source": [
    "# creating a config file , to read data from\n",
    "\n",
    "def get_config():\n",
    "    with open('config.yaml','r') as datasource:\n",
    "        config = yam.safe_load(datasource)\n",
    "        return config\n",
    "\n",
    "config = get_config()\n",
    "\n",
    "depressive_symptoms = config['depressive_symptoms']\n",
    "frequency_of_drinking = config['frequency_of_drinking']\n",
    "\n",
    "# reading data by creating pandas dataframe\n",
    "depsymp = pd.read_csv(depressive_symptoms)\n",
    "drinkfreq = pd.read_csv(frequency_of_drinking)\n",
    "\n"
   ]
  },
  {
   "attachments": {},
   "cell_type": "markdown",
   "metadata": {},
   "source": [
    "----\n",
    "## Part 2 : **Data Preparation**\n",
    "---- "
   ]
  },
  {
   "attachments": {},
   "cell_type": "markdown",
   "metadata": {},
   "source": [
    "* Renaming columns"
   ]
  },
  {
   "cell_type": "code",
   "execution_count": 110,
   "metadata": {},
   "outputs": [],
   "source": [
    "# Renaming the desired columns in order to have a better understanding of the columns name.\n",
    "\n",
    "def rename(df,col_list) :\n",
    "    rename = df.rename(columns= col_list)\n",
    "    df = rename\n",
    "    return df\n",
    "\n",
    "depsymp_col_list = {'isced11':'Edu_Level','hlth_pb':'Health_Issue',\n",
    "            'sex':'Gender','age':'Age_Range','geo':'Country','TIME_PERIOD':'Time_Period',\n",
    "            'OBS_VALUE':'Obs_Value'}\n",
    "\n",
    "depsymp = rename(depsymp,depsymp_col_list)\n",
    "\n",
    "\n",
    "drinkfreq_col_list = {'frequenc':'Drink_Freq','sex':'Gender','isced11':'Edu_Level',\n",
    "            'age':'Age_Range','geo':'Country','TIME_PERIOD':'Time_Period','OBS_VALUE':'Obs_Value'}\n",
    "\n",
    "drinkfreq = rename(drinkfreq,drinkfreq_col_list)"
   ]
  },
  {
   "attachments": {},
   "cell_type": "markdown",
   "metadata": {},
   "source": [
    "* Identifying missing values"
   ]
  },
  {
   "cell_type": "code",
   "execution_count": 111,
   "metadata": {},
   "outputs": [],
   "source": [
    "# defining a function to return missing values in multiple dataframes,\n",
    "# output in the form of a dictionary will contain both dataframe and columns \n",
    "# with missing values \n",
    "\n",
    "# depsymp.isna().sum()\n",
    "# depsymp.isnull().sum()\n",
    "\n",
    "\n",
    "def find_missing_values(df_list):\n",
    "    missing_values = []\n",
    "    for i,df in enumerate(df_list):\n",
    "\n",
    "        df_missing = df.isna().sum().to_dict()\n",
    "        df_missing = {k: v for k,v in df_missing.items() if v > 0}\n",
    "        missing_values.append(f'dataframe {i+1} = {df_missing}')\n",
    "                \n",
    "    return missing_values\n",
    "\n",
    "\n",
    "missing_values = find_missing_values([depsymp,drinkfreq])\n",
    "\n",
    "# print(missing_values)"
   ]
  },
  {
   "attachments": {},
   "cell_type": "markdown",
   "metadata": {},
   "source": [
    "* Identifying unreliable observations"
   ]
  },
  {
   "cell_type": "code",
   "execution_count": 112,
   "metadata": {},
   "outputs": [
    {
     "name": "stdout",
     "output_type": "stream",
     "text": [
      "[nan 'u']\n",
      "[nan 'u']\n",
      "36\n",
      "27\n"
     ]
    }
   ],
   "source": [
    "# Flag columns indicate observations which are not reliable.\n",
    "# Below, identification of the specific value for unreliable abservations and the length of rows containing \n",
    "# them where inspected.\n",
    "\n",
    "print(depsymp['OBS_FLAG'].unique())\n",
    "print(drinkfreq['OBS_FLAG'].unique())\n",
    "print(len(depsymp[depsymp['OBS_FLAG'] == 'u']))\n",
    "print(len(drinkfreq[drinkfreq['OBS_FLAG'] == 'u']))"
   ]
  },
  {
   "attachments": {},
   "cell_type": "markdown",
   "metadata": {},
   "source": [
    "* Removing unreliable observations and columns with missing values"
   ]
  },
  {
   "cell_type": "code",
   "execution_count": 113,
   "metadata": {},
   "outputs": [],
   "source": [
    "# defining a function that takes in list of dataframes and returns \n",
    "# cleaned dataframes (without columns containing missing values, and rows with unreliable observations)\n",
    "\n",
    "def drop_missing_values(dataframes):\n",
    "    cleaned_dataframes = []\n",
    "    for df in dataframes:\n",
    "        if 'OBS_FLAG' in df.columns :\n",
    "            df = df[df['OBS_FLAG'] != 'u']\n",
    "        df_dropped = df.dropna(axis=1)\n",
    "        cleaned_dataframes.append(df_dropped)\n",
    "    return cleaned_dataframes\n",
    "\n",
    "list = [depsymp,drinkfreq]\n",
    "cleaned_dataframes = drop_missing_values(list)\n",
    "\n",
    "depsymp = cleaned_dataframes[0]\n",
    "drinkfreq = cleaned_dataframes[1]\n",
    "# drinkfreq\n",
    "\n"
   ]
  },
  {
   "attachments": {},
   "cell_type": "markdown",
   "metadata": {},
   "source": [
    "* Dropping irrelevant columns "
   ]
  },
  {
   "cell_type": "code",
   "execution_count": 114,
   "metadata": {},
   "outputs": [],
   "source": [
    "# dropping irrelevent columns using if statements to \n",
    "# avoid code execution more than once\n",
    "\n",
    "if 'DATAFLOW' in depsymp.columns :\n",
    "    depsymp = depsymp.drop(depsymp.columns[[0,1,2,3,4]],axis=1)\n",
    "\n",
    "if 'DATAFLOW' in drinkfreq.columns :\n",
    "    drinkfreq = drinkfreq.drop(drinkfreq.columns[[0,1,2,3,7]],axis=1)\n",
    "    \n",
    "# print(depsymp)\n",
    "# print(drinkfreq) \n"
   ]
  },
  {
   "attachments": {},
   "cell_type": "markdown",
   "metadata": {},
   "source": [
    "* Inspect duplicated observations"
   ]
  },
  {
   "cell_type": "code",
   "execution_count": 115,
   "metadata": {},
   "outputs": [],
   "source": [
    "# checking for duplicated values in both dataframes.\n",
    "\n",
    "# df.duplicated()\n",
    "# df.drop_duplicates()\n",
    "\n",
    "def check_for_duplicated(df_list) :\n",
    "    for df in df_list :\n",
    "        if df.duplicated().any() :\n",
    "            return True\n",
    "        else :\n",
    "            return False\n",
    "\n",
    "duplicated = check_for_duplicated([depsymp,drinkfreq])\n",
    "# print(duplicated)\n"
   ]
  },
  {
   "attachments": {},
   "cell_type": "markdown",
   "metadata": {},
   "source": [
    "----\n",
    "## Part 3 : Reshaping the data\n",
    "----"
   ]
  },
  {
   "attachments": {},
   "cell_type": "markdown",
   "metadata": {},
   "source": [
    "* Merging data frames (Due to creation of redundancy \"in the form of duplication\"\n",
    "   which makes it impossible to further process the data this part was canceled.)"
   ]
  },
  {
   "cell_type": "code",
   "execution_count": 116,
   "metadata": {},
   "outputs": [],
   "source": [
    "## using pandas merge method we are going to combine two dataframes \n",
    "## into one with values of interest for further analysing.\n",
    "\n",
    "# df = pd.merge(drinkfreq,depsymp,\n",
    "#                 on=['Country','Time_Period','Age_Range','Gender'],\n",
    "#                 suffixes=['_Dri','_Dep'], #especific suffixes helps to identify the coulmn after being merged\n",
    "#                 how='inner')\n",
    "\n",
    "## df = df.sort_values(by=['Obs_Value_Dri','Obs_Value_Dep'], ascending= False).copy()"
   ]
  },
  {
   "attachments": {},
   "cell_type": "markdown",
   "metadata": {},
   "source": [
    "* Age_range column contains multiple ranges, in the following function \n",
    "   we try to keep those ranges which have more coverage."
   ]
  },
  {
   "cell_type": "code",
   "execution_count": 117,
   "metadata": {},
   "outputs": [],
   "source": [
    "# # inspection of unique values in order to keep the desired ones in next step\n",
    "# print(depsymp['Age_Range'].unique() )\n",
    "# print(drinkfreq['Age_Range'].unique())\n",
    "\n",
    "# Filtering the data frame for the desired values\n",
    "\n",
    "def filter_age_range(df_list) :\n",
    "    filtered_age_range = []\n",
    "\n",
    "    for df in df_list :\n",
    "        df = df[df['Age_Range'].isin(['Y15-24','Y25-34','Y35-44','Y45-54','Y55-64','Y65-74'])].copy()\n",
    "        filtered_age_range.append(df)\n",
    "    return filtered_age_range\n",
    "\n",
    "\n",
    "depsymp = filter_age_range([depsymp,drinkfreq])[0]\n",
    "drinkfreq = filter_age_range([depsymp,drinkfreq])[1]\n"
   ]
  },
  {
   "attachments": {},
   "cell_type": "markdown",
   "metadata": {},
   "source": [
    "* match_maker() is a function that creates a list of tuples containing paired unique values \n",
    "   of the two provided column from our desired data frame, makes it easier to groupby in the next step."
   ]
  },
  {
   "cell_type": "code",
   "execution_count": 118,
   "metadata": {},
   "outputs": [],
   "source": [
    "# we will define a function to make a list containing \n",
    "# tuples of paired values of any two given columns.\n",
    "\n",
    "def match_maker(df,col_1,col_2) :\n",
    "\n",
    "    result = []\n",
    "\n",
    "    gen_uni = df[col_1].unique()\n",
    "    drink_uni = df[col_2].unique()\n",
    "    for x in gen_uni :\n",
    "        for y in drink_uni :\n",
    "            if (x,y) not in result :\n",
    "                result.append((x,y))\n",
    "\n",
    "    return result\n",
    "    \n",
    "\n",
    "# match_maker(drinkfreq,'Gender','Drink_Freq')"
   ]
  },
  {
   "attachments": {},
   "cell_type": "markdown",
   "metadata": {},
   "source": [
    "* data_grouper(), this function is designed to access the specific values \n",
    "   inside a group and grouping them again in order to make plotting more focused. Actually our final dataframes \n",
    "   are going to be made here inside this function."
   ]
  },
  {
   "cell_type": "code",
   "execution_count": 119,
   "metadata": {},
   "outputs": [],
   "source": [
    "def data_grouper(df,col_1,col_2) :\n",
    "\n",
    "    grouped_data = []\n",
    "    for i in match_maker(df,col_1,col_2) :\n",
    "        grouping = df.groupby([col_1,col_2]).get_group(i)\n",
    "        grouped_data.append(grouping)\n",
    "    return grouped_data\n",
    "\n",
    "# In total we will have 21 data frames, which are distinguished from each other by their Gender\n",
    "# our 21 data frames are consisting female values, male values , and total values which include both Gender.\n",
    "# the following data frames are those which contain total values for both Gender.  \n",
    "\n",
    "\n",
    "upto3w_tot     = data_grouper(drinkfreq,'Gender','Drink_Freq')[8]\n",
    "fourto6w_tot   = data_grouper(drinkfreq,'Gender','Drink_Freq')[9]\n",
    "gen1perday_tot = data_grouper(drinkfreq,'Gender','Drink_Freq')[10]\n",
    "nevorocc_tot   = data_grouper(drinkfreq,'Gender','Drink_Freq')[11]\n",
    "dpr_tot        = data_grouper(drinkfreq,'Gender','Drink_Freq')[6]\n",
    "dpr_mjr_tot    = data_grouper(drinkfreq,'Gender','Drink_Freq')[7]\n",
    "dpr_oth_tot    = data_grouper(drinkfreq,'Gender','Drink_Freq')[8]\n",
    "\n",
    "# upto3w_tot\n",
    "\n",
    "# match_maker(depsymp,'Gender','Health_Issue')\n",
    "# match_maker(drinkfreq,'Gender','Drink_Freq')"
   ]
  },
  {
   "attachments": {},
   "cell_type": "markdown",
   "metadata": {},
   "source": [
    "* Age_filter"
   ]
  },
  {
   "cell_type": "code",
   "execution_count": 120,
   "metadata": {},
   "outputs": [],
   "source": [
    "# Since we are to investigate the changes in different age ranges , \n",
    "# first we need to filter our data frames on their age column values, which consists 6 ranges.\n",
    "\n",
    "def age_filter(df) :\n",
    "\n",
    "    filtered_age = []\n",
    "\n",
    "    age_unique = df['Age_Range'].unique()\n",
    "\n",
    "    for age in age_unique :\n",
    "        age_filter = df.loc[df['Age_Range'] == age]\n",
    "        \n",
    "        filtered_age.append(age_filter)\n",
    "\n",
    "        # print(len(filtered_age),end=',')\n",
    "        # print(filtered_age[0])\n",
    "\n",
    "    return filtered_age\n",
    "\n",
    "# filtered_age = age_filter(upto3w_tot)"
   ]
  },
  {
   "attachments": {},
   "cell_type": "markdown",
   "metadata": {},
   "source": [
    "----\n",
    "## Part 4 : Smooth The Data (on going)\n",
    "----"
   ]
  },
  {
   "cell_type": "code",
   "execution_count": 121,
   "metadata": {},
   "outputs": [],
   "source": [
    "# defining a function that takes in a list of dataframes and retunrs a list of \n",
    "# smoothed data frames. The built in method '.rolling().mean()' was used.\n",
    "\n",
    "# def smooth_dataframes(dataframes,window_size) :\n",
    "#     smoothed_dataframes = []\n",
    "#     for df in dataframes :\n",
    "#         df = df.copy()\n",
    "#         df['Obs_Value_Dri'] = df['Obs_Value_Dri'].rolling(window=window_size).mean()\n",
    "#         smoothed_dataframes.append(df)\n",
    "#     return smoothed_dataframes\n",
    "\n",
    "# dataframes = smooth_dataframes([df1,df2,df3,df4],3)\n",
    "# dataframes[1]"
   ]
  },
  {
   "attachments": {},
   "cell_type": "markdown",
   "metadata": {},
   "source": [
    "----\n",
    "## Part 5 : Data Visualization (on going)\n",
    "----"
   ]
  },
  {
   "attachments": {},
   "cell_type": "markdown",
   "metadata": {},
   "source": [
    "* Line plot"
   ]
  },
  {
   "cell_type": "code",
   "execution_count": 122,
   "metadata": {},
   "outputs": [
    {
     "data": {
      "text/html": [
       "\n",
       "  <div class=\"bk-root\" id=\"649f3c05-9ebf-43ec-be02-6757fa2aec93\" data-root-id=\"78436\"></div>\n"
      ]
     },
     "metadata": {},
     "output_type": "display_data"
    },
    {
     "data": {
      "application/javascript": "(function(root) {\n  function embed_document(root) {\n  const docs_json = {\"07e24646-9c52-494c-9080-9fa5aaf3cef5\":{\"defs\":[{\"extends\":null,\"module\":null,\"name\":\"ReactiveHTML1\",\"overrides\":[],\"properties\":[]},{\"extends\":null,\"module\":null,\"name\":\"FlexBox1\",\"overrides\":[],\"properties\":[{\"default\":\"flex-start\",\"kind\":null,\"name\":\"align_content\"},{\"default\":\"flex-start\",\"kind\":null,\"name\":\"align_items\"},{\"default\":\"row\",\"kind\":null,\"name\":\"flex_direction\"},{\"default\":\"wrap\",\"kind\":null,\"name\":\"flex_wrap\"},{\"default\":\"flex-start\",\"kind\":null,\"name\":\"justify_content\"}]},{\"extends\":null,\"module\":null,\"name\":\"GridStack1\",\"overrides\":[],\"properties\":[{\"default\":\"warn\",\"kind\":null,\"name\":\"mode\"},{\"default\":null,\"kind\":null,\"name\":\"ncols\"},{\"default\":null,\"kind\":null,\"name\":\"nrows\"},{\"default\":true,\"kind\":null,\"name\":\"allow_resize\"},{\"default\":true,\"kind\":null,\"name\":\"allow_drag\"},{\"default\":[],\"kind\":null,\"name\":\"state\"}]},{\"extends\":null,\"module\":null,\"name\":\"click1\",\"overrides\":[],\"properties\":[{\"default\":\"\",\"kind\":null,\"name\":\"terminal_output\"},{\"default\":\"\",\"kind\":null,\"name\":\"debug_name\"},{\"default\":0,\"kind\":null,\"name\":\"clears\"}]},{\"extends\":null,\"module\":null,\"name\":\"NotificationAreaBase1\",\"overrides\":[],\"properties\":[{\"default\":\"bottom-right\",\"kind\":null,\"name\":\"position\"},{\"default\":0,\"kind\":null,\"name\":\"_clear\"}]},{\"extends\":null,\"module\":null,\"name\":\"NotificationArea1\",\"overrides\":[],\"properties\":[{\"default\":[],\"kind\":null,\"name\":\"notifications\"},{\"default\":\"bottom-right\",\"kind\":null,\"name\":\"position\"},{\"default\":0,\"kind\":null,\"name\":\"_clear\"},{\"default\":[{\"background\":\"#ffc107\",\"icon\":{\"className\":\"fas fa-exclamation-triangle\",\"color\":\"white\",\"tagName\":\"i\"},\"type\":\"warning\"},{\"background\":\"#007bff\",\"icon\":{\"className\":\"fas fa-info-circle\",\"color\":\"white\",\"tagName\":\"i\"},\"type\":\"info\"}],\"kind\":null,\"name\":\"types\"}]},{\"extends\":null,\"module\":null,\"name\":\"Notification\",\"overrides\":[],\"properties\":[{\"default\":null,\"kind\":null,\"name\":\"background\"},{\"default\":3000,\"kind\":null,\"name\":\"duration\"},{\"default\":null,\"kind\":null,\"name\":\"icon\"},{\"default\":\"\",\"kind\":null,\"name\":\"message\"},{\"default\":null,\"kind\":null,\"name\":\"notification_type\"},{\"default\":false,\"kind\":null,\"name\":\"_destroyed\"}]},{\"extends\":null,\"module\":null,\"name\":\"TemplateActions1\",\"overrides\":[],\"properties\":[{\"default\":0,\"kind\":null,\"name\":\"open_modal\"},{\"default\":0,\"kind\":null,\"name\":\"close_modal\"}]},{\"extends\":null,\"module\":null,\"name\":\"MaterialTemplateActions1\",\"overrides\":[],\"properties\":[{\"default\":0,\"kind\":null,\"name\":\"open_modal\"},{\"default\":0,\"kind\":null,\"name\":\"close_modal\"}]}],\"roots\":{\"references\":[{\"attributes\":{\"children\":[{\"id\":\"78435\"},{\"id\":\"78433\"}]},\"id\":\"78436\",\"type\":\"Column\"},{\"attributes\":{},\"id\":\"78285\",\"type\":\"PanTool\"},{\"attributes\":{\"line_alpha\":0.1,\"line_color\":\"#CC79A7\",\"line_width\":1.2,\"x\":{\"field\":\"x\"},\"y\":{\"field\":\"y\"}},\"id\":\"78213\",\"type\":\"Line\"},{\"attributes\":{\"line_color\":\"#CC79A7\",\"line_width\":1.2,\"x\":{\"field\":\"x\"},\"y\":{\"field\":\"y\"}},\"id\":\"78300\",\"type\":\"Line\"},{\"attributes\":{},\"id\":\"78202\",\"type\":\"HelpTool\"},{\"attributes\":{\"coordinates\":null,\"group\":null,\"text\":\"Consuming Sweetened Drinks/ Depressive Symptoms Between ages Y35-44\"},\"id\":\"78180\",\"type\":\"Title\"},{\"attributes\":{\"below\":[{\"id\":\"78322\"}],\"center\":[{\"id\":\"78324\"},{\"id\":\"78328\"}],\"height\":300,\"left\":[{\"id\":\"78325\"}],\"renderers\":[{\"id\":\"78347\"},{\"id\":\"78353\"}],\"title\":{\"id\":\"78312\"},\"toolbar\":{\"id\":\"78336\"},\"toolbar_location\":null,\"width\":550,\"x_range\":{\"id\":\"78314\"},\"x_scale\":{\"id\":\"78318\"},\"y_range\":{\"id\":\"78316\"},\"y_scale\":{\"id\":\"78320\"}},\"id\":\"78311\",\"subtype\":\"Figure\",\"type\":\"Plot\"},{\"attributes\":{\"axis\":{\"id\":\"78102\"},\"coordinates\":null,\"grid_line_alpha\":0.3,\"group\":null,\"ticker\":null},\"id\":\"78104\",\"type\":\"Grid\"},{\"attributes\":{},\"id\":\"78412\",\"type\":\"CategoricalTickFormatter\"},{\"attributes\":{},\"id\":\"78425\",\"type\":\"CategoricalTickFormatter\"},{\"attributes\":{},\"id\":\"78154\",\"type\":\"WheelZoomTool\"},{\"attributes\":{},\"id\":\"78100\",\"type\":\"LinearScale\"},{\"attributes\":{},\"id\":\"78191\",\"type\":\"CategoricalTicker\"},{\"attributes\":{},\"id\":\"78404\",\"type\":\"Selection\"},{\"attributes\":{\"tools\":[{\"id\":\"78109\"},{\"id\":\"78110\"},{\"id\":\"78111\"},{\"id\":\"78112\"},{\"id\":\"78113\"},{\"id\":\"78114\"}]},\"id\":\"78116\",\"type\":\"Toolbar\"},{\"attributes\":{},\"id\":\"78384\",\"type\":\"AllLabels\"},{\"attributes\":{},\"id\":\"78318\",\"type\":\"CategoricalScale\"},{\"attributes\":{},\"id\":\"78362\",\"type\":\"UnionRenderers\"},{\"attributes\":{},\"id\":\"78383\",\"type\":\"BasicTickFormatter\"},{\"attributes\":{},\"id\":\"78375\",\"type\":\"UnionRenderers\"},{\"attributes\":{},\"id\":\"78288\",\"type\":\"SaveTool\"},{\"attributes\":{},\"id\":\"78114\",\"type\":\"HelpTool\"},{\"attributes\":{},\"id\":\"78370\",\"type\":\"BasicTickFormatter\"},{\"attributes\":{\"source\":{\"id\":\"78261\"}},\"id\":\"78266\",\"type\":\"CDSView\"},{\"attributes\":{},\"id\":\"78413\",\"type\":\"AllLabels\"},{\"attributes\":{\"axis_label\":\"EU Countries\",\"axis_line_alpha\":0,\"coordinates\":null,\"formatter\":{\"id\":\"78373\"},\"group\":null,\"major_label_policy\":{\"id\":\"78374\"},\"ticker\":{\"id\":\"78147\"}},\"id\":\"78146\",\"type\":\"CategoricalAxis\"},{\"attributes\":{\"coordinates\":null,\"group\":null,\"text\":\"Consuming Sweetened Drinks/ Depressive Symptoms Between ages Y45-54\"},\"id\":\"78224\",\"type\":\"Title\"},{\"attributes\":{\"axis\":{\"id\":\"78237\"},\"coordinates\":null,\"dimension\":1,\"group\":null,\"ticker\":null},\"id\":\"78240\",\"type\":\"Grid\"},{\"attributes\":{\"source\":{\"id\":\"78305\"}},\"id\":\"78310\",\"type\":\"CDSView\"},{\"attributes\":{\"source\":{\"id\":\"78167\"}},\"id\":\"78172\",\"type\":\"CDSView\"},{\"attributes\":{\"toolbars\":[{\"id\":\"78116\"},{\"id\":\"78160\"},{\"id\":\"78204\"},{\"id\":\"78248\"},{\"id\":\"78292\"},{\"id\":\"78336\"}],\"tools\":[{\"id\":\"78109\"},{\"id\":\"78110\"},{\"id\":\"78111\"},{\"id\":\"78112\"},{\"id\":\"78113\"},{\"id\":\"78114\"},{\"id\":\"78153\"},{\"id\":\"78154\"},{\"id\":\"78155\"},{\"id\":\"78156\"},{\"id\":\"78157\"},{\"id\":\"78158\"},{\"id\":\"78197\"},{\"id\":\"78198\"},{\"id\":\"78199\"},{\"id\":\"78200\"},{\"id\":\"78201\"},{\"id\":\"78202\"},{\"id\":\"78241\"},{\"id\":\"78242\"},{\"id\":\"78243\"},{\"id\":\"78244\"},{\"id\":\"78245\"},{\"id\":\"78246\"},{\"id\":\"78285\"},{\"id\":\"78286\"},{\"id\":\"78287\"},{\"id\":\"78288\"},{\"id\":\"78289\"},{\"id\":\"78290\"},{\"id\":\"78329\"},{\"id\":\"78330\"},{\"id\":\"78331\"},{\"id\":\"78332\"},{\"id\":\"78333\"},{\"id\":\"78334\"}]},\"id\":\"78434\",\"type\":\"ProxyToolbar\"},{\"attributes\":{\"axis_label\":\"Frequency in Percentage\",\"coordinates\":null,\"formatter\":{\"id\":\"78422\"},\"group\":null,\"major_label_policy\":{\"id\":\"78423\"},\"ticker\":{\"id\":\"78326\"}},\"id\":\"78325\",\"type\":\"LinearAxis\"},{\"attributes\":{},\"id\":\"78363\",\"type\":\"Selection\"},{\"attributes\":{\"bottom_units\":\"screen\",\"coordinates\":null,\"fill_alpha\":0.5,\"fill_color\":\"lightgrey\",\"group\":null,\"left_units\":\"screen\",\"level\":\"overlay\",\"line_alpha\":1.0,\"line_color\":\"black\",\"line_dash\":[4,4],\"line_width\":2,\"right_units\":\"screen\",\"syncable\":false,\"top_units\":\"screen\"},\"id\":\"78247\",\"type\":\"BoxAnnotation\"},{\"attributes\":{\"data\":{\"x\":[\"AT\",\"BE\",\"BG\",\"CY\",\"CZ\",\"DE\",\"DK\",\"EE\",\"EL\",\"ES\",\"FI\",\"FR\",\"HR\",\"HU\",\"IE\",\"IS\",\"IT\",\"LT\",\"LU\",\"LV\",\"MT\",\"NO\",\"PL\",\"PT\",\"RO\",\"RS\",\"SE\",\"SI\",\"SK\",\"TR\"],\"y\":{\"__ndarray__\":\"ZmZmZmbmO0CamZmZmZk5QM3MzMzMzD5AZmZmZmZmO0AzMzMzMzM8QDMzMzMzMz9AzczMzMyMQEBmZmZmZmY8QAAAAAAAQEBAmpmZmZnZQEAzMzMzMzNBQDMzMzMzMzxAmpmZmZkZPECamZmZmZk9QGZmZmZmZjtAzczMzMzMOkAzMzMzM7M8QAAAAAAAwEJAZmZmZmbmOkAAAAAAAEBBQM3MzMzMzDFAZmZmZmZmPUBmZmZmZiZAQGZmZmZmZjlAzczMzMyMQUAzMzMzM7M7QDMzMzMzc0RAZmZmZmZmOECamZmZmRk5QJqZmZmZGT1A\",\"dtype\":\"float64\",\"order\":\"little\",\"shape\":[30]}},\"selected\":{\"id\":\"78363\"},\"selection_policy\":{\"id\":\"78362\"}},\"id\":\"78123\",\"type\":\"ColumnDataSource\"},{\"attributes\":{\"line_alpha\":0.2,\"line_color\":\"#CC79A7\",\"line_width\":1.2,\"x\":{\"field\":\"x\"},\"y\":{\"field\":\"y\"}},\"id\":\"78126\",\"type\":\"Line\"},{\"attributes\":{\"line_alpha\":0.1,\"line_color\":\"#0072B2\",\"line_width\":1.2,\"x\":{\"field\":\"x\"},\"y\":{\"field\":\"y\"}},\"id\":\"78351\",\"type\":\"Line\"},{\"attributes\":{},\"id\":\"78290\",\"type\":\"HelpTool\"},{\"attributes\":{},\"id\":\"78200\",\"type\":\"SaveTool\"},{\"attributes\":{},\"id\":\"78194\",\"type\":\"BasicTicker\"},{\"attributes\":{\"line_color\":\"#CC79A7\",\"line_width\":1.2,\"x\":{\"field\":\"x\"},\"y\":{\"field\":\"y\"}},\"id\":\"78256\",\"type\":\"Line\"},{\"attributes\":{},\"id\":\"78397\",\"type\":\"AllLabels\"},{\"attributes\":{\"line_color\":\"#0072B2\",\"line_width\":1.2,\"x\":{\"field\":\"x\"},\"y\":{\"field\":\"y\"}},\"id\":\"78306\",\"type\":\"Line\"},{\"attributes\":{},\"id\":\"78326\",\"type\":\"BasicTicker\"},{\"attributes\":{},\"id\":\"78376\",\"type\":\"Selection\"},{\"attributes\":{\"coordinates\":null,\"data_source\":{\"id\":\"78123\"},\"glyph\":{\"id\":\"78124\"},\"group\":null,\"hover_glyph\":null,\"muted_glyph\":{\"id\":\"78126\"},\"nonselection_glyph\":{\"id\":\"78125\"},\"view\":{\"id\":\"78128\"}},\"id\":\"78127\",\"type\":\"GlyphRenderer\"},{\"attributes\":{\"line_alpha\":0.2,\"line_color\":\"#0072B2\",\"line_width\":1.2,\"x\":{\"field\":\"x\"},\"y\":{\"field\":\"y\"}},\"id\":\"78264\",\"type\":\"Line\"},{\"attributes\":{\"coordinates\":null,\"data_source\":{\"id\":\"78129\"},\"glyph\":{\"id\":\"78130\"},\"group\":null,\"hover_glyph\":null,\"muted_glyph\":{\"id\":\"78132\"},\"nonselection_glyph\":{\"id\":\"78131\"},\"view\":{\"id\":\"78134\"}},\"id\":\"78133\",\"type\":\"GlyphRenderer\"},{\"attributes\":{\"coordinates\":null,\"data_source\":{\"id\":\"78349\"},\"glyph\":{\"id\":\"78350\"},\"group\":null,\"hover_glyph\":null,\"muted_glyph\":{\"id\":\"78352\"},\"nonselection_glyph\":{\"id\":\"78351\"},\"view\":{\"id\":\"78354\"}},\"id\":\"78353\",\"type\":\"GlyphRenderer\"},{\"attributes\":{},\"id\":\"78410\",\"type\":\"AllLabels\"},{\"attributes\":{},\"id\":\"78279\",\"type\":\"CategoricalTicker\"},{\"attributes\":{\"axis_label\":\"Frequency in Percentage\",\"coordinates\":null,\"formatter\":{\"id\":\"78357\"},\"group\":null,\"major_label_policy\":{\"id\":\"78358\"},\"ticker\":{\"id\":\"78106\"}},\"id\":\"78105\",\"type\":\"LinearAxis\"},{\"attributes\":{},\"id\":\"78409\",\"type\":\"BasicTickFormatter\"},{\"attributes\":{\"overlay\":{\"id\":\"78159\"}},\"id\":\"78155\",\"type\":\"BoxZoomTool\"},{\"attributes\":{\"axis_label\":\"Frequency in Percentage\",\"coordinates\":null,\"formatter\":{\"id\":\"78396\"},\"group\":null,\"major_label_policy\":{\"id\":\"78397\"},\"ticker\":{\"id\":\"78238\"}},\"id\":\"78237\",\"type\":\"LinearAxis\"},{\"attributes\":{\"tools\":[{\"id\":\"78285\"},{\"id\":\"78286\"},{\"id\":\"78287\"},{\"id\":\"78288\"},{\"id\":\"78289\"},{\"id\":\"78290\"}]},\"id\":\"78292\",\"type\":\"Toolbar\"},{\"attributes\":{\"tools\":[{\"id\":\"78329\"},{\"id\":\"78330\"},{\"id\":\"78331\"},{\"id\":\"78332\"},{\"id\":\"78333\"},{\"id\":\"78334\"}]},\"id\":\"78336\",\"type\":\"Toolbar\"},{\"attributes\":{\"axis\":{\"id\":\"78281\"},\"coordinates\":null,\"dimension\":1,\"group\":null,\"ticker\":null},\"id\":\"78284\",\"type\":\"Grid\"},{\"attributes\":{\"data\":{\"x\":[\"AT\",\"BE\",\"BG\",\"CY\",\"CZ\",\"DE\",\"DK\",\"EE\",\"EL\",\"ES\",\"FI\",\"FR\",\"HR\",\"HU\",\"IE\",\"IS\",\"IT\",\"LT\",\"LU\",\"LV\",\"MT\",\"NO\",\"PL\",\"PT\",\"RO\",\"RS\",\"SE\",\"SI\",\"SK\",\"TR\"],\"y\":{\"__ndarray__\":\"ZmZmZmZmJEAAAAAAAAAtQGZmZmZmZjpAzczMzMzMOkAAAAAAAAAtQGZmZmZmZixAzczMzMzMMEBmZmZmZmYeQAAAAAAAADRAmpmZmZmZKkAzMzMzMzMjQM3MzMzMzCFAZmZmZmZmLkAAAAAAAAAnQJqZmZmZmSNAzczMzMzMNUCamZmZmZkkQJqZmZmZmSNAzczMzMzMJECamZmZmZknQJqZmZmZmSBAzczMzMzMIkAzMzMzMzMwQJqZmZmZmSNAZmZmZmZmNEAzMzMzM7M4QAAAAAAAgDBAZmZmZmZmI0CamZmZmZkpQAAAAAAAAC1A\",\"dtype\":\"float64\",\"order\":\"little\",\"shape\":[30]}},\"selected\":{\"id\":\"78415\"},\"selection_policy\":{\"id\":\"78414\"}},\"id\":\"78299\",\"type\":\"ColumnDataSource\"},{\"attributes\":{},\"id\":\"78402\",\"type\":\"Selection\"},{\"attributes\":{\"overlay\":{\"id\":\"78247\"}},\"id\":\"78243\",\"type\":\"BoxZoomTool\"},{\"attributes\":{},\"id\":\"78289\",\"type\":\"ResetTool\"},{\"attributes\":{\"source\":{\"id\":\"78211\"}},\"id\":\"78216\",\"type\":\"CDSView\"},{\"attributes\":{},\"id\":\"78415\",\"type\":\"Selection\"},{\"attributes\":{},\"id\":\"78244\",\"type\":\"SaveTool\"},{\"attributes\":{\"coordinates\":null,\"data_source\":{\"id\":\"78305\"},\"glyph\":{\"id\":\"78306\"},\"group\":null,\"hover_glyph\":null,\"muted_glyph\":{\"id\":\"78308\"},\"nonselection_glyph\":{\"id\":\"78307\"},\"view\":{\"id\":\"78310\"}},\"id\":\"78309\",\"type\":\"GlyphRenderer\"},{\"attributes\":{\"source\":{\"id\":\"78217\"}},\"id\":\"78222\",\"type\":\"CDSView\"},{\"attributes\":{},\"id\":\"78245\",\"type\":\"ResetTool\"},{\"attributes\":{\"source\":{\"id\":\"78123\"}},\"id\":\"78128\",\"type\":\"CDSView\"},{\"attributes\":{\"below\":[{\"id\":\"78146\"}],\"center\":[{\"id\":\"78148\"},{\"id\":\"78152\"}],\"height\":300,\"left\":[{\"id\":\"78149\"}],\"renderers\":[{\"id\":\"78171\"},{\"id\":\"78177\"}],\"title\":{\"id\":\"78136\"},\"toolbar\":{\"id\":\"78160\"},\"toolbar_location\":null,\"width\":550,\"x_range\":{\"id\":\"78138\"},\"x_scale\":{\"id\":\"78142\"},\"y_range\":{\"id\":\"78140\"},\"y_scale\":{\"id\":\"78144\"}},\"id\":\"78135\",\"subtype\":\"Figure\",\"type\":\"Plot\"},{\"attributes\":{\"factors\":[\"AT\",\"BE\",\"BG\",\"CY\",\"CZ\",\"DE\",\"DK\",\"EE\",\"EL\",\"ES\",\"FI\",\"FR\",\"HR\",\"HU\",\"IE\",\"IS\",\"IT\",\"LT\",\"LU\",\"LV\",\"MT\",\"NO\",\"PL\",\"PT\",\"RO\",\"RS\",\"SE\",\"SI\",\"SK\",\"TR\"]},\"id\":\"78182\",\"type\":\"FactorRange\"},{\"attributes\":{},\"id\":\"78147\",\"type\":\"CategoricalTicker\"},{\"attributes\":{\"axis_label\":\"EU Countries\",\"axis_line_alpha\":0,\"coordinates\":null,\"formatter\":{\"id\":\"78360\"},\"group\":null,\"major_label_policy\":{\"id\":\"78361\"},\"ticker\":{\"id\":\"78103\"}},\"id\":\"78102\",\"type\":\"CategoricalAxis\"},{\"attributes\":{\"factors\":[\"AT\",\"BE\",\"BG\",\"CY\",\"CZ\",\"DE\",\"DK\",\"EE\",\"EL\",\"ES\",\"FI\",\"FR\",\"HR\",\"HU\",\"IE\",\"IS\",\"IT\",\"LT\",\"LU\",\"LV\",\"MT\",\"NO\",\"PL\",\"PT\",\"RO\",\"RS\",\"SE\",\"SI\",\"SK\",\"TR\"]},\"id\":\"78314\",\"type\":\"FactorRange\"},{\"attributes\":{\"data\":{\"x\":[\"AT\",\"BE\",\"BG\",\"CY\",\"CZ\",\"DE\",\"DK\",\"EE\",\"EL\",\"ES\",\"FI\",\"FR\",\"HR\",\"HU\",\"IE\",\"IS\",\"IT\",\"LT\",\"LU\",\"LV\",\"MT\",\"NO\",\"PL\",\"PT\",\"RO\",\"RS\",\"SE\",\"SI\",\"SK\",\"TR\"],\"y\":{\"__ndarray__\":\"MzMzMzMzHUDNzMzMzEwyQGZmZmZmZitAmpmZmZmZJkAAAAAAAAApQAAAAAAAADBAZmZmZmZmIEAAAAAAAAAMQGZmZmZmZgpAZmZmZmZmFECamZmZmZkNQM3MzMzMzBRAMzMzMzMzLEAAAAAAAAAmQAAAAAAAABJAMzMzMzMzFUCamZmZmZkTQAAAAAAAAARAzczMzMzMFEAzMzMzMzMDQJqZmZmZmSdAAAAAAAAAIUCamZmZmZkqQGZmZmZmZhZAzczMzMzMAEBmZmZmZmYhQM3MzMzMzB5AZmZmZmZmJUAAAAAAAAAeQGZmZmZmZgpA\",\"dtype\":\"float64\",\"order\":\"little\",\"shape\":[30]}},\"selected\":{\"id\":\"78417\"},\"selection_policy\":{\"id\":\"78416\"}},\"id\":\"78305\",\"type\":\"ColumnDataSource\"},{\"attributes\":{\"line_color\":\"#0072B2\",\"line_width\":1.2,\"x\":{\"field\":\"x\"},\"y\":{\"field\":\"y\"}},\"id\":\"78350\",\"type\":\"Line\"},{\"attributes\":{\"tools\":[{\"id\":\"78241\"},{\"id\":\"78242\"},{\"id\":\"78243\"},{\"id\":\"78244\"},{\"id\":\"78245\"},{\"id\":\"78246\"}]},\"id\":\"78248\",\"type\":\"Toolbar\"},{\"attributes\":{\"line_color\":\"#0072B2\",\"line_width\":1.2,\"x\":{\"field\":\"x\"},\"y\":{\"field\":\"y\"}},\"id\":\"78174\",\"type\":\"Line\"},{\"attributes\":{},\"id\":\"78391\",\"type\":\"Selection\"},{\"attributes\":{\"factors\":[\"AT\",\"BE\",\"BG\",\"CY\",\"CZ\",\"DE\",\"DK\",\"EE\",\"EL\",\"ES\",\"FI\",\"FR\",\"HR\",\"HU\",\"IE\",\"IS\",\"IT\",\"LT\",\"LU\",\"LV\",\"MT\",\"NO\",\"PL\",\"PT\",\"RO\",\"RS\",\"SE\",\"SI\",\"SK\",\"TR\"]},\"id\":\"78138\",\"type\":\"FactorRange\"},{\"attributes\":{\"coordinates\":null,\"group\":null,\"text\":\"Consuming Sweetened Drinks/ Depressive Symptoms Between ages Y65-74\"},\"id\":\"78312\",\"type\":\"Title\"},{\"attributes\":{\"bottom_units\":\"screen\",\"coordinates\":null,\"fill_alpha\":0.5,\"fill_color\":\"lightgrey\",\"group\":null,\"left_units\":\"screen\",\"level\":\"overlay\",\"line_alpha\":1.0,\"line_color\":\"black\",\"line_dash\":[4,4],\"line_width\":2,\"right_units\":\"screen\",\"syncable\":false,\"top_units\":\"screen\"},\"id\":\"78291\",\"type\":\"BoxAnnotation\"},{\"attributes\":{\"bottom_units\":\"screen\",\"coordinates\":null,\"fill_alpha\":0.5,\"fill_color\":\"lightgrey\",\"group\":null,\"left_units\":\"screen\",\"level\":\"overlay\",\"line_alpha\":1.0,\"line_color\":\"black\",\"line_dash\":[4,4],\"line_width\":2,\"right_units\":\"screen\",\"syncable\":false,\"top_units\":\"screen\"},\"id\":\"78335\",\"type\":\"BoxAnnotation\"},{\"attributes\":{},\"id\":\"78374\",\"type\":\"AllLabels\"},{\"attributes\":{},\"id\":\"78323\",\"type\":\"CategoricalTicker\"},{\"attributes\":{},\"id\":\"78417\",\"type\":\"Selection\"},{\"attributes\":{},\"id\":\"78157\",\"type\":\"ResetTool\"},{\"attributes\":{},\"id\":\"78334\",\"type\":\"HelpTool\"},{\"attributes\":{\"coordinates\":null,\"group\":null,\"text\":\"Consuming Sweetened Drinks/ Depressive Symptoms Between ages Y15-24\"},\"id\":\"78092\",\"type\":\"Title\"},{\"attributes\":{\"axis_label\":\"EU Countries\",\"axis_line_alpha\":0,\"coordinates\":null,\"formatter\":{\"id\":\"78386\"},\"group\":null,\"major_label_policy\":{\"id\":\"78387\"},\"ticker\":{\"id\":\"78191\"}},\"id\":\"78190\",\"type\":\"CategoricalAxis\"},{\"attributes\":{\"factors\":[\"AT\",\"BE\",\"BG\",\"CY\",\"CZ\",\"DE\",\"DK\",\"EE\",\"EL\",\"ES\",\"FI\",\"FR\",\"HR\",\"HU\",\"IE\",\"IS\",\"IT\",\"LT\",\"LU\",\"LV\",\"MT\",\"NO\",\"PL\",\"PT\",\"RO\",\"RS\",\"SE\",\"SI\",\"SK\",\"TR\"]},\"id\":\"78226\",\"type\":\"FactorRange\"},{\"attributes\":{\"line_alpha\":0.1,\"line_color\":\"#CC79A7\",\"line_width\":1.2,\"x\":{\"field\":\"x\"},\"y\":{\"field\":\"y\"}},\"id\":\"78169\",\"type\":\"Line\"},{\"attributes\":{},\"id\":\"78429\",\"type\":\"UnionRenderers\"},{\"attributes\":{\"toolbar\":{\"id\":\"78434\"},\"toolbar_location\":\"above\"},\"id\":\"78435\",\"type\":\"ToolbarBox\"},{\"attributes\":{},\"id\":\"78112\",\"type\":\"SaveTool\"},{\"attributes\":{},\"id\":\"78422\",\"type\":\"BasicTickFormatter\"},{\"attributes\":{},\"id\":\"78156\",\"type\":\"SaveTool\"},{\"attributes\":{},\"id\":\"78330\",\"type\":\"WheelZoomTool\"},{\"attributes\":{},\"id\":\"78274\",\"type\":\"CategoricalScale\"},{\"attributes\":{},\"id\":\"78388\",\"type\":\"UnionRenderers\"},{\"attributes\":{},\"id\":\"78246\",\"type\":\"HelpTool\"},{\"attributes\":{\"coordinates\":null,\"data_source\":{\"id\":\"78167\"},\"glyph\":{\"id\":\"78168\"},\"group\":null,\"hover_glyph\":null,\"muted_glyph\":{\"id\":\"78170\"},\"nonselection_glyph\":{\"id\":\"78169\"},\"view\":{\"id\":\"78172\"}},\"id\":\"78171\",\"type\":\"GlyphRenderer\"},{\"attributes\":{\"coordinates\":null,\"group\":null,\"text\":\"Consuming Sweetened Drinks/ Depressive Symptoms Between ages Y25-34\"},\"id\":\"78136\",\"type\":\"Title\"},{\"attributes\":{},\"id\":\"78430\",\"type\":\"Selection\"},{\"attributes\":{},\"id\":\"78110\",\"type\":\"WheelZoomTool\"},{\"attributes\":{\"line_alpha\":0.1,\"line_color\":\"#0072B2\",\"line_width\":1.2,\"x\":{\"field\":\"x\"},\"y\":{\"field\":\"y\"}},\"id\":\"78175\",\"type\":\"Line\"},{\"attributes\":{\"below\":[{\"id\":\"78278\"}],\"center\":[{\"id\":\"78280\"},{\"id\":\"78284\"}],\"height\":300,\"left\":[{\"id\":\"78281\"}],\"renderers\":[{\"id\":\"78303\"},{\"id\":\"78309\"}],\"title\":{\"id\":\"78268\"},\"toolbar\":{\"id\":\"78292\"},\"toolbar_location\":null,\"width\":550,\"x_range\":{\"id\":\"78270\"},\"x_scale\":{\"id\":\"78274\"},\"y_range\":{\"id\":\"78272\"},\"y_scale\":{\"id\":\"78276\"}},\"id\":\"78267\",\"subtype\":\"Figure\",\"type\":\"Plot\"},{\"attributes\":{},\"id\":\"78329\",\"type\":\"PanTool\"},{\"attributes\":{\"axis\":{\"id\":\"78278\"},\"coordinates\":null,\"grid_line_alpha\":0.3,\"group\":null,\"ticker\":null},\"id\":\"78280\",\"type\":\"Grid\"},{\"attributes\":{},\"id\":\"78414\",\"type\":\"UnionRenderers\"},{\"attributes\":{},\"id\":\"78371\",\"type\":\"AllLabels\"},{\"attributes\":{\"axis\":{\"id\":\"78325\"},\"coordinates\":null,\"dimension\":1,\"group\":null,\"ticker\":null},\"id\":\"78328\",\"type\":\"Grid\"},{\"attributes\":{},\"id\":\"78272\",\"type\":\"DataRange1d\"},{\"attributes\":{\"bottom_units\":\"screen\",\"coordinates\":null,\"fill_alpha\":0.5,\"fill_color\":\"lightgrey\",\"group\":null,\"left_units\":\"screen\",\"level\":\"overlay\",\"line_alpha\":1.0,\"line_color\":\"black\",\"line_dash\":[4,4],\"line_width\":2,\"right_units\":\"screen\",\"syncable\":false,\"top_units\":\"screen\"},\"id\":\"78159\",\"type\":\"BoxAnnotation\"},{\"attributes\":{\"line_color\":\"#CC79A7\",\"line_width\":1.2,\"x\":{\"field\":\"x\"},\"y\":{\"field\":\"y\"}},\"id\":\"78344\",\"type\":\"Line\"},{\"attributes\":{},\"id\":\"78416\",\"type\":\"UnionRenderers\"},{\"attributes\":{\"line_alpha\":0.2,\"line_color\":\"#CC79A7\",\"line_width\":1.2,\"x\":{\"field\":\"x\"},\"y\":{\"field\":\"y\"}},\"id\":\"78302\",\"type\":\"Line\"},{\"attributes\":{\"axis\":{\"id\":\"78146\"},\"coordinates\":null,\"grid_line_alpha\":0.3,\"group\":null,\"ticker\":null},\"id\":\"78148\",\"type\":\"Grid\"},{\"attributes\":{},\"id\":\"78232\",\"type\":\"LinearScale\"},{\"attributes\":{},\"id\":\"78150\",\"type\":\"BasicTicker\"},{\"attributes\":{\"below\":[{\"id\":\"78102\"}],\"center\":[{\"id\":\"78104\"},{\"id\":\"78108\"}],\"height\":300,\"left\":[{\"id\":\"78105\"}],\"renderers\":[{\"id\":\"78127\"},{\"id\":\"78133\"}],\"title\":{\"id\":\"78092\"},\"toolbar\":{\"id\":\"78116\"},\"toolbar_location\":null,\"width\":550,\"x_range\":{\"id\":\"78094\"},\"x_scale\":{\"id\":\"78098\"},\"y_range\":{\"id\":\"78096\"},\"y_scale\":{\"id\":\"78100\"}},\"id\":\"78091\",\"subtype\":\"Figure\",\"type\":\"Plot\"},{\"attributes\":{},\"id\":\"78276\",\"type\":\"LinearScale\"},{\"attributes\":{},\"id\":\"78142\",\"type\":\"CategoricalScale\"},{\"attributes\":{},\"id\":\"78109\",\"type\":\"PanTool\"},{\"attributes\":{},\"id\":\"78364\",\"type\":\"UnionRenderers\"},{\"attributes\":{},\"id\":\"78390\",\"type\":\"UnionRenderers\"},{\"attributes\":{\"tools\":[{\"id\":\"78153\"},{\"id\":\"78154\"},{\"id\":\"78155\"},{\"id\":\"78156\"},{\"id\":\"78157\"},{\"id\":\"78158\"}]},\"id\":\"78160\",\"type\":\"Toolbar\"},{\"attributes\":{\"line_alpha\":0.2,\"line_color\":\"#0072B2\",\"line_width\":1.2,\"x\":{\"field\":\"x\"},\"y\":{\"field\":\"y\"}},\"id\":\"78132\",\"type\":\"Line\"},{\"attributes\":{\"overlay\":{\"id\":\"78291\"}},\"id\":\"78287\",\"type\":\"BoxZoomTool\"},{\"attributes\":{\"axis_label\":\"Frequency in Percentage\",\"coordinates\":null,\"formatter\":{\"id\":\"78370\"},\"group\":null,\"major_label_policy\":{\"id\":\"78371\"},\"ticker\":{\"id\":\"78150\"}},\"id\":\"78149\",\"type\":\"LinearAxis\"},{\"attributes\":{},\"id\":\"78238\",\"type\":\"BasicTicker\"},{\"attributes\":{},\"id\":\"78188\",\"type\":\"LinearScale\"},{\"attributes\":{},\"id\":\"78320\",\"type\":\"LinearScale\"},{\"attributes\":{},\"id\":\"78103\",\"type\":\"CategoricalTicker\"},{\"attributes\":{},\"id\":\"78378\",\"type\":\"Selection\"},{\"attributes\":{},\"id\":\"78428\",\"type\":\"Selection\"},{\"attributes\":{},\"id\":\"78332\",\"type\":\"SaveTool\"},{\"attributes\":{\"line_color\":\"#CC79A7\",\"line_width\":1.2,\"x\":{\"field\":\"x\"},\"y\":{\"field\":\"y\"}},\"id\":\"78212\",\"type\":\"Line\"},{\"attributes\":{},\"id\":\"78242\",\"type\":\"WheelZoomTool\"},{\"attributes\":{},\"id\":\"78286\",\"type\":\"WheelZoomTool\"},{\"attributes\":{\"factors\":[\"AT\",\"BE\",\"BG\",\"CY\",\"CZ\",\"DE\",\"DK\",\"EE\",\"EL\",\"ES\",\"FI\",\"FR\",\"HR\",\"HU\",\"IE\",\"IS\",\"IT\",\"LT\",\"LU\",\"LV\",\"MT\",\"NO\",\"PL\",\"PT\",\"RO\",\"RS\",\"SE\",\"SI\",\"SK\",\"TR\"]},\"id\":\"78270\",\"type\":\"FactorRange\"},{\"attributes\":{\"data\":{\"x\":[\"AT\",\"BE\",\"BG\",\"CY\",\"CZ\",\"DE\",\"DK\",\"EE\",\"EL\",\"ES\",\"FI\",\"FR\",\"HR\",\"HU\",\"IE\",\"IS\",\"IT\",\"LT\",\"LU\",\"LV\",\"MT\",\"NO\",\"PL\",\"PT\",\"RO\",\"RS\",\"SE\",\"SI\",\"SK\",\"TR\"],\"y\":{\"__ndarray__\":\"ZmZmZmZmMECamZmZmVlBQJqZmZmZGTJAAAAAAAAAMkDNzMzMzMwuQGZmZmZm5jFAmpmZmZmZIUAAAAAAAAAMQGZmZmZmZhpAZmZmZmZmK0AzMzMzMzMXQDMzMzMzMzBAAAAAAAAAMEBmZmZmZuYxQAAAAAAAACpAAAAAAAAALUCamZmZmZklQAAAAAAAACJAzczMzMzMHEAAAAAAAAAhQGZmZmZmZitAMzMzMzMzHUCamZmZmZkyQDMzMzMzszFAzczMzMzMFkDNzMzMzEwxQAAAAAAAACJAZmZmZmZmL0AzMzMzMzMoQM3MzMzMzCtA\",\"dtype\":\"float64\",\"order\":\"little\",\"shape\":[30]}},\"selected\":{\"id\":\"78378\"},\"selection_policy\":{\"id\":\"78377\"}},\"id\":\"78173\",\"type\":\"ColumnDataSource\"},{\"attributes\":{},\"id\":\"78399\",\"type\":\"CategoricalTickFormatter\"},{\"attributes\":{},\"id\":\"78333\",\"type\":\"ResetTool\"},{\"attributes\":{\"source\":{\"id\":\"78299\"}},\"id\":\"78304\",\"type\":\"CDSView\"},{\"attributes\":{},\"id\":\"78357\",\"type\":\"BasicTickFormatter\"},{\"attributes\":{\"axis\":{\"id\":\"78149\"},\"coordinates\":null,\"dimension\":1,\"group\":null,\"ticker\":null},\"id\":\"78152\",\"type\":\"Grid\"},{\"attributes\":{},\"id\":\"78361\",\"type\":\"AllLabels\"},{\"attributes\":{\"overlay\":{\"id\":\"78203\"}},\"id\":\"78199\",\"type\":\"BoxZoomTool\"},{\"attributes\":{},\"id\":\"78106\",\"type\":\"BasicTicker\"},{\"attributes\":{},\"id\":\"78358\",\"type\":\"AllLabels\"},{\"attributes\":{\"line_alpha\":0.1,\"line_color\":\"#CC79A7\",\"line_width\":1.2,\"x\":{\"field\":\"x\"},\"y\":{\"field\":\"y\"}},\"id\":\"78257\",\"type\":\"Line\"},{\"attributes\":{},\"id\":\"78098\",\"type\":\"CategoricalScale\"},{\"attributes\":{\"line_color\":\"#0072B2\",\"line_width\":1.2,\"x\":{\"field\":\"x\"},\"y\":{\"field\":\"y\"}},\"id\":\"78130\",\"type\":\"Line\"},{\"attributes\":{},\"id\":\"78396\",\"type\":\"BasicTickFormatter\"},{\"attributes\":{},\"id\":\"78427\",\"type\":\"UnionRenderers\"},{\"attributes\":{},\"id\":\"78158\",\"type\":\"HelpTool\"},{\"attributes\":{\"line_alpha\":0.2,\"line_color\":\"#CC79A7\",\"line_width\":1.2,\"x\":{\"field\":\"x\"},\"y\":{\"field\":\"y\"}},\"id\":\"78170\",\"type\":\"Line\"},{\"attributes\":{},\"id\":\"78113\",\"type\":\"ResetTool\"},{\"attributes\":{},\"id\":\"78423\",\"type\":\"AllLabels\"},{\"attributes\":{\"coordinates\":null,\"data_source\":{\"id\":\"78261\"},\"glyph\":{\"id\":\"78262\"},\"group\":null,\"hover_glyph\":null,\"muted_glyph\":{\"id\":\"78264\"},\"nonselection_glyph\":{\"id\":\"78263\"},\"view\":{\"id\":\"78266\"}},\"id\":\"78265\",\"type\":\"GlyphRenderer\"},{\"attributes\":{\"axis_label\":\"EU Countries\",\"axis_line_alpha\":0,\"coordinates\":null,\"formatter\":{\"id\":\"78425\"},\"group\":null,\"major_label_policy\":{\"id\":\"78426\"},\"ticker\":{\"id\":\"78323\"}},\"id\":\"78322\",\"type\":\"CategoricalAxis\"},{\"attributes\":{},\"id\":\"78235\",\"type\":\"CategoricalTicker\"},{\"attributes\":{\"line_alpha\":0.1,\"line_color\":\"#CC79A7\",\"line_width\":1.2,\"x\":{\"field\":\"x\"},\"y\":{\"field\":\"y\"}},\"id\":\"78301\",\"type\":\"Line\"},{\"attributes\":{\"axis\":{\"id\":\"78105\"},\"coordinates\":null,\"dimension\":1,\"group\":null,\"ticker\":null},\"id\":\"78108\",\"type\":\"Grid\"},{\"attributes\":{\"line_color\":\"#CC79A7\",\"line_width\":1.2,\"x\":{\"field\":\"x\"},\"y\":{\"field\":\"y\"}},\"id\":\"78168\",\"type\":\"Line\"},{\"attributes\":{\"factors\":[\"AT\",\"BE\",\"BG\",\"CY\",\"CZ\",\"DE\",\"DK\",\"EE\",\"EL\",\"ES\",\"FI\",\"FR\",\"HR\",\"HU\",\"IE\",\"IS\",\"IT\",\"LT\",\"LU\",\"LV\",\"MT\",\"NO\",\"PL\",\"PT\",\"RO\",\"RS\",\"SE\",\"SI\",\"SK\",\"TR\"]},\"id\":\"78094\",\"type\":\"FactorRange\"},{\"attributes\":{\"axis_label\":\"Frequency in Percentage\",\"coordinates\":null,\"formatter\":{\"id\":\"78409\"},\"group\":null,\"major_label_policy\":{\"id\":\"78410\"},\"ticker\":{\"id\":\"78282\"}},\"id\":\"78281\",\"type\":\"LinearAxis\"},{\"attributes\":{},\"id\":\"78373\",\"type\":\"CategoricalTickFormatter\"},{\"attributes\":{},\"id\":\"78365\",\"type\":\"Selection\"},{\"attributes\":{},\"id\":\"78403\",\"type\":\"UnionRenderers\"},{\"attributes\":{\"coordinates\":null,\"data_source\":{\"id\":\"78217\"},\"glyph\":{\"id\":\"78218\"},\"group\":null,\"hover_glyph\":null,\"muted_glyph\":{\"id\":\"78220\"},\"nonselection_glyph\":{\"id\":\"78219\"},\"view\":{\"id\":\"78222\"}},\"id\":\"78221\",\"type\":\"GlyphRenderer\"},{\"attributes\":{},\"id\":\"78387\",\"type\":\"AllLabels\"},{\"attributes\":{\"coordinates\":null,\"data_source\":{\"id\":\"78173\"},\"glyph\":{\"id\":\"78174\"},\"group\":null,\"hover_glyph\":null,\"muted_glyph\":{\"id\":\"78176\"},\"nonselection_glyph\":{\"id\":\"78175\"},\"view\":{\"id\":\"78178\"}},\"id\":\"78177\",\"type\":\"GlyphRenderer\"},{\"attributes\":{\"source\":{\"id\":\"78129\"}},\"id\":\"78134\",\"type\":\"CDSView\"},{\"attributes\":{\"line_alpha\":0.1,\"line_color\":\"#0072B2\",\"line_width\":1.2,\"x\":{\"field\":\"x\"},\"y\":{\"field\":\"y\"}},\"id\":\"78219\",\"type\":\"Line\"},{\"attributes\":{\"below\":[{\"id\":\"78234\"}],\"center\":[{\"id\":\"78236\"},{\"id\":\"78240\"}],\"height\":300,\"left\":[{\"id\":\"78237\"}],\"renderers\":[{\"id\":\"78259\"},{\"id\":\"78265\"}],\"title\":{\"id\":\"78224\"},\"toolbar\":{\"id\":\"78248\"},\"toolbar_location\":null,\"width\":550,\"x_range\":{\"id\":\"78226\"},\"x_scale\":{\"id\":\"78230\"},\"y_range\":{\"id\":\"78228\"},\"y_scale\":{\"id\":\"78232\"}},\"id\":\"78223\",\"subtype\":\"Figure\",\"type\":\"Plot\"},{\"attributes\":{\"data\":{\"x\":[\"AT\",\"BE\",\"BG\",\"CY\",\"CZ\",\"DE\",\"DK\",\"EE\",\"EL\",\"ES\",\"FI\",\"FR\",\"HR\",\"HU\",\"IE\",\"IS\",\"IT\",\"LT\",\"LU\",\"LV\",\"MT\",\"NO\",\"PL\",\"PT\",\"RO\",\"RS\",\"SE\",\"SI\",\"SK\",\"TR\"],\"y\":{\"__ndarray__\":\"MzMzMzMzM0DNzMzMzMw0QDMzMzMzMz5AMzMzMzOzO0BmZmZmZmYyQJqZmZmZGTpAMzMzMzOzNkDNzMzMzMwxQGZmZmZm5j1AzczMzMxMOUAzMzMzM7MwQAAAAAAAADNAAAAAAAAANUAAAAAAAIA0QM3MzMzMzDBAmpmZmZmZOUDNzMzMzEwzQJqZmZmZGTVAmpmZmZmZMEBmZmZmZuYzQDMzMzMzMy5AMzMzMzMzLECamZmZmRk2QJqZmZmZmTFAAAAAAAAAPkBmZmZmZmY8QGZmZmZm5jlAzczMzMxMMUAzMzMzMzMwQM3MzMzMzDVA\",\"dtype\":\"float64\",\"order\":\"little\",\"shape\":[30]}},\"selected\":{\"id\":\"78389\"},\"selection_policy\":{\"id\":\"78388\"}},\"id\":\"78211\",\"type\":\"ColumnDataSource\"},{\"attributes\":{},\"id\":\"78201\",\"type\":\"ResetTool\"},{\"attributes\":{\"line_alpha\":0.2,\"line_color\":\"#CC79A7\",\"line_width\":1.2,\"x\":{\"field\":\"x\"},\"y\":{\"field\":\"y\"}},\"id\":\"78258\",\"type\":\"Line\"},{\"attributes\":{},\"id\":\"78400\",\"type\":\"AllLabels\"},{\"attributes\":{\"axis_label\":\"EU Countries\",\"axis_line_alpha\":0,\"coordinates\":null,\"formatter\":{\"id\":\"78399\"},\"group\":null,\"major_label_policy\":{\"id\":\"78400\"},\"ticker\":{\"id\":\"78235\"}},\"id\":\"78234\",\"type\":\"CategoricalAxis\"},{\"attributes\":{},\"id\":\"78386\",\"type\":\"CategoricalTickFormatter\"},{\"attributes\":{},\"id\":\"78377\",\"type\":\"UnionRenderers\"},{\"attributes\":{\"below\":[{\"id\":\"78190\"}],\"center\":[{\"id\":\"78192\"},{\"id\":\"78196\"}],\"height\":300,\"left\":[{\"id\":\"78193\"}],\"renderers\":[{\"id\":\"78215\"},{\"id\":\"78221\"}],\"title\":{\"id\":\"78180\"},\"toolbar\":{\"id\":\"78204\"},\"toolbar_location\":null,\"width\":550,\"x_range\":{\"id\":\"78182\"},\"x_scale\":{\"id\":\"78186\"},\"y_range\":{\"id\":\"78184\"},\"y_scale\":{\"id\":\"78188\"}},\"id\":\"78179\",\"subtype\":\"Figure\",\"type\":\"Plot\"},{\"attributes\":{\"overlay\":{\"id\":\"78115\"}},\"id\":\"78111\",\"type\":\"BoxZoomTool\"},{\"attributes\":{\"coordinates\":null,\"group\":null,\"text\":\"Consuming Sweetened Drinks/ Depressive Symptoms Between ages Y55-64\"},\"id\":\"78268\",\"type\":\"Title\"},{\"attributes\":{\"coordinates\":null,\"data_source\":{\"id\":\"78299\"},\"glyph\":{\"id\":\"78300\"},\"group\":null,\"hover_glyph\":null,\"muted_glyph\":{\"id\":\"78302\"},\"nonselection_glyph\":{\"id\":\"78301\"},\"view\":{\"id\":\"78304\"}},\"id\":\"78303\",\"type\":\"GlyphRenderer\"},{\"attributes\":{\"tools\":[{\"id\":\"78197\"},{\"id\":\"78198\"},{\"id\":\"78199\"},{\"id\":\"78200\"},{\"id\":\"78201\"},{\"id\":\"78202\"}]},\"id\":\"78204\",\"type\":\"Toolbar\"},{\"attributes\":{\"axis\":{\"id\":\"78190\"},\"coordinates\":null,\"grid_line_alpha\":0.3,\"group\":null,\"ticker\":null},\"id\":\"78192\",\"type\":\"Grid\"},{\"attributes\":{},\"id\":\"78360\",\"type\":\"CategoricalTickFormatter\"},{\"attributes\":{\"data\":{\"x\":[\"AT\",\"BE\",\"BG\",\"CY\",\"CZ\",\"DE\",\"DK\",\"EE\",\"EL\",\"ES\",\"FI\",\"FR\",\"HR\",\"HU\",\"IE\",\"IS\",\"IT\",\"LT\",\"LU\",\"LV\",\"MT\",\"NO\",\"PL\",\"PT\",\"RO\",\"RS\",\"SE\",\"SI\",\"SK\",\"TR\"],\"y\":{\"__ndarray__\":\"zczMzMzMK0DNzMzMzMwsQAAAAAAAAD5AzczMzMzMOUCamZmZmRkwQM3MzMzMzDRAAAAAAACAOEAzMzMzMzMqQAAAAAAAgDhAZmZmZmbmM0CamZmZmZkoQAAAAAAAAC5AmpmZmZkZNEAAAAAAAAAzQGZmZmZmZiZAAAAAAACANEAzMzMzMzMvQM3MzMzMzCtAZmZmZmZmLkCamZmZmZkwQM3MzMzMzCJAZmZmZmZmKkAAAAAAAIA2QDMzMzMzMyhAMzMzMzMzO0AAAAAAAIA8QJqZmZmZGThAzczMzMzMKEAzMzMzMzMpQJqZmZmZmTNA\",\"dtype\":\"float64\",\"order\":\"little\",\"shape\":[30]}},\"selected\":{\"id\":\"78402\"},\"selection_policy\":{\"id\":\"78401\"}},\"id\":\"78255\",\"type\":\"ColumnDataSource\"},{\"attributes\":{\"coordinates\":null,\"data_source\":{\"id\":\"78343\"},\"glyph\":{\"id\":\"78344\"},\"group\":null,\"hover_glyph\":null,\"muted_glyph\":{\"id\":\"78346\"},\"nonselection_glyph\":{\"id\":\"78345\"},\"view\":{\"id\":\"78348\"}},\"id\":\"78347\",\"type\":\"GlyphRenderer\"},{\"attributes\":{\"line_alpha\":0.1,\"line_color\":\"#0072B2\",\"line_width\":1.2,\"x\":{\"field\":\"x\"},\"y\":{\"field\":\"y\"}},\"id\":\"78131\",\"type\":\"Line\"},{\"attributes\":{},\"id\":\"78401\",\"type\":\"UnionRenderers\"},{\"attributes\":{\"bottom_units\":\"screen\",\"coordinates\":null,\"fill_alpha\":0.5,\"fill_color\":\"lightgrey\",\"group\":null,\"left_units\":\"screen\",\"level\":\"overlay\",\"line_alpha\":1.0,\"line_color\":\"black\",\"line_dash\":[4,4],\"line_width\":2,\"right_units\":\"screen\",\"syncable\":false,\"top_units\":\"screen\"},\"id\":\"78115\",\"type\":\"BoxAnnotation\"},{\"attributes\":{\"line_alpha\":0.1,\"line_color\":\"#0072B2\",\"line_width\":1.2,\"x\":{\"field\":\"x\"},\"y\":{\"field\":\"y\"}},\"id\":\"78307\",\"type\":\"Line\"},{\"attributes\":{\"line_alpha\":0.2,\"line_color\":\"#CC79A7\",\"line_width\":1.2,\"x\":{\"field\":\"x\"},\"y\":{\"field\":\"y\"}},\"id\":\"78346\",\"type\":\"Line\"},{\"attributes\":{\"axis\":{\"id\":\"78193\"},\"coordinates\":null,\"dimension\":1,\"group\":null,\"ticker\":null},\"id\":\"78196\",\"type\":\"Grid\"},{\"attributes\":{\"source\":{\"id\":\"78343\"}},\"id\":\"78348\",\"type\":\"CDSView\"},{\"attributes\":{\"source\":{\"id\":\"78255\"}},\"id\":\"78260\",\"type\":\"CDSView\"},{\"attributes\":{\"children\":[[{\"id\":\"78091\"},0,0],[{\"id\":\"78135\"},0,1],[{\"id\":\"78179\"},1,0],[{\"id\":\"78223\"},1,1],[{\"id\":\"78267\"},2,0],[{\"id\":\"78311\"},2,1]]},\"id\":\"78433\",\"type\":\"GridBox\"},{\"attributes\":{},\"id\":\"78153\",\"type\":\"PanTool\"},{\"attributes\":{},\"id\":\"78096\",\"type\":\"DataRange1d\"},{\"attributes\":{\"axis_label\":\"Frequency in Percentage\",\"coordinates\":null,\"formatter\":{\"id\":\"78383\"},\"group\":null,\"major_label_policy\":{\"id\":\"78384\"},\"ticker\":{\"id\":\"78194\"}},\"id\":\"78193\",\"type\":\"LinearAxis\"},{\"attributes\":{\"bottom_units\":\"screen\",\"coordinates\":null,\"fill_alpha\":0.5,\"fill_color\":\"lightgrey\",\"group\":null,\"left_units\":\"screen\",\"level\":\"overlay\",\"line_alpha\":1.0,\"line_color\":\"black\",\"line_dash\":[4,4],\"line_width\":2,\"right_units\":\"screen\",\"syncable\":false,\"top_units\":\"screen\"},\"id\":\"78203\",\"type\":\"BoxAnnotation\"},{\"attributes\":{\"data\":{\"x\":[\"AT\",\"BE\",\"BG\",\"CY\",\"CZ\",\"DE\",\"DK\",\"EE\",\"EL\",\"ES\",\"FI\",\"FR\",\"HR\",\"HU\",\"IE\",\"IS\",\"IT\",\"LT\",\"LU\",\"LV\",\"MT\",\"NO\",\"PL\",\"PT\",\"RO\",\"RS\",\"SE\",\"SI\",\"SK\",\"TR\"],\"y\":{\"__ndarray__\":\"mpmZmZmZIkAAAAAAAAA6QDMzMzMzMyxAmpmZmZmZLUDNzMzMzMwtQDMzMzMzszNAAAAAAAAAIUAzMzMzMzMHQM3MzMzMzBRAmpmZmZmZGUAzMzMzMzP7P83MzMzMzCNAmpmZmZmZLkCamZmZmZkqQJqZmZmZmR1AZmZmZmZmGkCamZmZmZkZQGZmZmZmZgJAzczMzMzMEkAzMzMzMzMPQAAAAAAAgDFAmpmZmZmZIUBmZmZmZmYxQAAAAAAAACZAZmZmZmZmDkDNzMzMzMwoQGZmZmZmZhxAmpmZmZmZJUCamZmZmZklQDMzMzMzMxdA\",\"dtype\":\"float64\",\"order\":\"little\",\"shape\":[30]}},\"selected\":{\"id\":\"78404\"},\"selection_policy\":{\"id\":\"78403\"}},\"id\":\"78261\",\"type\":\"ColumnDataSource\"},{\"attributes\":{\"source\":{\"id\":\"78349\"}},\"id\":\"78354\",\"type\":\"CDSView\"},{\"attributes\":{},\"id\":\"78426\",\"type\":\"AllLabels\"},{\"attributes\":{\"axis\":{\"id\":\"78234\"},\"coordinates\":null,\"grid_line_alpha\":0.3,\"group\":null,\"ticker\":null},\"id\":\"78236\",\"type\":\"Grid\"},{\"attributes\":{\"line_color\":\"#CC79A7\",\"line_width\":1.2,\"x\":{\"field\":\"x\"},\"y\":{\"field\":\"y\"}},\"id\":\"78124\",\"type\":\"Line\"},{\"attributes\":{\"data\":{\"x\":[\"AT\",\"BE\",\"BG\",\"CY\",\"CZ\",\"DE\",\"DK\",\"EE\",\"EL\",\"ES\",\"FI\",\"FR\",\"HR\",\"HU\",\"IE\",\"IS\",\"IT\",\"LT\",\"LU\",\"LV\",\"MT\",\"NO\",\"PL\",\"PT\",\"RO\",\"RS\",\"SE\",\"SI\",\"SK\",\"TR\"],\"y\":{\"__ndarray__\":\"zczMzMzMKUAAAAAAAAA8QDMzMzMzMyxAmpmZmZmZLUAAAAAAAAAuQJqZmZmZmTZAMzMzMzMzLkAAAAAAAAAMQGZmZmZmZh5AZmZmZmZmI0AzMzMzMzP7P5qZmZmZmS1AMzMzMzOzNEDNzMzMzMwvQGZmZmZmZiNAAAAAAAAAJUAAAAAAAAAhQDMzMzMzMwdAMzMzMzMzG0CamZmZmZkfQAAAAAAAAC1AZmZmZmZmHkCamZmZmZkvQJqZmZmZmSpAMzMzMzMzFUBmZmZmZmYwQAAAAAAAACBAzczMzMzMKkAzMzMzMzMvQAAAAAAAACFA\",\"dtype\":\"float64\",\"order\":\"little\",\"shape\":[30]}},\"selected\":{\"id\":\"78391\"},\"selection_policy\":{\"id\":\"78390\"}},\"id\":\"78217\",\"type\":\"ColumnDataSource\"},{\"attributes\":{\"line_color\":\"#0072B2\",\"line_width\":1.2,\"x\":{\"field\":\"x\"},\"y\":{\"field\":\"y\"}},\"id\":\"78262\",\"type\":\"Line\"},{\"attributes\":{},\"id\":\"78241\",\"type\":\"PanTool\"},{\"attributes\":{\"line_alpha\":0.2,\"line_color\":\"#0072B2\",\"line_width\":1.2,\"x\":{\"field\":\"x\"},\"y\":{\"field\":\"y\"}},\"id\":\"78176\",\"type\":\"Line\"},{\"attributes\":{\"overlay\":{\"id\":\"78335\"}},\"id\":\"78331\",\"type\":\"BoxZoomTool\"},{\"attributes\":{},\"id\":\"78184\",\"type\":\"DataRange1d\"},{\"attributes\":{},\"id\":\"78230\",\"type\":\"CategoricalScale\"},{\"attributes\":{},\"id\":\"78316\",\"type\":\"DataRange1d\"},{\"attributes\":{},\"id\":\"78144\",\"type\":\"LinearScale\"},{\"attributes\":{\"data\":{\"x\":[\"AT\",\"BE\",\"BG\",\"CY\",\"CZ\",\"DE\",\"DK\",\"EE\",\"EL\",\"ES\",\"FI\",\"FR\",\"HR\",\"HU\",\"IE\",\"IS\",\"IT\",\"LT\",\"LU\",\"LV\",\"MT\",\"NO\",\"PL\",\"PT\",\"RO\",\"RS\",\"SE\",\"SI\",\"SK\",\"TR\"],\"y\":{\"__ndarray__\":\"MzMzMzMzNkBmZmZmZmZBQAAAAAAAADVAZmZmZmZmLEBmZmZmZmYzQM3MzMzMTDFAmpmZmZmZKEAzMzMzMzMVQDMzMzMzMxdAAAAAAAAAKUCamZmZmZkoQDMzMzMzszVAZmZmZmZmN0BmZmZmZmY4QJqZmZmZGTFAZmZmZmbmMEDNzMzMzMwnQJqZmZmZmR1AMzMzMzMzLUDNzMzMzMwgQDMzMzMzMzNAMzMzMzMzLUCamZmZmZk1QGZmZmZmZjFAzczMzMzMIkDNzMzMzEw2QDMzMzMzMyVAAAAAAAAALUBmZmZmZmYmQGZmZmZmZjNA\",\"dtype\":\"float64\",\"order\":\"little\",\"shape\":[30]}},\"selected\":{\"id\":\"78365\"},\"selection_policy\":{\"id\":\"78364\"}},\"id\":\"78129\",\"type\":\"ColumnDataSource\"},{\"attributes\":{\"line_color\":\"#0072B2\",\"line_width\":1.2,\"x\":{\"field\":\"x\"},\"y\":{\"field\":\"y\"}},\"id\":\"78218\",\"type\":\"Line\"},{\"attributes\":{\"line_alpha\":0.1,\"line_color\":\"#0072B2\",\"line_width\":1.2,\"x\":{\"field\":\"x\"},\"y\":{\"field\":\"y\"}},\"id\":\"78263\",\"type\":\"Line\"},{\"attributes\":{\"line_alpha\":0.1,\"line_color\":\"#CC79A7\",\"line_width\":1.2,\"x\":{\"field\":\"x\"},\"y\":{\"field\":\"y\"}},\"id\":\"78345\",\"type\":\"Line\"},{\"attributes\":{\"data\":{\"x\":[\"AT\",\"BE\",\"BG\",\"CY\",\"CZ\",\"DE\",\"DK\",\"EE\",\"EL\",\"ES\",\"FI\",\"FR\",\"HR\",\"HU\",\"IE\",\"IS\",\"IT\",\"LT\",\"LU\",\"LV\",\"MT\",\"NO\",\"PL\",\"PT\",\"RO\",\"RS\",\"SE\",\"SI\",\"SK\",\"TR\"],\"y\":{\"__ndarray__\":\"zczMzMxMOEAzMzMzMzM2QAAAAAAAAEBAAAAAAAAAPUCamZmZmZk3QAAAAAAAADtAZmZmZmbmO0CamZmZmZk6QJqZmZmZmUBAMzMzMzOzPkCamZmZmRkzQDMzMzMzMzlAMzMzMzOzO0AzMzMzMzM5QGZmZmZm5jNAmpmZmZmZNEBmZmZmZuY2QDMzMzMzszlAZmZmZmbmMkBmZmZmZmY6QDMzMzMzszBAmpmZmZkZMUBmZmZmZuY4QGZmZmZmZjlAMzMzMzMzP0DNzMzMzMw6QAAAAAAAADxAAAAAAACAM0AAAAAAAAA3QGZmZmZm5jpA\",\"dtype\":\"float64\",\"order\":\"little\",\"shape\":[30]}},\"selected\":{\"id\":\"78376\"},\"selection_policy\":{\"id\":\"78375\"}},\"id\":\"78167\",\"type\":\"ColumnDataSource\"},{\"attributes\":{\"data\":{\"x\":[\"AT\",\"BE\",\"BG\",\"CY\",\"CZ\",\"DE\",\"DK\",\"EE\",\"EL\",\"ES\",\"FI\",\"FR\",\"HR\",\"HU\",\"IE\",\"IS\",\"IT\",\"LT\",\"LU\",\"LV\",\"MT\",\"NO\",\"PL\",\"PT\",\"RO\",\"RS\",\"SE\",\"SI\",\"SK\",\"TR\"],\"y\":{\"__ndarray__\":\"zczMzMzMGEBmZmZmZmYsQDMzMzMzMyRAMzMzMzMzHUDNzMzMzMwiQGZmZmZmZiJAzczMzMzMFEBmZmZmZmYOQDMzMzMzM/s/mpmZmZmZCUAAAAAAAAAEQAAAAAAAABhAmpmZmZmZG0DNzMzMzMwhQGZmZmZmZhpAzczMzMzMGEAAAAAAAAAMQJqZmZmZmdk/mpmZmZmZDUAAAAAAAADwP2ZmZmZmZiRAzczMzMzMGEAzMzMzMzMkQAAAAAAAABBAAAAAAAAA4D8zMzMzMzMTQDMzMzMzMyJAAAAAAAAAIUAAAAAAAAAWQM3MzMzMzARA\",\"dtype\":\"float64\",\"order\":\"little\",\"shape\":[30]}},\"selected\":{\"id\":\"78430\"},\"selection_policy\":{\"id\":\"78429\"}},\"id\":\"78349\",\"type\":\"ColumnDataSource\"},{\"attributes\":{},\"id\":\"78197\",\"type\":\"PanTool\"},{\"attributes\":{\"line_alpha\":0.2,\"line_color\":\"#CC79A7\",\"line_width\":1.2,\"x\":{\"field\":\"x\"},\"y\":{\"field\":\"y\"}},\"id\":\"78214\",\"type\":\"Line\"},{\"attributes\":{},\"id\":\"78186\",\"type\":\"CategoricalScale\"},{\"attributes\":{\"coordinates\":null,\"data_source\":{\"id\":\"78211\"},\"glyph\":{\"id\":\"78212\"},\"group\":null,\"hover_glyph\":null,\"muted_glyph\":{\"id\":\"78214\"},\"nonselection_glyph\":{\"id\":\"78213\"},\"view\":{\"id\":\"78216\"}},\"id\":\"78215\",\"type\":\"GlyphRenderer\"},{\"attributes\":{},\"id\":\"78228\",\"type\":\"DataRange1d\"},{\"attributes\":{},\"id\":\"78140\",\"type\":\"DataRange1d\"},{\"attributes\":{},\"id\":\"78282\",\"type\":\"BasicTicker\"},{\"attributes\":{\"line_alpha\":0.2,\"line_color\":\"#0072B2\",\"line_width\":1.2,\"x\":{\"field\":\"x\"},\"y\":{\"field\":\"y\"}},\"id\":\"78352\",\"type\":\"Line\"},{\"attributes\":{},\"id\":\"78389\",\"type\":\"Selection\"},{\"attributes\":{\"source\":{\"id\":\"78173\"}},\"id\":\"78178\",\"type\":\"CDSView\"},{\"attributes\":{\"axis\":{\"id\":\"78322\"},\"coordinates\":null,\"grid_line_alpha\":0.3,\"group\":null,\"ticker\":null},\"id\":\"78324\",\"type\":\"Grid\"},{\"attributes\":{\"line_alpha\":0.1,\"line_color\":\"#CC79A7\",\"line_width\":1.2,\"x\":{\"field\":\"x\"},\"y\":{\"field\":\"y\"}},\"id\":\"78125\",\"type\":\"Line\"},{\"attributes\":{\"line_alpha\":0.2,\"line_color\":\"#0072B2\",\"line_width\":1.2,\"x\":{\"field\":\"x\"},\"y\":{\"field\":\"y\"}},\"id\":\"78220\",\"type\":\"Line\"},{\"attributes\":{},\"id\":\"78198\",\"type\":\"WheelZoomTool\"},{\"attributes\":{\"axis_label\":\"EU Countries\",\"axis_line_alpha\":0,\"coordinates\":null,\"formatter\":{\"id\":\"78412\"},\"group\":null,\"major_label_policy\":{\"id\":\"78413\"},\"ticker\":{\"id\":\"78279\"}},\"id\":\"78278\",\"type\":\"CategoricalAxis\"},{\"attributes\":{\"line_alpha\":0.2,\"line_color\":\"#0072B2\",\"line_width\":1.2,\"x\":{\"field\":\"x\"},\"y\":{\"field\":\"y\"}},\"id\":\"78308\",\"type\":\"Line\"},{\"attributes\":{\"data\":{\"x\":[\"AT\",\"BE\",\"BG\",\"CY\",\"CZ\",\"DE\",\"DK\",\"EE\",\"EL\",\"ES\",\"FI\",\"FR\",\"HR\",\"HU\",\"IE\",\"IS\",\"IT\",\"LT\",\"LU\",\"LV\",\"MT\",\"NO\",\"PL\",\"PT\",\"RO\",\"RS\",\"SE\",\"SI\",\"SK\",\"TR\"],\"y\":{\"__ndarray__\":\"mpmZmZmZG0BmZmZmZmYhQGZmZmZmZjdAzczMzMzMOEAAAAAAAAAnQGZmZmZmZihAZmZmZmZmJ0DNzMzMzMwWQGZmZmZmZi1AmpmZmZmZH0AAAAAAAAAaQDMzMzMzMxlAzczMzMzMIkAAAAAAAAAeQM3MzMzMzBhAMzMzMzMzLUAzMzMzMzMdQJqZmZmZmRNAMzMzMzMzI0BmZmZmZmYWQDMzMzMzMxdAAAAAAAAAIEBmZmZmZmYqQM3MzMzMzBhAMzMzMzMzLUCamZmZmZkzQAAAAAAAAC1AMzMzMzMzGUBmZmZmZmYkQJqZmZmZmSZA\",\"dtype\":\"float64\",\"order\":\"little\",\"shape\":[30]}},\"selected\":{\"id\":\"78428\"},\"selection_policy\":{\"id\":\"78427\"}},\"id\":\"78343\",\"type\":\"ColumnDataSource\"},{\"attributes\":{\"coordinates\":null,\"data_source\":{\"id\":\"78255\"},\"glyph\":{\"id\":\"78256\"},\"group\":null,\"hover_glyph\":null,\"muted_glyph\":{\"id\":\"78258\"},\"nonselection_glyph\":{\"id\":\"78257\"},\"view\":{\"id\":\"78260\"}},\"id\":\"78259\",\"type\":\"GlyphRenderer\"}],\"root_ids\":[\"78436\"]},\"title\":\"Bokeh Application\",\"version\":\"2.4.3\"}};\n  const render_items = [{\"docid\":\"07e24646-9c52-494c-9080-9fa5aaf3cef5\",\"root_ids\":[\"78436\"],\"roots\":{\"78436\":\"649f3c05-9ebf-43ec-be02-6757fa2aec93\"}}];\n  root.Bokeh.embed.embed_items_notebook(docs_json, render_items);\n  }\n  if (root.Bokeh !== undefined) {\n    embed_document(root);\n  } else {\n    let attempts = 0;\n    const timer = setInterval(function(root) {\n      if (root.Bokeh !== undefined) {\n        clearInterval(timer);\n        embed_document(root);\n      } else {\n        attempts++;\n        if (attempts > 100) {\n          clearInterval(timer);\n          console.log(\"Bokeh: ERROR: Unable to run BokehJS code because BokehJS library is missing\");\n        }\n      }\n    }, 10, root)\n  }\n})(window);",
      "application/vnd.bokehjs_exec.v0+json": ""
     },
     "metadata": {
      "application/vnd.bokehjs_exec.v0+json": {
       "id": "78436"
      }
     },
     "output_type": "display_data"
    }
   ],
   "source": [
    "# The purpose of this function is to plot line graphs of multiple data frames which are one by one \n",
    "# matched on their age column value, in this way we are able to track the changes in both data frames\n",
    "# in regard with each other and comparing would be facilated.\n",
    "\n",
    "def make_line_plot(df1,df2) :\n",
    "\n",
    "    a = age_filter(df1)\n",
    "    b = age_filter(df2)\n",
    "    plot_list = []\n",
    "    \n",
    "    # zip() function takes in two list of data frames and returns, a tuple with paired data frames with \n",
    "    # similar index in the two original lists.\n",
    "    \n",
    "    for i,j in zip(a,b) : \n",
    "        l_fig = figure(x_range =i['Country'],\n",
    "                title=f\"Consuming Sweetened Drinks/ Depressive Symptoms Between ages {i['Age_Range'].iloc[1]}\",\n",
    "                x_axis_label='EU Countries', y_axis_label='Frequency in Percentage',\n",
    "                        plot_height=300,plot_width=550)\n",
    "        \n",
    "        l_fig.line(x=i['Country'],y=i['Obs_Value'],color='#CC79A7',\n",
    "                #    line_dash='dashed',\n",
    "                   line_width=1.2)\n",
    "        l_fig.line(x=j['Country'],y=j['Obs_Value'],color='#0072B2',\n",
    "                #    line_dash='dashed',\n",
    "                   line_width=1.2)\n",
    "        \n",
    "        # l_fig.xgrid.grid_line_color = 'red'\n",
    "        l_fig.xgrid.grid_line_alpha = 0.3\n",
    "        l_fig.xaxis.axis_line_alpha = 0\n",
    "        l_fig.ygrid.grid_line_alpha = 1\n",
    "\n",
    "        plot_list.append(l_fig)\n",
    "        # print(plot_list)\n",
    "    \n",
    "    \n",
    "    grid = gridplot(plot_list,ncols=2)\n",
    "    \n",
    "    output_file('myplot.html')\n",
    "    show(grid)\n",
    "\n",
    "make_line_plot(upto3w_tot,dpr_tot)"
   ]
  },
  {
   "cell_type": "code",
   "execution_count": 123,
   "metadata": {},
   "outputs": [],
   "source": [
    "\n",
    "def make_plot(df_list,title,y,y_label) :\n",
    "\n",
    "    plot_list = []\n",
    "    \n",
    "    for i,df in enumerate(df_list) :\n",
    "\n",
    "        fig = figure(x_range= df.Country.unique(), title=title[i],\n",
    "                    plot_height = 300, plot_width = 600,\n",
    "                    x_axis_label='EU Countries', y_axis_label= y_label)\n",
    "        fig.y_range.start = 0\n",
    "        fig.xgrid.grid_line_color = None\n",
    "        fig.ygrid.grid_line_alpha = 1\n",
    "\n",
    "        fig.vbar(x=df['Country'], top=df[y] , width= 0.8)\n",
    "\n",
    "        plot_list.append(fig)\n",
    "                     \n",
    "    grid = gridplot(plot_list, ncols= 2)\n",
    "\n",
    "    output_file('myplot.html')\n",
    "\n",
    "    show(grid)\n",
    "\n"
   ]
  },
  {
   "cell_type": "code",
   "execution_count": 124,
   "metadata": {},
   "outputs": [],
   "source": [
    "# df_list = [A,B,C,D]\n",
    "\n",
    "title_list = ['1-3W  Drinking / Country Percentage',\n",
    "              '4-6W  Drinking / Country Percentage',\n",
    "              'GE1D  Drinking / Country Percentage',\n",
    "              'NVR_OCC  Drinking / Country Percentage']\n",
    "\n",
    "# make_plot(df_list,title_list,'Obs_Value_Dri','DRI Percentage')"
   ]
  },
  {
   "cell_type": "code",
   "execution_count": 125,
   "metadata": {},
   "outputs": [],
   "source": [
    "\n",
    "# df_list = [df1,df2,df3,df4]\n",
    "title_list1 = ['(DPR) Depressive symptoms / Country ratio in Percentage',\n",
    "               '(DPR_MJR) Major Depressive symptoms / Country ratio in Percentage',\n",
    "               '(DPR_OTH) Other Depressive symptoms / Country ratio in Percentage',\n",
    "               '1']\n",
    "\n",
    "# make_plot(df_list,title_list1,'Obs_Value_Dep','DEP percentage')\n"
   ]
  }
 ],
 "metadata": {
  "kernelspec": {
   "display_name": "Python 3",
   "language": "python",
   "name": "python3"
  },
  "language_info": {
   "codemirror_mode": {
    "name": "ipython",
    "version": 3
   },
   "file_extension": ".py",
   "mimetype": "text/x-python",
   "name": "python",
   "nbconvert_exporter": "python",
   "pygments_lexer": "ipython3",
   "version": "3.11.1"
  },
  "orig_nbformat": 4,
  "vscode": {
   "interpreter": {
    "hash": "214a5cb7e6ac63d6ccd6043a9b500c325cfe675ad88c8f33c0682631c9e40f57"
   }
  }
 },
 "nbformat": 4,
 "nbformat_minor": 2
}
